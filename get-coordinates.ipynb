{
 "cells": [
  {
   "cell_type": "code",
   "execution_count": 1,
   "metadata": {},
   "outputs": [],
   "source": [
    "import pandas as pd \n",
    "from geopy.geocoders import GoogleV3\n",
    "from geopy.extra.rate_limiter import RateLimiter"
   ]
  },
  {
   "cell_type": "code",
   "execution_count": null,
   "metadata": {},
   "outputs": [],
   "source": [
    "# https://console.cloud.google.com/google/maps-apis/metrics?project=school-procureme-1576670597799"
   ]
  },
  {
   "cell_type": "code",
   "execution_count": 2,
   "metadata": {},
   "outputs": [],
   "source": [
    "API = \"\"\n",
    "PATH_SC = \"data/mon_data/expdata_sc.csv\"\n",
    "PATH_DNZ = \"data/mon_data/expdata_sc.csv\""
   ]
  },
  {
   "cell_type": "code",
   "execution_count": 3,
   "metadata": {},
   "outputs": [],
   "source": [
    "geolocator = GoogleV3(api_key=API)\n",
    "geocode = RateLimiter(geolocator.geocode, min_delay_seconds=1)"
   ]
  },
  {
   "cell_type": "code",
   "execution_count": 4,
   "metadata": {
    "collapsed": true
   },
   "outputs": [
    {
     "name": "stdout",
     "output_type": "stream",
     "text": [
      "Index(['university_name', 'edrpou', 'university_type_name',\n",
      "       'education_type_name', 'university_level', 'location_type',\n",
      "       'university_financing_type_name', 'post_index', 'koatuu_id', 'language',\n",
      "       'koatuu_name', 'university_address', 'post_index_u', 'koatuu_id_u',\n",
      "       'region_name_u', 'koatuu_name_u', 'university_address_u',\n",
      "       'university_phone', 'university_email', 'university_site',\n",
      "       'university_director_fio'],\n",
      "      dtype='object')\n"
     ]
    }
   ],
   "source": [
    "df = pd.read_csv(PATH_SC, dtype=str, sep=';')"
   ]
  },
  {
   "cell_type": "code",
   "execution_count": 5,
   "metadata": {},
   "outputs": [],
   "source": [
    "# Перелік 24 обласних центрів у форматі для пошуку в датасеті МОН:\n",
    "regions_full = ['^Одеса$|^Одеса,', \n",
    "               '^Дніпро$|^Дніпро,', \n",
    "               '^Чернігів$|^Чернігів,',\n",
    "               '^Харків$|^Харків,',\n",
    "               '^Житомир$|^Житомир,',\n",
    "               '^Полтава$|^Полтава,',\n",
    "               '^Херсон$|^Херсон,',\n",
    "               '^Запоріжжя$|^Запоріжжя,',\n",
    "               '^Сєвєродонецьк$',\n",
    "               '^Краматорськ$',\n",
    "               '^Вінниця$|^Вінниця,',\n",
    "               '^Миколаїв$|^Миколаїв,',\n",
    "               '^Кропивницький$|^Кропивницький,',\n",
    "               '^Суми$|^Суми,',\n",
    "               '^Львів$|^Львів,',\n",
    "               '^Черкаси$|^Черкаси,',\n",
    "               '^Хмельницький$',\n",
    "               '^Луцьк$',\n",
    "               '^Рівне$',\n",
    "               '^Івано-Франківськ$',\n",
    "               '^Тернопіль$',\n",
    "               '^Ужгород$',\n",
    "               '^Чернівці$|^Чернівці,',\n",
    "               '^Київ$|^Київ,']\n",
    "\n",
    "# Регіони розділені на такі групи для почергового визначення координат Google Maps API:\n",
    "regions_1 = ['^Одеса$|^Одеса,', \n",
    "               '^Дніпро$|^Дніпро,'               \n",
    "]\n",
    "\n",
    "regions_2 = ['^Чернігів$|^Чернігів,',\n",
    "               '^Харків$|^Харків,',\n",
    "             '^Житомир$|^Житомир,',\n",
    "            '^Полтава$|^Полтава,',\n",
    "             '^Кропивницький$|^Кропивницький,',\n",
    "               '^Суми$|^Суми,',\n",
    "               '^Львів$|^Львів,',\n",
    "               '^Черкаси$|^Черкаси,',\n",
    "               '^Хмельницький$',\n",
    "               '^Луцьк$',\n",
    "               '^Рівне$'\n",
    "]\n",
    "\n",
    "regions_3 = ['^Івано-Франківськ$',\n",
    "               '^Тернопіль$',\n",
    "               '^Ужгород$',\n",
    "               '^Чернівці$|^Чернівці,',\n",
    "               '^Київ$|^Київ,'\n",
    "]\n",
    "\n",
    "regions_4 = ['^Херсон$|^Херсон,',\n",
    "               '^Запоріжжя$|^Запоріжжя,',\n",
    "               '^Сєвєродонецьк$',\n",
    "               '^Краматорськ$',\n",
    "               '^Вінниця$|^Вінниця,',\n",
    "               '^Миколаїв$|^Миколаїв,'\n",
    "]"
   ]
  },
  {
   "cell_type": "code",
   "execution_count": null,
   "metadata": {},
   "outputs": [],
   "source": [
    "# df[\"location\"] = df[\"Address\"].apply(geocode)\n",
    "# df[\"Longitude\"] = df[\"location\"].apply(lambda loc: loc.longitude if loc else \"ERROR\")\n",
    "# df[\"Latitude\"] = df[\"location\"].apply(lambda loc: loc.latitude if loc else \"ERROR\")"
   ]
  },
  {
   "cell_type": "markdown",
   "metadata": {},
   "source": [
    "# SCHOOLS"
   ]
  },
  {
   "cell_type": "markdown",
   "metadata": {},
   "source": [
    "#### Regions 1 - DONE"
   ]
  },
  {
   "cell_type": "code",
   "execution_count": null,
   "metadata": {},
   "outputs": [],
   "source": [
    "# df_regions_1 = df[df['koatuu_name_u'].astype(str).str.contains(r'({})'.\n",
    "#                                                           format('|'.join(regions_1)), \n",
    "#                           case = False, na = False, regex = True)]\n",
    "\n",
    "# df_regions_1['koatuu_name_short'] = df_regions_1['koatuu_name_u'].apply(lambda loc: loc.split(',')[0] if loc else \"ERROR\")\n",
    "# df_regions_1['Address'] = df_regions_1['koatuu_name_short'] + ' ' + df['university_address_u']\n",
    "# print(df_regions_1.shape)"
   ]
  },
  {
   "cell_type": "code",
   "execution_count": null,
   "metadata": {},
   "outputs": [],
   "source": [
    "# df_regions_1[\"location\"] = df_regions_1[\"Address\"].apply(geocode)\n",
    "# df_regions_1[\"Longitude\"] = df_regions_1[\"location\"].apply(lambda loc: loc.longitude if loc else \"ERROR\")\n",
    "# df_regions_1[\"Latitude\"] = df_regions_1[\"location\"].apply(lambda loc: loc.latitude if loc else \"ERROR\")\n",
    "# df_regions_1.to_excel(\"data/coordinates/regions_1.xlsx\", index=False)\n",
    "# df_regions_1.to_csv(\"data/coordinates/regions_1.csv\", index=False, sep=';')"
   ]
  },
  {
   "cell_type": "markdown",
   "metadata": {},
   "source": [
    "#### Regions 2 - DONE"
   ]
  },
  {
   "cell_type": "code",
   "execution_count": null,
   "metadata": {},
   "outputs": [],
   "source": [
    "# df_regions_2 = df[df['koatuu_name_u'].astype(str).str.contains(r'({})'.\n",
    "#                                                           format('|'.join(regions_2)), \n",
    "#                           case = False, na = False, regex = True)]\n",
    "\n",
    "# df_regions_2['koatuu_name_short'] = df_regions_2['koatuu_name_u'].apply(lambda loc: loc.split(',')[0] if loc else \"ERROR\")\n",
    "# df_regions_2['Address'] = df_regions_2['koatuu_name_short'] + ' ' + df['university_address_u']\n",
    "# print(df_regions_2.shape)"
   ]
  },
  {
   "cell_type": "code",
   "execution_count": null,
   "metadata": {},
   "outputs": [],
   "source": [
    "# df_regions_2[\"location\"] = df_regions_2[\"Address\"].apply(geocode)\n",
    "# df_regions_2[\"Longitude\"] = df_regions_2[\"location\"].apply(lambda loc: loc.longitude if loc else \"ERROR\")\n",
    "# df_regions_2[\"Latitude\"] = df_regions_2[\"location\"].apply(lambda loc: loc.latitude if loc else \"ERROR\")\n",
    "# df_regions_2.to_excel(\"data/coordinates/regions_2.xlsx\", index=False)\n",
    "# df_regions_2.to_csv(\"data/coordinates/regions_2.csv\", index=False, sep=';')"
   ]
  },
  {
   "cell_type": "markdown",
   "metadata": {},
   "source": [
    "#### Regions 3 - DONE"
   ]
  },
  {
   "cell_type": "code",
   "execution_count": null,
   "metadata": {},
   "outputs": [],
   "source": [
    "# df_regions_3 = df[df['koatuu_name_u'].astype(str).str.contains(r'({})'.\n",
    "#                                                           format('|'.join(regions_3)), \n",
    "#                           case = False, na = False, regex = True)]\n",
    "\n",
    "# df_regions_3['koatuu_name_short'] = df_regions_3['koatuu_name_u'].apply(lambda loc: loc.split(',')[0] if loc else \"ERROR\")\n",
    "# df_regions_3['Address'] = df_regions_3['koatuu_name_short'] + ' ' + df['university_address_u']\n",
    "# print(df_regions_3.shape)"
   ]
  },
  {
   "cell_type": "code",
   "execution_count": null,
   "metadata": {},
   "outputs": [],
   "source": [
    "# df_regions_3[\"location\"] = df_regions_3[\"Address\"].apply(geocode)\n",
    "# df_regions_3[\"Longitude\"] = df_regions_3[\"location\"].apply(lambda loc: loc.longitude if loc else \"ERROR\")\n",
    "# df_regions_3[\"Latitude\"] = df_regions_3[\"location\"].apply(lambda loc: loc.latitude if loc else \"ERROR\")\n",
    "# df_regions_3.to_excel(\"data/coordinates/regions_3.xlsx\", index=False)\n",
    "# df_regions_3.to_csv(\"data/coordinates/regions_3.csv\", index=False, sep=';')"
   ]
  },
  {
   "cell_type": "markdown",
   "metadata": {},
   "source": [
    "#### Regions 4"
   ]
  },
  {
   "cell_type": "code",
   "execution_count": 8,
   "metadata": {
    "collapsed": true
   },
   "outputs": [
    {
     "name": "stdout",
     "output_type": "stream",
     "text": [
      "(377, 23)\n"
     ]
    },
    {
     "name": "stderr",
     "output_type": "stream",
     "text": [
      "/home/artem/.local/lib/python3.6/site-packages/ipykernel_launcher.py:3: UserWarning: This pattern has match groups. To actually get the groups, use str.extract.\n",
      "  This is separate from the ipykernel package so we can avoid doing imports until\n",
      "/home/artem/.local/lib/python3.6/site-packages/ipykernel_launcher.py:5: SettingWithCopyWarning: \n",
      "A value is trying to be set on a copy of a slice from a DataFrame.\n",
      "Try using .loc[row_indexer,col_indexer] = value instead\n",
      "\n",
      "See the caveats in the documentation: http://pandas.pydata.org/pandas-docs/stable/indexing.html#indexing-view-versus-copy\n",
      "  \"\"\"\n",
      "/home/artem/.local/lib/python3.6/site-packages/ipykernel_launcher.py:6: SettingWithCopyWarning: \n",
      "A value is trying to be set on a copy of a slice from a DataFrame.\n",
      "Try using .loc[row_indexer,col_indexer] = value instead\n",
      "\n",
      "See the caveats in the documentation: http://pandas.pydata.org/pandas-docs/stable/indexing.html#indexing-view-versus-copy\n",
      "  \n"
     ]
    }
   ],
   "source": [
    "# df_regions_4 = df[df['koatuu_name_u'].astype(str).str.contains(r'({})'.\n",
    "#                                                           format('|'.join(regions_4)), \n",
    "#                           case = False, na = False, regex = True)]\n",
    "\n",
    "# df_regions_4['koatuu_name_short'] = df_regions_4['koatuu_name_u'].apply(lambda loc: loc.split(',')[0] if loc else \"ERROR\")\n",
    "# df_regions_4['Address'] = df_regions_4['koatuu_name_short'] + ' ' + df['university_address_u']\n",
    "# print(df_regions_4.shape)"
   ]
  },
  {
   "cell_type": "code",
   "execution_count": 9,
   "metadata": {
    "collapsed": true
   },
   "outputs": [
    {
     "name": "stderr",
     "output_type": "stream",
     "text": [
      "/home/artem/.local/lib/python3.6/site-packages/ipykernel_launcher.py:1: SettingWithCopyWarning: \n",
      "A value is trying to be set on a copy of a slice from a DataFrame.\n",
      "Try using .loc[row_indexer,col_indexer] = value instead\n",
      "\n",
      "See the caveats in the documentation: http://pandas.pydata.org/pandas-docs/stable/indexing.html#indexing-view-versus-copy\n",
      "  \"\"\"Entry point for launching an IPython kernel.\n",
      "/home/artem/.local/lib/python3.6/site-packages/ipykernel_launcher.py:2: SettingWithCopyWarning: \n",
      "A value is trying to be set on a copy of a slice from a DataFrame.\n",
      "Try using .loc[row_indexer,col_indexer] = value instead\n",
      "\n",
      "See the caveats in the documentation: http://pandas.pydata.org/pandas-docs/stable/indexing.html#indexing-view-versus-copy\n",
      "  \n",
      "/home/artem/.local/lib/python3.6/site-packages/ipykernel_launcher.py:3: SettingWithCopyWarning: \n",
      "A value is trying to be set on a copy of a slice from a DataFrame.\n",
      "Try using .loc[row_indexer,col_indexer] = value instead\n",
      "\n",
      "See the caveats in the documentation: http://pandas.pydata.org/pandas-docs/stable/indexing.html#indexing-view-versus-copy\n",
      "  This is separate from the ipykernel package so we can avoid doing imports until\n"
     ]
    }
   ],
   "source": [
    "# df_regions_4[\"location\"] = df_regions_4[\"Address\"].apply(geocode)\n",
    "# df_regions_4[\"Longitude\"] = df_regions_4[\"location\"].apply(lambda loc: loc.longitude if loc else \"ERROR\")\n",
    "# df_regions_4[\"Latitude\"] = df_regions_4[\"location\"].apply(lambda loc: loc.latitude if loc else \"ERROR\")\n",
    "# df_regions_4.to_excel(\"data/coordinates/regions_4.xlsx\", index=False)\n",
    "# df_regions_4.to_csv(\"data/coordinates/regions_4.csv\", index=False, sep=';')"
   ]
  },
  {
   "cell_type": "markdown",
   "metadata": {},
   "source": [
    "#### Regions Errors"
   ]
  },
  {
   "cell_type": "code",
   "execution_count": 10,
   "metadata": {
    "collapsed": true
   },
   "outputs": [
    {
     "name": "stdout",
     "output_type": "stream",
     "text": [
      "Index(['university_name', 'edrpou', 'university_type_name',\n",
      "       'education_type_name', 'university_level', 'location_type',\n",
      "       'university_financing_type_name', 'post_index', 'koatuu_id', 'language',\n",
      "       'koatuu_name', 'university_address', 'post_index_u', 'koatuu_id_u',\n",
      "       'region_name_u', 'koatuu_name_u', 'university_address_u',\n",
      "       'university_phone', 'university_email', 'university_site',\n",
      "       'university_director_fio', 'koatuu_name_short', 'Address'],\n",
      "      dtype='object')\n"
     ]
    },
    {
     "data": {
      "text/html": [
       "<div>\n",
       "<style scoped>\n",
       "    .dataframe tbody tr th:only-of-type {\n",
       "        vertical-align: middle;\n",
       "    }\n",
       "\n",
       "    .dataframe tbody tr th {\n",
       "        vertical-align: top;\n",
       "    }\n",
       "\n",
       "    .dataframe thead th {\n",
       "        text-align: right;\n",
       "    }\n",
       "</style>\n",
       "<table border=\"1\" class=\"dataframe\">\n",
       "  <thead>\n",
       "    <tr style=\"text-align: right;\">\n",
       "      <th></th>\n",
       "      <th>university_name</th>\n",
       "      <th>edrpou</th>\n",
       "      <th>university_type_name</th>\n",
       "      <th>education_type_name</th>\n",
       "      <th>university_level</th>\n",
       "      <th>location_type</th>\n",
       "      <th>university_financing_type_name</th>\n",
       "      <th>post_index</th>\n",
       "      <th>koatuu_id</th>\n",
       "      <th>language</th>\n",
       "      <th>...</th>\n",
       "      <th>koatuu_id_u</th>\n",
       "      <th>region_name_u</th>\n",
       "      <th>koatuu_name_u</th>\n",
       "      <th>university_address_u</th>\n",
       "      <th>university_phone</th>\n",
       "      <th>university_email</th>\n",
       "      <th>university_site</th>\n",
       "      <th>university_director_fio</th>\n",
       "      <th>koatuu_name_short</th>\n",
       "      <th>Address</th>\n",
       "    </tr>\n",
       "  </thead>\n",
       "  <tbody>\n",
       "    <tr>\n",
       "      <th>0</th>\n",
       "      <td>Приватна загальноосвітня школа І-ІІ ступенів \"...</td>\n",
       "      <td>30563336</td>\n",
       "      <td>заклад середньої освіти</td>\n",
       "      <td>загальносвітня школа</td>\n",
       "      <td>I-II</td>\n",
       "      <td>МІСТО</td>\n",
       "      <td>приватна</td>\n",
       "      <td>58023</td>\n",
       "      <td>7310100000</td>\n",
       "      <td>! not applicable</td>\n",
       "      <td>...</td>\n",
       "      <td>7310100000</td>\n",
       "      <td>Чернівецька область</td>\n",
       "      <td>Чернівці</td>\n",
       "      <td>вул. Січових Стрільців, 3-В</td>\n",
       "      <td>(0372)525890</td>\n",
       "      <td>nadiya.chernivtsi@gmail.com</td>\n",
       "      <td>NaN</td>\n",
       "      <td>! not applicable</td>\n",
       "      <td>Чернівці</td>\n",
       "      <td>Чернівці Січових Стрільців, 3В</td>\n",
       "    </tr>\n",
       "    <tr>\n",
       "      <th>1</th>\n",
       "      <td>Навчально-виховний комплекс \"Спеціалізована шк...</td>\n",
       "      <td>30595787</td>\n",
       "      <td>заклад середньої освіти</td>\n",
       "      <td>навчально-виховний комплекс (об'єднання)</td>\n",
       "      <td>I-III</td>\n",
       "      <td>МІСТО</td>\n",
       "      <td>приватна</td>\n",
       "      <td>58029</td>\n",
       "      <td>7310100000</td>\n",
       "      <td>! not applicable</td>\n",
       "      <td>...</td>\n",
       "      <td>7310100000</td>\n",
       "      <td>Чернівецька область</td>\n",
       "      <td>Чернівці</td>\n",
       "      <td>вул. Небесної Сотні, 18 А</td>\n",
       "      <td>33058</td>\n",
       "      <td>cvgarmonia@meta.ua</td>\n",
       "      <td>NaN</td>\n",
       "      <td>! not applicable</td>\n",
       "      <td>Чернівці</td>\n",
       "      <td>Чернівці Небесної Сотні, 18А</td>\n",
       "    </tr>\n",
       "    <tr>\n",
       "      <th>2</th>\n",
       "      <td>Чернівецька спеціалізована школа І ступеня № 2...</td>\n",
       "      <td>30749865</td>\n",
       "      <td>заклад середньої освіти</td>\n",
       "      <td>спеціалізована школа</td>\n",
       "      <td>I</td>\n",
       "      <td>МІСТО</td>\n",
       "      <td>комунальна</td>\n",
       "      <td>58001</td>\n",
       "      <td>7310100000</td>\n",
       "      <td>! not applicable</td>\n",
       "      <td>...</td>\n",
       "      <td>7310100000</td>\n",
       "      <td>Чернівецька область</td>\n",
       "      <td>Чернівці</td>\n",
       "      <td>вул. Головна, 131</td>\n",
       "      <td>(0372)52-36-45,  (0372)52-66-37</td>\n",
       "      <td>cvgym-3@meta.ua</td>\n",
       "      <td>NaN</td>\n",
       "      <td>! not applicable</td>\n",
       "      <td>Чернівці</td>\n",
       "      <td>Чернівці Головна, 131</td>\n",
       "    </tr>\n",
       "    <tr>\n",
       "      <th>3</th>\n",
       "      <td>Чернівецька спеціалізована школа I-го ступеня ...</td>\n",
       "      <td>30749933</td>\n",
       "      <td>заклад середньої освіти</td>\n",
       "      <td>спеціалізована школа</td>\n",
       "      <td>I</td>\n",
       "      <td>МІСТО</td>\n",
       "      <td>комунальна</td>\n",
       "      <td>58005</td>\n",
       "      <td>7310136300</td>\n",
       "      <td>! not applicable</td>\n",
       "      <td>...</td>\n",
       "      <td>7310136300</td>\n",
       "      <td>Чернівецька область</td>\n",
       "      <td>Чернівці, Шевченківський район</td>\n",
       "      <td>просп. Незалежості, 68</td>\n",
       "      <td>(0372)531278</td>\n",
       "      <td>cvgym-1@meta.ua</td>\n",
       "      <td>http://www.cvgym1.com</td>\n",
       "      <td>! not applicable</td>\n",
       "      <td>Чернівці</td>\n",
       "      <td>Чернівці Незалежості, 68</td>\n",
       "    </tr>\n",
       "    <tr>\n",
       "      <th>4</th>\n",
       "      <td>Чернівецька спеціалізована школа І ступеня №15...</td>\n",
       "      <td>35529258</td>\n",
       "      <td>заклад середньої освіти</td>\n",
       "      <td>спеціалізована школа</td>\n",
       "      <td>I</td>\n",
       "      <td>МІСТО</td>\n",
       "      <td>комунальна</td>\n",
       "      <td>58029</td>\n",
       "      <td>7310100000</td>\n",
       "      <td>! not applicable</td>\n",
       "      <td>...</td>\n",
       "      <td>7310100000</td>\n",
       "      <td>Чернівецька область</td>\n",
       "      <td>Чернівці</td>\n",
       "      <td>просп. Проспект Незалежності, 88 Д</td>\n",
       "      <td>34069</td>\n",
       "      <td>cvgym-07@meta.ua</td>\n",
       "      <td>http://www.gym7-cv.ho.ua</td>\n",
       "      <td>! not applicable</td>\n",
       "      <td>Чернівці</td>\n",
       "      <td>Чернівці Незалежності, 88Д</td>\n",
       "    </tr>\n",
       "    <tr>\n",
       "      <th>5</th>\n",
       "      <td>Чернівецька спеціалізована школа І-го ступеня ...</td>\n",
       "      <td>30749928</td>\n",
       "      <td>заклад середньої освіти</td>\n",
       "      <td>спеціалізована школа</td>\n",
       "      <td>I</td>\n",
       "      <td>МІСТО</td>\n",
       "      <td>комунальна</td>\n",
       "      <td>58000</td>\n",
       "      <td>7310136600</td>\n",
       "      <td>! not applicable</td>\n",
       "      <td>...</td>\n",
       "      <td>7310136600</td>\n",
       "      <td>Чернівецька область</td>\n",
       "      <td>Чернівці, Першотравневий район</td>\n",
       "      <td>вул. Головна, 73</td>\n",
       "      <td>(0372)523427</td>\n",
       "      <td>cvgym-2@meta.ua</td>\n",
       "      <td>https://sites.google.com/g2s.cv.ua/g2s/home</td>\n",
       "      <td>! not applicable</td>\n",
       "      <td>Чернівці</td>\n",
       "      <td>Чернівці Головна 73</td>\n",
       "    </tr>\n",
       "  </tbody>\n",
       "</table>\n",
       "<p>6 rows × 23 columns</p>\n",
       "</div>"
      ],
      "text/plain": [
       "                                     university_name    edrpou  \\\n",
       "0  Приватна загальноосвітня школа І-ІІ ступенів \"...  30563336   \n",
       "1  Навчально-виховний комплекс \"Спеціалізована шк...  30595787   \n",
       "2  Чернівецька спеціалізована школа І ступеня № 2...  30749865   \n",
       "3  Чернівецька спеціалізована школа I-го ступеня ...  30749933   \n",
       "4  Чернівецька спеціалізована школа І ступеня №15...  35529258   \n",
       "5  Чернівецька спеціалізована школа І-го ступеня ...  30749928   \n",
       "\n",
       "      university_type_name                       education_type_name  \\\n",
       "0  заклад середньої освіти                      загальносвітня школа   \n",
       "1  заклад середньої освіти  навчально-виховний комплекс (об'єднання)   \n",
       "2  заклад середньої освіти                      спеціалізована школа   \n",
       "3  заклад середньої освіти                      спеціалізована школа   \n",
       "4  заклад середньої освіти                      спеціалізована школа   \n",
       "5  заклад середньої освіти                      спеціалізована школа   \n",
       "\n",
       "  university_level location_type university_financing_type_name post_index  \\\n",
       "0             I-II         МІСТО                       приватна      58023   \n",
       "1            I-III         МІСТО                       приватна      58029   \n",
       "2                I         МІСТО                     комунальна      58001   \n",
       "3                I         МІСТО                     комунальна      58005   \n",
       "4                I         МІСТО                     комунальна      58029   \n",
       "5                I         МІСТО                     комунальна      58000   \n",
       "\n",
       "    koatuu_id          language               ...               koatuu_id_u  \\\n",
       "0  7310100000  ! not applicable               ...                7310100000   \n",
       "1  7310100000  ! not applicable               ...                7310100000   \n",
       "2  7310100000  ! not applicable               ...                7310100000   \n",
       "3  7310136300  ! not applicable               ...                7310136300   \n",
       "4  7310100000  ! not applicable               ...                7310100000   \n",
       "5  7310136600  ! not applicable               ...                7310136600   \n",
       "\n",
       "         region_name_u                   koatuu_name_u  \\\n",
       "0  Чернівецька область                        Чернівці   \n",
       "1  Чернівецька область                        Чернівці   \n",
       "2  Чернівецька область                        Чернівці   \n",
       "3  Чернівецька область  Чернівці, Шевченківський район   \n",
       "4  Чернівецька область                        Чернівці   \n",
       "5  Чернівецька область  Чернівці, Першотравневий район   \n",
       "\n",
       "                 university_address_u                 university_phone  \\\n",
       "0         вул. Січових Стрільців, 3-В                     (0372)525890   \n",
       "1           вул. Небесної Сотні, 18 А                            33058   \n",
       "2                   вул. Головна, 131  (0372)52-36-45,  (0372)52-66-37   \n",
       "3              просп. Незалежості, 68                     (0372)531278   \n",
       "4  просп. Проспект Незалежності, 88 Д                            34069   \n",
       "5                    вул. Головна, 73                     (0372)523427   \n",
       "\n",
       "              university_email                              university_site  \\\n",
       "0  nadiya.chernivtsi@gmail.com                                          NaN   \n",
       "1           cvgarmonia@meta.ua                                          NaN   \n",
       "2              cvgym-3@meta.ua                                          NaN   \n",
       "3              cvgym-1@meta.ua                        http://www.cvgym1.com   \n",
       "4             cvgym-07@meta.ua                     http://www.gym7-cv.ho.ua   \n",
       "5              cvgym-2@meta.ua  https://sites.google.com/g2s.cv.ua/g2s/home   \n",
       "\n",
       "  university_director_fio koatuu_name_short                         Address  \n",
       "0        ! not applicable          Чернівці  Чернівці Січових Стрільців, 3В  \n",
       "1        ! not applicable          Чернівці    Чернівці Небесної Сотні, 18А  \n",
       "2        ! not applicable          Чернівці           Чернівці Головна, 131  \n",
       "3        ! not applicable          Чернівці        Чернівці Незалежості, 68  \n",
       "4        ! not applicable          Чернівці      Чернівці Незалежності, 88Д  \n",
       "5        ! not applicable          Чернівці             Чернівці Головна 73  \n",
       "\n",
       "[6 rows x 23 columns]"
      ]
     },
     "execution_count": 10,
     "metadata": {},
     "output_type": "execute_result"
    }
   ],
   "source": [
    "# errors = pd.read_csv('data/coordinates/regions_errors.csv', dtype=str, sep=';')\n",
    "# print(errors.columns)"
   ]
  },
  {
   "cell_type": "code",
   "execution_count": 11,
   "metadata": {},
   "outputs": [],
   "source": [
    "# errors[\"location\"] = errors[\"Address\"].apply(geocode)\n",
    "# errors[\"Longitude\"] = errors[\"location\"].apply(lambda loc: loc.longitude if loc else \"ERROR\")\n",
    "# errors[\"Latitude\"] = errors[\"location\"].apply(lambda loc: loc.latitude if loc else \"ERROR\")\n",
    "# errors.to_excel(\"data/coordinates/regions_errors_res.xlsx\", index=False)\n",
    "# errors.to_csv(\"data/coordinates/regions_errors_res.csv\", index=False, sep=';')"
   ]
  },
  {
   "cell_type": "markdown",
   "metadata": {},
   "source": [
    "### Concatenation"
   ]
  },
  {
   "cell_type": "code",
   "execution_count": 12,
   "metadata": {},
   "outputs": [],
   "source": [
    "PATH_REG1 = \"data/coordinates/regions_1.csv\"\n",
    "PATH_REG2 = \"data/coordinates/regions_2.csv\"\n",
    "PATH_REG3 = \"data/coordinates/regions_3.csv\"\n",
    "PATH_REG4 = \"data/coordinates/regions_4.csv\"\n",
    "PATH_REG5 = \"data/coordinates/regions_errors_res.csv.csv\""
   ]
  },
  {
   "cell_type": "code",
   "execution_count": 13,
   "metadata": {},
   "outputs": [],
   "source": [
    "regions1 = pd.read_csv('data/coordinates/regions_1.csv', dtype = str, sep=';')\n",
    "regions2 = pd.read_csv('data/coordinates/regions_2.csv', dtype = str, sep=';')\n",
    "regions3 = pd.read_csv('data/coordinates/regions_3.csv', dtype = str, sep=';')\n",
    "regions4 = pd.read_csv('data/coordinates/regions_4.csv', dtype = str, sep=';')\n",
    "regions5 = pd.read_csv('data/coordinates/regions_errors_res.csv', dtype = str, sep=';')"
   ]
  },
  {
   "cell_type": "code",
   "execution_count": 14,
   "metadata": {},
   "outputs": [],
   "source": [
    "frames = [regions1, regions2, regions3, regions4, regions5]\n",
    "coordinates_SC = pd.concat(frames)"
   ]
  },
  {
   "cell_type": "code",
   "execution_count": 16,
   "metadata": {},
   "outputs": [],
   "source": [
    "coordinates_SC.to_excel(\"data/coordinates/coordinates_SC.xlsx\", index=False)\n",
    "coordinates_SC.to_csv(\"data/coordinates/coordinates_SC.csv\", index=False, sep=';')"
   ]
  },
  {
   "cell_type": "markdown",
   "metadata": {},
   "source": [
    "# DNZ"
   ]
  },
  {
   "cell_type": "code",
   "execution_count": 17,
   "metadata": {},
   "outputs": [
    {
     "name": "stdout",
     "output_type": "stream",
     "text": [
      "Index(['university_name', 'edrpou', 'university_type_name',\n",
      "       'education_type_name', 'university_level', 'location_type',\n",
      "       'university_financing_type_name', 'post_index', 'koatuu_id', 'language',\n",
      "       'koatuu_name', 'university_address', 'post_index_u', 'koatuu_id_u',\n",
      "       'region_name_u', 'koatuu_name_u', 'university_address_u',\n",
      "       'university_phone', 'university_email', 'university_site',\n",
      "       'university_director_fio'],\n",
      "      dtype='object')\n"
     ]
    }
   ],
   "source": [
    "df = pd.read_csv(PATH_DNZ, dtype=str, sep=';')\n",
    "print(df.columns)"
   ]
  },
  {
   "cell_type": "markdown",
   "metadata": {},
   "source": [
    "#### DNZ. Regions 1"
   ]
  },
  {
   "cell_type": "code",
   "execution_count": 18,
   "metadata": {},
   "outputs": [
    {
     "name": "stdout",
     "output_type": "stream",
     "text": [
      "(363, 23)\n"
     ]
    },
    {
     "name": "stderr",
     "output_type": "stream",
     "text": [
      "/home/artem/.local/lib/python3.6/site-packages/ipykernel_launcher.py:3: UserWarning: This pattern has match groups. To actually get the groups, use str.extract.\n",
      "  This is separate from the ipykernel package so we can avoid doing imports until\n",
      "/home/artem/.local/lib/python3.6/site-packages/ipykernel_launcher.py:5: SettingWithCopyWarning: \n",
      "A value is trying to be set on a copy of a slice from a DataFrame.\n",
      "Try using .loc[row_indexer,col_indexer] = value instead\n",
      "\n",
      "See the caveats in the documentation: http://pandas.pydata.org/pandas-docs/stable/indexing.html#indexing-view-versus-copy\n",
      "  \"\"\"\n",
      "/home/artem/.local/lib/python3.6/site-packages/ipykernel_launcher.py:6: SettingWithCopyWarning: \n",
      "A value is trying to be set on a copy of a slice from a DataFrame.\n",
      "Try using .loc[row_indexer,col_indexer] = value instead\n",
      "\n",
      "See the caveats in the documentation: http://pandas.pydata.org/pandas-docs/stable/indexing.html#indexing-view-versus-copy\n",
      "  \n"
     ]
    }
   ],
   "source": [
    "df_regions_1 = df[df['koatuu_name_u'].astype(str).str.contains(r'({})'.\n",
    "                                                          format('|'.join(regions_1)), \n",
    "                          case = False, na = False, regex = True)]\n",
    "\n",
    "df_regions_1['koatuu_name_short'] = df_regions_1['koatuu_name_u'].apply(lambda loc: loc.split(',')[0] if loc else \"ERROR\")\n",
    "df_regions_1['Address'] = df_regions_1['koatuu_name_short'] + ' ' + df['university_address_u']\n",
    "print(df_regions_1.shape)"
   ]
  },
  {
   "cell_type": "code",
   "execution_count": null,
   "metadata": {},
   "outputs": [],
   "source": [
    "# df_regions_1[\"location\"] = df_regions_1[\"Address\"].apply(geocode)\n",
    "# df_regions_1[\"Longitude\"] = df_regions_1[\"location\"].apply(lambda loc: loc.longitude if loc else \"ERROR\")\n",
    "# df_regions_1[\"Latitude\"] = df_regions_1[\"location\"].apply(lambda loc: loc.latitude if loc else \"ERROR\")\n",
    "# df_regions_1.to_excel(\"data/coordinates/regions_1.xlsx\", index=False)\n",
    "# df_regions_1.to_csv(\"data/coordinates/regions_1.csv\", index=False, sep=';')"
   ]
  }
 ],
 "metadata": {
  "kernelspec": {
   "display_name": "Python 3",
   "language": "python",
   "name": "python3"
  },
  "language_info": {
   "codemirror_mode": {
    "name": "ipython",
    "version": 3
   },
   "file_extension": ".py",
   "mimetype": "text/x-python",
   "name": "python",
   "nbconvert_exporter": "python",
   "pygments_lexer": "ipython3",
   "version": "3.6.9"
  }
 },
 "nbformat": 4,
 "nbformat_minor": 2
}
