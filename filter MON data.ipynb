{
 "cells": [
  {
   "cell_type": "code",
   "execution_count": null,
   "metadata": {},
   "outputs": [],
   "source": [
    "import importlib\n",
    "import pandas\n",
    "import numpy\n",
    "import re"
   ]
  },
  {
   "cell_type": "code",
   "execution_count": null,
   "metadata": {},
   "outputs": [],
   "source": [
    "# from functions.get_mon_data import *\n",
    "from functions.functions_dataframe import * \n",
    "# from functions.functions_shared import *\n",
    "from parameters.filters_lists import *\n",
    "from parameters.route import *\n",
    "from parameters.regs import *"
   ]
  },
  {
   "cell_type": "code",
   "execution_count": null,
   "metadata": {},
   "outputs": [],
   "source": [
    "\"\"\"\n",
    "Завантажити бази шкіл і садків МОН з data.gov.ua\n",
    "\"\"\"\n",
    "expdata_sc = pandas.read_csv('data/mon_data/expdata_sc.csv', sep = ';')\n",
    "expdata_dnz = pandas.read_csv('data/mon_data/expdata_dnz.csv', sep = ';')"
   ]
  },
  {
   "cell_type": "code",
   "execution_count": null,
   "metadata": {},
   "outputs": [],
   "source": [
    "\"\"\"\n",
    "Фільтрування бази МОН шкільних закладів за довжиною ЄДРПОУ коду (залишити тільки 7-8 значні коди, \n",
    "інші вважаються помилковими)\n",
    "\"\"\"\n",
    "expdata_sc = expdata_sc.fillna(0)\n",
    "expdata_sc['edrpou'] = expdata_sc['edrpou'].astype(np.int64)\n",
    "mask = (expdata_sc['edrpou'].astype(str).str.len() == 7) | (expdata_sc['edrpou'].astype(str).str.len() == 8)\n",
    "expdata_sc = expdata_sc.loc[mask].sort_values(by=['edrpou'])"
   ]
  },
  {
   "cell_type": "code",
   "execution_count": null,
   "metadata": {},
   "outputs": [],
   "source": [
    "\"\"\"\n",
    "Фільтрування бази МОН дитячих садків за довжиною ЄДРПОУ коду (залишити тільки 7-8 значні коди, \n",
    "інші вважаються помилковими)\n",
    "\"\"\"\n",
    "expdata_dnz['edrpou'] = pd.to_numeric(expdata_dnz['edrpou'],errors='coerce')\n",
    "expdata_dnz = expdata_dnz.fillna(0)\n",
    "expdata_dnz['edrpou'] = expdata_dnz['edrpou'].astype(np.int64)\n",
    "mask = (expdata_dnz['edrpou'].astype(str).str.len() == 7) | (expdata_dnz['edrpou'].astype(str).str.len() == 8)\n",
    "expdata_dnz = expdata_dnz.loc[mask].sort_values(by=['edrpou'])"
   ]
  },
  {
   "cell_type": "code",
   "execution_count": null,
   "metadata": {},
   "outputs": [],
   "source": [
    "\"\"\"\n",
    "Об'єднати датафрейми садків і шкіл в один датафрейм\n",
    "\"\"\"\n",
    "frames = [expdata_dnz, expdata_sc]\n",
    "df_mon_data = pd.concat(frames)"
   ]
  },
  {
   "cell_type": "code",
   "execution_count": null,
   "metadata": {},
   "outputs": [],
   "source": [
    "\"\"\"\n",
    "З бази ProZorro df_raw створений перелік ЄДРПОУ управлінь освіти, які трапляються в списку МОН\n",
    "\"\"\"\n",
    "df_prozorro = pandas.read_csv('data/TrainingProZorroForSchoolProject20162019.csv', sep = ';', low_memory = False)\n",
    "filter_keywords_exclude = [\"департамент\", \"управлін.*освіт\", \"відділ.*освіт\"]\n",
    "df_raw_upravlin_osvity = df_prozorro[df_prozorro['Организатор'].astype(str).str.contains(r'({})'.format('|'.join(filter_keywords_exclude)), case = False, na = False, regex = True)]\n",
    "edrpou_upravlin_osvity_prozorro = df_raw_upravlin_osvity['IDOrganizator'].unique().tolist()"
   ]
  },
  {
   "cell_type": "code",
   "execution_count": null,
   "metadata": {},
   "outputs": [],
   "source": [
    "\"\"\"\n",
    "Виключити з переліку бази МОН df_mon_data освітні департаменти, управління освіти\n",
    "\"\"\"\n",
    "mask = (df_mon_data['edrpou'].isin(edrpou_upravlin_osvity_prozorro))\n",
    "df_mon_data_bez_upravlin_osvity = df_mon_data.loc[~mask]"
   ]
  },
  {
   "cell_type": "code",
   "execution_count": null,
   "metadata": {},
   "outputs": [],
   "source": [
    "\"\"\"\n",
    "Зберегти датафрейм МОН навчальних закладів, з якого виделані департаменти, управління, відділи\n",
    "\"\"\"\n",
    "df_mon_data_bez_upravlin_osvity.to_csv('data/MON_schools_dnz.csv', sep=';')"
   ]
  },
  {
   "cell_type": "markdown",
   "metadata": {},
   "source": [
    "### Створити список власних назв шкіл і садків"
   ]
  },
  {
   "cell_type": "code",
   "execution_count": null,
   "metadata": {},
   "outputs": [],
   "source": [
    "\"\"\"\n",
    "Залишити з датафрейму df_mon_data_bez_upravlin_osvity одну колонку - з назвами шкіл і садків \n",
    "\"\"\"\n",
    "df_university_names = df_mon_data_bez_upravlin_osvity.loc[:, df_mon_data_bez_upravlin_osvity.columns.intersection(['university_name'])]"
   ]
  },
  {
   "cell_type": "code",
   "execution_count": null,
   "metadata": {},
   "outputs": [],
   "source": [
    "\"\"\"\n",
    "Замінити лапки типу «» на \" \n",
    "\"\"\"\n",
    "df_university_names.university_name = df_university_names.university_name.str.replace('«|»', '\"')"
   ]
  },
  {
   "cell_type": "code",
   "execution_count": null,
   "metadata": {},
   "outputs": [],
   "source": [
    "\"\"\"\n",
    "Створити колонку \"Назва\" зі знайденими у лапках словами\n",
    "\"\"\"\n",
    "df_university_names_filtered = naming_one_column(df_university_names, ['university_name'], reg_double_quotes)"
   ]
  },
  {
   "cell_type": "code",
   "execution_count": null,
   "metadata": {},
   "outputs": [],
   "source": [
    "\"\"\"\n",
    "Видалити пусті рядки\n",
    "\"\"\"\n",
    "df_university_names_filtered.dropna(inplace=True)"
   ]
  },
  {
   "cell_type": "code",
   "execution_count": null,
   "metadata": {},
   "outputs": [],
   "source": [
    "searchfor = ['№', 'заклад']\n",
    "df_names_clean = df_university_names_filtered[~df_university_names_filtered[\"Назва\"].str.contains('|'.join(searchfor), case = False)]"
   ]
  },
  {
   "cell_type": "code",
   "execution_count": null,
   "metadata": {},
   "outputs": [],
   "source": [
    "\"\"\"\n",
    "Видалити пусті рядки\n",
    "\"\"\"\n",
    "df_names_clean.dropna(inplace=True)"
   ]
  },
  {
   "cell_type": "code",
   "execution_count": null,
   "metadata": {},
   "outputs": [],
   "source": [
    "\"\"\"\n",
    "Видалити символи \"()\n",
    "\"\"\"\n",
    "df_names_clean['Назва'] = df_names_clean['Назва'].str.replace('\"', '')\n",
    "df_names_clean['Назва'] = df_names_clean['Назва'].str.replace(')', '')\n",
    "df_names_clean['Назва'] = df_names_clean['Назва'].str.replace('(', '')"
   ]
  },
  {
   "cell_type": "code",
   "execution_count": null,
   "metadata": {},
   "outputs": [],
   "source": [
    "\"\"\"\n",
    "Зберегти в окремий файл df_name_list.csv\n",
    "\"\"\"\n",
    "df_names_clean.to_csv('data/MON_names.csv', sep=';')"
   ]
  }
 ],
 "metadata": {
  "kernelspec": {
   "display_name": "Python 3",
   "language": "python",
   "name": "python3"
  },
  "language_info": {
   "codemirror_mode": {
    "name": "ipython",
    "version": 3
   },
   "file_extension": ".py",
   "mimetype": "text/x-python",
   "name": "python",
   "nbconvert_exporter": "python",
   "pygments_lexer": "ipython3",
   "version": "3.7.6"
  }
 },
 "nbformat": 4,
 "nbformat_minor": 2
}
