{
 "cells": [
  {
   "cell_type": "code",
   "execution_count": 1,
   "metadata": {},
   "outputs": [],
   "source": [
    "import importlib\n",
    "import pandas\n",
    "import numpy\n",
    "import re"
   ]
  },
  {
   "cell_type": "code",
   "execution_count": 3,
   "metadata": {},
   "outputs": [],
   "source": [
    "from functions.get_mon_data import *\n",
    "from functions.functions_dataframe import * \n",
    "from functions.functions_shared import *\n",
    "from parameters.filters_lists import *\n",
    "from parameters.route import *\n",
    "from parameters.regs import *"
   ]
  },
  {
   "cell_type": "markdown",
   "metadata": {},
   "source": [
    "#### ЗАВАНТАЖЕННЯ ФАЙЛУ З BIPRO.PROZORRO ІЗ ЗАВЕРШЕНИМИ ЗАКУПІВЛЯМИ МІСЬКИХ РАД.\n",
    "В Донецькій області - Краматорськ. В Луганській - Сєвєродонецьк. \n",
    "Дата - від 1 серпня 2016 до 31 грудня 2019. \n",
    "\"ИдентификаторЛота\" є унікальним ідентифікатором рядка.¶"
   ]
  },
  {
   "cell_type": "code",
   "execution_count": 4,
   "metadata": {},
   "outputs": [],
   "source": [
    "df_raw = pandas.read_csv('data/TrainingProZorroForSchoolProject20162019.csv', sep=';', low_memory = False)"
   ]
  },
  {
   "cell_type": "code",
   "execution_count": 5,
   "metadata": {},
   "outputs": [],
   "source": [
    "training_data_columns = df_raw.columns\n",
    "training_data_columns = training_data_columns.to_list()"
   ]
  },
  {
   "cell_type": "markdown",
   "metadata": {},
   "source": [
    "#### Крок 0. Створити базу шкіл і садків, які є замовниками за базою МОН (positives)"
   ]
  },
  {
   "cell_type": "raw",
   "metadata": {},
   "source": [
    "# positives:\n",
    "    Перелік закладів загальної середньої та дошкільної освіти (ЗЗСДО)\n",
    "    https://data.gov.ua/dataset/bd70757a-ab49-46be-a650-608a9b3bd7b1\n",
    "# negatives:\n",
    "    Перелік закладів позашкільної освіти (державна форма власності)\n",
    "    https://data.gov.ua/dataset/9a88fb96-a043-4769-acf1-1c4a948ec285\n",
    "    Перелік закладів позашкільної освіти системи Міністерства освіти і науки України\n",
    "    https://data.gov.ua/dataset/18d7fb70-3781-4017-88d2-651e14d14211\n",
    "    Заклади професійної (професійно-технічної) освіти\n",
    "    https://data.gov.ua/dataset/824513a9-aa5e-45c8-b45e-dced6909761a"
   ]
  },
  {
   "cell_type": "code",
   "execution_count": 6,
   "metadata": {
    "scrolled": true
   },
   "outputs": [
    {
     "name": "stderr",
     "output_type": "stream",
     "text": [
      "/home/artem/.local/lib/python3.6/site-packages/pandas/core/strings.py:1952: UserWarning: This pattern has match groups. To actually get the groups, use str.extract.\n",
      "  return func(self, *args, **kwargs)\n"
     ]
    },
    {
     "name": "stdout",
     "output_type": "stream",
     "text": [
      "537893 rows. After filtering: 38817\n",
      "df_independent: (38817, 11)\n"
     ]
    }
   ],
   "source": [
    "# Перший спосіб відібрати навчальні заклади, які є замовниками: пошук за ЄДРПОУ в полі \"IDOrganizator\"\n",
    "df_independent = filter_dataframe(df_raw, positive_edrpous(), ['IDOrganizator'])\n",
    "print('df_independent:', df_independent.shape)\n",
    "\n",
    "# Створити базу для закупівель навчальних закладів, які не є самостійними замовниками\n",
    "df_merged_left = pandas.merge(df_raw, df_independent, on='ИдентификаторЛота', how='left', indicator=True, suffixes=('','_temp'))\n",
    "df_undefined = df_merged_left[df_merged_left._merge=='left_only']\n",
    "df_undefined = df_undefined[training_data_columns]"
   ]
  },
  {
   "cell_type": "code",
   "execution_count": 7,
   "metadata": {},
   "outputs": [
    {
     "name": "stdout",
     "output_type": "stream",
     "text": [
      "step0: positives: (12598, 12) negatives: (486478, 12)\n"
     ]
    }
   ],
   "source": [
    "# Другий спосіб відібрати навчальні заклади, які є замовниками: пошук за ключовими словами в полі \"Организатор\"\n",
    "step_mark = 'step0'\n",
    "action_mark = 'check'\n",
    "number_0 = '0'\n",
    "columns_to_check_step0 = ['Организатор']\n",
    "df_step0 = df_undefined.copy()\n",
    "\n",
    "for column in columns_to_check_step0:\n",
    "    df_step0 = step_check(df_step0, column, number_0)\n",
    "    \n",
    "df_independent_2, df_undefined_2 = separate_positives_and_negatives_ogranizator(df_step0, step_mark, action_mark)\n",
    "print(f\"{step_mark}:\", \"positives:\", df_independent_2.shape, \"negatives:\", df_undefined_2.shape)"
   ]
  },
  {
   "cell_type": "markdown",
   "metadata": {},
   "source": [
    "#### Крок 1. Пошук за ключовими словами закупівель для навчальних закладів, які не є замовниками (negatives)"
   ]
  },
  {
   "cell_type": "code",
   "execution_count": 8,
   "metadata": {
    "scrolled": true
   },
   "outputs": [
    {
     "name": "stdout",
     "output_type": "stream",
     "text": [
      "step1: positives: (20218, 11) negatives: (466260, 11)\n"
     ]
    }
   ],
   "source": [
    "step_mark = 'step1'\n",
    "action_mark = 'check'\n",
    "number_1 = '1'\n",
    "columns_to_check_step1 = ['Тендер', 'Организатор', 'ОписаниеТендера', 'Лот']\n",
    "df_step1 = df_undefined_2.copy()\n",
    "\n",
    "for column in columns_to_check_step1:\n",
    "    df_step1 = step_check(df_step1, column, number_1)\n",
    "\n",
    "df_step1_positives, df_step1_negatives = separate_positives_and_negatives(df_step1, step_mark, action_mark)\n",
    "df_step1_positives = df_step1_positives[training_data_columns]\n",
    "df_step1_negatives = df_step1_negatives[training_data_columns]\n",
    "print(f\"{step_mark}:\", \"positives:\", df_step1_positives.shape, \"negatives:\", df_step1_negatives.shape)"
   ]
  },
  {
   "cell_type": "markdown",
   "metadata": {},
   "source": [
    "#### Крок 2. За ЄДРПОУ видалити закупівлі навчальних закладів, які не є закладами загальної середньої та дошкільної освіти"
   ]
  },
  {
   "cell_type": "code",
   "execution_count": null,
   "metadata": {},
   "outputs": [],
   "source": [
    "# !!! Управління освіти виключити з переліку\n",
    "filter_dataframe_inspect_before_drop(df_step1_positives, negative_edrpou(), ['IDOrganizator'])['Организатор'].unique().tolist()"
   ]
  },
  {
   "cell_type": "code",
   "execution_count": null,
   "metadata": {},
   "outputs": [],
   "source": [
    "filter_dataframe_inspect_before_drop(df_step1_positives, filter_poza, ['Организатор'])['Организатор'].unique().tolist()"
   ]
  },
  {
   "cell_type": "code",
   "execution_count": 9,
   "metadata": {
    "scrolled": true
   },
   "outputs": [
    {
     "name": "stdout",
     "output_type": "stream",
     "text": [
      "Dropped rows: 593\n",
      "Dropped rows: 44\n"
     ]
    }
   ],
   "source": [
    "df_step2_positives = filter_dataframe_drop(df_step1_positives, negative_edrpou(), ['IDOrganizator'])\n",
    "df_step2_positives = filter_dataframe_drop(df_step2_positives, filter_poza, ['Организатор'])"
   ]
  },
  {
   "cell_type": "markdown",
   "metadata": {},
   "source": [
    "#### Крок 3."
   ]
  },
  {
   "cell_type": "code",
   "execution_count": 10,
   "metadata": {},
   "outputs": [
    {
     "name": "stdout",
     "output_type": "stream",
     "text": [
      "(70996, 12)\n",
      "(70614, 12)\n"
     ]
    }
   ],
   "source": [
    "frames = [df_independent, df_independent_2, df_step2_positives]\n",
    "df_step3 = pandas.concat(frames)\n",
    "print(df_step3.shape)\n",
    "df_step3.drop_duplicates(subset='ИдентификаторЛота', inplace = True)\n",
    "print(df_step3.shape)"
   ]
  },
  {
   "cell_type": "markdown",
   "metadata": {},
   "source": [
    "#### Крок 4."
   ]
  },
  {
   "cell_type": "code",
   "execution_count": 175,
   "metadata": {
    "scrolled": true
   },
   "outputs": [],
   "source": [
    "step_mark = 'step4'\n",
    "action_mark = 'classification'\n",
    "columns_to_classify_step4 = ['Организатор', 'Тендер', 'ОписаниеТендера', 'Лот', 'Адрес поставки']\n",
    "df_step4 = df_step3[training_data_columns].copy()"
   ]
  },
  {
   "cell_type": "code",
   "execution_count": 177,
   "metadata": {},
   "outputs": [],
   "source": [
    "df_step4['Тип закладу'] = numpy.full((df_step4.shape[0],), filter_inshe)"
   ]
  },
  {
   "cell_type": "code",
   "execution_count": 178,
   "metadata": {},
   "outputs": [],
   "source": [
    "def step4_classification(given_df, columns_to_classify, filter_list, filter_name):\n",
    "    for column in columns_to_classify:\n",
    "        given_df[column + '_' + step_mark + '_' + action_mark] = given_df[column].str.contains('|'.join(filter_list), case = False, na = False)\n",
    "    for i in range(given_df.shape[0]):\n",
    "        for column in columns_to_classify:\n",
    "            if given_df.loc[given_df.index[i], column + '_' + step_mark + '_classification'].any():\n",
    "                given_df.loc[given_df.index[i], 'Тип закладу'] = filter_name\n",
    "                break\n",
    "    for column in columns_to_classify:\n",
    "        given_df = clear_redundant_columns(given_df, step_mark, action_mark, column)\n",
    "    return given_df"
   ]
  },
  {
   "cell_type": "code",
   "execution_count": 179,
   "metadata": {},
   "outputs": [],
   "source": [
    "for idx in range(len(filter_priority)):\n",
    "    df_step4 = step4_classification(df_step4, columns_to_classify_step4, filter_priority[idx], filter_name_priority[idx])"
   ]
  },
  {
   "cell_type": "code",
   "execution_count": 186,
   "metadata": {},
   "outputs": [
    {
     "data": {
      "text/plain": [
       "ДНЗ                                          22182\n",
       "Інше                                         20144\n",
       "Загальноосвітня школа                         9368\n",
       "Спеціалізована школа                          6530\n",
       "Ліцей                                         5209\n",
       "Навчально-виховний комплекс (об'єднання)      3075\n",
       "Гімназія                                      2828\n",
       "Інтернат                                       962\n",
       "Спеціальна загальноосвітня школа               304\n",
       "Міжшкільний навчально-виробничий комбінат       10\n",
       "Загальносвітня санаторна школа                   2\n",
       "Name: Тип закладу, dtype: int64"
      ]
     },
     "execution_count": 186,
     "metadata": {},
     "output_type": "execute_result"
    }
   ],
   "source": [
    "df_step4['Тип закладу'].value_counts()"
   ]
  },
  {
   "cell_type": "code",
   "execution_count": null,
   "metadata": {},
   "outputs": [],
   "source": []
  }
 ],
 "metadata": {
  "file_extension": ".py",
  "kernelspec": {
   "display_name": "Python 3.6.9 64-bit",
   "language": "python",
   "name": "python36964bitdb16d8addc6846728b4f7f6e669a6c01"
  },
  "language_info": {
   "codemirror_mode": {
    "name": "ipython",
    "version": 3
   },
   "file_extension": ".py",
   "mimetype": "text/x-python",
   "name": "python",
   "nbconvert_exporter": "python",
   "pygments_lexer": "ipython3",
   "version": "3.6.9"
  },
  "mimetype": "text/x-python",
  "name": "python",
  "npconvert_exporter": "python",
  "pygments_lexer": "ipython2",
  "version": 2
 },
 "nbformat": 4,
 "nbformat_minor": 2
}
