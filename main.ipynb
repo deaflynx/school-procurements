{
 "cells": [
  {
   "cell_type": "code",
   "execution_count": 1,
   "metadata": {},
   "outputs": [],
   "source": [
    "import importlib\n",
    "import pandas as pd\n",
    "import numpy as np\n",
    "import re\n",
    "\n",
    "from functions.get_mon_data import *\n",
    "from functions.functions_dataframe import * \n",
    "from functions.functions_shared import *\n",
    "from parameters.filters_lists import *\n",
    "from parameters.route import *\n",
    "from parameters.regs import *\n",
    "\n",
    "pd.set_option(\"display.max_colwidth\", 200)"
   ]
  },
  {
   "cell_type": "code",
   "execution_count": 7,
   "metadata": {
    "scrolled": false
   },
   "outputs": [],
   "source": [
    "\"\"\"\n",
    "Завантажити базу закупівель ProZorro (деталі у README.txt) і створити список з назвами колонок\n",
    "\"\"\"\n",
    "df_prozorro = pandas.read_csv('data/TrainingProZorroForSchoolProject20162019.csv', sep = ';', low_memory = False)\n",
    "training_data_columns = df_prozorro.columns.tolist()"
   ]
  },
  {
   "cell_type": "code",
   "execution_count": 8,
   "metadata": {},
   "outputs": [],
   "source": [
    "\"\"\"\n",
    "Завантажити датафрейм МОН навчальниз закладів, підготовлений у \"Fileter MON data.ipynb\"\n",
    "\"\"\"\n",
    "df_mon_data_bez_upravlin_osvity = pandas.read_csv('data/df_bez_upravlin_osvity.csv', sep = ';')"
   ]
  },
  {
   "cell_type": "code",
   "execution_count": 9,
   "metadata": {},
   "outputs": [],
   "source": [
    "\"\"\"\n",
    "Створити список унікальних ЄДРПОУ освітніх закладів МОН\n",
    "\"\"\"\n",
    "mon_data_list = df_mon_data_bez_upravlin_osvity.edrpou.unique().tolist()"
   ]
  },
  {
   "cell_type": "code",
   "execution_count": null,
   "metadata": {},
   "outputs": [],
   "source": [
    "# # CODE FOR DEBUGGING PURPOSES\n",
    "\n",
    "# COLUMNS_TO_SHOW = ['']\n",
    "# VALUE_FILTER = ''\n",
    "# COLUMN_TO_FILTER = ''\n",
    "# debug_df = PUT_DARAFRAME_NAME_HERE[COLUMNS_TO_SHOW]\n",
    "# debug_df[debug_df[COLUMN_TO_FILTER] == VALUE_FILTER]"
   ]
  },
  {
   "cell_type": "markdown",
   "metadata": {},
   "source": [
    "### ШКОЛИ ЗАМОВНИКИ"
   ]
  },
  {
   "cell_type": "markdown",
   "metadata": {},
   "source": [
    "##### Step 1: Створити базу навчальних закладів, які самостійно купують через ProZorro"
   ]
  },
  {
   "cell_type": "code",
   "execution_count": 10,
   "metadata": {
    "scrolled": true
   },
   "outputs": [],
   "source": [
    "\"\"\"\n",
    "Відфільтрувати базу закупівель df_prozorro за колонкою IDOrganizator.\n",
    "Фільтром є списко МОН з ЄДРПОУ начальних закладів mon_data_list (попередній крок)\n",
    "\n",
    "df_tenders_by_schools - база закупівель, де навчальні заклади є замовниками\n",
    "df_undefined_1 - база невизначених закупівель ProZorro\n",
    "\"\"\"\n",
    "df_tenders_by_schools = df_prozorro[df_prozorro['IDOrganizator'].isin(mon_data_list)]\n",
    "df_undefined_1 = df_prozorro[~df_prozorro['IDOrganizator'].isin(mon_data_list)]"
   ]
  },
  {
   "cell_type": "markdown",
   "metadata": {},
   "source": [
    "##### Step 2: Класифікація шкіл-замовників по типах за колонкою \"Организатор\""
   ]
  },
  {
   "cell_type": "code",
   "execution_count": 11,
   "metadata": {
    "collapsed": true
   },
   "outputs": [
    {
     "name": "stderr",
     "output_type": "stream",
     "text": [
      "/home/artem/projects/tmp/school-procurements/functions/functions_dataframe.py:51: SettingWithCopyWarning: \n",
      "A value is trying to be set on a copy of a slice from a DataFrame.\n",
      "Try using .loc[row_indexer,col_indexer] = value instead\n",
      "\n",
      "See the caveats in the documentation: http://pandas.pydata.org/pandas-docs/stable/indexing.html#indexing-view-versus-copy\n",
      "  given_df['Тип закладу'] = \"Невідомо\"\n",
      "/home/artem/projects/tmp/school-procurements/functions/functions_dataframe.py:54: SettingWithCopyWarning: \n",
      "A value is trying to be set on a copy of a slice from a DataFrame.\n",
      "Try using .loc[row_indexer,col_indexer] = value instead\n",
      "\n",
      "See the caveats in the documentation: http://pandas.pydata.org/pandas-docs/stable/indexing.html#indexing-view-versus-copy\n",
      "  given_df[column + \"_check\"] = \"\"\n",
      "/home/artem/projects/tmp/school-procurements/functions/functions_dataframe.py:60: UserWarning: This pattern has match groups. To actually get the groups, use str.extract.\n",
      "  case = False, na = False, regex = True)\n",
      "/home/artem/projects/tmp/school-procurements/functions/functions_dataframe.py:60: SettingWithCopyWarning: \n",
      "A value is trying to be set on a copy of a slice from a DataFrame.\n",
      "Try using .loc[row_indexer,col_indexer] = value instead\n",
      "\n",
      "See the caveats in the documentation: http://pandas.pydata.org/pandas-docs/stable/indexing.html#indexing-view-versus-copy\n",
      "  case = False, na = False, regex = True)\n",
      "/home/artem/projects/tmp/school-procurements/functions/functions_dataframe.py:63: SettingWithCopyWarning: \n",
      "A value is trying to be set on a copy of a slice from a DataFrame.\n",
      "Try using .loc[row_indexer,col_indexer] = value instead\n",
      "\n",
      "See the caveats in the documentation: http://pandas.pydata.org/pandas-docs/stable/indexing.html#indexing-view-versus-copy\n",
      "  given_df['Тип закладу'] = np.where(given_df['Организатор_check'] == True, checked_name, given_df['Тип закладу'])\n"
     ]
    }
   ],
   "source": [
    "df_tenders_by_schools_classified = classification_by_type_one_column(df_tenders_by_schools,\n",
    "                                                                     ['Организатор'], \n",
    "                                                                     filter_priority, \n",
    "                                                                     filter_name_priority)"
   ]
  },
  {
   "cell_type": "markdown",
   "metadata": {},
   "source": [
    "##### Step 3: Нумерація шкіл-замовників"
   ]
  },
  {
   "cell_type": "code",
   "execution_count": 12,
   "metadata": {
    "collapsed": true
   },
   "outputs": [
    {
     "name": "stderr",
     "output_type": "stream",
     "text": [
      "/home/artem/projects/tmp/school-procurements/functions/functions_dataframe.py:69: SettingWithCopyWarning: \n",
      "A value is trying to be set on a copy of a slice from a DataFrame.\n",
      "Try using .loc[row_indexer,col_indexer] = value instead\n",
      "\n",
      "See the caveats in the documentation: http://pandas.pydata.org/pandas-docs/stable/indexing.html#indexing-view-versus-copy\n",
      "  given_df['Номер'] = given_df[column].str.findall(f\"{regex}\", flags = re.IGNORECASE).apply(''.join)\n"
     ]
    }
   ],
   "source": [
    "df_tenders_by_schools_numerated = numeration_one_column(df_tenders_by_schools_classified, \n",
    "                                                        ['Организатор'], \n",
    "                                                        reg_number)"
   ]
  },
  {
   "cell_type": "markdown",
   "metadata": {},
   "source": [
    "##### Step 4: Найменування шкіл-замовників"
   ]
  },
  {
   "cell_type": "code",
   "execution_count": 13,
   "metadata": {
    "collapsed": true
   },
   "outputs": [
    {
     "name": "stderr",
     "output_type": "stream",
     "text": [
      "/home/artem/projects/tmp/school-procurements/functions/functions_dataframe.py:106: SettingWithCopyWarning: \n",
      "A value is trying to be set on a copy of a slice from a DataFrame.\n",
      "Try using .loc[row_indexer,col_indexer] = value instead\n",
      "\n",
      "See the caveats in the documentation: http://pandas.pydata.org/pandas-docs/stable/indexing.html#indexing-view-versus-copy\n",
      "  given_df['Назва'] = given_df[column].str.findall(f\"{regex}\", flags = re.IGNORECASE).str[0].str[-1]\n"
     ]
    }
   ],
   "source": [
    "df_tenders_by_schools_named = naming_one_column(df_tenders_by_schools_numerated, \n",
    "                                                ['Организатор'], \n",
    "                                                reg_quotes)"
   ]
  },
  {
   "cell_type": "markdown",
   "metadata": {},
   "source": [
    "##### Step 5: Додаткове фільтрування бази шкіл-замовників і створення фінальної бази ШКІЛ ЗАМОВНИКІВ"
   ]
  },
  {
   "cell_type": "code",
   "execution_count": 14,
   "metadata": {
    "collapsed": true
   },
   "outputs": [
    {
     "name": "stderr",
     "output_type": "stream",
     "text": [
      "/home/artem/.local/lib/python3.6/site-packages/ipykernel_launcher.py:6: UserWarning: This pattern has match groups. To actually get the groups, use str.extract.\n",
      "  \n",
      "/home/artem/.local/lib/python3.6/site-packages/ipykernel_launcher.py:8: SettingWithCopyWarning: \n",
      "A value is trying to be set on a copy of a slice from a DataFrame.\n",
      "Try using .loc[row_indexer,col_indexer] = value instead\n",
      "\n",
      "See the caveats in the documentation: http://pandas.pydata.org/pandas-docs/stable/indexing.html#indexing-view-versus-copy\n",
      "  \n"
     ]
    }
   ],
   "source": [
    "\"\"\"\n",
    "Видалення закупівель, де зустрічаються ключові слова filter_poza\n",
    "\"\"\"\n",
    "\n",
    "df_tenders_by_schools_named = df_tenders_by_schools_named[~df_tenders_by_schools_named['Организатор'].astype(str).str.contains(r'({})'.format('|'.join(filter_poza)),\n",
    "                case = False, na = False, regex = True)]\n",
    "# перетворити пусті строки в NaN\n",
    "df_tenders_by_schools_named['Номер'] = df_tenders_by_schools_named['Номер'].replace(r'^\\s*$', np.nan, regex=True)"
   ]
  },
  {
   "cell_type": "code",
   "execution_count": 15,
   "metadata": {},
   "outputs": [],
   "source": [
    "\"\"\"\n",
    "Видалення \"технічних\" колонок, створених функціями.\n",
    "Створення колонки 'Заклад-замовник'\n",
    "\"\"\"\n",
    "df_tenders_by_schools = df_tenders_by_schools_named.copy()\n",
    "df_tenders_by_schools['Заклад-замовник'] = True\n",
    "col_names = training_data_columns.copy() \n",
    "col_names += ['Заклад-замовник', 'Тип закладу', 'Номер', 'Назва']"
   ]
  },
  {
   "cell_type": "code",
   "execution_count": 16,
   "metadata": {},
   "outputs": [],
   "source": [
    "\"\"\"\n",
    "df_tenders_by_schools - база закупівель, де замовниками є навчальні заклади\n",
    "\n",
    "\"Назва закладу\" - колонка з фіналізованою назвою школи. Принцип визначення:\n",
    "    1. Якщо колонка \"Номер\" не є пустою - додається до \"Типу закладу\"\n",
    "    2. Якщо колонка \"Номер\" є пустою - \"Назва закладу\" отримує значення \"Организатор\"\n",
    "\n",
    "* колонка \"Назва\" не враховується через високий ступінь повторюваності з \"Организатор\" і часткову точність\n",
    "\"\"\"\n",
    "df_tenders_by_schools = df_tenders_by_schools[col_names]\n",
    "df_tenders_by_schools['Назва закладу'] = np.where(df_tenders_by_schools['Номер'].notnull(), df_tenders_by_schools['Тип закладу'] + ' ' + df_tenders_by_schools['Номер'], \n",
    "                                                 df_tenders_by_schools['Организатор'])"
   ]
  },
  {
   "cell_type": "markdown",
   "metadata": {},
   "source": [
    "### ШКОЛИ НЕЗАМОВНИКИ"
   ]
  },
  {
   "cell_type": "markdown",
   "metadata": {},
   "source": [
    "##### Step 5: Фільтрування закупівель шкіл-не-замовників за допомогою пошуку ключових слів в колонках"
   ]
  },
  {
   "cell_type": "code",
   "execution_count": 17,
   "metadata": {},
   "outputs": [
    {
     "name": "stderr",
     "output_type": "stream",
     "text": [
      "/home/artem/.local/lib/python3.6/site-packages/ipykernel_launcher.py:18: UserWarning: This pattern has match groups. To actually get the groups, use str.extract.\n",
      "/home/artem/.local/lib/python3.6/site-packages/ipykernel_launcher.py:19: UserWarning: This pattern has match groups. To actually get the groups, use str.extract.\n"
     ]
    }
   ],
   "source": [
    "\"\"\"\n",
    "З-поміж датафрейму невизначених закупівель df_undefined_1 за ключовими словами у списках\n",
    "filter_keywords, filter_keywords_strict відбираються закупівлі освітніх закладів.\n",
    "\n",
    "Ключові слова шукаються у трьох колонках: Тендер, ОписаниеТендера, Лот \n",
    "\n",
    "Примітка: регулярний вираз /b{}/b шукає за ключовими словами зі списку filter_keywords_strict_extended тільки \n",
    "ті паттерни, де ці ключові слова є окремими, а не зустрічають всередині слів. Це зроблено з метою зменшення\n",
    "кількості \"брудних\" даних\n",
    "\"\"\"\n",
    "df_tenders_not_by_schools_by_keywords = df_undefined_1[df_undefined_1['Тендер'].astype(str).str.contains(r'({})'.format('|'.join(filter_keywords)), \n",
    "            case = False, na = False, regex = True)  | \n",
    "                                                      df_undefined_1['ОписаниеТендера'].astype(str).str.contains(r'({})'.format('|'.join(filter_keywords)), \n",
    "            case = False, na = False, regex = True) | \n",
    "                                                      df_undefined_1['Лот'].astype(str).str.contains(r'({})'.format('|'.join(filter_keywords)), \n",
    "            case = False, na = False, regex = True) | df_undefined_1['Тендер'].astype(str).str.contains(r'(/b{}/b)'.format('|'.join(filter_keywords_strict)), \n",
    "            case = False, na = False, regex = True) | df_undefined_1['ОписаниеТендера'].astype(str).str.contains(r'(/b{}/b)'.format('|'.join(filter_keywords_strict)), \n",
    "            case = False, na = False, regex = True) | df_undefined_1['Лот'].astype(str).str.contains(r'(/b{}/b)'.format('|'.join(filter_keywords_strict)), \n",
    "            case = False, na = False, regex = True)]"
   ]
  },
  {
   "cell_type": "markdown",
   "metadata": {},
   "source": [
    "##### Step 6: Класифікація шкіл-не-замовників за типами"
   ]
  },
  {
   "cell_type": "code",
   "execution_count": 18,
   "metadata": {
    "scrolled": true
   },
   "outputs": [
    {
     "name": "stderr",
     "output_type": "stream",
     "text": [
      "/home/artem/projects/tmp/school-procurements/functions/functions_dataframe.py:31: SettingWithCopyWarning: \n",
      "A value is trying to be set on a copy of a slice from a DataFrame.\n",
      "Try using .loc[row_indexer,col_indexer] = value instead\n",
      "\n",
      "See the caveats in the documentation: http://pandas.pydata.org/pandas-docs/stable/indexing.html#indexing-view-versus-copy\n",
      "  given_df['Тип закладу'] = \"Невідомо\"\n",
      "/home/artem/projects/tmp/school-procurements/functions/functions_dataframe.py:34: SettingWithCopyWarning: \n",
      "A value is trying to be set on a copy of a slice from a DataFrame.\n",
      "Try using .loc[row_indexer,col_indexer] = value instead\n",
      "\n",
      "See the caveats in the documentation: http://pandas.pydata.org/pandas-docs/stable/indexing.html#indexing-view-versus-copy\n",
      "  given_df[column + \"_check\"] = \"\"\n",
      "/home/artem/projects/tmp/school-procurements/functions/functions_dataframe.py:40: UserWarning: This pattern has match groups. To actually get the groups, use str.extract.\n",
      "  case = False, na = False, regex = True)\n",
      "/home/artem/projects/tmp/school-procurements/functions/functions_dataframe.py:40: SettingWithCopyWarning: \n",
      "A value is trying to be set on a copy of a slice from a DataFrame.\n",
      "Try using .loc[row_indexer,col_indexer] = value instead\n",
      "\n",
      "See the caveats in the documentation: http://pandas.pydata.org/pandas-docs/stable/indexing.html#indexing-view-versus-copy\n",
      "  case = False, na = False, regex = True)\n",
      "/home/artem/projects/tmp/school-procurements/functions/functions_dataframe.py:43: SettingWithCopyWarning: \n",
      "A value is trying to be set on a copy of a slice from a DataFrame.\n",
      "Try using .loc[row_indexer,col_indexer] = value instead\n",
      "\n",
      "See the caveats in the documentation: http://pandas.pydata.org/pandas-docs/stable/indexing.html#indexing-view-versus-copy\n",
      "  given_df['Тип закладу'] = np.where((given_df['Тендер_check'] == True) | (given_df['ОписаниеТендера_check'] == True) | (given_df['Лот_check'] == True), checked_name, given_df['Тип закладу'])\n"
     ]
    }
   ],
   "source": [
    "df_tenders_not_by_schools_classified = classification_by_type_three_cols(df_tenders_not_by_schools_by_keywords,\n",
    "                                                                         ['Тендер', 'ОписаниеТендера', 'Лот'], \n",
    "                                                                         filter_priority, \n",
    "                                                                         filter_name_priority)"
   ]
  },
  {
   "cell_type": "markdown",
   "metadata": {},
   "source": [
    "##### Step 7: Нумерація шкіл-не-замовників"
   ]
  },
  {
   "cell_type": "code",
   "execution_count": null,
   "metadata": {},
   "outputs": [],
   "source": [
    "\"\"\"\n",
    "Із закупівель df_tenders_not_by_schools_classified, де був успішно визначений \"Тип закладу\" (немає значення \"Невідомо\"),\n",
    "створюється датафрейм \n",
    "\"\"\"\n",
    "df_step7 = df_tenders_not_by_schools_classified[df_tenders_not_by_schools_classified['Тип закладу'] != 'Невідомо'].copy()"
   ]
  },
  {
   "cell_type": "code",
   "execution_count": 4,
   "metadata": {},
   "outputs": [],
   "source": [
    "df_tenders_not_by_schools_numerated, df_step7_numerated_undefined_4 = long_numeration(df_step7, reg_number)"
   ]
  },
  {
   "cell_type": "markdown",
   "metadata": {},
   "source": [
    "## END EXPERIMETNS"
   ]
  },
  {
   "cell_type": "code",
   "execution_count": null,
   "metadata": {},
   "outputs": [],
   "source": [
    "\"\"\"\n",
    "Із закупівель df_tenders_not_by_schools_classified, де був успішно визначений \"Тип закладу\" (немає значення \"Невідомо\"),\n",
    "створюється датафрейм df_step7\n",
    "\"\"\"\n",
    "df_step7 = df_tenders_not_by_schools_classified[df_tenders_not_by_schools_classified['Тип закладу'] != 'Невідомо'].copy()"
   ]
  },
  {
   "cell_type": "code",
   "execution_count": null,
   "metadata": {},
   "outputs": [],
   "source": [
    "\"\"\"\n",
    "Принцип фільтрування в функції numeration():\n",
    "    Визначається наявністья символу № в колонках 'Тендер', 'Лот', 'ОписаниеТендера'.\n",
    "    Регулярний вираз знаходить всі паттерни і джойнить через кому.\n",
    "    Паралельно створюється колонка, де рахується кількість знайдених паттернів.\n",
    "    \n",
    "df_step7_numerated - результат фільтрування numeration()\n",
    "\"\"\"\n",
    "df_step7['ОписаниеТендера'] = df_step7['ОписаниеТендера'].fillna('') # Технічний крок для коректної роботи функції numeration \n",
    "df_step7_numerated = numeration(df_step7, ['Тендер', 'Лот', 'ОписаниеТендера'], reg_number, 'numeration')"
   ]
  },
  {
   "cell_type": "code",
   "execution_count": null,
   "metadata": {},
   "outputs": [],
   "source": [
    "\"\"\"\n",
    "df_step7_numerated_lot - датафрейм, де в колонці Лот знайдений один паттерн\n",
    "Оновлення колонки \"Номер\".\n",
    "df_step7_numerated_undefined_2 - решта неідентифікованих закупівель \n",
    "\"\"\"\n",
    "df_step7_numerated_lot_tender = df_step7_numerated[df_step7_numerated['Номер'] != 'Невідомо']\n",
    "df_step7_numerated_undefined = df_step7_numerated[df_step7_numerated['Номер'] == 'Невідомо']"
   ]
  },
  {
   "cell_type": "code",
   "execution_count": null,
   "metadata": {},
   "outputs": [],
   "source": [
    "\"\"\"\n",
    "df_step7_numerated_lot - датафрейм, де в колонці Лот знайдений один паттерн\n",
    "Оновлення колонки \"Номер\".\n",
    "df_step7_numerated_undefined_2 - решта неідентифікованих закупівель \n",
    "\"\"\"\n",
    "df_step7_numerated_lot = df_step7_numerated_undefined.copy()\n",
    "df_step7_numerated_lot['Номер'] = np.where(df_step7_numerated_lot['Лот_numeration_count'] == 1, \n",
    "                                                 df_step7_numerated_lot['Лот_numeration'], \n",
    "                                                 'Невідомо')\n",
    "df_step7_numerated_undefined_2 = df_step7_numerated_lot[df_step7_numerated_lot['Номер'] == 'Невідомо']\n",
    "df_step7_numerated_lot = df_step7_numerated_lot[df_step7_numerated_lot['Номер'] != 'Невідомо']"
   ]
  },
  {
   "cell_type": "code",
   "execution_count": null,
   "metadata": {},
   "outputs": [],
   "source": [
    "\"\"\"\n",
    "df_step7_numerated_opystendera - датафрейм, де в колонці Описаниетендера знайдений один паттерн\n",
    "Оновлення колонки \"Номер\".\n",
    "df_step7_numerated_undefined_3 - решта неідентифікованих закупівель \n",
    "\"\"\"\n",
    "df_step7_numerated_opystendera = df_step7_numerated_undefined_2.copy()\n",
    "df_step7_numerated_opystendera['Номер'] = np.where(df_step7_numerated_opystendera['ОписаниеТендера_numeration_count'] == 1, \n",
    "                                                 df_step7_numerated_opystendera['ОписаниеТендера_numeration'], \n",
    "                                                 'Невідомо')\n",
    "df_step7_numerated_undefined_3 = df_step7_numerated_opystendera[df_step7_numerated_opystendera['Номер'] == 'Невідомо']\n",
    "df_step7_numerated_opystendera = df_step7_numerated_opystendera[df_step7_numerated_opystendera['Номер'] != 'Невідомо']"
   ]
  },
  {
   "cell_type": "code",
   "execution_count": null,
   "metadata": {},
   "outputs": [],
   "source": [
    "\"\"\"\n",
    "df_step7_numerated_opystendera - датафрейм, де в колонці  Тендер знайдений один паттерн\n",
    "Оновлення колонки \"Номер\".    \n",
    "df_step7_numerated_undefined_4 - решта неідентифікованих закупівель \n",
    "\"\"\"\n",
    "df_step7_numerated_tender = df_step7_numerated_undefined_3.copy()\n",
    "df_step7_numerated_tender['Номер'] = np.where(df_step7_numerated_tender['Тендер_numeration_count'] == 1, \n",
    "                                                 df_step7_numerated_tender['Тендер_numeration'], \n",
    "                                                 'Невідомо')\n",
    "df_step7_numerated_undefined_4 = df_step7_numerated_tender[df_step7_numerated_tender['Номер'] == 'Невідомо']\n",
    "df_step7_numerated_tender = df_step7_numerated_tender[df_step7_numerated_tender['Номер'] != 'Невідомо']"
   ]
  },
  {
   "cell_type": "code",
   "execution_count": null,
   "metadata": {},
   "outputs": [],
   "source": [
    "\"\"\"\n",
    "df_tenders_not_by_schools_numerated - об'єднаний датафрейм шкіл-не-замовників з номерами.\n",
    "Видалення \"технічних\" колонок, створених функціями.\n",
    "\"\"\"\n",
    "frames = [\n",
    "            df_step7_numerated_lot_tender, \n",
    "            df_step7_numerated_lot, \n",
    "            df_step7_numerated_opystendera, \n",
    "            df_step7_numerated_tender\n",
    "         ]\n",
    "df_tenders_not_by_schools_numerated = pd.concat(frames)\n",
    "# df_tenders_not_by_schools_numerated['Назва'] = np.nan # Створення пустої колонки \"Назва\" для подальшого обєднання з датафреймом з номерами\n",
    "df_tenders_not_by_schools_numerated = df_tenders_not_by_schools_numerated[col_names]"
   ]
  },
  {
   "cell_type": "markdown",
   "metadata": {},
   "source": [
    "##### Step 8: Найменування шкіл-не-замовників"
   ]
  },
  {
   "cell_type": "code",
   "execution_count": null,
   "metadata": {},
   "outputs": [],
   "source": [
    "\"\"\"\n",
    "Завантажити датафрейм МОН власних назв навчальниз закладів, підготовлений у \"Fileter MON data.ipynb\"\n",
    "school_names - список унікальних назв \n",
    "\"\"\"\n",
    "df_names_clean = pandas.read_csv('data/df_names_clean.csv', sep = ';')\n",
    "df_names_clean = df_names_clean[df_names_clean['Назва'].notnull()] # Видалити NaN\n",
    "school_names = df_names_clean['Назва'].unique().tolist()"
   ]
  },
  {
   "cell_type": "code",
   "execution_count": null,
   "metadata": {},
   "outputs": [],
   "source": [
    "\"\"\"\n",
    "df_step8 - датафрейм копія закупівель шкіл-не-замовників, де не визначився номер\n",
    "\"\"\"\n",
    "df_step8 = df_step7_numerated_undefined_4.copy()"
   ]
  },
  {
   "cell_type": "code",
   "execution_count": null,
   "metadata": {},
   "outputs": [],
   "source": [
    "\"\"\"\n",
    "Видалення з df_step8 всіх \"технічних\" колонок\n",
    "\"\"\"\n",
    "col_names_temp_8 = training_data_columns.copy() \n",
    "col_names_temp_8 += ['Тип закладу', 'Номер']\n",
    "df_step8 = df_step8[col_names_temp_8]"
   ]
  },
  {
   "cell_type": "code",
   "execution_count": null,
   "metadata": {},
   "outputs": [],
   "source": [
    "\"\"\"\n",
    "Визначення у датафреймі df_step8 власних назв функцією naming (деталі див. у data/functions_dataframe.py)\n",
    "\"\"\"\n",
    "df_named = naming(df_step8, ['Тендер', 'Лот', 'ОписаниеТендера'], reg_double_quotes, 'naming')"
   ]
  },
  {
   "cell_type": "code",
   "execution_count": null,
   "metadata": {},
   "outputs": [],
   "source": [
    "\"\"\"\n",
    "Фільтрування дафафрейму df_named ключовими словами з бази МОН school_names\n",
    "\n",
    "Паттерн '^({})$' - шукає повне співпадіння\n",
    "\n",
    "Ключові слова шукаються в колонках у такому порядку:\n",
    "        Тендер_naming_first\n",
    "        Лот_naming_first\n",
    "        ОписаниеТендера_naming_first\n",
    "        Тендер_naming_last\n",
    "        Лот_naming_last\n",
    "        ОписаниеТендера_naming_last\n",
    "Якщо є співпадення - рядок вважається назвою закладу. Інші отримують статус \"Невідомо\".\n",
    "Для кожної колонки створюється свій датафрейм тільки з тими рядками, де були знайдені ключові слова.\n",
    "\"\"\"\n",
    "\n",
    "# Тендер_naming_first\n",
    "df_named['Назва'] = np.where(df_named['Тендер_naming_first'].astype(str).str.contains(r'^({})$'.format('|'.join(school_names)), case = False, na = False, regex = True),\n",
    "        df_named['Тендер_naming_first'], \"Невідомо\")\n",
    "df_named_tender = df_named[df_named['Назва'] != 'Невідомо']\n",
    "df_named_undefined_1 = df_named[df_named['Назва'] == 'Невідомо']\n",
    "\n",
    "# Лот_naming_first\n",
    "df_named_undefined_1['Назва'] = np.where(df_named_undefined_1['Лот_naming_first'].astype(str).str.contains(r'^({})$'.format('|'.join(school_names)), case = False, na = False, regex = True),\n",
    "        df_named_undefined_1['Лот_naming_first'], \"Невідомо\")\n",
    "df_named_lot = df_named_undefined_1[df_named_undefined_1['Назва'] != 'Невідомо']\n",
    "df_named_undefined_2 = df_named_undefined_1[df_named_undefined_1['Назва'] == 'Невідомо']\n",
    "\n",
    "# ОписаниеТендера_naming_first\n",
    "df_named_undefined_2['Назва'] = np.where(df_named_undefined_2['ОписаниеТендера_naming_first'].astype(str).str.contains(r'^({})$'.format('|'.join(school_names)), case = False, na = False, regex = True),\n",
    "        df_named_undefined_2['ОписаниеТендера_naming_first'], \"Невідомо\")\n",
    "df_named_opystendera = df_named_undefined_2[df_named_undefined_2['Назва'] != 'Невідомо']\n",
    "df_named_undefined_3 = df_named_undefined_2[df_named_undefined_2['Назва'] == 'Невідомо']\n",
    "\n",
    "# Тендер_naming_last\n",
    "df_named_undefined_3['Назва'] = np.where(df_named_undefined_3['Тендер_naming_last'].astype(str).str.contains(r'^({})$'.format('|'.join(school_names)), case = False, na = False, regex = True),\n",
    "        df_named_undefined_3['Тендер_naming_last'], \"Невідомо\")\n",
    "df_named_tender_last = df_named_undefined_3[df_named_undefined_3['Назва'] != 'Невідомо']\n",
    "df_named_undefined_4 = df_named_undefined_3[df_named_undefined_3['Назва'] == 'Невідомо']\n",
    "\n",
    "# Лот_naming_last\n",
    "df_named_undefined_4['Назва'] = np.where(df_named_undefined_4['Лот_naming_last'].astype(str).str.contains(r'^({})$'.format('|'.join(school_names)), case = False, na = False, regex = True),\n",
    "        df_named_undefined_4['Лот_naming_last'], \"Невідомо\")\n",
    "df_named_lot_last = df_named_undefined_4[df_named_undefined_4['Назва'] != 'Невідомо']\n",
    "df_named_undefined_5 = df_named_undefined_4[df_named_undefined_4['Назва'] == 'Невідомо']\n",
    "\n",
    "# ОписаниеТендера_naming_last\n",
    "df_named_undefined_5['Назва'] = np.where(df_named_undefined_5['ОписаниеТендера_naming_last'].astype(str).str.contains(r'^({})$'.format('|'.join(school_names)), case = False, na = False, regex = True),\n",
    "        df_named_undefined_5['ОписаниеТендера_naming_last'], \"Невідомо\")\n",
    "df_named_opystendera_last = df_named_undefined_5[df_named_undefined_5['Назва'] != 'Невідомо']"
   ]
  },
  {
   "cell_type": "code",
   "execution_count": null,
   "metadata": {},
   "outputs": [],
   "source": [
    "\"\"\"\n",
    "df_tender_not_by_schools_unidentified - датафрейм шкіл-не-замовників, де не визначився ані номер, ані назва\n",
    "\"\"\"\n",
    "df_tender_not_by_schools_unidentified = df_named_undefined_5[df_named_undefined_5['Назва'] == 'Невідомо']\n",
    "df_tender_not_by_schools_unidentified = df_tender_not_by_schools_unidentified[col_names]"
   ]
  },
  {
   "cell_type": "code",
   "execution_count": null,
   "metadata": {},
   "outputs": [],
   "source": [
    "\"\"\"\n",
    "df_tenders_not_by_schools_named - об'єднаний датафрейм шкіл-не-замовників з номерами\n",
    "Видалення \"технічних\" колонок, створених функціями.\n",
    "\"\"\"\n",
    "frames = [ \n",
    "            df_named_tender, \n",
    "            df_named_lot,\n",
    "            df_named_opystendera, \n",
    "            df_named_tender_last, \n",
    "            df_named_lot_last, \n",
    "            df_named_opystendera_last\n",
    "         ]\n",
    "df_tenders_not_by_schools_named = pd.concat(frames)\n",
    "df_tenders_not_by_schools_named = df_tenders_not_by_schools_named[col_names]"
   ]
  },
  {
   "cell_type": "markdown",
   "metadata": {},
   "source": [
    "##### Step 9: Об'єднання двох датафреймів шкіл-не-замовників"
   ]
  },
  {
   "cell_type": "code",
   "execution_count": null,
   "metadata": {},
   "outputs": [],
   "source": [
    "\"\"\"\n",
    "df_tenders_not_by_schools - датафрейм шкіл-не-замовників з визначеними номерами і назвами\n",
    "Створення колонки 'Заклад-замовник'\n",
    "\"\"\"\n",
    "frames = [\n",
    "    df_tenders_not_by_schools_numerated, \n",
    "    df_tenders_not_by_schools_named\n",
    "]\n",
    "df_tenders_not_by_schools = pd.concat(frames)\n",
    "df_tenders_not_by_schools['Заклад-замовник'] = False"
   ]
  },
  {
   "cell_type": "markdown",
   "metadata": {},
   "source": [
    "##### Step 9.5: Створення єдиної колонки для Номеру і Назви - Номер/Назва (ЩЕ ПІД ПИТАННЯМ)"
   ]
  },
  {
   "cell_type": "code",
   "execution_count": null,
   "metadata": {},
   "outputs": [],
   "source": [
    "# \"\"\"\n",
    "# У датафреймі Шкіл-замовників df_tenders_by_schools_temp в рядках, \n",
    "#     - де Номер не визначився, присвоюється Назва\n",
    "#     - де Назва не визначилась, присвоюється поле Організатор\n",
    "# \"\"\"\n",
    "\n",
    "# df_tenders_by_schools_temp = df_tenders_by_schools.copy()\n",
    "# df_tenders_by_schools_temp['Номер/Назва'] = np.where(df_tenders_by_schools_temp['Номер'].notnull(), df_tenders_by_schools_temp['Номер'], df_tenders_by_schools_temp['Назва'])\n",
    "# df_tenders_by_schools_temp['Номер/Назва'] = np.where(df_tenders_by_schools_temp['Номер/Назва'].isnull(), df_tenders_by_schools_temp['Организатор'], df_tenders_by_schools_temp['Номер/Назва'])"
   ]
  },
  {
   "cell_type": "code",
   "execution_count": null,
   "metadata": {},
   "outputs": [],
   "source": [
    "# \"\"\"\n",
    "# У датафреймі Шкіл-не-замовників df_tenders_not_by_schools в рядках, \n",
    "#     - де Номер не визначився, присвоюється Назва\n",
    "#     - де Назва не визначилась, присвоюється поле Організатор\n",
    "\n",
    "# В колонці 'Номер/Назва' значення \"Невідомо\" фактично означає закупівлю для кількох закладів освіти\n",
    "\n",
    "# \"\"\"\n",
    "\n",
    "# df_tenders_not_by_schools_temp = df_tenders_not_by_schools.copy()\n",
    "# df_tenders_not_by_schools_temp['Номер/Назва'] = np.where(df_tenders_not_by_schools_temp['Номер'].notnull(), df_tenders_not_by_schools_temp['Номер'], df_tenders_not_by_schools_temp['Назва'])"
   ]
  },
  {
   "cell_type": "markdown",
   "metadata": {},
   "source": [
    "##### Step 10: Об'єднання датафреймів шкіл-не-замовників та шкіл-замовників"
   ]
  },
  {
   "cell_type": "code",
   "execution_count": null,
   "metadata": {},
   "outputs": [],
   "source": [
    "frames = [df_tenders_by_schools, df_tenders_not_by_schools]\n",
    "df_tenders = pd.concat(frames)\n",
    "print(\"df_tenders\", df_tenders.shape)"
   ]
  },
  {
   "cell_type": "code",
   "execution_count": null,
   "metadata": {},
   "outputs": [],
   "source": [
    "df_tenders_filtered_1 = df_tenders.sample(1000)\n",
    "df_tenders_filtered_1['Correct'] = 'undefined'\n",
    "print(\"df_tenders_filtered_1:\", df_tenders_filtered_1.shape, \"\\nCols:\", df_tenders_filtered_1.columns)\n",
    "# df_tenders_filtered_1.to_csv('results/school-procurements-1000-random.csv', sep=';')"
   ]
  },
  {
   "cell_type": "markdown",
   "metadata": {},
   "source": [
    "#### Step 11: RandomDataResuls"
   ]
  },
  {
   "cell_type": "code",
   "execution_count": null,
   "metadata": {},
   "outputs": [],
   "source": [
    "random_1000_results = pandas.read_csv('results/school-procurements-1000-random-marked.csv', index_col = 0, error_bad_lines=False, sep = ',', low_memory = False)\n",
    "random_1000_results = random_1000_results.iloc[:, :-1]\n",
    "print(random_1000_results.shape)"
   ]
  },
  {
   "cell_type": "code",
   "execution_count": null,
   "metadata": {},
   "outputs": [],
   "source": [
    "\"\"\" UNDONE\n",
    "\n",
    "    Correct mark #21 (відсутній символ №):\n",
    "        Зміни у Step 7:\n",
    "            мабуть рішенням є регулярний вираз, який би відбирав 1-3 значне число,\n",
    "            яке знаходить відразу після ключового слова.\n",
    "            Можливо відстань рахувати між знайденими ключовими словами?\n",
    "                приклад index 4337: \"Капітальний ремонт будівлі ДНЗ 126\"\n",
    "                \n",
    "    \n",
    "    replace 'ДНЗ ' - 'ДНЗ №'\n",
    "            \n",
    "\"\"\"\n",
    "step11 = random_1000_results[random_1000_results.Correct=='21']"
   ]
  },
  {
   "cell_type": "code",
   "execution_count": null,
   "metadata": {},
   "outputs": [],
   "source": [
    "\"\"\" UNDONE\n",
    "\n",
    "    Correct mark #22 (кілька символів №):\n",
    "        Зміни у Step 7:\n",
    "            мабуть рішенням є регулярний вираз, який би шукав число з символом №,\n",
    "            яке знаходиться ПІСЛЯ знайденого ключового слова, а не ДО. І він має бути тільки один.\n",
    "            Можливо відстань рахувати між знайденими ключовими словами?\n",
    "                приклад index 78075: \"Лот №58 крупи та борошно, НВК №8\"\n",
    "            \n",
    "\"\"\"\n",
    "random_1000_results[random_1000_results.Correct=='22']"
   ]
  },
  {
   "cell_type": "code",
   "execution_count": null,
   "metadata": {},
   "outputs": [],
   "source": [
    "\"\"\"\n",
    "TODO\n",
    "\"\"\""
   ]
  },
  {
   "cell_type": "code",
   "execution_count": null,
   "metadata": {},
   "outputs": [],
   "source": [
    "\"\"\" UNDONE\n",
    "\n",
    "    Correct marks #26 (кілька лапок): \n",
    "        Для шкіл-не-замовників у Step 8\n",
    "        1. «» або \"\"\n",
    "        2. відібрати перше? останнє? повторюване?\n",
    "\n",
    "\"\"\"\n",
    "random_1000_results[(random_1000_results.Correct=='25') | (random_1000_results.Correct=='26')]"
   ]
  },
  {
   "cell_type": "code",
   "execution_count": null,
   "metadata": {},
   "outputs": [],
   "source": []
  }
 ],
 "metadata": {
  "file_extension": ".py",
  "kernelspec": {
   "display_name": "Python 3",
   "language": "python",
   "name": "python3"
  },
  "language_info": {
   "codemirror_mode": {
    "name": "ipython",
    "version": 3
   },
   "file_extension": ".py",
   "mimetype": "text/x-python",
   "name": "python",
   "nbconvert_exporter": "python",
   "pygments_lexer": "ipython3",
   "version": "3.6.9"
  },
  "mimetype": "text/x-python",
  "name": "python",
  "npconvert_exporter": "python",
  "pygments_lexer": "ipython2",
  "version": 2
 },
 "nbformat": 4,
 "nbformat_minor": 2
}
