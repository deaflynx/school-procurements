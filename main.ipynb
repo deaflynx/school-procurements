{
 "cells": [
  {
   "cell_type": "code",
   "execution_count": 1,
   "metadata": {},
   "outputs": [],
   "source": [
    "import importlib\n",
    "import pandas as pd\n",
    "import numpy as np\n",
    "import re\n",
    "\n",
    "from functions.get_mon_data import *\n",
    "from functions.functions_dataframe import * \n",
    "from functions.functions_shared import *\n",
    "from parameters.filters_lists import *\n",
    "from parameters.route import *\n",
    "from parameters.regs import *\n",
    "\n",
    "pd.set_option(\"display.max_colwidth\", 200)"
   ]
  },
  {
   "cell_type": "code",
   "execution_count": 2,
   "metadata": {
    "scrolled": false
   },
   "outputs": [],
   "source": [
    "\"\"\"\n",
    "Завантажити базу закупівель ProZorro (деталі у README.txt)\n",
    "\"\"\"\n",
    "df_prozorro = pandas.read_csv('data/TrainingProZorroForSchoolProject20162019.csv', sep = ';', low_memory = False)"
   ]
  },
  {
   "cell_type": "code",
   "execution_count": 3,
   "metadata": {},
   "outputs": [],
   "source": [
    "\"\"\"\n",
    "Завантажити датафрейм МОН навчальниз закладів, підготовлений у \"Fileter MON data.ipynb\"\n",
    "\"\"\"\n",
    "df_mon_data_bez_upravlin_osvity = pandas.read_csv('data/df_bez_upravlin_osvity.csv', sep = ';')"
   ]
  },
  {
   "cell_type": "code",
   "execution_count": 4,
   "metadata": {},
   "outputs": [],
   "source": [
    "\"\"\"\n",
    "Створити список унікальних ЄДРПОУ освітніх закладів МОН\n",
    "\"\"\"\n",
    "mon_data_list = df_mon_data_bez_upravlin_osvity.edrpou.unique().tolist()"
   ]
  },
  {
   "cell_type": "code",
   "execution_count": null,
   "metadata": {},
   "outputs": [],
   "source": [
    "\"\"\"  FOR DEBUGGING PURPOSE:\n",
    "\n",
    "COLUMNS_TO_SHOW = []\n",
    "VALUE_FILTER = ''\n",
    "COLUMN_TO_FILTER = ''\n",
    "debug_df = PUT_DARAFRAME_NAME_HERE[COLUMNS_TO_SHOW]\n",
    "debug_df[debug_df[COLUMN_TO_FILTER] == VALUE_FILTER]\n",
    "\n",
    "\"\"\""
   ]
  },
  {
   "cell_type": "markdown",
   "metadata": {},
   "source": [
    "### ШКОЛИ ЗАМОВНИКИ"
   ]
  },
  {
   "cell_type": "markdown",
   "metadata": {},
   "source": [
    "##### Step 1: Створити базу навчальних закладів, які самостійно купують через ProZorro"
   ]
  },
  {
   "cell_type": "code",
   "execution_count": 24,
   "metadata": {
    "scrolled": true
   },
   "outputs": [],
   "source": [
    "\"\"\"\n",
    "Відфільтрувати базу закупівель df_prozorro за колонкою IDOrganizator.\n",
    "Фільтром є списко МОН з ЄДРПОУ начальних закладів mon_data_list (попередній крок)\n",
    "\n",
    "df_tenders_by_schools - база закупівель, де навчальні заклади є замовниками\n",
    "df_undefined_1 - база невизначених закупівель ProZorro\n",
    "\"\"\"\n",
    "df_tenders_by_schools = df_prozorro[df_prozorro['IDOrganizator'].isin(mon_data_list)]\n",
    "df_undefined_1 = df_prozorro[~df_prozorro['IDOrganizator'].isin(mon_data_list)]"
   ]
  },
  {
   "cell_type": "markdown",
   "metadata": {},
   "source": [
    "##### Step 2: Класифікація шкіл-замовників по типах за колонкою \"Организатор\""
   ]
  },
  {
   "cell_type": "code",
   "execution_count": 25,
   "metadata": {
    "collapsed": true
   },
   "outputs": [
    {
     "name": "stderr",
     "output_type": "stream",
     "text": [
      "/home/artem/projects/tmp/school-procurements/functions/functions_dataframe.py:51: SettingWithCopyWarning: \n",
      "A value is trying to be set on a copy of a slice from a DataFrame.\n",
      "Try using .loc[row_indexer,col_indexer] = value instead\n",
      "\n",
      "See the caveats in the documentation: http://pandas.pydata.org/pandas-docs/stable/indexing.html#indexing-view-versus-copy\n",
      "  given_df['Тип закладу'] = \"Невідомо\"\n",
      "/home/artem/projects/tmp/school-procurements/functions/functions_dataframe.py:54: SettingWithCopyWarning: \n",
      "A value is trying to be set on a copy of a slice from a DataFrame.\n",
      "Try using .loc[row_indexer,col_indexer] = value instead\n",
      "\n",
      "See the caveats in the documentation: http://pandas.pydata.org/pandas-docs/stable/indexing.html#indexing-view-versus-copy\n",
      "  given_df[column + \"_check\"] = \"\"\n",
      "/home/artem/projects/tmp/school-procurements/functions/functions_dataframe.py:60: UserWarning: This pattern has match groups. To actually get the groups, use str.extract.\n",
      "  case = False, na = False, regex = True)\n",
      "/home/artem/projects/tmp/school-procurements/functions/functions_dataframe.py:60: SettingWithCopyWarning: \n",
      "A value is trying to be set on a copy of a slice from a DataFrame.\n",
      "Try using .loc[row_indexer,col_indexer] = value instead\n",
      "\n",
      "See the caveats in the documentation: http://pandas.pydata.org/pandas-docs/stable/indexing.html#indexing-view-versus-copy\n",
      "  case = False, na = False, regex = True)\n",
      "/home/artem/projects/tmp/school-procurements/functions/functions_dataframe.py:63: SettingWithCopyWarning: \n",
      "A value is trying to be set on a copy of a slice from a DataFrame.\n",
      "Try using .loc[row_indexer,col_indexer] = value instead\n",
      "\n",
      "See the caveats in the documentation: http://pandas.pydata.org/pandas-docs/stable/indexing.html#indexing-view-versus-copy\n",
      "  given_df['Тип закладу'] = np.where(given_df['Организатор_check'] == True, checked_name, given_df['Тип закладу'])\n"
     ]
    }
   ],
   "source": [
    "df_tenders_by_schools_classified = classification_by_type_one_column(df_tenders_by_schools, ['Организатор'], filter_priority, filter_name_priority)"
   ]
  },
  {
   "cell_type": "markdown",
   "metadata": {},
   "source": [
    "##### Step 3: Нумерація шкіл-замовників"
   ]
  },
  {
   "cell_type": "code",
   "execution_count": 26,
   "metadata": {
    "collapsed": true
   },
   "outputs": [
    {
     "name": "stderr",
     "output_type": "stream",
     "text": [
      "/home/artem/projects/tmp/school-procurements/functions/functions_dataframe.py:69: SettingWithCopyWarning: \n",
      "A value is trying to be set on a copy of a slice from a DataFrame.\n",
      "Try using .loc[row_indexer,col_indexer] = value instead\n",
      "\n",
      "See the caveats in the documentation: http://pandas.pydata.org/pandas-docs/stable/indexing.html#indexing-view-versus-copy\n",
      "  given_df['Номер'] = given_df[column].str.findall(f\"{regex}\", flags = re.IGNORECASE).apply(''.join)\n"
     ]
    }
   ],
   "source": [
    "df_tenders_by_schools_numerated = numeration_one_column(df_tenders_by_schools_classified, ['Организатор'], reg_number)"
   ]
  },
  {
   "cell_type": "markdown",
   "metadata": {},
   "source": [
    "##### Step 4: Найменування шкіл-замовників"
   ]
  },
  {
   "cell_type": "code",
   "execution_count": 27,
   "metadata": {
    "collapsed": true
   },
   "outputs": [
    {
     "name": "stderr",
     "output_type": "stream",
     "text": [
      "/home/artem/projects/tmp/school-procurements/functions/functions_dataframe.py:89: SettingWithCopyWarning: \n",
      "A value is trying to be set on a copy of a slice from a DataFrame.\n",
      "Try using .loc[row_indexer,col_indexer] = value instead\n",
      "\n",
      "See the caveats in the documentation: http://pandas.pydata.org/pandas-docs/stable/indexing.html#indexing-view-versus-copy\n",
      "  given_df['Назва'] = given_df[column].str.findall(f\"{regex}\", flags = re.IGNORECASE).str[0].str[-1]\n"
     ]
    }
   ],
   "source": [
    "df_tenders_by_schools_named = naming_one_column(df_tenders_by_schools_numerated, ['Организатор'], reg_quotes)"
   ]
  },
  {
   "cell_type": "markdown",
   "metadata": {},
   "source": [
    "##### Step 5: Cтворення фінальної бази ШКІЛ ЗАМОВНИКІВ"
   ]
  },
  {
   "cell_type": "code",
   "execution_count": 28,
   "metadata": {
    "collapsed": true
   },
   "outputs": [
    {
     "name": "stderr",
     "output_type": "stream",
     "text": [
      "/home/artem/.local/lib/python3.6/site-packages/ipykernel_launcher.py:4: UserWarning: This pattern has match groups. To actually get the groups, use str.extract.\n",
      "  after removing the cwd from sys.path.\n"
     ]
    }
   ],
   "source": [
    "\"\"\"\n",
    "df_tenders_by_schools - база закупівель, де замовниками є навчальні заклади і де не зустрічаються ключові слова filter_poza\n",
    "\"\"\"\n",
    "df_tenders_by_schools = df_tenders_by_schools_named[~df_tenders_by_schools_named['Организатор'].astype(str).str.contains(r'({})'.format('|'.join(filter_poza)), case = False, na = False, regex = True)]"
   ]
  },
  {
   "cell_type": "code",
   "execution_count": 29,
   "metadata": {
    "collapsed": true
   },
   "outputs": [
    {
     "name": "stderr",
     "output_type": "stream",
     "text": [
      "/home/artem/.local/lib/python3.6/site-packages/ipykernel_launcher.py:8: SettingWithCopyWarning: \n",
      "A value is trying to be set on a copy of a slice from a DataFrame.\n",
      "Try using .loc[row_indexer,col_indexer] = value instead\n",
      "\n",
      "See the caveats in the documentation: http://pandas.pydata.org/pandas-docs/stable/indexing.html#indexing-view-versus-copy\n",
      "  \n",
      "/home/artem/.local/lib/python3.6/site-packages/ipykernel_launcher.py:11: SettingWithCopyWarning: \n",
      "A value is trying to be set on a copy of a slice from a DataFrame.\n",
      "Try using .loc[row_indexer,col_indexer] = value instead\n",
      "\n",
      "See the caveats in the documentation: http://pandas.pydata.org/pandas-docs/stable/indexing.html#indexing-view-versus-copy\n",
      "  # This is added back by InteractiveShellApp.init_path()\n"
     ]
    }
   ],
   "source": [
    "\"\"\"\n",
    "\"Назва закладу\" - колонка з фіналізованою назвою школи. Принцип визначення:\n",
    "    1. Якщо колонка \"Номер\" не є пустою - додається до \"Типу закладу\"\n",
    "    2. Якщо колонка \"Номер\" є пустою - \"Назва закладу\" отримує значення \"Организатор\"\n",
    "    \n",
    "* колонка \"Назва\" не враховується через високий ступінь повторюваності з \"Организатор\" і часткову точність\n",
    "\"\"\"\n",
    "df_tenders_by_schools['Номер'] = df_tenders_by_schools['Номер'].replace(r'^\\s*$', np.nan, regex=True) # технічна дія: перетворити пусті строки в NaN\n",
    "df_tenders_by_schools['Назва закладу'] = np.where(df_tenders_by_schools['Номер'].notnull(), \n",
    "                                                  df_tenders_by_schools['Тип закладу'] + ' ' + df_tenders_by_schools['Номер'], \n",
    "                                                  df_tenders_by_schools['Организатор'])"
   ]
  },
  {
   "cell_type": "code",
   "execution_count": 31,
   "metadata": {
    "collapsed": true
   },
   "outputs": [
    {
     "name": "stderr",
     "output_type": "stream",
     "text": [
      "/home/artem/.local/lib/python3.6/site-packages/ipykernel_launcher.py:5: SettingWithCopyWarning: \n",
      "A value is trying to be set on a copy of a slice from a DataFrame.\n",
      "Try using .loc[row_indexer,col_indexer] = value instead\n",
      "\n",
      "See the caveats in the documentation: http://pandas.pydata.org/pandas-docs/stable/indexing.html#indexing-view-versus-copy\n",
      "  \"\"\"\n"
     ]
    }
   ],
   "source": [
    "\"\"\"\n",
    "Створення колонки 'Заклад-замовник'\n",
    "Видалення \"технічних\" колонок, створених функціями.\n",
    "\"\"\"\n",
    "df_tenders_by_schools['Заклад-замовник'] = True\n",
    "col_names = df_prozorro.columns.tolist()\n",
    "col_names += ['Заклад-замовник', 'Назва закладу']\n",
    "df_tenders_by_schools = df_tenders_by_schools[col_names]"
   ]
  },
  {
   "cell_type": "markdown",
   "metadata": {},
   "source": [
    "### ШКОЛИ НЕ-ЗАМОВНИКИ"
   ]
  },
  {
   "cell_type": "markdown",
   "metadata": {},
   "source": [
    "##### Step 5: Пошук закупівель шкіл-не-замовників за допомогою ключових слів"
   ]
  },
  {
   "cell_type": "code",
   "execution_count": 12,
   "metadata": {},
   "outputs": [
    {
     "name": "stderr",
     "output_type": "stream",
     "text": [
      "/home/artem/.local/lib/python3.6/site-packages/ipykernel_launcher.py:16: UserWarning: This pattern has match groups. To actually get the groups, use str.extract.\n",
      "  app.launch_new_instance()\n",
      "/home/artem/.local/lib/python3.6/site-packages/ipykernel_launcher.py:17: UserWarning: This pattern has match groups. To actually get the groups, use str.extract.\n"
     ]
    }
   ],
   "source": [
    "\"\"\"\n",
    "З-поміж датафрейму невизначених закупівель (df_undefined_1) за ключовими словами у списках\n",
    "filter_keywords, filter_keywords_strict відбираються закупівлі освітніх закладів у колонках: Тендер, ОписаниеТендера, Лот \n",
    "\n",
    "Примітка: регулярний вираз /b{}/b шукає за ключовими словами зі списку filter_keywords_strict_extended тільки \n",
    "ті паттерни, де ці ключові слова є окремими, а не зустрічають всередині слів. \n",
    "Це зменшить кількість \"брудних\" даних\n",
    "\"\"\"\n",
    "df_tenders_not_by_schools_by_keywords = df_undefined_1[df_undefined_1['Тендер'].astype(str).str.contains(r'({})'.format('|'.join(filter_keywords)), \n",
    "            case = False, na = False, regex = True)  | \n",
    "                                                      df_undefined_1['ОписаниеТендера'].astype(str).str.contains(r'({})'.format('|'.join(filter_keywords)), \n",
    "            case = False, na = False, regex = True) | \n",
    "                                                      df_undefined_1['Лот'].astype(str).str.contains(r'({})'.format('|'.join(filter_keywords)), \n",
    "            case = False, na = False, regex = True) | df_undefined_1['Тендер'].astype(str).str.contains(r'(/b{}/b)'.format('|'.join(filter_keywords_strict)), \n",
    "            case = False, na = False, regex = True) | df_undefined_1['ОписаниеТендера'].astype(str).str.contains(r'(/b{}/b)'.format('|'.join(filter_keywords_strict)), \n",
    "            case = False, na = False, regex = True) | df_undefined_1['Лот'].astype(str).str.contains(r'(/b{}/b)'.format('|'.join(filter_keywords_strict)), \n",
    "            case = False, na = False, regex = True)]"
   ]
  },
  {
   "cell_type": "markdown",
   "metadata": {},
   "source": [
    "##### Step 6: Класифікація шкіл-не-замовників за типами"
   ]
  },
  {
   "cell_type": "code",
   "execution_count": 13,
   "metadata": {
    "collapsed": true
   },
   "outputs": [
    {
     "name": "stderr",
     "output_type": "stream",
     "text": [
      "/home/artem/projects/tmp/school-procurements/functions/functions_dataframe.py:31: SettingWithCopyWarning: \n",
      "A value is trying to be set on a copy of a slice from a DataFrame.\n",
      "Try using .loc[row_indexer,col_indexer] = value instead\n",
      "\n",
      "See the caveats in the documentation: http://pandas.pydata.org/pandas-docs/stable/indexing.html#indexing-view-versus-copy\n",
      "  given_df['Тип закладу'] = \"Невідомо\"\n",
      "/home/artem/projects/tmp/school-procurements/functions/functions_dataframe.py:34: SettingWithCopyWarning: \n",
      "A value is trying to be set on a copy of a slice from a DataFrame.\n",
      "Try using .loc[row_indexer,col_indexer] = value instead\n",
      "\n",
      "See the caveats in the documentation: http://pandas.pydata.org/pandas-docs/stable/indexing.html#indexing-view-versus-copy\n",
      "  given_df[column + \"_check\"] = \"\"\n",
      "/home/artem/projects/tmp/school-procurements/functions/functions_dataframe.py:40: UserWarning: This pattern has match groups. To actually get the groups, use str.extract.\n",
      "  case = False, na = False, regex = True)\n",
      "/home/artem/projects/tmp/school-procurements/functions/functions_dataframe.py:40: SettingWithCopyWarning: \n",
      "A value is trying to be set on a copy of a slice from a DataFrame.\n",
      "Try using .loc[row_indexer,col_indexer] = value instead\n",
      "\n",
      "See the caveats in the documentation: http://pandas.pydata.org/pandas-docs/stable/indexing.html#indexing-view-versus-copy\n",
      "  case = False, na = False, regex = True)\n",
      "/home/artem/projects/tmp/school-procurements/functions/functions_dataframe.py:43: SettingWithCopyWarning: \n",
      "A value is trying to be set on a copy of a slice from a DataFrame.\n",
      "Try using .loc[row_indexer,col_indexer] = value instead\n",
      "\n",
      "See the caveats in the documentation: http://pandas.pydata.org/pandas-docs/stable/indexing.html#indexing-view-versus-copy\n",
      "  given_df['Тип закладу'] = np.where((given_df['Тендер_check'] == True) | (given_df['ОписаниеТендера_check'] == True) | (given_df['Лот_check'] == True), checked_name, given_df['Тип закладу'])\n"
     ]
    }
   ],
   "source": [
    "df_tenders_not_by_schools_classified = classification_by_type_three_cols(df_tenders_not_by_schools_by_keywords,\n",
    "                                                                         ['Тендер', 'ОписаниеТендера', 'Лот'], \n",
    "                                                                         filter_priority, \n",
    "                                                                         filter_name_priority)"
   ]
  },
  {
   "cell_type": "markdown",
   "metadata": {},
   "source": [
    "##### Step 7: Нумерація шкіл-не-замовників"
   ]
  },
  {
   "cell_type": "code",
   "execution_count": 56,
   "metadata": {},
   "outputs": [],
   "source": [
    "\"\"\"\n",
    "df_step7 - датафрейм, створений із закупівель df_tenders_not_by_schools_classified, де був успішно визначений \"Тип закладу\"\n",
    "\"\"\"\n",
    "df_step7 = df_tenders_not_by_schools_classified[df_tenders_not_by_schools_classified['Тип закладу'] != 'Невідомо'].copy()"
   ]
  },
  {
   "cell_type": "code",
   "execution_count": 57,
   "metadata": {},
   "outputs": [],
   "source": [
    "\"\"\"\n",
    "Функція long_numeration створює два дафайреми:\n",
    "    df_tenders_not_by_schools_numerated - тендери, де номер визначився \n",
    "    df_step7_numerated_undefined - тендери, де номер не визначився\n",
    "\"\"\"\n",
    "df_tenders_not_by_schools_numerated, df_step7_numerated_undefined = long_numeration(df_step7, reg_number)\n",
    "df_tenders_not_by_schools_numerated['Назва закладу'] = df_tenders_not_by_schools_numerated['Тип закладу'] + ' ' + df_tenders_not_by_schools_numerated['Номер']"
   ]
  },
  {
   "cell_type": "markdown",
   "metadata": {},
   "source": [
    "##### Step 8: Найменування шкіл-не-замовників"
   ]
  },
  {
   "cell_type": "code",
   "execution_count": 58,
   "metadata": {},
   "outputs": [],
   "source": [
    "\"\"\"\n",
    "Завантажити датафрейм МОН власних назв навчальниз закладів, підготовлений у \"Fileter MON data.ipynb\"\n",
    "school_names - список унікальних назв \n",
    "\"\"\"\n",
    "df_names_clean = pandas.read_csv('data/df_names_clean.csv', sep = ';')\n",
    "df_names_clean = df_names_clean[df_names_clean['Назва'].notnull()] # Видалити NaN\n",
    "school_names = df_names_clean['Назва'].unique().tolist()"
   ]
  },
  {
   "cell_type": "code",
   "execution_count": 59,
   "metadata": {
    "collapsed": true
   },
   "outputs": [
    {
     "name": "stderr",
     "output_type": "stream",
     "text": [
      "/home/artem/projects/tmp/school-procurements/functions/functions_dataframe.py:171: UserWarning: This pattern has match groups. To actually get the groups, use str.extract.\n",
      "  df_named['Назва'] = np.where(df_named['Тендер_naming_first'].astype(str).str.contains(r'^({})$'.format('|'.join(school_names)), case = False, na = False, regex = True), df_named['Тендер_naming_first'], \"Невідомо\")\n",
      "/home/artem/projects/tmp/school-procurements/functions/functions_dataframe.py:175: UserWarning: This pattern has match groups. To actually get the groups, use str.extract.\n",
      "  df_named_undefined_1['Назва'] = np.where(df_named_undefined_1['Лот_naming_first'].astype(str).str.contains(r'^({})$'.format('|'.join(school_names)), case = False, na = False, regex = True), df_named_undefined_1['Лот_naming_first'], \"Невідомо\")\n",
      "/home/artem/projects/tmp/school-procurements/functions/functions_dataframe.py:175: SettingWithCopyWarning: \n",
      "A value is trying to be set on a copy of a slice from a DataFrame.\n",
      "Try using .loc[row_indexer,col_indexer] = value instead\n",
      "\n",
      "See the caveats in the documentation: http://pandas.pydata.org/pandas-docs/stable/indexing.html#indexing-view-versus-copy\n",
      "  df_named_undefined_1['Назва'] = np.where(df_named_undefined_1['Лот_naming_first'].astype(str).str.contains(r'^({})$'.format('|'.join(school_names)), case = False, na = False, regex = True), df_named_undefined_1['Лот_naming_first'], \"Невідомо\")\n",
      "/home/artem/projects/tmp/school-procurements/functions/functions_dataframe.py:179: UserWarning: This pattern has match groups. To actually get the groups, use str.extract.\n",
      "  df_named_undefined_2['Назва'] = np.where(df_named_undefined_2['ОписаниеТендера_naming_first'].astype(str).str.contains(r'^({})$'.format('|'.join(school_names)), case = False, na = False, regex = True), df_named_undefined_2['ОписаниеТендера_naming_first'], \"Невідомо\")\n",
      "/home/artem/projects/tmp/school-procurements/functions/functions_dataframe.py:179: SettingWithCopyWarning: \n",
      "A value is trying to be set on a copy of a slice from a DataFrame.\n",
      "Try using .loc[row_indexer,col_indexer] = value instead\n",
      "\n",
      "See the caveats in the documentation: http://pandas.pydata.org/pandas-docs/stable/indexing.html#indexing-view-versus-copy\n",
      "  df_named_undefined_2['Назва'] = np.where(df_named_undefined_2['ОписаниеТендера_naming_first'].astype(str).str.contains(r'^({})$'.format('|'.join(school_names)), case = False, na = False, regex = True), df_named_undefined_2['ОписаниеТендера_naming_first'], \"Невідомо\")\n",
      "/home/artem/projects/tmp/school-procurements/functions/functions_dataframe.py:183: UserWarning: This pattern has match groups. To actually get the groups, use str.extract.\n",
      "  df_named_undefined_3['Назва'] = np.where(df_named_undefined_3['Тендер_naming_last'].astype(str).str.contains(r'^({})$'.format('|'.join(school_names)), case = False, na = False, regex = True), df_named_undefined_3['Тендер_naming_last'], \"Невідомо\")\n",
      "/home/artem/projects/tmp/school-procurements/functions/functions_dataframe.py:183: SettingWithCopyWarning: \n",
      "A value is trying to be set on a copy of a slice from a DataFrame.\n",
      "Try using .loc[row_indexer,col_indexer] = value instead\n",
      "\n",
      "See the caveats in the documentation: http://pandas.pydata.org/pandas-docs/stable/indexing.html#indexing-view-versus-copy\n",
      "  df_named_undefined_3['Назва'] = np.where(df_named_undefined_3['Тендер_naming_last'].astype(str).str.contains(r'^({})$'.format('|'.join(school_names)), case = False, na = False, regex = True), df_named_undefined_3['Тендер_naming_last'], \"Невідомо\")\n",
      "/home/artem/projects/tmp/school-procurements/functions/functions_dataframe.py:187: UserWarning: This pattern has match groups. To actually get the groups, use str.extract.\n",
      "  df_named_undefined_4['Назва'] = np.where(df_named_undefined_4['Лот_naming_last'].astype(str).str.contains(r'^({})$'.format('|'.join(school_names)), case = False, na = False, regex = True), df_named_undefined_4['Лот_naming_last'], \"Невідомо\")\n",
      "/home/artem/projects/tmp/school-procurements/functions/functions_dataframe.py:191: UserWarning: This pattern has match groups. To actually get the groups, use str.extract.\n",
      "  df_named_undefined_5['Назва'] = np.where(df_named_undefined_5['ОписаниеТендера_naming_last'].astype(str).str.contains(r'^({})$'.format('|'.join(school_names)), case = False, na = False, regex = True), df_named_undefined_5['ОписаниеТендера_naming_last'], \"Невідомо\")\n"
     ]
    }
   ],
   "source": [
    "\"\"\"\n",
    "Функція long_naming створює два дафайреми:\n",
    "    df_tenders_not_by_schools_named - тендери, де номер визначився.\n",
    "    df_tenders_not_by_schools_undefined - тендери шкіл не замовників, де не визначилась назва (і номер).\n",
    "    Такі закупівлі вважаються закупівлями управінь освіти для різних закладів.\n",
    "\"\"\"\n",
    "df_tenders_not_by_schools_named, df_tenders_not_by_schools_undefined = long_naming(df_step7_numerated_undefined, reg_double_quotes, school_names)\n",
    "df_tenders_not_by_schools_named['Назва закладу'] = df_tenders_not_by_schools_named['Тип закладу'] + ' ' + df_tenders_not_by_schools_named['Назва']"
   ]
  },
  {
   "cell_type": "markdown",
   "metadata": {},
   "source": [
    "##### Step 9: Об'єднання двох датафреймів шкіл-не-замовників"
   ]
  },
  {
   "cell_type": "code",
   "execution_count": 60,
   "metadata": {},
   "outputs": [],
   "source": [
    "\"\"\"\n",
    "df_tenders_not_by_schools - датафрейм шкіл-не-замовників з визначеними номерами і назвами\n",
    "Створення колонки 'Заклад-замовник'\n",
    "\"\"\"\n",
    "frames = [df_tenders_not_by_schools_numerated, df_tenders_not_by_schools_named]\n",
    "df_tenders_not_by_schools = pd.concat(frames)\n",
    "df_tenders_not_by_schools['Заклад-замовник'] = False\n",
    "df_tenders_not_by_schools = df_tenders_not_by_schools[col_names]"
   ]
  },
  {
   "cell_type": "markdown",
   "metadata": {},
   "source": [
    "### ВСІ ШКОЛИ"
   ]
  },
  {
   "cell_type": "markdown",
   "metadata": {},
   "source": [
    "##### Step 10: Об'єднання датафреймів шкіл-не-замовників та шкіл-замовників"
   ]
  },
  {
   "cell_type": "code",
   "execution_count": 62,
   "metadata": {},
   "outputs": [],
   "source": [
    "frames = [df_tenders_by_schools, df_tenders_not_by_schools]\n",
    "df_tenders = pd.concat(frames)"
   ]
  },
  {
   "cell_type": "code",
   "execution_count": 64,
   "metadata": {},
   "outputs": [],
   "source": [
    "df_tenders.to_csv('data/df_tenders.csv', sep=';', index=False)"
   ]
  }
 ],
 "metadata": {
  "file_extension": ".py",
  "kernelspec": {
   "display_name": "Python 3",
   "language": "python",
   "name": "python3"
  },
  "language_info": {
   "codemirror_mode": {
    "name": "ipython",
    "version": 3
   },
   "file_extension": ".py",
   "mimetype": "text/x-python",
   "name": "python",
   "nbconvert_exporter": "python",
   "pygments_lexer": "ipython3",
   "version": "3.6.9"
  },
  "mimetype": "text/x-python",
  "name": "python",
  "npconvert_exporter": "python",
  "pygments_lexer": "ipython2",
  "version": 2
 },
 "nbformat": 4,
 "nbformat_minor": 2
}
