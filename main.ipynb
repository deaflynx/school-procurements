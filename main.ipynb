{
 "cells": [
  {
   "cell_type": "code",
   "execution_count": null,
   "metadata": {},
   "outputs": [],
   "source": [
    "import importlib\n",
    "import pandas as pd\n",
    "import numpy as np\n",
    "import re\n",
    "\n",
    "from functions.functions_dataframe import * \n",
    "from parameters.filters_lists import *\n",
    "from parameters.route import *\n",
    "from parameters.regs import *\n",
    "\n",
    "pd.set_option(\"display.max_colwidth\", 200)"
   ]
  },
  {
   "cell_type": "markdown",
   "metadata": {},
   "source": [
    "###### Step 1. Завантажити датафрейми ProZorro, МОН, створити список ЄДРПОУ освітніх закладів"
   ]
  },
  {
   "cell_type": "code",
   "execution_count": null,
   "metadata": {
    "scrolled": false
   },
   "outputs": [],
   "source": [
    "\"\"\"\n",
    "Завантажити базу закупівель ProZorro (деталі у README.txt)\n",
    "\"\"\"\n",
    "df_prozorro = pd.read_csv('data/TrainingProZorroForSchoolProject20162019.csv', sep = ';', low_memory = False)"
   ]
  },
  {
   "cell_type": "code",
   "execution_count": null,
   "metadata": {},
   "outputs": [],
   "source": [
    "\"\"\"\n",
    "Завантажити датафрейм МОН навчальниз закладів, підготовлений у \"fileter MON data.ipynb\"\n",
    "\"\"\"\n",
    "df_mon_data_bez_upravlin_osvity = pd.read_csv('data/MON_schools_dnz.csv', sep = ';')"
   ]
  },
  {
   "cell_type": "code",
   "execution_count": null,
   "metadata": {},
   "outputs": [],
   "source": [
    "\"\"\"\n",
    "Створити список унікальних ЄДРПОУ освітніх закладів МОН\n",
    "\"\"\"\n",
    "mon_data_list = df_mon_data_bez_upravlin_osvity.edrpou.unique().tolist()"
   ]
  },
  {
   "cell_type": "markdown",
   "metadata": {},
   "source": [
    "### ШКОЛИ ЗАМОВНИКИ"
   ]
  },
  {
   "cell_type": "markdown",
   "metadata": {},
   "source": [
    "##### Step 2: Створити базу навчальних закладів, які самостійно купують через ProZorro"
   ]
  },
  {
   "cell_type": "code",
   "execution_count": null,
   "metadata": {
    "scrolled": true
   },
   "outputs": [],
   "source": [
    "\"\"\"\n",
    "Відфільтрувати базу закупівель df_prozorro за колонкою IDOrganizator.\n",
    "Фільтром є списко МОН з ЄДРПОУ начальних закладів mon_data_list (попередній крок)\n",
    "\n",
    "df_tenders_by_schools - база закупівель, де навчальні заклади є замовниками\n",
    "df_undefined_1 - база невизначених закупівель ProZorro\n",
    "\"\"\"\n",
    "df_tenders_by_schools = df_prozorro[df_prozorro['IDOrganizator'].isin(mon_data_list)]\n",
    "df_undefined_1 = df_prozorro[~df_prozorro['IDOrganizator'].isin(mon_data_list)]"
   ]
  },
  {
   "cell_type": "markdown",
   "metadata": {},
   "source": [
    "##### Step 3: Класифікація шкіл-замовників по типах за колонкою \"Организатор\" та нумерація"
   ]
  },
  {
   "cell_type": "code",
   "execution_count": null,
   "metadata": {},
   "outputs": [],
   "source": [
    "df_tenders_by_schools_classified = classification_by_type_one_column(df_tenders_by_schools, ['Организатор'], filter_priority, filter_name_priority, 'Тип закладу')\n",
    "df_tenders_by_schools_numerated = numeration_one_column(df_tenders_by_schools_classified, ['Организатор'], reg_number)"
   ]
  },
  {
   "cell_type": "markdown",
   "metadata": {},
   "source": [
    "##### Step 4: Cтворення фінальної бази ШКІЛ ЗАМОВНИКІВ"
   ]
  },
  {
   "cell_type": "code",
   "execution_count": null,
   "metadata": {},
   "outputs": [],
   "source": [
    "\"\"\"\n",
    "\"Назва закладу\" - колонка з фіналізованою назвою школи. Принцип визначення:\n",
    "    1. Якщо колонка \"Номер\" не є пустою - додається до \"Типу закладу\"\n",
    "    2. Якщо колонка \"Номер\" є пустою - \"Назва закладу\" отримує значення \"Организатор\"\n",
    "    \n",
    "* колонка \"Назва\" не враховується через високий ступінь повторюваності з \"Организатор\" і часткову точність\n",
    "\"\"\"\n",
    "df_tenders_by_schools = df_tenders_by_schools_numerated.copy()\n",
    "df_tenders_by_schools['Номер'] = df_tenders_by_schools['Номер'].replace(r'^\\s*$', np.nan, regex=True) # технічна дія: перетворити пусті строки в NaN\n",
    "df_tenders_by_schools['Назва закладу'] = np.where(df_tenders_by_schools['Номер'].notnull(), \n",
    "                                                  df_tenders_by_schools['Тип закладу'] + ' ' + df_tenders_by_schools['Номер'], \n",
    "                                                  df_tenders_by_schools['Организатор'])"
   ]
  },
  {
   "cell_type": "code",
   "execution_count": null,
   "metadata": {},
   "outputs": [],
   "source": [
    "\"\"\"\n",
    "Створення колонки 'Заклад-замовник'\n",
    "Видалення \"технічних\" колонок, створених функціями.\n",
    "\"\"\"\n",
    "df_tenders_by_schools['Заклад-замовник'] = True\n",
    "col_names = df_prozorro.columns.tolist()\n",
    "col_names += ['Заклад-замовник', 'Назва закладу']\n",
    "df_tenders_by_schools = df_tenders_by_schools[col_names]"
   ]
  },
  {
   "cell_type": "markdown",
   "metadata": {},
   "source": [
    "### ШКОЛИ НЕ-ЗАМОВНИКИ"
   ]
  },
  {
   "cell_type": "markdown",
   "metadata": {},
   "source": [
    "##### Step 5: Пошук закупівель шкіл-не-замовників за допомогою ключових слів"
   ]
  },
  {
   "cell_type": "code",
   "execution_count": null,
   "metadata": {},
   "outputs": [],
   "source": [
    "\"\"\"\n",
    "З-поміж датафрейму невизначених закупівель (df_undefined_1) за ключовими словами у списках filter_keywords, filter_keywords_strict \n",
    "відбираються закупівлі освітніх закладів у колонках: Тендер, ОписаниеТендера, Лот \n",
    "\n",
    "Регулярний вираз /b{}/b шукає за ключовими словами зі списку filter_keywords_strict_extended тільки \n",
    "ті паттерни, де ці ключові слова є окремими, а не зустрічають всередині слів. \n",
    "Це зменшить кількість \"брудних\" даних\n",
    "\"\"\"\n",
    "df_tenders_not_by_schools_by_keywords = df_undefined_1[df_undefined_1['Тендер'].astype(str).str.contains(r'({})'.format('|'.join(filter_keywords)), \n",
    "            case = False, na = False, regex = True)  | \n",
    "                                                      df_undefined_1['ОписаниеТендера'].astype(str).str.contains(r'({})'.format('|'.join(filter_keywords)), \n",
    "            case = False, na = False, regex = True) | \n",
    "                                                      df_undefined_1['Лот'].astype(str).str.contains(r'({})'.format('|'.join(filter_keywords)), \n",
    "            case = False, na = False, regex = True) | df_undefined_1['Тендер'].astype(str).str.contains(r'(/b{}/b)'.format('|'.join(filter_keywords_strict)), \n",
    "            case = False, na = False, regex = True) | df_undefined_1['ОписаниеТендера'].astype(str).str.contains(r'(/b{}/b)'.format('|'.join(filter_keywords_strict)), \n",
    "            case = False, na = False, regex = True) | df_undefined_1['Лот'].astype(str).str.contains(r'(/b{}/b)'.format('|'.join(filter_keywords_strict)), \n",
    "            case = False, na = False, regex = True)]"
   ]
  },
  {
   "cell_type": "markdown",
   "metadata": {},
   "source": [
    "##### Step 6: Класифікація шкіл-не-замовників за типами"
   ]
  },
  {
   "cell_type": "code",
   "execution_count": null,
   "metadata": {},
   "outputs": [],
   "source": [
    "df_tenders_not_by_schools_classified = classification_by_type_three_cols(df_tenders_not_by_schools_by_keywords,\n",
    "                                                                         ['Тендер', 'ОписаниеТендера', 'Лот'], \n",
    "                                                                         filter_priority, \n",
    "                                                                         filter_name_priority)"
   ]
  },
  {
   "cell_type": "markdown",
   "metadata": {},
   "source": [
    "##### Step 7: Нумерація шкіл-не-замовників"
   ]
  },
  {
   "cell_type": "code",
   "execution_count": null,
   "metadata": {},
   "outputs": [],
   "source": [
    "\"\"\"\n",
    "df_step7 - датафрейм, створений із закупівель df_tenders_not_by_schools_classified, де був успішно визначений \"Тип закладу\"\n",
    "\"\"\"\n",
    "df_step7 = df_tenders_not_by_schools_classified[df_tenders_not_by_schools_classified['Тип закладу'] != 'Невідомо'].copy()"
   ]
  },
  {
   "cell_type": "code",
   "execution_count": null,
   "metadata": {},
   "outputs": [],
   "source": [
    "\"\"\"\n",
    "Функція long_numeration створює два дафайреми:\n",
    "    df_tenders_not_by_schools_numerated - тендери, де номер визначився \n",
    "    df_step7_numerated_undefined - тендери, де номер не визначився\n",
    "\"\"\"\n",
    "df_tenders_not_by_schools_numerated, df_step7_numerated_undefined = long_numeration(df_step7, reg_number)\n",
    "df_tenders_not_by_schools_numerated['Назва закладу'] = df_tenders_not_by_schools_numerated['Тип закладу'] + ' ' + df_tenders_not_by_schools_numerated['Номер']"
   ]
  },
  {
   "cell_type": "markdown",
   "metadata": {},
   "source": [
    "##### Step 8: Найменування шкіл-не-замовників"
   ]
  },
  {
   "cell_type": "code",
   "execution_count": null,
   "metadata": {},
   "outputs": [],
   "source": [
    "\"\"\"\n",
    "Завантажити датафрейм МОН власних назв навчальниз закладів, підготовлений у \"fileter MON data.ipynb\"\n",
    "school_names - список унікальних назв \n",
    "\"\"\"\n",
    "df_names_clean = pd.read_csv('data/MON_names.csv', sep = ';')\n",
    "df_names_clean = df_names_clean[df_names_clean['Назва'].notnull()] # Видалити NaN\n",
    "school_names = df_names_clean['Назва'].unique().tolist()"
   ]
  },
  {
   "cell_type": "code",
   "execution_count": null,
   "metadata": {},
   "outputs": [],
   "source": [
    "\"\"\"\n",
    "Функція long_naming створює два дафайреми:\n",
    "    df_tenders_not_by_schools_named - тендери, де номер визначився.\n",
    "    df_tenders_not_by_schools_undefined - тендери шкіл не замовників, де не визначилась назва (і номер).\n",
    "    Такі закупівлі вважаються закупівлями управінь освіти для різних закладів.\n",
    "\"\"\"\n",
    "df_tenders_not_by_schools_named, df_tenders_not_by_schools_undefined = long_naming(df_step7_numerated_undefined, reg_double_quotes, school_names)\n",
    "df_tenders_not_by_schools_named['Назва закладу'] = df_tenders_not_by_schools_named['Тип закладу'] + ' ' + df_tenders_not_by_schools_named['Назва']"
   ]
  },
  {
   "cell_type": "markdown",
   "metadata": {},
   "source": [
    "##### Step 9: Об'єднання двох датафреймів шкіл-не-замовників"
   ]
  },
  {
   "cell_type": "code",
   "execution_count": null,
   "metadata": {},
   "outputs": [],
   "source": [
    "\"\"\"\n",
    "df_tenders_not_by_schools - датафрейм шкіл-не-замовників з визначеними номерами і назвами\n",
    "Створення колонки 'Заклад-замовник'\n",
    "\"\"\"\n",
    "frames = [df_tenders_not_by_schools_numerated, df_tenders_not_by_schools_named]\n",
    "df_tenders_not_by_schools = pd.concat(frames)\n",
    "df_tenders_not_by_schools['Заклад-замовник'] = False\n",
    "df_tenders_not_by_schools = df_tenders_not_by_schools[col_names]"
   ]
  },
  {
   "cell_type": "code",
   "execution_count": null,
   "metadata": {},
   "outputs": [],
   "source": [
    "df_tenders_not_by_schools_undefined.sample(50)"
   ]
  },
  {
   "cell_type": "markdown",
   "metadata": {},
   "source": [
    "##### Step 10. Підготовка датафрейму з координатами"
   ]
  },
  {
   "cell_type": "code",
   "execution_count": null,
   "metadata": {},
   "outputs": [],
   "source": [
    "\"\"\"\n",
    "df_coordinates - база даних шкіл МОН з 24 містами обласних центрів України, включно з координатами\n",
    "\"\"\"\n",
    "df_coordinates = pd.read_csv('data/coordinates/coordinates_DNZ _SC.csv', sep=';')"
   ]
  },
  {
   "cell_type": "code",
   "execution_count": null,
   "metadata": {},
   "outputs": [],
   "source": [
    "\"\"\"\n",
    "    B df_coordinates cтворити нову колонку ЄДРПОУ без помилкових текстових символів\n",
    "\"\"\"\n",
    "df_coordinates['edrpou_clean'] = df_coordinates.edrpou.str.extract('(\\d+)', expand=False)\n",
    "df_coordinates['edrpou_clean'] = df_coordinates['edrpou_clean'].fillna(0)\n",
    "df_coordinates['edrpou_clean'] = pd.to_numeric(df_coordinates['edrpou_clean'])\n",
    "df_coordinates['edrpou_clean'] = df_coordinates['edrpou_clean'].astype(np.int64)"
   ]
  },
  {
   "cell_type": "code",
   "execution_count": null,
   "metadata": {},
   "outputs": [],
   "source": [
    "\"\"\"\n",
    "    Заповнення відсутніх даних в базі МОН: заміна стрінги '(null)' на \"ДНЗ\"\n",
    "\"\"\"\n",
    "df_coordinates['updated_education_type_name'] = np.where(df_coordinates.education_type_name == '(null)',\n",
    "                                              'ДНЗ', df_coordinates.education_type_name)"
   ]
  },
  {
   "cell_type": "code",
   "execution_count": null,
   "metadata": {},
   "outputs": [],
   "source": [
    "\"\"\"\n",
    "    Пошук і визначення типу закладу в колонках 'university_name' та 'updated_education_type_name'\n",
    "\"\"\"\n",
    "df_coordinates = classification_by_type_one_column(df_coordinates, ['university_name'], filter_priority, filter_name_priority, 'Тип закладу 1')\n",
    "df_coordinates = classification_by_type_one_column(df_coordinates, ['updated_education_type_name'], filter_priority, filter_name_priority, 'Тип закладу 2')\n",
    "df_coordinates['Тип закладу'] = np.where(~df_coordinates['Тип закладу 1'].str.contains('Невідомо'),\n",
    "                                           df_coordinates['Тип закладу 1'],\n",
    "                                           df_coordinates['Тип закладу 2'])\n",
    "df_coordinates['Тип закладу'] = np.where(~df_coordinates['Тип закладу'].str.contains('Невідомо'),\n",
    "                                           df_coordinates['Тип закладу'],\n",
    "                                           df_coordinates['updated_education_type_name'])\n",
    "df_coordinates['Тип закладу'] = df_coordinates['Тип закладу'].str.replace('загальносвітня школа', 'Загальносвітня школа')"
   ]
  },
  {
   "cell_type": "code",
   "execution_count": null,
   "metadata": {},
   "outputs": [],
   "source": [
    "\"\"\"\n",
    "    df_coordinates_numerated - виокремлення номерів шкільних закладів з бази МОН \n",
    "\"\"\"\n",
    "df_coordinates_numerated = numeration_one_column(df_coordinates, ['university_name'], reg_number)"
   ]
  },
  {
   "cell_type": "code",
   "execution_count": null,
   "metadata": {},
   "outputs": [],
   "source": [
    "\"\"\"\n",
    "    df_coordinates_named - виокремлення власні назви шкільних закладів з бази МОН.\n",
    "    Створення колонки \"id\" з визначених двома способами власної назви закладу\n",
    "\"\"\"\n",
    "df_coordinates_named = naming(df_coordinates, ['university_name'], reg_double_quotes, \"naming\")\n",
    "df_coordinates_named['Назва'] = np.where(df_coordinates_named.university_name_naming_first.notnull(),\n",
    "                                             df_coordinates_named.university_name_naming_first,\n",
    "                                             df_coordinates_named.university_name_naming_last)\n",
    "\"\"\"\n",
    "    Створення колонки \"Назва закладу\". Там, де є номер - присвоєюється номер, в інших випадках - власна назва\n",
    "\"\"\"\n",
    "df_coordinates_named['Назва закладу'] = np.where(df_coordinates_named['Номер'].str.contains('№'), \n",
    "                                               df_coordinates['Тип закладу'] + ' '+ df_coordinates_named['Номер'],\n",
    "                                               df_coordinates['Тип закладу'] + ' '+ df_coordinates_named['Назва'])\n",
    "df_coordinates_named['id'] =  df_coordinates_named.koatuu_name_short + ' ' + df_coordinates_named['Назва закладу']"
   ]
  },
  {
   "cell_type": "code",
   "execution_count": null,
   "metadata": {},
   "outputs": [],
   "source": [
    "\"\"\"    \n",
    "    Створення датафрейму df_coordinates_with_id з id як назвою закладу та унікальним ідентифікатором\n",
    "\"\"\"\n",
    "\n",
    "cols_to_include = ['id', 'Longitude', 'Latitude', 'edrpou_clean']\n",
    "df_coordinates_with_id = df_coordinates_named[cols_to_include]\n",
    "df_coordinates_with_id['id'] = df_coordinates_with_id['id'].str.replace('№ ', '№')"
   ]
  },
  {
   "cell_type": "markdown",
   "metadata": {},
   "source": [
    "##### Step 11: Об'єднання датафреймів шкіл-не-замовників та шкіл-замовників"
   ]
  },
  {
   "cell_type": "code",
   "execution_count": null,
   "metadata": {},
   "outputs": [],
   "source": [
    "\"\"\"\n",
    "df_tenders - Тендери з новими конолоками: \"city\", \"id\"\n",
    "\"\"\"\n",
    "frames = [df_tenders_by_schools, df_tenders_not_by_schools]\n",
    "df_tenders = pd.concat(frames)\n",
    "df_tenders = classification_by_type_one_column(df_tenders, ['Главный орган'], golovuj_organ_list, cities_list, 'city')\n",
    "df_tenders['id'] = df_tenders['city'] + ' ' + df_tenders['Назва закладу']\n",
    "df_tenders['id'] = df_tenders['id'].str.replace('№ ', '№')"
   ]
  },
  {
   "cell_type": "markdown",
   "metadata": {},
   "source": [
    "##### Step 12: Створення готового датафрейму шкіл-замовників"
   ]
  },
  {
   "cell_type": "code",
   "execution_count": null,
   "metadata": {},
   "outputs": [],
   "source": [
    "\"\"\"\n",
    "df_tenders_true - тендери шкіл-замовників\n",
    "\"\"\"\n",
    "df_tenders_true = df_tenders[df_tenders['Заклад-замовник'] == True]\n",
    "df_tenders_true.id = np.where(df_tenders_true.id.str.contains('Невідомо'), \n",
    "                              df_tenders_true.id.str.replace('Невідомо', filter_shkola_name), \n",
    "                              df_tenders_true.id)"
   ]
  },
  {
   "cell_type": "code",
   "execution_count": null,
   "metadata": {},
   "outputs": [],
   "source": [
    "\"\"\"\n",
    "tenders_by_schools - тендери шкіл-замовників з координатами і містом\n",
    "\"\"\"\n",
    "tenders_by_schools_completed = df_tenders_true.merge(df_coordinates_with_id, left_on='IDOrganizator', right_on='edrpou_clean')\n",
    "tenders_by_schools_completed['id'] = np.where(tenders_by_schools_completed.id_x.str.contains('Невідомо'),\n",
    "                                  tenders_by_schools_completed.id_y,\n",
    "                                  tenders_by_schools_completed.id_x)"
   ]
  },
  {
   "cell_type": "markdown",
   "metadata": {},
   "source": [
    "###### Step 13. Створення датафрейму шкіл-не-замовників"
   ]
  },
  {
   "cell_type": "code",
   "execution_count": null,
   "metadata": {},
   "outputs": [],
   "source": [
    "\"\"\"\n",
    "df_tenders_false - тендери шкіл-не-замовників\n",
    "\"\"\"\n",
    "df_tenders_false = df_tenders[df_tenders['Заклад-замовник'] == False]"
   ]
  },
  {
   "cell_type": "code",
   "execution_count": null,
   "metadata": {},
   "outputs": [],
   "source": [
    "\"\"\"\n",
    "    tenders_not_by_schools - фінальна таблиця шкіл-не-замовників\n",
    "\"\"\"\n",
    "tenders_not_by_schools = pd.merge(df_tenders_false, \n",
    "                                  df_coordinates_with_id, \n",
    "                                  on='id', \n",
    "                                  how='left')"
   ]
  },
  {
   "cell_type": "code",
   "execution_count": null,
   "metadata": {},
   "outputs": [],
   "source": [
    "# tenders_not_by_schools[tenders_not_by_schools.Latitude.isnull()]\n",
    "# len(tenders_not_by_schools[tenders_not_by_schools.Latitude.isnull()].id.unique().tolist())\n",
    "# tenders_not_by_schools[tenders_not_by_schools.Latitude.isnull()].sample(3)"
   ]
  },
  {
   "cell_type": "markdown",
   "metadata": {},
   "source": [
    "##### Step 14. Визначення координат Google Geolocator API у школах за назвою закладу в колонці 'id'"
   ]
  },
  {
   "cell_type": "code",
   "execution_count": null,
   "metadata": {},
   "outputs": [],
   "source": [
    "tenders_without_coordinates = tenders_not_by_schools[tenders_not_by_schools.Latitude.isnull()]\n",
    "tenders_without_coordinates.drop(['Longitude', 'Latitude'], axis=1, inplace = True)"
   ]
  },
  {
   "cell_type": "code",
   "execution_count": null,
   "metadata": {},
   "outputs": [],
   "source": [
    "\"\"\"\n",
    "    tenders_with_coordinates - датафрейм закупівель шкіл-не-замовників, \n",
    "    де не визначились координати раніше\n",
    "\"\"\"\n",
    "\n",
    "unique_school_names = tenders_without_coordinates.id.unique().tolist()\n",
    "df_unique_school_names = pd.DataFrame(unique_school_names, columns =['id'])\n",
    "\n",
    "# df_with_coordinates = get_coordinates(df_unique_school_names, 'id', 'Address')\n",
    "# df_with_coordinates.to_excel(\"data/coordinates/df_with_coordinates.xlsx\", index=False)\n",
    "# df_with_coordinates.to_csv(\"data/coordinates/df_with_coordinates.csv\", index=False, sep=';')\n",
    "\n",
    "df_with_coordinates = pd.read_csv('data/coordinates/df_with_coordinates.csv', sep=';')\n",
    "\n",
    "tenders_with_coordinates = pd.merge(tenders_without_coordinates, \n",
    "                                  df_with_coordinates, \n",
    "                                  on='id', \n",
    "                                  how='left')"
   ]
  },
  {
   "cell_type": "markdown",
   "metadata": {},
   "source": [
    "##### Step 15: Створення готового датафрейму шкіл-не-замовників"
   ]
  },
  {
   "cell_type": "code",
   "execution_count": null,
   "metadata": {},
   "outputs": [],
   "source": [
    "tenders_not_by_schools_completed = pd.concat([tenders_with_coordinates, tenders_not_by_schools[tenders_not_by_schools.Latitude.notnull()]])"
   ]
  },
  {
   "cell_type": "markdown",
   "metadata": {},
   "source": [
    "##### Step 16: Створення готового датафрейму всіх навчальних закладів"
   ]
  },
  {
   "cell_type": "code",
   "execution_count": null,
   "metadata": {},
   "outputs": [],
   "source": [
    "final_talbe_columns = ['id', 'city', 'Назва закладу', 'ИдентификаторЛота', 'Идентификатор', 'Организатор', 'Тендер',\n",
    "       'СуммаЛота', 'ОписаниеТендера', 'Лот', 'Адрес поставки',\n",
    "       'АдресОрганизатора', 'Главный орган', 'IDOrganizator',\n",
    "       'Заклад-замовник', 'Longitude', 'Latitude']\n",
    "\n",
    "tenders_by_schools_completed = tenders_by_schools_completed[final_talbe_columns]\n",
    "tenders_not_by_schools_completed = tenders_not_by_schools_completed[final_talbe_columns]\n",
    "\n",
    "final_df = pd.concat([tenders_by_schools_completed, tenders_not_by_schools_completed])"
   ]
  }
 ],
 "metadata": {
  "file_extension": ".py",
  "kernelspec": {
   "display_name": "Python 3",
   "language": "python",
   "name": "python3"
  },
  "language_info": {
   "codemirror_mode": {
    "name": "ipython",
    "version": 3
   },
   "file_extension": ".py",
   "mimetype": "text/x-python",
   "name": "python",
   "nbconvert_exporter": "python",
   "pygments_lexer": "ipython3",
   "version": "3.7.6"
  },
  "mimetype": "text/x-python",
  "name": "python",
  "npconvert_exporter": "python",
  "pygments_lexer": "ipython2",
  "version": 2
 },
 "nbformat": 4,
 "nbformat_minor": 2
}
