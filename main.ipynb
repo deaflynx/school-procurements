{
 "cells": [
  {
   "cell_type": "code",
   "execution_count": null,
   "outputs": [],
   "source": [
    "import importlib\n",
    "import pandas as pd\n",
    "import numpy as np\n",
    "import re\n",
    "\n",
    "from functions.functions_dataframe import * \n",
    "from parameters.filters_lists import *\n",
    "from parameters.regs import *\n",
    "\n",
    "pd.set_option(\"display.max_colwidth\", 200)"
   ],
   "metadata": {
    "collapsed": false,
    "pycharm": {
     "name": "#%%\n"
    }
   }
  },
  {
   "cell_type": "code",
   "execution_count": null,
   "outputs": [],
   "source": [
    "##### Step 1. Завантажити датафрейми ProZorro, МОН, створити список ЄДРПОУ освітніх закладів\n",
    "\"\"\" Завантажити базу закупівель ProZorro \"\"\"\n",
    "procurements = pd.read_csv('data/2019-2020.csv', sep = ';', low_memory = False)\n",
    "\"\"\" Завантажити датафрейм МОН навчальниз закладів \"\"\"\n",
    "mon_data_df = pd.read_csv('data/mon_data/MON_schools_dnz.csv', sep = ';')\n",
    "\"\"\" Створити список унікальних ЄДРПОУ освітніх закладів МОН \"\"\"\n",
    "edrpou_unique_list = mon_data_df.edrpou.unique().tolist()"
   ],
   "metadata": {
    "collapsed": false,
    "pycharm": {
     "name": "#%%\n"
    }
   }
  },
  {
   "cell_type": "code",
   "execution_count": null,
   "outputs": [],
   "source": [
    "## Опрацювання шкіл замовників\n",
    "\n",
    "### Step 2: Створити базу навчальних закладів, які самостійно купують через ProZorro\n",
    "#### Відфільтрувати базу закупівель procurements за колонкою IDOrganizator.\n",
    "#### Фільтром є список МОН з ЄДРПОУ начальних закладів edrpou_unique_list\n",
    "#### tenders_by_schools_raw - база закупівель, де навчальні заклади є замовниками\n",
    "#### procurements_undefined_1 - база невизначених закупівель ProZorro\n",
    "tenders_by_schools_raw = procurements[procurements['IDOrganizator'].isin(edrpou_unique_list)]\n",
    "tenders_by_schools_undefined_1 = procurements[~procurements['IDOrganizator'].isin(edrpou_unique_list)]\n",
    "tenders_by_schools_undefined_2 = tenders_by_schools_raw[tenders_by_schools_raw['Организатор'].str.contains('управління освіти', case=False)]\n",
    "tenders_by_schools_raw = tenders_by_schools_raw[~tenders_by_schools_raw['Организатор'].str.contains('управління освіти', case=False)]\n",
    "\n",
    "### Step 3: Класифікація шкіл-замовників по типах за колонкою \"Организатор\"\n",
    "tenders_by_schools_classified = classification_by_type_one_column(tenders_by_schools_raw, ['Организатор'], filter_priority, filter_name_priority, 'Тип закладу')\n",
    "\n",
    "### Step 4: Нумерація шкіл-замовників\n",
    "tenders_by_schools_numerated = numeration_one_column(tenders_by_schools_classified, ['Организатор'], reg_number)\n",
    "\n",
    "### Step 5: Cтворення фінальної бази шкіл замовників\n",
    "tenders_by_schools = tenders_by_schools_numerated.copy()\n",
    "tenders_by_schools['Номер'] = tenders_by_schools['Номер'].replace(r'^\\s*$', np.nan, regex=True)\n",
    "tenders_by_schools['Назва закладу'] = np.where(tenders_by_schools['Номер'].notnull(), tenders_by_schools['Тип закладу'] + ' ' + tenders_by_schools['Номер'], tenders_by_schools['Организатор'])\n",
    "\n",
    "#### Створення колонки 'Заклад-замовник'. Видалення технічних колонок, створених функціями.\n",
    "tenders_by_schools['Заклад-замовник'] = True\n",
    "col_names = procurements.columns.tolist()\n",
    "col_names += ['Заклад-замовник', 'Назва закладу']\n",
    "tenders_by_schools = tenders_by_schools[col_names]"
   ],
   "metadata": {
    "collapsed": false,
    "pycharm": {
     "name": "#%%\n"
    }
   }
  },
  {
   "cell_type": "code",
   "execution_count": null,
   "outputs": [],
   "source": [
    "## ШКОЛИ НЕ-ЗАМОВНИКИ\n",
    "\n",
    "### Step 5: Пошук закупівель шкіл-не-замовників за допомогою ключових слів\n",
    "### З-поміж датафрейму невизначених закупівель (procurements_undefined_1) за ключовими словами у списках\n",
    "### filter_keywords, filter_keywords_strict відбираються закупівлі освітніх закладів у колонках: Тендер, ОписаниеТендера, Лот \n",
    "### регулярний вираз /b{}/b шукає за ключовими словами зі списку filter_keywords_strict_extended тільки ті паттерни, де ці ключові слова є окремими, а не зустрічають всередині слів\n",
    "procurements_undefined_1 = pd.concat([tenders_by_schools_undefined_1, tenders_by_schools_undefined_2])\n",
    "tenders_not_by_schools_by_keywords = procurements_undefined_1[procurements_undefined_1['Тендер'].astype(str).str.contains(r'({})'.format('|'.join(filter_keywords)), \n",
    "            case = False, na = False, regex = True)  | \n",
    "                                                      procurements_undefined_1['ОписаниеТендера'].astype(str).str.contains(r'({})'.format('|'.join(filter_keywords)), \n",
    "            case = False, na = False, regex = True) | \n",
    "                                                      procurements_undefined_1['Лот'].astype(str).str.contains(r'({})'.format('|'.join(filter_keywords)), \n",
    "            case = False, na = False, regex = True) | procurements_undefined_1['Тендер'].astype(str).str.contains(r'(/b{}/b)'.format('|'.join(filter_keywords_strict)), \n",
    "            case = False, na = False, regex = True) | procurements_undefined_1['ОписаниеТендера'].astype(str).str.contains(r'(/b{}/b)'.format('|'.join(filter_keywords_strict)), \n",
    "            case = False, na = False, regex = True) | procurements_undefined_1['Лот'].astype(str).str.contains(r'(/b{}/b)'.format('|'.join(filter_keywords_strict)), \n",
    "            case = False, na = False, regex = True)]\n",
    "\n",
    "### Step 6: Класифікація шкіл-не-замовників за типами\n",
    "tenders_not_by_schools_classified = classification_by_type_three_cols(tenders_not_by_schools_by_keywords,\n",
    "                                                                         ['Тендер', 'ОписаниеТендера', 'Лот'], \n",
    "                                                                         filter_priority, \n",
    "                                                                         filter_name_priority)\n",
    "\n",
    "### Step 7: Нумерація шкіл-не-замовників\n",
    "#### df_step7 - датафрейм, створений із закупівель tenders_not_by_schools_classified, де був успішно визначений \"Тип закладу\"\n",
    "#### long_numeration - функція, яка створює два дафайреми:\n",
    "####    1) tenders_not_by_schools_numerated - тендери, де номер визначився\n",
    "####    2) step7_numerated_undefined - тендери, де номер не визначився\n",
    "df_step7 = tenders_not_by_schools_classified[tenders_not_by_schools_classified['Тип закладу'] != 'Невідомо'].copy()\n",
    "tenders_not_by_schools_numerated, step7_numerated_undefined = long_numeration(df_step7, reg_number)\n",
    "tenders_not_by_schools_numerated['Назва закладу'] = tenders_not_by_schools_numerated['Тип закладу'] + ' ' + tenders_not_by_schools_numerated['Номер']\n",
    "\n",
    "### Step 8: Найменування шкіл-не-замовників\n",
    "#### df_names_clean - власні назви навчальниз закладів від МОН\n",
    "#### school_names - список унікальних назв \n",
    "#### long_naming - функція, яка створює два дафайреми:\n",
    "####    1) tenders_not_by_schools_named - тендери, де номер визначився.\n",
    "####    2) tenders_not_by_schools_undefined - тендери шкіл не замовників, де не визначилась назва і номер. Такі закупівлі вважаються закупівлями управінь освіти для різних закладів.\n",
    "\n",
    "df_names_clean = pd.read_csv('data/mon_data/MON_names.csv', sep = ';')\n",
    "df_names_clean = df_names_clean[df_names_clean['Назва'].notnull()] # Видалити NaN\n",
    "school_names = df_names_clean['Назва'].unique().tolist()\n",
    "tenders_not_by_schools_named, tenders_not_by_schools_undefined = long_naming(step7_numerated_undefined, reg_double_quotes, school_names)\n",
    "tenders_not_by_schools_named['Назва закладу'] = tenders_not_by_schools_named['Тип закладу'] + ' ' + tenders_not_by_schools_named['Назва']\n",
    "\n",
    "### Step 9: Об'єднання двох датафреймів шкіл-не-замовників\n",
    "#### tenders_not_by_schools - датафрейм шкіл-не-замовників з визначеними номерами і назвами\n",
    "frames = [tenders_not_by_schools_numerated, tenders_not_by_schools_named]\n",
    "tenders_not_by_schools = pd.concat(frames)\n",
    "tenders_not_by_schools['Заклад-замовник'] = False\n",
    "tenders_not_by_schools = tenders_not_by_schools[col_names]"
   ],
   "metadata": {
    "collapsed": false,
    "pycharm": {
     "name": "#%%\n"
    }
   }
  },
  {
   "cell_type": "code",
   "execution_count": null,
   "outputs": [],
   "source": [
    "### Для дебагу\n",
    "### Треба доробити фільтрацію для шкіл замовників (tenders_by_schools), бо чимало відділів освіти сюди потрапило\n",
    "tenders_by_schools['Организатор'].value_counts()"
   ],
   "metadata": {
    "collapsed": false,
    "pycharm": {
     "name": "#%%\n"
    }
   }
  },
  {
   "cell_type": "code",
   "execution_count": null,
   "outputs": [],
   "source": [
    "### Зберегти результати окремо для шкіл замовинків і не замовників\n",
    "# tenders_by_schools.to_csv('results/tenders_by_schools.csv', sep=';', index=False)\n",
    "# tenders_not_by_schools.to_csv('results/tenders_not_by_schools.csv', sep=';', index=False)"
   ],
   "metadata": {
    "collapsed": false,
    "pycharm": {
     "name": "#%%\n"
    }
   }
  },
  {
   "cell_type": "code",
   "execution_count": null,
   "outputs": [],
   "source": [
    "## ВСІ ШКОЛИ\n",
    "\n",
    "##### Step 10: Об'єднання датафреймів шкіл-не-замовників та шкіл-замовників\n",
    "tenders_concatenated = pd.concat([tenders_by_schools, tenders_not_by_schools])\n",
    "tenders_concatenated['Назва закладу'] = tenders_concatenated['Назва закладу'].str.replace('№ ', '№')\n",
    "tenders_concatenated.to_csv('results/2020_result.csv', sep=';', index=False)"
   ],
   "metadata": {
    "collapsed": false,
    "pycharm": {
     "name": "#%%\n"
    }
   }
  }
 ],
 "metadata": {
  "file_extension": ".py",
  "kernelspec": {
   "display_name": "Python 3",
   "language": "python",
   "name": "python3"
  },
  "language_info": {
   "codemirror_mode": {
    "name": "ipython",
    "version": 3
   },
   "file_extension": ".py",
   "mimetype": "text/x-python",
   "name": "python",
   "nbconvert_exporter": "python",
   "pygments_lexer": "ipython3",
   "version": "3.7.6"
  },
  "mimetype": "text/x-python",
  "name": "python",
  "npconvert_exporter": "python",
  "pygments_lexer": "ipython2",
  "version": 2
 },
 "nbformat": 4,
 "nbformat_minor": 2
}