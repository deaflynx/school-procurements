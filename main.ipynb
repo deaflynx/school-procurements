{
 "cells": [
  {
   "cell_type": "code",
   "execution_count": 1,
   "metadata": {},
   "outputs": [],
   "source": [
    "import importlib\n",
    "import pandas as pd\n",
    "import numpy as np\n",
    "import re\n",
    "\n",
    "from functions.functions_dataframe import * \n",
    "from parameters.filters_lists import *\n",
    "from parameters.route import *\n",
    "from parameters.regs import *\n",
    "\n",
    "pd.set_option(\"display.max_colwidth\", 200)"
   ]
  },
  {
   "cell_type": "markdown",
   "metadata": {},
   "source": [
    "###### Step 1. Завантажити датафрейми ProZorro, МОН, створити список ЄДРПОУ освітніх закладів"
   ]
  },
  {
   "cell_type": "code",
   "execution_count": 13,
   "metadata": {
    "scrolled": false
   },
   "outputs": [],
   "source": [
    "\"\"\"\n",
    "Завантажити базу закупівель ProZorro (деталі у README.txt)\n",
    "\"\"\"\n",
    "df_prozorro = pd.read_csv('data/TrainingProZorroForSchoolProject20162019.csv', sep = ';', low_memory = False)"
   ]
  },
  {
   "cell_type": "code",
   "execution_count": 14,
   "metadata": {},
   "outputs": [],
   "source": [
    "\"\"\"\n",
    "Завантажити датафрейм МОН навчальниз закладів, підготовлений у \"fileter MON data.ipynb\"\n",
    "\"\"\"\n",
    "df_mon_data_bez_upravlin_osvity = pd.read_csv('data/MON_schools_dnz.csv', sep = ';')"
   ]
  },
  {
   "cell_type": "code",
   "execution_count": 15,
   "metadata": {},
   "outputs": [],
   "source": [
    "\"\"\"\n",
    "Створити список унікальних ЄДРПОУ освітніх закладів МОН\n",
    "\"\"\"\n",
    "mon_data_list = df_mon_data_bez_upravlin_osvity.edrpou.unique().tolist()"
   ]
  },
  {
   "cell_type": "markdown",
   "metadata": {},
   "source": [
    "### ШКОЛИ ЗАМОВНИКИ"
   ]
  },
  {
   "cell_type": "markdown",
   "metadata": {},
   "source": [
    "##### Step 2: Створити базу навчальних закладів, які самостійно купують через ProZorro"
   ]
  },
  {
   "cell_type": "code",
   "execution_count": 16,
   "metadata": {
    "scrolled": true
   },
   "outputs": [],
   "source": [
    "\"\"\"\n",
    "Відфільтрувати базу закупівель df_prozorro за колонкою IDOrganizator.\n",
    "Фільтром є списко МОН з ЄДРПОУ начальних закладів mon_data_list (попередній крок)\n",
    "\n",
    "df_tenders_by_schools - база закупівель, де навчальні заклади є замовниками\n",
    "df_undefined_1 - база невизначених закупівель ProZorro\n",
    "\"\"\"\n",
    "df_tenders_by_schools = df_prozorro[df_prozorro['IDOrganizator'].isin(mon_data_list)]\n",
    "df_undefined_1 = df_prozorro[~df_prozorro['IDOrganizator'].isin(mon_data_list)]"
   ]
  },
  {
   "cell_type": "markdown",
   "metadata": {},
   "source": [
    "##### Step 3: Класифікація шкіл-замовників по типах за колонкою \"Организатор\" та нумерація"
   ]
  },
  {
   "cell_type": "code",
   "execution_count": 17,
   "metadata": {
    "collapsed": true
   },
   "outputs": [
    {
     "name": "stderr",
     "output_type": "stream",
     "text": [
      "/home/artem/projects/school-procurements/functions/functions_dataframe.py:32: SettingWithCopyWarning: \n",
      "A value is trying to be set on a copy of a slice from a DataFrame.\n",
      "Try using .loc[row_indexer,col_indexer] = value instead\n",
      "\n",
      "See the caveats in the documentation: https://pandas.pydata.org/pandas-docs/stable/user_guide/indexing.html#returning-a-view-versus-a-copy\n",
      "  given_df[new_column] = \"Невідомо\"\n",
      "/home/artem/projects/school-procurements/functions/functions_dataframe.py:35: SettingWithCopyWarning: \n",
      "A value is trying to be set on a copy of a slice from a DataFrame.\n",
      "Try using .loc[row_indexer,col_indexer] = value instead\n",
      "\n",
      "See the caveats in the documentation: https://pandas.pydata.org/pandas-docs/stable/user_guide/indexing.html#returning-a-view-versus-a-copy\n",
      "  given_df[column + \"_check\"] = \"\"\n",
      "/home/artem/anaconda3/lib/python3.7/site-packages/pandas/core/strings.py:1952: UserWarning: This pattern has match groups. To actually get the groups, use str.extract.\n",
      "  return func(self, *args, **kwargs)\n",
      "/home/artem/projects/school-procurements/functions/functions_dataframe.py:41: SettingWithCopyWarning: \n",
      "A value is trying to be set on a copy of a slice from a DataFrame.\n",
      "Try using .loc[row_indexer,col_indexer] = value instead\n",
      "\n",
      "See the caveats in the documentation: https://pandas.pydata.org/pandas-docs/stable/user_guide/indexing.html#returning-a-view-versus-a-copy\n",
      "  case = False, na = False, regex = True)\n",
      "/home/artem/projects/school-procurements/functions/functions_dataframe.py:44: SettingWithCopyWarning: \n",
      "A value is trying to be set on a copy of a slice from a DataFrame.\n",
      "Try using .loc[row_indexer,col_indexer] = value instead\n",
      "\n",
      "See the caveats in the documentation: https://pandas.pydata.org/pandas-docs/stable/user_guide/indexing.html#returning-a-view-versus-a-copy\n",
      "  given_df[new_column] = np.where(given_df[column + '_check'] == True, checked_name, given_df[new_column])\n",
      "/home/artem/projects/school-procurements/functions/functions_dataframe.py:111: SettingWithCopyWarning: \n",
      "A value is trying to be set on a copy of a slice from a DataFrame.\n",
      "Try using .loc[row_indexer,col_indexer] = value instead\n",
      "\n",
      "See the caveats in the documentation: https://pandas.pydata.org/pandas-docs/stable/user_guide/indexing.html#returning-a-view-versus-a-copy\n",
      "  given_df['Номер'] = given_df[column].str.findall(f\"{regex}\", flags = re.IGNORECASE).apply(''.join)\n"
     ]
    }
   ],
   "source": [
    "df_tenders_by_schools_classified = classification_by_type_one_column(df_tenders_by_schools, ['Организатор'], filter_priority, filter_name_priority, 'Тип закладу')\n",
    "df_tenders_by_schools_numerated = numeration_one_column(df_tenders_by_schools_classified, ['Организатор'], reg_number)"
   ]
  },
  {
   "cell_type": "markdown",
   "metadata": {},
   "source": [
    "##### Step 4: Cтворення фінальної бази ШКІЛ ЗАМОВНИКІВ"
   ]
  },
  {
   "cell_type": "code",
   "execution_count": 18,
   "metadata": {},
   "outputs": [],
   "source": [
    "\"\"\"\n",
    "\"Назва закладу\" - колонка з фіналізованою назвою школи. Принцип визначення:\n",
    "    1. Якщо колонка \"Номер\" не є пустою - додається до \"Типу закладу\"\n",
    "    2. Якщо колонка \"Номер\" є пустою - \"Назва закладу\" отримує значення \"Организатор\"\n",
    "    \n",
    "* колонка \"Назва\" не враховується через високий ступінь повторюваності з \"Организатор\" і часткову точність\n",
    "\"\"\"\n",
    "df_tenders_by_schools = df_tenders_by_schools_numerated.copy()\n",
    "df_tenders_by_schools['Номер'] = df_tenders_by_schools['Номер'].replace(r'^\\s*$', np.nan, regex=True) # технічна дія: перетворити пусті строки в NaN\n",
    "df_tenders_by_schools['Назва закладу'] = np.where(df_tenders_by_schools['Номер'].notnull(), \n",
    "                                                  df_tenders_by_schools['Тип закладу'] + ' ' + df_tenders_by_schools['Номер'], \n",
    "                                                  df_tenders_by_schools['Организатор'])"
   ]
  },
  {
   "cell_type": "code",
   "execution_count": 19,
   "metadata": {},
   "outputs": [],
   "source": [
    "\"\"\"\n",
    "Створення колонки 'Заклад-замовник'\n",
    "Видалення \"технічних\" колонок, створених функціями.\n",
    "\"\"\"\n",
    "df_tenders_by_schools['Заклад-замовник'] = True\n",
    "col_names = df_prozorro.columns.tolist()\n",
    "col_names += ['Заклад-замовник', 'Назва закладу']\n",
    "df_tenders_by_schools = df_tenders_by_schools[col_names]"
   ]
  },
  {
   "cell_type": "markdown",
   "metadata": {},
   "source": [
    "### ШКОЛИ НЕ-ЗАМОВНИКИ"
   ]
  },
  {
   "cell_type": "markdown",
   "metadata": {},
   "source": [
    "##### Step 5: Пошук закупівель шкіл-не-замовників за допомогою ключових слів"
   ]
  },
  {
   "cell_type": "code",
   "execution_count": 20,
   "metadata": {},
   "outputs": [],
   "source": [
    "\"\"\"\n",
    "З-поміж датафрейму невизначених закупівель (df_undefined_1) за ключовими словами у списках filter_keywords, filter_keywords_strict \n",
    "відбираються закупівлі освітніх закладів у колонках: Тендер, ОписаниеТендера, Лот \n",
    "\n",
    "Регулярний вираз /b{}/b шукає за ключовими словами зі списку filter_keywords_strict_extended тільки \n",
    "ті паттерни, де ці ключові слова є окремими, а не зустрічають всередині слів. \n",
    "Це зменшить кількість \"брудних\" даних\n",
    "\"\"\"\n",
    "df_tenders_not_by_schools_by_keywords = df_undefined_1[df_undefined_1['Тендер'].astype(str).str.contains(r'({})'.format('|'.join(filter_keywords)), \n",
    "            case = False, na = False, regex = True)  | \n",
    "                                                      df_undefined_1['ОписаниеТендера'].astype(str).str.contains(r'({})'.format('|'.join(filter_keywords)), \n",
    "            case = False, na = False, regex = True) | \n",
    "                                                      df_undefined_1['Лот'].astype(str).str.contains(r'({})'.format('|'.join(filter_keywords)), \n",
    "            case = False, na = False, regex = True) | df_undefined_1['Тендер'].astype(str).str.contains(r'(/b{}/b)'.format('|'.join(filter_keywords_strict)), \n",
    "            case = False, na = False, regex = True) | df_undefined_1['ОписаниеТендера'].astype(str).str.contains(r'(/b{}/b)'.format('|'.join(filter_keywords_strict)), \n",
    "            case = False, na = False, regex = True) | df_undefined_1['Лот'].astype(str).str.contains(r'(/b{}/b)'.format('|'.join(filter_keywords_strict)), \n",
    "            case = False, na = False, regex = True)]"
   ]
  },
  {
   "cell_type": "markdown",
   "metadata": {},
   "source": [
    "##### Step 6: Класифікація шкіл-не-замовників за типами"
   ]
  },
  {
   "cell_type": "code",
   "execution_count": 21,
   "metadata": {
    "collapsed": true
   },
   "outputs": [
    {
     "name": "stderr",
     "output_type": "stream",
     "text": [
      "/home/artem/projects/school-procurements/functions/functions_dataframe.py:88: SettingWithCopyWarning: \n",
      "A value is trying to be set on a copy of a slice from a DataFrame.\n",
      "Try using .loc[row_indexer,col_indexer] = value instead\n",
      "\n",
      "See the caveats in the documentation: https://pandas.pydata.org/pandas-docs/stable/user_guide/indexing.html#returning-a-view-versus-a-copy\n",
      "  given_df['Тип закладу'] = \"Невідомо\"\n",
      "/home/artem/projects/school-procurements/functions/functions_dataframe.py:91: SettingWithCopyWarning: \n",
      "A value is trying to be set on a copy of a slice from a DataFrame.\n",
      "Try using .loc[row_indexer,col_indexer] = value instead\n",
      "\n",
      "See the caveats in the documentation: https://pandas.pydata.org/pandas-docs/stable/user_guide/indexing.html#returning-a-view-versus-a-copy\n",
      "  given_df[column + \"_check\"] = \"\"\n",
      "/home/artem/projects/school-procurements/functions/functions_dataframe.py:97: SettingWithCopyWarning: \n",
      "A value is trying to be set on a copy of a slice from a DataFrame.\n",
      "Try using .loc[row_indexer,col_indexer] = value instead\n",
      "\n",
      "See the caveats in the documentation: https://pandas.pydata.org/pandas-docs/stable/user_guide/indexing.html#returning-a-view-versus-a-copy\n",
      "  case = False, na = False, regex = True)\n",
      "/home/artem/projects/school-procurements/functions/functions_dataframe.py:100: SettingWithCopyWarning: \n",
      "A value is trying to be set on a copy of a slice from a DataFrame.\n",
      "Try using .loc[row_indexer,col_indexer] = value instead\n",
      "\n",
      "See the caveats in the documentation: https://pandas.pydata.org/pandas-docs/stable/user_guide/indexing.html#returning-a-view-versus-a-copy\n",
      "  given_df['Тип закладу'] = np.where((given_df['Тендер_check'] == True) | (given_df['ОписаниеТендера_check'] == True) | (given_df['Лот_check'] == True), checked_name, given_df['Тип закладу'])\n"
     ]
    }
   ],
   "source": [
    "df_tenders_not_by_schools_classified = classification_by_type_three_cols(df_tenders_not_by_schools_by_keywords,\n",
    "                                                                         ['Тендер', 'ОписаниеТендера', 'Лот'], \n",
    "                                                                         filter_priority, \n",
    "                                                                         filter_name_priority)"
   ]
  },
  {
   "cell_type": "markdown",
   "metadata": {},
   "source": [
    "##### Step 7: Нумерація шкіл-не-замовників"
   ]
  },
  {
   "cell_type": "code",
   "execution_count": 22,
   "metadata": {},
   "outputs": [],
   "source": [
    "\"\"\"\n",
    "df_step7 - датафрейм, створений із закупівель df_tenders_not_by_schools_classified, де був успішно визначений \"Тип закладу\"\n",
    "\"\"\"\n",
    "df_step7 = df_tenders_not_by_schools_classified[df_tenders_not_by_schools_classified['Тип закладу'] != 'Невідомо'].copy()"
   ]
  },
  {
   "cell_type": "code",
   "execution_count": 23,
   "metadata": {},
   "outputs": [],
   "source": [
    "\"\"\"\n",
    "Функція long_numeration створює два дафайреми:\n",
    "    df_tenders_not_by_schools_numerated - тендери, де номер визначився \n",
    "    df_step7_numerated_undefined - тендери, де номер не визначився\n",
    "\"\"\"\n",
    "df_tenders_not_by_schools_numerated, df_step7_numerated_undefined = long_numeration(df_step7, reg_number)\n",
    "df_tenders_not_by_schools_numerated['Назва закладу'] = df_tenders_not_by_schools_numerated['Тип закладу'] + ' ' + df_tenders_not_by_schools_numerated['Номер']"
   ]
  },
  {
   "cell_type": "markdown",
   "metadata": {},
   "source": [
    "##### Step 8: Найменування шкіл-не-замовників"
   ]
  },
  {
   "cell_type": "code",
   "execution_count": 24,
   "metadata": {},
   "outputs": [],
   "source": [
    "\"\"\"\n",
    "Завантажити датафрейм МОН власних назв навчальниз закладів, підготовлений у \"fileter MON data.ipynb\"\n",
    "school_names - список унікальних назв \n",
    "\"\"\"\n",
    "df_names_clean = pd.read_csv('data/MON_names.csv', sep = ';')\n",
    "df_names_clean = df_names_clean[df_names_clean['Назва'].notnull()] # Видалити NaN\n",
    "school_names = df_names_clean['Назва'].unique().tolist()"
   ]
  },
  {
   "cell_type": "code",
   "execution_count": 25,
   "metadata": {
    "collapsed": true
   },
   "outputs": [
    {
     "name": "stderr",
     "output_type": "stream",
     "text": [
      "/home/artem/projects/school-procurements/functions/functions_dataframe.py:187: SettingWithCopyWarning: \n",
      "A value is trying to be set on a copy of a slice from a DataFrame.\n",
      "Try using .loc[row_indexer,col_indexer] = value instead\n",
      "\n",
      "See the caveats in the documentation: https://pandas.pydata.org/pandas-docs/stable/user_guide/indexing.html#returning-a-view-versus-a-copy\n",
      "  df_named_undefined_1['Назва'] = np.where(df_named_undefined_1['Лот_naming_first'].astype(str).str.contains(r'^({})$'.format('|'.join(school_names)), case = False, na = False, regex = True), df_named_undefined_1['Лот_naming_first'], \"Невідомо\")\n",
      "/home/artem/projects/school-procurements/functions/functions_dataframe.py:191: SettingWithCopyWarning: \n",
      "A value is trying to be set on a copy of a slice from a DataFrame.\n",
      "Try using .loc[row_indexer,col_indexer] = value instead\n",
      "\n",
      "See the caveats in the documentation: https://pandas.pydata.org/pandas-docs/stable/user_guide/indexing.html#returning-a-view-versus-a-copy\n",
      "  df_named_undefined_2['Назва'] = np.where(df_named_undefined_2['ОписаниеТендера_naming_first'].astype(str).str.contains(r'^({})$'.format('|'.join(school_names)), case = False, na = False, regex = True), df_named_undefined_2['ОписаниеТендера_naming_first'], \"Невідомо\")\n",
      "/home/artem/projects/school-procurements/functions/functions_dataframe.py:195: SettingWithCopyWarning: \n",
      "A value is trying to be set on a copy of a slice from a DataFrame.\n",
      "Try using .loc[row_indexer,col_indexer] = value instead\n",
      "\n",
      "See the caveats in the documentation: https://pandas.pydata.org/pandas-docs/stable/user_guide/indexing.html#returning-a-view-versus-a-copy\n",
      "  df_named_undefined_3['Назва'] = np.where(df_named_undefined_3['Тендер_naming_last'].astype(str).str.contains(r'^({})$'.format('|'.join(school_names)), case = False, na = False, regex = True), df_named_undefined_3['Тендер_naming_last'], \"Невідомо\")\n"
     ]
    }
   ],
   "source": [
    "\"\"\"\n",
    "Функція long_naming створює два дафайреми:\n",
    "    df_tenders_not_by_schools_named - тендери, де номер визначився.\n",
    "    df_tenders_not_by_schools_undefined - тендери шкіл не замовників, де не визначилась назва (і номер).\n",
    "    Такі закупівлі вважаються закупівлями управінь освіти для різних закладів.\n",
    "\"\"\"\n",
    "df_tenders_not_by_schools_named, df_tenders_not_by_schools_undefined = long_naming(df_step7_numerated_undefined, reg_double_quotes, school_names)\n",
    "df_tenders_not_by_schools_named['Назва закладу'] = df_tenders_not_by_schools_named['Тип закладу'] + ' ' + df_tenders_not_by_schools_named['Назва']"
   ]
  },
  {
   "cell_type": "markdown",
   "metadata": {},
   "source": [
    "##### Step 9: Об'єднання двох датафреймів шкіл-не-замовників"
   ]
  },
  {
   "cell_type": "code",
   "execution_count": 26,
   "metadata": {},
   "outputs": [],
   "source": [
    "\"\"\"\n",
    "df_tenders_not_by_schools - датафрейм шкіл-не-замовників з визначеними номерами і назвами\n",
    "Створення колонки 'Заклад-замовник'\n",
    "\"\"\"\n",
    "frames = [df_tenders_not_by_schools_numerated, df_tenders_not_by_schools_named]\n",
    "df_tenders_not_by_schools = pd.concat(frames)\n",
    "df_tenders_not_by_schools['Заклад-замовник'] = False\n",
    "df_tenders_not_by_schools = df_tenders_not_by_schools[col_names]"
   ]
  },
  {
   "cell_type": "code",
   "execution_count": null,
   "metadata": {},
   "outputs": [],
   "source": [
    "df_tenders_not_by_schools_undefined.sample(50)"
   ]
  },
  {
   "cell_type": "markdown",
   "metadata": {},
   "source": [
    "##### Step 10. Підготовка датафрейму з координатами"
   ]
  },
  {
   "cell_type": "code",
   "execution_count": 27,
   "metadata": {},
   "outputs": [],
   "source": [
    "\"\"\"\n",
    "df_coordinates - база даних шкіл МОН з 24 містами обласних центрів України, включно з координатами\n",
    "\"\"\"\n",
    "df_coordinates = pd.read_csv('data/coordinates/coordinates_DNZ _SC.csv', sep=';')"
   ]
  },
  {
   "cell_type": "code",
   "execution_count": 28,
   "metadata": {},
   "outputs": [],
   "source": [
    "\"\"\"\n",
    "    B df_coordinates cтворити нову колонку ЄДРПОУ без помилкових текстових символів\n",
    "\"\"\"\n",
    "df_coordinates['edrpou_clean'] = df_coordinates.edrpou.str.extract('(\\d+)', expand=False)\n",
    "df_coordinates['edrpou_clean'] = df_coordinates['edrpou_clean'].fillna(0)\n",
    "df_coordinates['edrpou_clean'] = pd.to_numeric(df_coordinates['edrpou_clean'])\n",
    "df_coordinates['edrpou_clean'] = df_coordinates['edrpou_clean'].astype(np.int64)"
   ]
  },
  {
   "cell_type": "code",
   "execution_count": 29,
   "metadata": {},
   "outputs": [],
   "source": [
    "\"\"\"\n",
    "    Заповнення відсутніх даних в базі МОН: заміна стрінги '(null)' на \"ДНЗ\"\n",
    "\"\"\"\n",
    "df_coordinates['updated_education_type_name'] = np.where(df_coordinates.education_type_name == '(null)',\n",
    "                                              'ДНЗ', df_coordinates.education_type_name)"
   ]
  },
  {
   "cell_type": "code",
   "execution_count": 30,
   "metadata": {},
   "outputs": [],
   "source": [
    "\"\"\"\n",
    "    Пошук і визначення типу закладу в колонках 'university_name' та 'updated_education_type_name'\n",
    "\"\"\"\n",
    "df_coordinates = classification_by_type_one_column(df_coordinates, ['university_name'], filter_priority, filter_name_priority, 'Тип закладу 1')\n",
    "df_coordinates = classification_by_type_one_column(df_coordinates, ['updated_education_type_name'], filter_priority, filter_name_priority, 'Тип закладу 2')\n",
    "df_coordinates['Тип закладу'] = np.where(~df_coordinates['Тип закладу 1'].str.contains('Невідомо'),\n",
    "                                           df_coordinates['Тип закладу 1'],\n",
    "                                           df_coordinates['Тип закладу 2'])\n",
    "df_coordinates['Тип закладу'] = np.where(~df_coordinates['Тип закладу'].str.contains('Невідомо'),\n",
    "                                           df_coordinates['Тип закладу'],\n",
    "                                           df_coordinates['updated_education_type_name'])\n",
    "df_coordinates['Тип закладу'] = df_coordinates['Тип закладу'].str.replace('загальносвітня школа', 'Загальносвітня школа')"
   ]
  },
  {
   "cell_type": "code",
   "execution_count": 31,
   "metadata": {},
   "outputs": [],
   "source": [
    "\"\"\"\n",
    "    df_coordinates_numerated - виокремлення номерів шкільних закладів з бази МОН \n",
    "\"\"\"\n",
    "df_coordinates_numerated = numeration_one_column(df_coordinates, ['university_name'], reg_number)"
   ]
  },
  {
   "cell_type": "code",
   "execution_count": 32,
   "metadata": {},
   "outputs": [],
   "source": [
    "\"\"\"\n",
    "    df_coordinates_named - виокремлення власні назви шкільних закладів з бази МОН.\n",
    "    Створення колонки \"id\" з визначених двома способами власної назви закладу\n",
    "\"\"\"\n",
    "df_coordinates_named = naming(df_coordinates, ['university_name'], reg_double_quotes, \"naming\")\n",
    "df_coordinates_named['Назва'] = np.where(df_coordinates_named.university_name_naming_first.notnull(),\n",
    "                                             df_coordinates_named.university_name_naming_first,\n",
    "                                             df_coordinates_named.university_name_naming_last)\n",
    "\"\"\"\n",
    "    Створення колонки \"Назва закладу\". Там, де є номер - присвоєюється номер, в інших випадках - власна назва\n",
    "\"\"\"\n",
    "df_coordinates_named['Назва закладу'] = np.where(df_coordinates_named['Номер'].str.contains('№'), \n",
    "                                               df_coordinates['Тип закладу'] + ' '+ df_coordinates_named['Номер'],\n",
    "                                               df_coordinates['Тип закладу'] + ' '+ df_coordinates_named['Назва'])\n",
    "df_coordinates_named['id'] =  df_coordinates_named.koatuu_name_short + ' ' + df_coordinates_named['Назва закладу']"
   ]
  },
  {
   "cell_type": "code",
   "execution_count": 33,
   "metadata": {},
   "outputs": [
    {
     "name": "stderr",
     "output_type": "stream",
     "text": [
      "/home/artem/.local/lib/python3.7/site-packages/ipykernel_launcher.py:7: SettingWithCopyWarning: \n",
      "A value is trying to be set on a copy of a slice from a DataFrame.\n",
      "Try using .loc[row_indexer,col_indexer] = value instead\n",
      "\n",
      "See the caveats in the documentation: https://pandas.pydata.org/pandas-docs/stable/user_guide/indexing.html#returning-a-view-versus-a-copy\n",
      "  import sys\n"
     ]
    }
   ],
   "source": [
    "\"\"\"    \n",
    "    Створення датафрейму df_coordinates_with_id з id як назвою закладу та унікальним ідентифікатором\n",
    "\"\"\"\n",
    "\n",
    "cols_to_include = ['id', 'Longitude', 'Latitude', 'edrpou_clean']\n",
    "df_coordinates_with_id = df_coordinates_named[cols_to_include]\n",
    "df_coordinates_with_id['id'] = df_coordinates_with_id['id'].str.replace('№ ', '№')"
   ]
  },
  {
   "cell_type": "markdown",
   "metadata": {},
   "source": [
    "##### Step 11: Об'єднання датафреймів шкіл-не-замовників та шкіл-замовників"
   ]
  },
  {
   "cell_type": "code",
   "execution_count": 34,
   "metadata": {},
   "outputs": [],
   "source": [
    "\"\"\"\n",
    "df_tenders - Тендери з новими конолоками: \"city\", \"id\"\n",
    "\"\"\"\n",
    "frames = [df_tenders_by_schools, df_tenders_not_by_schools]\n",
    "df_tenders = pd.concat(frames)\n",
    "df_tenders = classification_by_type_one_column(df_tenders, ['Главный орган'], golovuj_organ_list, cities_list, 'city')\n",
    "df_tenders['id'] = df_tenders['city'] + ' ' + df_tenders['Назва закладу']\n",
    "df_tenders['id'] = df_tenders['id'].str.replace('№ ', '№')"
   ]
  },
  {
   "cell_type": "markdown",
   "metadata": {},
   "source": [
    "##### Step 12: Створення готового датафрейму шкіл-замовників"
   ]
  },
  {
   "cell_type": "code",
   "execution_count": 35,
   "metadata": {
    "collapsed": true
   },
   "outputs": [
    {
     "name": "stderr",
     "output_type": "stream",
     "text": [
      "/home/artem/anaconda3/lib/python3.7/site-packages/pandas/core/generic.py:5303: SettingWithCopyWarning: \n",
      "A value is trying to be set on a copy of a slice from a DataFrame.\n",
      "Try using .loc[row_indexer,col_indexer] = value instead\n",
      "\n",
      "See the caveats in the documentation: https://pandas.pydata.org/pandas-docs/stable/user_guide/indexing.html#returning-a-view-versus-a-copy\n",
      "  self[name] = value\n"
     ]
    }
   ],
   "source": [
    "\"\"\"\n",
    "df_tenders_true - тендери шкіл-замовників\n",
    "\"\"\"\n",
    "df_tenders_true = df_tenders[df_tenders['Заклад-замовник'] == True]\n",
    "df_tenders_true.id = np.where(df_tenders_true.id.str.contains('Невідомо'), \n",
    "                              df_tenders_true.id.str.replace('Невідомо', filter_shkola_name), \n",
    "                              df_tenders_true.id)"
   ]
  },
  {
   "cell_type": "code",
   "execution_count": 36,
   "metadata": {},
   "outputs": [],
   "source": [
    "\"\"\"\n",
    "tenders_by_schools - тендери шкіл-замовників з координатами і містом\n",
    "\"\"\"\n",
    "tenders_by_schools_completed = df_tenders_true.merge(df_coordinates_with_id, left_on='IDOrganizator', right_on='edrpou_clean')\n",
    "tenders_by_schools_completed['id'] = np.where(tenders_by_schools_completed.id_x.str.contains('Невідомо'),\n",
    "                                  tenders_by_schools_completed.id_y,\n",
    "                                  tenders_by_schools_completed.id_x)"
   ]
  },
  {
   "cell_type": "code",
   "execution_count": 82,
   "metadata": {},
   "outputs": [
    {
     "data": {
      "text/plain": [
       "(30514, 17)"
      ]
     },
     "execution_count": 82,
     "metadata": {},
     "output_type": "execute_result"
    }
   ],
   "source": [
    "tenders_by_schools_completed_2 = tenders_by_schools_completed.drop_duplicates(subset=['ИдентификаторЛота'])\n",
    "tenders_by_schools_completed_2.shape"
   ]
  },
  {
   "cell_type": "code",
   "execution_count": 83,
   "metadata": {},
   "outputs": [
    {
     "data": {
      "text/plain": [
       "(33498, 17)"
      ]
     },
     "execution_count": 83,
     "metadata": {},
     "output_type": "execute_result"
    }
   ],
   "source": [
    "tenders_by_schools_completed.shape"
   ]
  },
  {
   "cell_type": "markdown",
   "metadata": {},
   "source": [
    "###### Step 13. Створення датафрейму шкіл-не-замовників"
   ]
  },
  {
   "cell_type": "code",
   "execution_count": 37,
   "metadata": {},
   "outputs": [],
   "source": [
    "\"\"\"\n",
    "df_tenders_false - тендери шкіл-не-замовників\n",
    "\"\"\"\n",
    "df_tenders_false = df_tenders[df_tenders['Заклад-замовник'] == False]"
   ]
  },
  {
   "cell_type": "code",
   "execution_count": 38,
   "metadata": {},
   "outputs": [],
   "source": [
    "\"\"\"\n",
    "    tenders_not_by_schools - фінальна таблиця шкіл-не-замовників\n",
    "\"\"\"\n",
    "tenders_not_by_schools = pd.merge(df_tenders_false, \n",
    "                                  df_coordinates_with_id, \n",
    "                                  on='id', \n",
    "                                  how='left')"
   ]
  },
  {
   "cell_type": "code",
   "execution_count": null,
   "metadata": {},
   "outputs": [],
   "source": [
    "# tenders_not_by_schools[tenders_not_by_schools.Latitude.isnull()]\n",
    "# len(tenders_not_by_schools[tenders_not_by_schools.Latitude.isnull()].id.unique().tolist())\n",
    "# tenders_not_by_schools[tenders_not_by_schools.Latitude.isnull()].sample(3)"
   ]
  },
  {
   "cell_type": "markdown",
   "metadata": {},
   "source": [
    "##### Step 14. Визначення координат Google Geolocator API у школах за назвою закладу в колонці 'id'"
   ]
  },
  {
   "cell_type": "code",
   "execution_count": 42,
   "metadata": {
    "collapsed": true
   },
   "outputs": [
    {
     "name": "stderr",
     "output_type": "stream",
     "text": [
      "/home/artem/anaconda3/lib/python3.7/site-packages/pandas/core/frame.py:3997: SettingWithCopyWarning: \n",
      "A value is trying to be set on a copy of a slice from a DataFrame\n",
      "\n",
      "See the caveats in the documentation: https://pandas.pydata.org/pandas-docs/stable/user_guide/indexing.html#returning-a-view-versus-a-copy\n",
      "  errors=errors,\n"
     ]
    }
   ],
   "source": [
    "tenders_without_coordinates = tenders_not_by_schools[tenders_not_by_schools.Latitude.isnull()]\n",
    "tenders_without_coordinates.drop(['Longitude', 'Latitude'], axis=1, inplace = True)"
   ]
  },
  {
   "cell_type": "code",
   "execution_count": 43,
   "metadata": {},
   "outputs": [],
   "source": [
    "\"\"\"\n",
    "    tenders_with_coordinates - датафрейм закупівель шкіл-не-замовників, \n",
    "    де не визначились координати раніше\n",
    "\"\"\"\n",
    "\n",
    "unique_school_names = tenders_without_coordinates.id.unique().tolist()\n",
    "df_unique_school_names = pd.DataFrame(unique_school_names, columns =['id'])\n",
    "\n",
    "# df_with_coordinates = get_coordinates(df_unique_school_names, 'id', 'Address')\n",
    "# df_with_coordinates.to_excel(\"data/coordinates/df_with_coordinates.xlsx\", index=False)\n",
    "# df_with_coordinates.to_csv(\"data/coordinates/df_with_coordinates.csv\", index=False, sep=';')\n",
    "\n",
    "df_with_coordinates = pd.read_csv('data/coordinates/df_with_coordinates.csv', sep=';')\n",
    "\n",
    "tenders_with_coordinates = pd.merge(tenders_without_coordinates, \n",
    "                                  df_with_coordinates, \n",
    "                                  on='id', \n",
    "                                  how='left')"
   ]
  },
  {
   "cell_type": "markdown",
   "metadata": {},
   "source": [
    "##### Step 15: Створення готового датафрейму шкіл-не-замовників"
   ]
  },
  {
   "cell_type": "code",
   "execution_count": 44,
   "metadata": {},
   "outputs": [],
   "source": [
    "tenders_not_by_schools_completed = pd.concat([tenders_with_coordinates, tenders_not_by_schools[tenders_not_by_schools.Latitude.notnull()]])"
   ]
  },
  {
   "cell_type": "markdown",
   "metadata": {},
   "source": [
    "##### Step 16: Створення готового датафрейму всіх навчальних закладів"
   ]
  },
  {
   "cell_type": "code",
   "execution_count": 45,
   "metadata": {},
   "outputs": [],
   "source": [
    "final_talbe_columns = ['id', 'city', 'Назва закладу', 'ИдентификаторЛота', 'Идентификатор', 'Организатор', 'Тендер',\n",
    "       'СуммаЛота', 'ОписаниеТендера', 'Лот', 'Адрес поставки',\n",
    "       'АдресОрганизатора', 'Главный орган', 'IDOrganizator',\n",
    "       'Заклад-замовник', 'Longitude', 'Latitude']\n",
    "\n",
    "tenders_by_schools_completed = tenders_by_schools_completed[final_talbe_columns]\n",
    "tenders_not_by_schools_completed = tenders_not_by_schools_completed[final_talbe_columns]\n",
    "\n",
    "final_df = pd.concat([tenders_by_schools_completed, tenders_not_by_schools_completed])"
   ]
  },
  {
   "cell_type": "markdown",
   "metadata": {},
   "source": [
    "### DEBUG COORDINATES"
   ]
  },
  {
   "cell_type": "code",
   "execution_count": 76,
   "metadata": {},
   "outputs": [
    {
     "data": {
      "text/plain": [
       "(53577, 17)"
      ]
     },
     "execution_count": 76,
     "metadata": {},
     "output_type": "execute_result"
    }
   ],
   "source": [
    "final_df.shape"
   ]
  },
  {
   "cell_type": "code",
   "execution_count": 47,
   "metadata": {},
   "outputs": [
    {
     "data": {
      "text/plain": [
       "30.6153935           608\n",
       "30.42124179999999    542\n",
       "34.9180679           404\n",
       "34.77950149999999    310\n",
       "27.0172632           298\n",
       "                    ... \n",
       "30.3672618             1\n",
       "35.221224              1\n",
       "24.0039323             1\n",
       "30.54922449999999      1\n",
       "23.9891794             1\n",
       "Name: Longitude, Length: 3702, dtype: int64"
      ]
     },
     "execution_count": 47,
     "metadata": {},
     "output_type": "execute_result"
    }
   ],
   "source": [
    "final_df.Longitude.value_counts()"
   ]
  },
  {
   "cell_type": "code",
   "execution_count": 49,
   "metadata": {},
   "outputs": [
    {
     "data": {
      "text/plain": [
       "Index(['id', 'city', 'Назва закладу', 'ИдентификаторЛота', 'Идентификатор',\n",
       "       'Организатор', 'Тендер', 'СуммаЛота', 'ОписаниеТендера', 'Лот',\n",
       "       'Адрес поставки', 'АдресОрганизатора', 'Главный орган', 'IDOrganizator',\n",
       "       'Заклад-замовник', 'Longitude', 'Latitude'],\n",
       "      dtype='object')"
      ]
     },
     "execution_count": 49,
     "metadata": {},
     "output_type": "execute_result"
    }
   ],
   "source": [
    "final_df.columns"
   ]
  },
  {
   "cell_type": "code",
   "execution_count": 57,
   "metadata": {
    "collapsed": true
   },
   "outputs": [
    {
     "data": {
      "text/html": [
       "<div>\n",
       "<style scoped>\n",
       "    .dataframe tbody tr th:only-of-type {\n",
       "        vertical-align: middle;\n",
       "    }\n",
       "\n",
       "    .dataframe tbody tr th {\n",
       "        vertical-align: top;\n",
       "    }\n",
       "\n",
       "    .dataframe thead th {\n",
       "        text-align: right;\n",
       "    }\n",
       "</style>\n",
       "<table border=\"1\" class=\"dataframe\">\n",
       "  <thead>\n",
       "    <tr style=\"text-align: right;\">\n",
       "      <th></th>\n",
       "      <th>id</th>\n",
       "      <th>city</th>\n",
       "      <th>Назва закладу</th>\n",
       "      <th>ИдентификаторЛота</th>\n",
       "      <th>Идентификатор</th>\n",
       "      <th>Организатор</th>\n",
       "      <th>Тендер</th>\n",
       "      <th>СуммаЛота</th>\n",
       "      <th>ОписаниеТендера</th>\n",
       "      <th>Лот</th>\n",
       "      <th>Адрес поставки</th>\n",
       "      <th>АдресОрганизатора</th>\n",
       "      <th>Главный орган</th>\n",
       "      <th>IDOrganizator</th>\n",
       "      <th>Заклад-замовник</th>\n",
       "      <th>Longitude</th>\n",
       "      <th>Latitude</th>\n",
       "    </tr>\n",
       "  </thead>\n",
       "  <tbody>\n",
       "    <tr>\n",
       "      <th>1710</th>\n",
       "      <td>Запоріжжя ДНЗ №1849</td>\n",
       "      <td>Запоріжжя</td>\n",
       "      <td>ДНЗ № 1849</td>\n",
       "      <td>UA-2018-08-23-000199-b-L1</td>\n",
       "      <td>UA-2018-08-23-000199-b</td>\n",
       "      <td>Територіальний відділ освіти Заводського району департаменту освіти і науки Запорізької міської ради</td>\n",
       "      <td>Послуги з розробки проектно-кошторисної документації для об\"єкта: заклад дошкільної освіти (ясла-садок) № 256 \"Пролісок\" (код ДК 021:2015 - 71320000-7 Послуги з інженерного проектування), а саме р...</td>\n",
       "      <td>50294.36</td>\n",
       "      <td>додаток до річного плану, додаткові кошти, довідка № 1849 від 14.08.2018</td>\n",
       "      <td>Послуги з розробки проектно-кошторисної документації для об\"єкта: заклад дошкільної освіти (ясла-садок) № 256 \"Пролісок\" (код ДК 021:2015 - 71320000-7 Послуги з інженерного проектування), а саме р...</td>\n",
       "      <td>вул.Історична,30</td>\n",
       "      <td>вул. Радіаторна, 49</td>\n",
       "      <td>Запорізька міська рада</td>\n",
       "      <td>37611443</td>\n",
       "      <td>False</td>\n",
       "      <td>35.2227</td>\n",
       "      <td>47.8628</td>\n",
       "    </tr>\n",
       "  </tbody>\n",
       "</table>\n",
       "</div>"
      ],
      "text/plain": [
       "                       id       city Назва закладу          ИдентификаторЛота  \\\n",
       "1710  Запоріжжя ДНЗ №1849  Запоріжжя    ДНЗ № 1849  UA-2018-08-23-000199-b-L1   \n",
       "\n",
       "               Идентификатор  \\\n",
       "1710  UA-2018-08-23-000199-b   \n",
       "\n",
       "                                                                                               Организатор  \\\n",
       "1710  Територіальний відділ освіти Заводського району департаменту освіти і науки Запорізької міської ради   \n",
       "\n",
       "                                                                                                                                                                                                       Тендер  \\\n",
       "1710  Послуги з розробки проектно-кошторисної документації для об\"єкта: заклад дошкільної освіти (ясла-садок) № 256 \"Пролісок\" (код ДК 021:2015 - 71320000-7 Послуги з інженерного проектування), а саме р...   \n",
       "\n",
       "     СуммаЛота  \\\n",
       "1710  50294.36   \n",
       "\n",
       "                                                               ОписаниеТендера  \\\n",
       "1710  додаток до річного плану, додаткові кошти, довідка № 1849 від 14.08.2018   \n",
       "\n",
       "                                                                                                                                                                                                          Лот  \\\n",
       "1710  Послуги з розробки проектно-кошторисної документації для об\"єкта: заклад дошкільної освіти (ясла-садок) № 256 \"Пролісок\" (код ДК 021:2015 - 71320000-7 Послуги з інженерного проектування), а саме р...   \n",
       "\n",
       "        Адрес поставки    АдресОрганизатора           Главный орган  \\\n",
       "1710  вул.Історична,30  вул. Радіаторна, 49  Запорізька міська рада   \n",
       "\n",
       "      IDOrganizator  Заклад-замовник Longitude Latitude  \n",
       "1710       37611443            False   35.2227  47.8628  "
      ]
     },
     "execution_count": 57,
     "metadata": {},
     "output_type": "execute_result"
    }
   ],
   "source": [
    "final_df[final_df['ИдентификаторЛота'].str.contains('UA-2018-08-23-000199-b-L1')]"
   ]
  },
  {
   "cell_type": "code",
   "execution_count": 59,
   "metadata": {
    "collapsed": true
   },
   "outputs": [
    {
     "data": {
      "text/html": [
       "<div>\n",
       "<style scoped>\n",
       "    .dataframe tbody tr th:only-of-type {\n",
       "        vertical-align: middle;\n",
       "    }\n",
       "\n",
       "    .dataframe tbody tr th {\n",
       "        vertical-align: top;\n",
       "    }\n",
       "\n",
       "    .dataframe thead th {\n",
       "        text-align: right;\n",
       "    }\n",
       "</style>\n",
       "<table border=\"1\" class=\"dataframe\">\n",
       "  <thead>\n",
       "    <tr style=\"text-align: right;\">\n",
       "      <th></th>\n",
       "      <th>id</th>\n",
       "      <th>city</th>\n",
       "      <th>Назва закладу</th>\n",
       "      <th>ИдентификаторЛота</th>\n",
       "      <th>Идентификатор</th>\n",
       "      <th>Организатор</th>\n",
       "      <th>Тендер</th>\n",
       "      <th>СуммаЛота</th>\n",
       "      <th>ОписаниеТендера</th>\n",
       "      <th>Лот</th>\n",
       "      <th>Адрес поставки</th>\n",
       "      <th>АдресОрганизатора</th>\n",
       "      <th>Главный орган</th>\n",
       "      <th>IDOrganizator</th>\n",
       "      <th>Заклад-замовник</th>\n",
       "      <th>Longitude</th>\n",
       "      <th>Latitude</th>\n",
       "    </tr>\n",
       "  </thead>\n",
       "  <tbody>\n",
       "    <tr>\n",
       "      <th>4849</th>\n",
       "      <td>Київ Навчально-виховний комплекс (об'єднання) №204</td>\n",
       "      <td>Київ</td>\n",
       "      <td>Навчально-виховний комплекс (об'єднання) №204</td>\n",
       "      <td>UA-2017-01-05-000548-c-L1</td>\n",
       "      <td>UA-2017-01-05-000548-c</td>\n",
       "      <td>Навчально-виховний комплекс «Домінанта» (дошкільний навчальний заклад - спеціалізована школа І ступеня - суспільно-гуманітарна гімназія – СШ №204  з поглибленим вивченням фізичної культури)</td>\n",
       "      <td>Яловичина без кістки (охолоджена)</td>\n",
       "      <td>170000</td>\n",
       "      <td>Детальний опис предмета закупівлі, технічні вимоги, якісні характеристики та зразок заповнення договору знаходяться в тендерній документації (файл Відкорегована документація 15111100-0 Яловичина)</td>\n",
       "      <td>Яловичина без кістки (охолоджена)</td>\n",
       "      <td>Юності, 3, Юності, 1, Бойченка, 16А</td>\n",
       "      <td>вулиця Юності, будинок, 3</td>\n",
       "      <td>КМДА</td>\n",
       "      <td>22875220</td>\n",
       "      <td>True</td>\n",
       "      <td>30.6153935</td>\n",
       "      <td>50.46384579999999</td>\n",
       "    </tr>\n",
       "    <tr>\n",
       "      <th>4850</th>\n",
       "      <td>Київ Навчально-виховний комплекс (об'єднання) №204</td>\n",
       "      <td>Київ</td>\n",
       "      <td>Навчально-виховний комплекс (об'єднання) №204</td>\n",
       "      <td>UA-2017-01-05-000548-c-L1</td>\n",
       "      <td>UA-2017-01-05-000548-c</td>\n",
       "      <td>Навчально-виховний комплекс «Домінанта» (дошкільний навчальний заклад - спеціалізована школа І ступеня - суспільно-гуманітарна гімназія – СШ №204  з поглибленим вивченням фізичної культури)</td>\n",
       "      <td>Яловичина без кістки (охолоджена)</td>\n",
       "      <td>170000</td>\n",
       "      <td>Детальний опис предмета закупівлі, технічні вимоги, якісні характеристики та зразок заповнення договору знаходяться в тендерній документації (файл Відкорегована документація 15111100-0 Яловичина)</td>\n",
       "      <td>Яловичина без кістки (охолоджена)</td>\n",
       "      <td>Юності, 3, Юності, 1, Бойченка, 16А</td>\n",
       "      <td>вулиця Юності, будинок, 3</td>\n",
       "      <td>КМДА</td>\n",
       "      <td>22875220</td>\n",
       "      <td>True</td>\n",
       "      <td>30.6153935</td>\n",
       "      <td>50.46384579999999</td>\n",
       "    </tr>\n",
       "    <tr>\n",
       "      <th>4851</th>\n",
       "      <td>Київ Навчально-виховний комплекс (об'єднання) №204</td>\n",
       "      <td>Київ</td>\n",
       "      <td>Навчально-виховний комплекс (об'єднання) №204</td>\n",
       "      <td>UA-2017-05-11-001428-b-L1</td>\n",
       "      <td>UA-2017-05-11-001428-b</td>\n",
       "      <td>Навчально-виховний комплекс «Домінанта» (дошкільний навчальний заклад - спеціалізована школа І ступеня - суспільно-гуманітарна гімназія – СШ №204  з поглибленим вивченням фізичної культури)</td>\n",
       "      <td>Кухонне приладдя (посуд столовий)</td>\n",
       "      <td>22000</td>\n",
       "      <td>Детальний опис предмета закупівлі, технічні та якісні характеристики, кількість, а також проект договору знаходяться в тендерній документації</td>\n",
       "      <td>Кухонне приладдя (посуд столовий)</td>\n",
       "      <td>Юності, 3</td>\n",
       "      <td>вулиця Юності, будинок, 3</td>\n",
       "      <td>КМДА</td>\n",
       "      <td>22875220</td>\n",
       "      <td>True</td>\n",
       "      <td>30.6153935</td>\n",
       "      <td>50.46384579999999</td>\n",
       "    </tr>\n",
       "    <tr>\n",
       "      <th>4852</th>\n",
       "      <td>Київ Навчально-виховний комплекс (об'єднання) №204</td>\n",
       "      <td>Київ</td>\n",
       "      <td>Навчально-виховний комплекс (об'єднання) №204</td>\n",
       "      <td>UA-2017-05-11-001428-b-L1</td>\n",
       "      <td>UA-2017-05-11-001428-b</td>\n",
       "      <td>Навчально-виховний комплекс «Домінанта» (дошкільний навчальний заклад - спеціалізована школа І ступеня - суспільно-гуманітарна гімназія – СШ №204  з поглибленим вивченням фізичної культури)</td>\n",
       "      <td>Кухонне приладдя (посуд столовий)</td>\n",
       "      <td>22000</td>\n",
       "      <td>Детальний опис предмета закупівлі, технічні та якісні характеристики, кількість, а також проект договору знаходяться в тендерній документації</td>\n",
       "      <td>Кухонне приладдя (посуд столовий)</td>\n",
       "      <td>Юності, 3</td>\n",
       "      <td>вулиця Юності, будинок, 3</td>\n",
       "      <td>КМДА</td>\n",
       "      <td>22875220</td>\n",
       "      <td>True</td>\n",
       "      <td>30.6153935</td>\n",
       "      <td>50.46384579999999</td>\n",
       "    </tr>\n",
       "    <tr>\n",
       "      <th>4853</th>\n",
       "      <td>Київ Навчально-виховний комплекс (об'єднання) №204</td>\n",
       "      <td>Київ</td>\n",
       "      <td>Навчально-виховний комплекс (об'єднання) №204</td>\n",
       "      <td>UA-2017-10-11-001674-b-L1</td>\n",
       "      <td>UA-2017-10-11-001674-b</td>\n",
       "      <td>Навчально-виховний комплекс «Домінанта» (дошкільний навчальний заклад - спеціалізована школа І ступеня - суспільно-гуманітарна гімназія – СШ №204  з поглибленим вивченням фізичної культури)</td>\n",
       "      <td>Поточний ремонт, утеплення фасаду суспільно-гуманітарної гімназії  НВК \"Домінанта\" управління освіти Дніпровської районної в місті Києві державної адміністрації за адресою: вул.Юності,1</td>\n",
       "      <td>250000</td>\n",
       "      <td>Поточний ремонт, утеплення фасаду суспільно-гуманітарної гімназії  НВК \"Домінанта\" управління освіти Дніпровської районної в місті Києві державної адміністрації за адресою: вул.Юності,1</td>\n",
       "      <td>Поточний ремонт, утеплення фасаду суспільно-гуманітарної гімназії  НВК \"Домінанта\" управління освіти Дніпровської районної в місті Києві державної адміністрації за адресою: вул.Юності,1</td>\n",
       "      <td>вул.Юності,1</td>\n",
       "      <td>вулиця Юності, будинок, 3</td>\n",
       "      <td>КМДА</td>\n",
       "      <td>22875220</td>\n",
       "      <td>True</td>\n",
       "      <td>30.6153935</td>\n",
       "      <td>50.46384579999999</td>\n",
       "    </tr>\n",
       "    <tr>\n",
       "      <th>...</th>\n",
       "      <td>...</td>\n",
       "      <td>...</td>\n",
       "      <td>...</td>\n",
       "      <td>...</td>\n",
       "      <td>...</td>\n",
       "      <td>...</td>\n",
       "      <td>...</td>\n",
       "      <td>...</td>\n",
       "      <td>...</td>\n",
       "      <td>...</td>\n",
       "      <td>...</td>\n",
       "      <td>...</td>\n",
       "      <td>...</td>\n",
       "      <td>...</td>\n",
       "      <td>...</td>\n",
       "      <td>...</td>\n",
       "      <td>...</td>\n",
       "    </tr>\n",
       "    <tr>\n",
       "      <th>12247</th>\n",
       "      <td>Київ Навчально-виховний комплекс (об'єднання) №204</td>\n",
       "      <td>Київ</td>\n",
       "      <td>Навчально-виховний комплекс (об'єднання) № 204</td>\n",
       "      <td>UA-2019-10-21-002199-b-L1</td>\n",
       "      <td>UA-2019-10-21-002199-b</td>\n",
       "      <td>КП \"Група впровадження проекту з енергозбереження в адміністративних і громадських будівлях м. Києва\"</td>\n",
       "      <td>Виконання будівельно-монтажних робіт з капітального ремонту (покрівлі) навчально-виховного комплексу \"Домінанта\" (Дошкільний навчальний заклад - спеціалізована школа І ст.- суспільно-гуманітарна г...</td>\n",
       "      <td>271731.6</td>\n",
       "      <td></td>\n",
       "      <td>Виконання будівельно-монтажних робіт з капітального ремонту (покрівлі) навчально-виховного комплексу \"Домінанта\" (Дошкільний навчальний заклад - спеціалізована школа І ст.- суспільно-гуманітарна г...</td>\n",
       "      <td>вул. Олександра Бойченка, 9-А</td>\n",
       "      <td>вул. Богдана Хмельницького, 3а</td>\n",
       "      <td>КМДА</td>\n",
       "      <td>25772436</td>\n",
       "      <td>False</td>\n",
       "      <td>30.6153935</td>\n",
       "      <td>50.46384579999999</td>\n",
       "    </tr>\n",
       "    <tr>\n",
       "      <th>13165</th>\n",
       "      <td>Київ Навчально-виховний комплекс (об'єднання) №204</td>\n",
       "      <td>Київ</td>\n",
       "      <td>Навчально-виховний комплекс (об'єднання) № 204</td>\n",
       "      <td>UA-2019-08-30-002134-a-L1</td>\n",
       "      <td>UA-2019-08-30-002134-a</td>\n",
       "      <td>КП \"Група впровадження проекту з енергозбереження в адміністративних і громадських будівлях м. Києва\"</td>\n",
       "      <td>Виконання будівельно-монтажних робіт з капітального ремонту (спортивних залів та допоміжних приміщень) навчально-виховного комплексу «Домінанта» (Дошкільного навчального заклад-спеціалізованої шко...</td>\n",
       "      <td>1095440.4</td>\n",
       "      <td></td>\n",
       "      <td>Виконання будівельно-монтажних робіт з капітального ремонту (спортивних залів та допоміжних приміщень) навчально-виховного комплексу «Домінанта» (Дошкільного навчального заклад-спеціалізованої шко...</td>\n",
       "      <td>вулиця Юності, 3</td>\n",
       "      <td>вул. Богдана Хмельницького, 3а</td>\n",
       "      <td>КМДА</td>\n",
       "      <td>25772436</td>\n",
       "      <td>False</td>\n",
       "      <td>30.6153935</td>\n",
       "      <td>50.46384579999999</td>\n",
       "    </tr>\n",
       "    <tr>\n",
       "      <th>13166</th>\n",
       "      <td>Київ Навчально-виховний комплекс (об'єднання) №204</td>\n",
       "      <td>Київ</td>\n",
       "      <td>Навчально-виховний комплекс (об'єднання) № 204</td>\n",
       "      <td>UA-2019-08-30-002134-a-L1</td>\n",
       "      <td>UA-2019-08-30-002134-a</td>\n",
       "      <td>КП \"Група впровадження проекту з енергозбереження в адміністративних і громадських будівлях м. Києва\"</td>\n",
       "      <td>Виконання будівельно-монтажних робіт з капітального ремонту (спортивних залів та допоміжних приміщень) навчально-виховного комплексу «Домінанта» (Дошкільного навчального заклад-спеціалізованої шко...</td>\n",
       "      <td>1095440.4</td>\n",
       "      <td></td>\n",
       "      <td>Виконання будівельно-монтажних робіт з капітального ремонту (спортивних залів та допоміжних приміщень) навчально-виховного комплексу «Домінанта» (Дошкільного навчального заклад-спеціалізованої шко...</td>\n",
       "      <td>вулиця Юності, 3</td>\n",
       "      <td>вул. Богдана Хмельницького, 3а</td>\n",
       "      <td>КМДА</td>\n",
       "      <td>25772436</td>\n",
       "      <td>False</td>\n",
       "      <td>30.6153935</td>\n",
       "      <td>50.46384579999999</td>\n",
       "    </tr>\n",
       "    <tr>\n",
       "      <th>14008</th>\n",
       "      <td>Київ Навчально-виховний комплекс (об'єднання) №204</td>\n",
       "      <td>Київ</td>\n",
       "      <td>Навчально-виховний комплекс (об'єднання) № 204</td>\n",
       "      <td>UA-2019-07-18-003023-b-L1</td>\n",
       "      <td>UA-2019-07-18-003023-b</td>\n",
       "      <td>Управління будівництва Дніпровської районної в місті Києві державної адміністрації</td>\n",
       "      <td>капітальний ремонт покрівель Навчально-виховного комплексу «Домінанта» (дошкільного навчального закладу – спеціалізованої школи І ступеня – суспільно-гуманітарної гімназії – спеціалізованої школи ...</td>\n",
       "      <td>300000</td>\n",
       "      <td>капітальний ремонт покрівель Навчально-виховного комплексу «Домінанта» (дошкільного навчального закладу – спеціалізованої школи І ступеня – суспільно-гуманітарної гімназії – спеціалізованої школи ...</td>\n",
       "      <td>капітальний ремонт покрівель Навчально-виховного комплексу «Домінанта» (дошкільного навчального закладу – спеціалізованої школи І ступеня – суспільно-гуманітарної гімназії – спеціалізованої школи ...</td>\n",
       "      <td>Вулиця Юності, 3,</td>\n",
       "      <td>бульвар Праці, будинок 1/1</td>\n",
       "      <td>КМДА</td>\n",
       "      <td>40864813</td>\n",
       "      <td>False</td>\n",
       "      <td>30.6153935</td>\n",
       "      <td>50.46384579999999</td>\n",
       "    </tr>\n",
       "    <tr>\n",
       "      <th>14009</th>\n",
       "      <td>Київ Навчально-виховний комплекс (об'єднання) №204</td>\n",
       "      <td>Київ</td>\n",
       "      <td>Навчально-виховний комплекс (об'єднання) № 204</td>\n",
       "      <td>UA-2019-07-18-003023-b-L1</td>\n",
       "      <td>UA-2019-07-18-003023-b</td>\n",
       "      <td>Управління будівництва Дніпровської районної в місті Києві державної адміністрації</td>\n",
       "      <td>капітальний ремонт покрівель Навчально-виховного комплексу «Домінанта» (дошкільного навчального закладу – спеціалізованої школи І ступеня – суспільно-гуманітарної гімназії – спеціалізованої школи ...</td>\n",
       "      <td>300000</td>\n",
       "      <td>капітальний ремонт покрівель Навчально-виховного комплексу «Домінанта» (дошкільного навчального закладу – спеціалізованої школи І ступеня – суспільно-гуманітарної гімназії – спеціалізованої школи ...</td>\n",
       "      <td>капітальний ремонт покрівель Навчально-виховного комплексу «Домінанта» (дошкільного навчального закладу – спеціалізованої школи І ступеня – суспільно-гуманітарної гімназії – спеціалізованої школи ...</td>\n",
       "      <td>Вулиця Юності, 3,</td>\n",
       "      <td>бульвар Праці, будинок 1/1</td>\n",
       "      <td>КМДА</td>\n",
       "      <td>40864813</td>\n",
       "      <td>False</td>\n",
       "      <td>30.6153935</td>\n",
       "      <td>50.46384579999999</td>\n",
       "    </tr>\n",
       "  </tbody>\n",
       "</table>\n",
       "<p>608 rows × 17 columns</p>\n",
       "</div>"
      ],
      "text/plain": [
       "                                                       id  city  \\\n",
       "4849   Київ Навчально-виховний комплекс (об'єднання) №204  Київ   \n",
       "4850   Київ Навчально-виховний комплекс (об'єднання) №204  Київ   \n",
       "4851   Київ Навчально-виховний комплекс (об'єднання) №204  Київ   \n",
       "4852   Київ Навчально-виховний комплекс (об'єднання) №204  Київ   \n",
       "4853   Київ Навчально-виховний комплекс (об'єднання) №204  Київ   \n",
       "...                                                   ...   ...   \n",
       "12247  Київ Навчально-виховний комплекс (об'єднання) №204  Київ   \n",
       "13165  Київ Навчально-виховний комплекс (об'єднання) №204  Київ   \n",
       "13166  Київ Навчально-виховний комплекс (об'єднання) №204  Київ   \n",
       "14008  Київ Навчально-виховний комплекс (об'єднання) №204  Київ   \n",
       "14009  Київ Навчально-виховний комплекс (об'єднання) №204  Київ   \n",
       "\n",
       "                                        Назва закладу  \\\n",
       "4849    Навчально-виховний комплекс (об'єднання) №204   \n",
       "4850    Навчально-виховний комплекс (об'єднання) №204   \n",
       "4851    Навчально-виховний комплекс (об'єднання) №204   \n",
       "4852    Навчально-виховний комплекс (об'єднання) №204   \n",
       "4853    Навчально-виховний комплекс (об'єднання) №204   \n",
       "...                                               ...   \n",
       "12247  Навчально-виховний комплекс (об'єднання) № 204   \n",
       "13165  Навчально-виховний комплекс (об'єднання) № 204   \n",
       "13166  Навчально-виховний комплекс (об'єднання) № 204   \n",
       "14008  Навчально-виховний комплекс (об'єднання) № 204   \n",
       "14009  Навчально-виховний комплекс (об'єднання) № 204   \n",
       "\n",
       "               ИдентификаторЛота           Идентификатор  \\\n",
       "4849   UA-2017-01-05-000548-c-L1  UA-2017-01-05-000548-c   \n",
       "4850   UA-2017-01-05-000548-c-L1  UA-2017-01-05-000548-c   \n",
       "4851   UA-2017-05-11-001428-b-L1  UA-2017-05-11-001428-b   \n",
       "4852   UA-2017-05-11-001428-b-L1  UA-2017-05-11-001428-b   \n",
       "4853   UA-2017-10-11-001674-b-L1  UA-2017-10-11-001674-b   \n",
       "...                          ...                     ...   \n",
       "12247  UA-2019-10-21-002199-b-L1  UA-2019-10-21-002199-b   \n",
       "13165  UA-2019-08-30-002134-a-L1  UA-2019-08-30-002134-a   \n",
       "13166  UA-2019-08-30-002134-a-L1  UA-2019-08-30-002134-a   \n",
       "14008  UA-2019-07-18-003023-b-L1  UA-2019-07-18-003023-b   \n",
       "14009  UA-2019-07-18-003023-b-L1  UA-2019-07-18-003023-b   \n",
       "\n",
       "                                                                                                                                                                                         Организатор  \\\n",
       "4849   Навчально-виховний комплекс «Домінанта» (дошкільний навчальний заклад - спеціалізована школа І ступеня - суспільно-гуманітарна гімназія – СШ №204  з поглибленим вивченням фізичної культури)   \n",
       "4850   Навчально-виховний комплекс «Домінанта» (дошкільний навчальний заклад - спеціалізована школа І ступеня - суспільно-гуманітарна гімназія – СШ №204  з поглибленим вивченням фізичної культури)   \n",
       "4851   Навчально-виховний комплекс «Домінанта» (дошкільний навчальний заклад - спеціалізована школа І ступеня - суспільно-гуманітарна гімназія – СШ №204  з поглибленим вивченням фізичної культури)   \n",
       "4852   Навчально-виховний комплекс «Домінанта» (дошкільний навчальний заклад - спеціалізована школа І ступеня - суспільно-гуманітарна гімназія – СШ №204  з поглибленим вивченням фізичної культури)   \n",
       "4853   Навчально-виховний комплекс «Домінанта» (дошкільний навчальний заклад - спеціалізована школа І ступеня - суспільно-гуманітарна гімназія – СШ №204  з поглибленим вивченням фізичної культури)   \n",
       "...                                                                                                                                                                                              ...   \n",
       "12247                                                                                          КП \"Група впровадження проекту з енергозбереження в адміністративних і громадських будівлях м. Києва\"   \n",
       "13165                                                                                          КП \"Група впровадження проекту з енергозбереження в адміністративних і громадських будівлях м. Києва\"   \n",
       "13166                                                                                          КП \"Група впровадження проекту з енергозбереження в адміністративних і громадських будівлях м. Києва\"   \n",
       "14008                                                                                                             Управління будівництва Дніпровської районної в місті Києві державної адміністрації   \n",
       "14009                                                                                                             Управління будівництва Дніпровської районної в місті Києві державної адміністрації   \n",
       "\n",
       "                                                                                                                                                                                                        Тендер  \\\n",
       "4849                                                                                                                                                                         Яловичина без кістки (охолоджена)   \n",
       "4850                                                                                                                                                                         Яловичина без кістки (охолоджена)   \n",
       "4851                                                                                                                                                                         Кухонне приладдя (посуд столовий)   \n",
       "4852                                                                                                                                                                         Кухонне приладдя (посуд столовий)   \n",
       "4853                 Поточний ремонт, утеплення фасаду суспільно-гуманітарної гімназії  НВК \"Домінанта\" управління освіти Дніпровської районної в місті Києві державної адміністрації за адресою: вул.Юності,1   \n",
       "...                                                                                                                                                                                                        ...   \n",
       "12247  Виконання будівельно-монтажних робіт з капітального ремонту (покрівлі) навчально-виховного комплексу \"Домінанта\" (Дошкільний навчальний заклад - спеціалізована школа І ст.- суспільно-гуманітарна г...   \n",
       "13165  Виконання будівельно-монтажних робіт з капітального ремонту (спортивних залів та допоміжних приміщень) навчально-виховного комплексу «Домінанта» (Дошкільного навчального заклад-спеціалізованої шко...   \n",
       "13166  Виконання будівельно-монтажних робіт з капітального ремонту (спортивних залів та допоміжних приміщень) навчально-виховного комплексу «Домінанта» (Дошкільного навчального заклад-спеціалізованої шко...   \n",
       "14008  капітальний ремонт покрівель Навчально-виховного комплексу «Домінанта» (дошкільного навчального закладу – спеціалізованої школи І ступеня – суспільно-гуманітарної гімназії – спеціалізованої школи ...   \n",
       "14009  капітальний ремонт покрівель Навчально-виховного комплексу «Домінанта» (дошкільного навчального закладу – спеціалізованої школи І ступеня – суспільно-гуманітарної гімназії – спеціалізованої школи ...   \n",
       "\n",
       "       СуммаЛота  \\\n",
       "4849      170000   \n",
       "4850      170000   \n",
       "4851       22000   \n",
       "4852       22000   \n",
       "4853      250000   \n",
       "...          ...   \n",
       "12247   271731.6   \n",
       "13165  1095440.4   \n",
       "13166  1095440.4   \n",
       "14008     300000   \n",
       "14009     300000   \n",
       "\n",
       "                                                                                                                                                                                               ОписаниеТендера  \\\n",
       "4849       Детальний опис предмета закупівлі, технічні вимоги, якісні характеристики та зразок заповнення договору знаходяться в тендерній документації (файл Відкорегована документація 15111100-0 Яловичина)   \n",
       "4850       Детальний опис предмета закупівлі, технічні вимоги, якісні характеристики та зразок заповнення договору знаходяться в тендерній документації (файл Відкорегована документація 15111100-0 Яловичина)   \n",
       "4851                                                             Детальний опис предмета закупівлі, технічні та якісні характеристики, кількість, а також проект договору знаходяться в тендерній документації   \n",
       "4852                                                             Детальний опис предмета закупівлі, технічні та якісні характеристики, кількість, а також проект договору знаходяться в тендерній документації   \n",
       "4853                 Поточний ремонт, утеплення фасаду суспільно-гуманітарної гімназії  НВК \"Домінанта\" управління освіти Дніпровської районної в місті Києві державної адміністрації за адресою: вул.Юності,1   \n",
       "...                                                                                                                                                                                                        ...   \n",
       "12247                                                                                                                                                                                                            \n",
       "13165                                                                                                                                                                                                            \n",
       "13166                                                                                                                                                                                                            \n",
       "14008  капітальний ремонт покрівель Навчально-виховного комплексу «Домінанта» (дошкільного навчального закладу – спеціалізованої школи І ступеня – суспільно-гуманітарної гімназії – спеціалізованої школи ...   \n",
       "14009  капітальний ремонт покрівель Навчально-виховного комплексу «Домінанта» (дошкільного навчального закладу – спеціалізованої школи І ступеня – суспільно-гуманітарної гімназії – спеціалізованої школи ...   \n",
       "\n",
       "                                                                                                                                                                                                           Лот  \\\n",
       "4849                                                                                                                                                                         Яловичина без кістки (охолоджена)   \n",
       "4850                                                                                                                                                                         Яловичина без кістки (охолоджена)   \n",
       "4851                                                                                                                                                                         Кухонне приладдя (посуд столовий)   \n",
       "4852                                                                                                                                                                         Кухонне приладдя (посуд столовий)   \n",
       "4853                 Поточний ремонт, утеплення фасаду суспільно-гуманітарної гімназії  НВК \"Домінанта\" управління освіти Дніпровської районної в місті Києві державної адміністрації за адресою: вул.Юності,1   \n",
       "...                                                                                                                                                                                                        ...   \n",
       "12247  Виконання будівельно-монтажних робіт з капітального ремонту (покрівлі) навчально-виховного комплексу \"Домінанта\" (Дошкільний навчальний заклад - спеціалізована школа І ст.- суспільно-гуманітарна г...   \n",
       "13165  Виконання будівельно-монтажних робіт з капітального ремонту (спортивних залів та допоміжних приміщень) навчально-виховного комплексу «Домінанта» (Дошкільного навчального заклад-спеціалізованої шко...   \n",
       "13166  Виконання будівельно-монтажних робіт з капітального ремонту (спортивних залів та допоміжних приміщень) навчально-виховного комплексу «Домінанта» (Дошкільного навчального заклад-спеціалізованої шко...   \n",
       "14008  капітальний ремонт покрівель Навчально-виховного комплексу «Домінанта» (дошкільного навчального закладу – спеціалізованої школи І ступеня – суспільно-гуманітарної гімназії – спеціалізованої школи ...   \n",
       "14009  капітальний ремонт покрівель Навчально-виховного комплексу «Домінанта» (дошкільного навчального закладу – спеціалізованої школи І ступеня – суспільно-гуманітарної гімназії – спеціалізованої школи ...   \n",
       "\n",
       "                            Адрес поставки               АдресОрганизатора  \\\n",
       "4849   Юності, 3, Юності, 1, Бойченка, 16А       вулиця Юності, будинок, 3   \n",
       "4850   Юності, 3, Юності, 1, Бойченка, 16А       вулиця Юності, будинок, 3   \n",
       "4851                             Юності, 3       вулиця Юності, будинок, 3   \n",
       "4852                             Юності, 3       вулиця Юності, будинок, 3   \n",
       "4853                          вул.Юності,1       вулиця Юності, будинок, 3   \n",
       "...                                    ...                             ...   \n",
       "12247        вул. Олександра Бойченка, 9-А  вул. Богдана Хмельницького, 3а   \n",
       "13165                     вулиця Юності, 3  вул. Богдана Хмельницького, 3а   \n",
       "13166                     вулиця Юності, 3  вул. Богдана Хмельницького, 3а   \n",
       "14008                    Вулиця Юності, 3,      бульвар Праці, будинок 1/1   \n",
       "14009                    Вулиця Юності, 3,      бульвар Праці, будинок 1/1   \n",
       "\n",
       "      Главный орган  IDOrganizator  Заклад-замовник   Longitude  \\\n",
       "4849           КМДА       22875220             True  30.6153935   \n",
       "4850           КМДА       22875220             True  30.6153935   \n",
       "4851           КМДА       22875220             True  30.6153935   \n",
       "4852           КМДА       22875220             True  30.6153935   \n",
       "4853           КМДА       22875220             True  30.6153935   \n",
       "...             ...            ...              ...         ...   \n",
       "12247          КМДА       25772436            False  30.6153935   \n",
       "13165          КМДА       25772436            False  30.6153935   \n",
       "13166          КМДА       25772436            False  30.6153935   \n",
       "14008          КМДА       40864813            False  30.6153935   \n",
       "14009          КМДА       40864813            False  30.6153935   \n",
       "\n",
       "                Latitude  \n",
       "4849   50.46384579999999  \n",
       "4850   50.46384579999999  \n",
       "4851   50.46384579999999  \n",
       "4852   50.46384579999999  \n",
       "4853   50.46384579999999  \n",
       "...                  ...  \n",
       "12247  50.46384579999999  \n",
       "13165  50.46384579999999  \n",
       "13166  50.46384579999999  \n",
       "14008  50.46384579999999  \n",
       "14009  50.46384579999999  \n",
       "\n",
       "[608 rows x 17 columns]"
      ]
     },
     "execution_count": 59,
     "metadata": {},
     "output_type": "execute_result"
    }
   ],
   "source": [
    "final_df[final_df['Longitude'].str.contains('30.6153935', na=False)]"
   ]
  },
  {
   "cell_type": "code",
   "execution_count": 60,
   "metadata": {},
   "outputs": [],
   "source": [
    "final_df_2 = final_df.copy()"
   ]
  },
  {
   "cell_type": "code",
   "execution_count": 65,
   "metadata": {},
   "outputs": [],
   "source": [
    "final_df_2.drop_duplicates(subset=['ИдентификаторЛота'], inplace=True)"
   ]
  },
  {
   "cell_type": "code",
   "execution_count": 66,
   "metadata": {
    "collapsed": true
   },
   "outputs": [
    {
     "data": {
      "text/plain": [
       "30.42124179999999     542\n",
       "34.77950149999999     305\n",
       "30.6153935            304\n",
       "27.0071993            284\n",
       "30.5158454            275\n",
       "                     ... \n",
       "30.736220399999997      1\n",
       "22.2813892              1\n",
       "32.0222306              1\n",
       "30.3722885              1\n",
       "23.9891794              1\n",
       "Name: Longitude, Length: 3674, dtype: int64"
      ]
     },
     "execution_count": 66,
     "metadata": {},
     "output_type": "execute_result"
    }
   ],
   "source": [
    "final_df_2.Longitude.value_counts()"
   ]
  },
  {
   "cell_type": "code",
   "execution_count": 70,
   "metadata": {
    "collapsed": true
   },
   "outputs": [
    {
     "data": {
      "text/html": [
       "<div>\n",
       "<style scoped>\n",
       "    .dataframe tbody tr th:only-of-type {\n",
       "        vertical-align: middle;\n",
       "    }\n",
       "\n",
       "    .dataframe tbody tr th {\n",
       "        vertical-align: top;\n",
       "    }\n",
       "\n",
       "    .dataframe thead th {\n",
       "        text-align: right;\n",
       "    }\n",
       "</style>\n",
       "<table border=\"1\" class=\"dataframe\">\n",
       "  <thead>\n",
       "    <tr style=\"text-align: right;\">\n",
       "      <th></th>\n",
       "      <th>id</th>\n",
       "      <th>city</th>\n",
       "      <th>Назва закладу</th>\n",
       "      <th>ИдентификаторЛота</th>\n",
       "      <th>Идентификатор</th>\n",
       "      <th>Организатор</th>\n",
       "      <th>Тендер</th>\n",
       "      <th>СуммаЛота</th>\n",
       "      <th>ОписаниеТендера</th>\n",
       "      <th>Лот</th>\n",
       "      <th>Адрес поставки</th>\n",
       "      <th>АдресОрганизатора</th>\n",
       "      <th>Главный орган</th>\n",
       "      <th>IDOrganizator</th>\n",
       "      <th>Заклад-замовник</th>\n",
       "      <th>Longitude</th>\n",
       "      <th>Latitude</th>\n",
       "    </tr>\n",
       "  </thead>\n",
       "  <tbody>\n",
       "    <tr>\n",
       "      <th>3114</th>\n",
       "      <td>Київ Загальноосвітній навчальний заклад \"Київський спортивний ліцей-інтернат\"</td>\n",
       "      <td>Київ</td>\n",
       "      <td>Загальноосвітній навчальний заклад \"Київський спортивний ліцей-інтернат\"</td>\n",
       "      <td>UA-2017-01-13-000699-a-L1</td>\n",
       "      <td>UA-2017-01-13-000699-a</td>\n",
       "      <td>Загальноосвітній навчальний заклад \"Київський спортивний ліцей-інтернат\"</td>\n",
       "      <td>Надання послуг охорони за допомогою технічних засобів (обслуговування охоронної сигналізації -виїзд групи швидкого реагування).</td>\n",
       "      <td>6000</td>\n",
       "      <td>. Посадові особи замовника, уповноважені здійснювати зв’язок з учасниками: Богуш Олександр Васильович, заступник директора,тел./факс (044) 408-25-18, (050-352-99-86)</td>\n",
       "      <td>Надання послуг охорони за допомогою технічних засобів (обслуговування охоронної сигналізації -виїзд групи швидкого реагування).</td>\n",
       "      <td>бульвар Гавела Вацлава, 46</td>\n",
       "      <td>бульвар Гавела Вацлава, 46</td>\n",
       "      <td>КМДА</td>\n",
       "      <td>23516367</td>\n",
       "      <td>True</td>\n",
       "      <td>30.42124179999999</td>\n",
       "      <td>50.4239213</td>\n",
       "    </tr>\n",
       "    <tr>\n",
       "      <th>3115</th>\n",
       "      <td>Київ Загальноосвітній навчальний заклад \"Київський спортивний ліцей-інтернат\"</td>\n",
       "      <td>Київ</td>\n",
       "      <td>Загальноосвітній навчальний заклад \"Київський спортивний ліцей-інтернат\"</td>\n",
       "      <td>UA-2017-03-27-000750-b-L1</td>\n",
       "      <td>UA-2017-03-27-000750-b</td>\n",
       "      <td>Загальноосвітній навчальний заклад \"Київський спортивний ліцей-інтернат\"</td>\n",
       "      <td>Карнизи пластикові та крючки до них</td>\n",
       "      <td>21000</td>\n",
       "      <td>Посадові особи замовника, уповноважені здійснювати зв’язок з учасниками :   \\n     Ковальчук Ольга Михайлівна, заст. директора, тел./факс  тел.0678972088</td>\n",
       "      <td>Карнизи пластикові та крючки до них</td>\n",
       "      <td>бульвар Гавела Вацлава, 46</td>\n",
       "      <td>бульвар Гавела Вацлава, 46</td>\n",
       "      <td>КМДА</td>\n",
       "      <td>23516367</td>\n",
       "      <td>True</td>\n",
       "      <td>30.42124179999999</td>\n",
       "      <td>50.4239213</td>\n",
       "    </tr>\n",
       "    <tr>\n",
       "      <th>3116</th>\n",
       "      <td>Київ Загальноосвітній навчальний заклад \"Київський спортивний ліцей-інтернат\"</td>\n",
       "      <td>Київ</td>\n",
       "      <td>Загальноосвітній навчальний заклад \"Київський спортивний ліцей-інтернат\"</td>\n",
       "      <td>UA-2017-02-01-002645-b-L1</td>\n",
       "      <td>UA-2017-02-01-002645-b</td>\n",
       "      <td>Загальноосвітній навчальний заклад \"Київський спортивний ліцей-інтернат\"</td>\n",
       "      <td>Вироби фармацевтичні (ліки)</td>\n",
       "      <td>50000</td>\n",
       "      <td>Посадові особи замовника, уповноважені здійснювати зв’язок з учасниками :                                                                                                     Клюзко Людмила Володим...</td>\n",
       "      <td>Вироби фармацевтичні (ліки)</td>\n",
       "      <td>бульвар Гавела Вацлава, 46</td>\n",
       "      <td>бульвар Гавела Вацлава, 46</td>\n",
       "      <td>КМДА</td>\n",
       "      <td>23516367</td>\n",
       "      <td>True</td>\n",
       "      <td>30.42124179999999</td>\n",
       "      <td>50.4239213</td>\n",
       "    </tr>\n",
       "    <tr>\n",
       "      <th>3117</th>\n",
       "      <td>Київ Загальноосвітній навчальний заклад \"Київський спортивний ліцей-інтернат\"</td>\n",
       "      <td>Київ</td>\n",
       "      <td>Загальноосвітній навчальний заклад \"Київський спортивний ліцей-інтернат\"</td>\n",
       "      <td>UA-2017-03-09-001072-a-L1</td>\n",
       "      <td>UA-2017-03-09-001072-a</td>\n",
       "      <td>Загальноосвітній навчальний заклад \"Київський спортивний ліцей-інтернат\"</td>\n",
       "      <td>Бензин моторний А-95(талони).</td>\n",
       "      <td>67000</td>\n",
       "      <td>Посадові особи замовника, уповноважені здійснювати зв’язок з учасниками:Богуш Олександр Васильович - заступник директора, тел./факс (044) 408-25-18, (050-352-99-86)</td>\n",
       "      <td>Бензин моторний А-95(талони).</td>\n",
       "      <td>бульвар Гавела Вацлава, 46</td>\n",
       "      <td>бульвар Гавела Вацлава, 46</td>\n",
       "      <td>КМДА</td>\n",
       "      <td>23516367</td>\n",
       "      <td>True</td>\n",
       "      <td>30.42124179999999</td>\n",
       "      <td>50.4239213</td>\n",
       "    </tr>\n",
       "    <tr>\n",
       "      <th>3118</th>\n",
       "      <td>Київ Загальноосвітній навчальний заклад \"Київський спортивний ліцей-інтернат\"</td>\n",
       "      <td>Київ</td>\n",
       "      <td>Загальноосвітній навчальний заклад \"Київський спортивний ліцей-інтернат\"</td>\n",
       "      <td>UA-2017-10-06-001362-c-L1</td>\n",
       "      <td>UA-2017-10-06-001362-c</td>\n",
       "      <td>Загальноосвітній навчальний заклад \"Київський спортивний ліцей-інтернат\"</td>\n",
       "      <td>Медичний м’яч -  МЕДБОЛ</td>\n",
       "      <td>18500</td>\n",
       "      <td>1.\\t\\tМ’яч медбол:  вага – 1 кг (Ø14 см)\\tШт.\\t40\\t350,00\\t-14 000,00\\n2.\\t\\tМ’яч медбол:  вага – 2 кг (Ø17 см)\\tШт.\\t10\\t450,00\\t-4 500,00</td>\n",
       "      <td>Медичний м’яч -  МЕДБОЛ</td>\n",
       "      <td>бул. Гавела Вацлава-46</td>\n",
       "      <td>бульвар Гавела Вацлава, 46</td>\n",
       "      <td>КМДА</td>\n",
       "      <td>23516367</td>\n",
       "      <td>True</td>\n",
       "      <td>30.42124179999999</td>\n",
       "      <td>50.4239213</td>\n",
       "    </tr>\n",
       "    <tr>\n",
       "      <th>...</th>\n",
       "      <td>...</td>\n",
       "      <td>...</td>\n",
       "      <td>...</td>\n",
       "      <td>...</td>\n",
       "      <td>...</td>\n",
       "      <td>...</td>\n",
       "      <td>...</td>\n",
       "      <td>...</td>\n",
       "      <td>...</td>\n",
       "      <td>...</td>\n",
       "      <td>...</td>\n",
       "      <td>...</td>\n",
       "      <td>...</td>\n",
       "      <td>...</td>\n",
       "      <td>...</td>\n",
       "      <td>...</td>\n",
       "      <td>...</td>\n",
       "    </tr>\n",
       "    <tr>\n",
       "      <th>3651</th>\n",
       "      <td>Київ Загальноосвітній навчальний заклад \"Київський спортивний ліцей-інтернат\"</td>\n",
       "      <td>Київ</td>\n",
       "      <td>Загальноосвітній навчальний заклад \"Київський спортивний ліцей-інтернат\"</td>\n",
       "      <td>UA-2019-04-11-000776-c-L1</td>\n",
       "      <td>UA-2019-04-11-000776-c</td>\n",
       "      <td>Загальноосвітній навчальний заклад \"Київський спортивний ліцей-інтернат\"</td>\n",
       "      <td>Харчоварильний котел.</td>\n",
       "      <td>40000</td>\n",
       "      <td>Харчоварильний котел.</td>\n",
       "      <td>Харчоварильний котел.</td>\n",
       "      <td>Бульвар Вацлава Гавела -46</td>\n",
       "      <td>бульвар Гавела Вацлава, 46</td>\n",
       "      <td>КМДА</td>\n",
       "      <td>23516367</td>\n",
       "      <td>True</td>\n",
       "      <td>30.42124179999999</td>\n",
       "      <td>50.4239213</td>\n",
       "    </tr>\n",
       "    <tr>\n",
       "      <th>3652</th>\n",
       "      <td>Київ Загальноосвітній навчальний заклад \"Київський спортивний ліцей-інтернат\"</td>\n",
       "      <td>Київ</td>\n",
       "      <td>Загальноосвітній навчальний заклад \"Київський спортивний ліцей-інтернат\"</td>\n",
       "      <td>UA-2019-05-03-000082-b-L1</td>\n",
       "      <td>UA-2019-05-03-000082-b</td>\n",
       "      <td>Загальноосвітній навчальний заклад \"Київський спортивний ліцей-інтернат\"</td>\n",
       "      <td>Масло Леон Лидер</td>\n",
       "      <td>738.28</td>\n",
       "      <td>Масло Леон Лидер</td>\n",
       "      <td>Масло Леон Лидер</td>\n",
       "      <td>Бульвар Вацлава Гавела -46</td>\n",
       "      <td>бульвар Гавела Вацлава, 46</td>\n",
       "      <td>КМДА</td>\n",
       "      <td>23516367</td>\n",
       "      <td>True</td>\n",
       "      <td>30.42124179999999</td>\n",
       "      <td>50.4239213</td>\n",
       "    </tr>\n",
       "    <tr>\n",
       "      <th>3653</th>\n",
       "      <td>Київ Загальноосвітній навчальний заклад \"Київський спортивний ліцей-інтернат\"</td>\n",
       "      <td>Київ</td>\n",
       "      <td>Загальноосвітній навчальний заклад \"Київський спортивний ліцей-інтернат\"</td>\n",
       "      <td>UA-2019-05-13-000139-c-L1</td>\n",
       "      <td>UA-2019-05-13-000139-c</td>\n",
       "      <td>Загальноосвітній навчальний заклад \"Київський спортивний ліцей-інтернат\"</td>\n",
       "      <td>Кондиціонер  TKS 10 BW</td>\n",
       "      <td>5061</td>\n",
       "      <td>Кондиціонер  TKS 10 BW</td>\n",
       "      <td>Кондиціонер  TKS 10 BW</td>\n",
       "      <td>Бульвар Вацлава Гавела -46</td>\n",
       "      <td>бульвар Гавела Вацлава, 46</td>\n",
       "      <td>КМДА</td>\n",
       "      <td>23516367</td>\n",
       "      <td>True</td>\n",
       "      <td>30.42124179999999</td>\n",
       "      <td>50.4239213</td>\n",
       "    </tr>\n",
       "    <tr>\n",
       "      <th>3654</th>\n",
       "      <td>Київ Загальноосвітній навчальний заклад \"Київський спортивний ліцей-інтернат\"</td>\n",
       "      <td>Київ</td>\n",
       "      <td>Загальноосвітній навчальний заклад \"Київський спортивний ліцей-інтернат\"</td>\n",
       "      <td>UA-2019-05-13-001289-c-L1</td>\n",
       "      <td>UA-2019-05-13-001289-c</td>\n",
       "      <td>Загальноосвітній навчальний заклад \"Київський спортивний ліцей-інтернат\"</td>\n",
       "      <td>КРУГ 3М 4100  432ММ/17. БІЛИЙ СТАНДАРТ</td>\n",
       "      <td>1200</td>\n",
       "      <td>КРУГ 3М 4100  432ММ/17. БІЛИЙ СТАНДАРТ</td>\n",
       "      <td>КРУГ 3М 4100  432ММ/17. БІЛИЙ СТАНДАРТ</td>\n",
       "      <td>Бульвар Вацлава Гавела -46</td>\n",
       "      <td>бульвар Гавела Вацлава, 46</td>\n",
       "      <td>КМДА</td>\n",
       "      <td>23516367</td>\n",
       "      <td>True</td>\n",
       "      <td>30.42124179999999</td>\n",
       "      <td>50.4239213</td>\n",
       "    </tr>\n",
       "    <tr>\n",
       "      <th>3655</th>\n",
       "      <td>Київ Загальноосвітній навчальний заклад \"Київський спортивний ліцей-інтернат\"</td>\n",
       "      <td>Київ</td>\n",
       "      <td>Загальноосвітній навчальний заклад \"Київський спортивний ліцей-інтернат\"</td>\n",
       "      <td>UA-2019-04-22-000069-b-L1</td>\n",
       "      <td>UA-2019-04-22-000069-b</td>\n",
       "      <td>Загальноосвітній навчальний заклад \"Київський спортивний ліцей-інтернат\"</td>\n",
       "      <td>Комп’ютер в комплекті (Персональний комп’ютер, монітор, комп’ютерна мишка, клавіатура).</td>\n",
       "      <td>23000</td>\n",
       "      <td>Комп’ютер в комплекті (Персональний комп’ютер, монітор, комп’ютерна мишка, клавіатура).</td>\n",
       "      <td>Комп’ютер в комплекті (Персональний комп’ютер, монітор, комп’ютерна мишка, клавіатура).</td>\n",
       "      <td>Бульвар Вацлава Гавела -46</td>\n",
       "      <td>бульвар Гавела Вацлава, 46</td>\n",
       "      <td>КМДА</td>\n",
       "      <td>23516367</td>\n",
       "      <td>True</td>\n",
       "      <td>30.42124179999999</td>\n",
       "      <td>50.4239213</td>\n",
       "    </tr>\n",
       "  </tbody>\n",
       "</table>\n",
       "<p>542 rows × 17 columns</p>\n",
       "</div>"
      ],
      "text/plain": [
       "                                                                                 id  \\\n",
       "3114  Київ Загальноосвітній навчальний заклад \"Київський спортивний ліцей-інтернат\"   \n",
       "3115  Київ Загальноосвітній навчальний заклад \"Київський спортивний ліцей-інтернат\"   \n",
       "3116  Київ Загальноосвітній навчальний заклад \"Київський спортивний ліцей-інтернат\"   \n",
       "3117  Київ Загальноосвітній навчальний заклад \"Київський спортивний ліцей-інтернат\"   \n",
       "3118  Київ Загальноосвітній навчальний заклад \"Київський спортивний ліцей-інтернат\"   \n",
       "...                                                                             ...   \n",
       "3651  Київ Загальноосвітній навчальний заклад \"Київський спортивний ліцей-інтернат\"   \n",
       "3652  Київ Загальноосвітній навчальний заклад \"Київський спортивний ліцей-інтернат\"   \n",
       "3653  Київ Загальноосвітній навчальний заклад \"Київський спортивний ліцей-інтернат\"   \n",
       "3654  Київ Загальноосвітній навчальний заклад \"Київський спортивний ліцей-інтернат\"   \n",
       "3655  Київ Загальноосвітній навчальний заклад \"Київський спортивний ліцей-інтернат\"   \n",
       "\n",
       "      city  \\\n",
       "3114  Київ   \n",
       "3115  Київ   \n",
       "3116  Київ   \n",
       "3117  Київ   \n",
       "3118  Київ   \n",
       "...    ...   \n",
       "3651  Київ   \n",
       "3652  Київ   \n",
       "3653  Київ   \n",
       "3654  Київ   \n",
       "3655  Київ   \n",
       "\n",
       "                                                                 Назва закладу  \\\n",
       "3114  Загальноосвітній навчальний заклад \"Київський спортивний ліцей-інтернат\"   \n",
       "3115  Загальноосвітній навчальний заклад \"Київський спортивний ліцей-інтернат\"   \n",
       "3116  Загальноосвітній навчальний заклад \"Київський спортивний ліцей-інтернат\"   \n",
       "3117  Загальноосвітній навчальний заклад \"Київський спортивний ліцей-інтернат\"   \n",
       "3118  Загальноосвітній навчальний заклад \"Київський спортивний ліцей-інтернат\"   \n",
       "...                                                                        ...   \n",
       "3651  Загальноосвітній навчальний заклад \"Київський спортивний ліцей-інтернат\"   \n",
       "3652  Загальноосвітній навчальний заклад \"Київський спортивний ліцей-інтернат\"   \n",
       "3653  Загальноосвітній навчальний заклад \"Київський спортивний ліцей-інтернат\"   \n",
       "3654  Загальноосвітній навчальний заклад \"Київський спортивний ліцей-інтернат\"   \n",
       "3655  Загальноосвітній навчальний заклад \"Київський спортивний ліцей-інтернат\"   \n",
       "\n",
       "              ИдентификаторЛота           Идентификатор  \\\n",
       "3114  UA-2017-01-13-000699-a-L1  UA-2017-01-13-000699-a   \n",
       "3115  UA-2017-03-27-000750-b-L1  UA-2017-03-27-000750-b   \n",
       "3116  UA-2017-02-01-002645-b-L1  UA-2017-02-01-002645-b   \n",
       "3117  UA-2017-03-09-001072-a-L1  UA-2017-03-09-001072-a   \n",
       "3118  UA-2017-10-06-001362-c-L1  UA-2017-10-06-001362-c   \n",
       "...                         ...                     ...   \n",
       "3651  UA-2019-04-11-000776-c-L1  UA-2019-04-11-000776-c   \n",
       "3652  UA-2019-05-03-000082-b-L1  UA-2019-05-03-000082-b   \n",
       "3653  UA-2019-05-13-000139-c-L1  UA-2019-05-13-000139-c   \n",
       "3654  UA-2019-05-13-001289-c-L1  UA-2019-05-13-001289-c   \n",
       "3655  UA-2019-04-22-000069-b-L1  UA-2019-04-22-000069-b   \n",
       "\n",
       "                                                                   Организатор  \\\n",
       "3114  Загальноосвітній навчальний заклад \"Київський спортивний ліцей-інтернат\"   \n",
       "3115  Загальноосвітній навчальний заклад \"Київський спортивний ліцей-інтернат\"   \n",
       "3116  Загальноосвітній навчальний заклад \"Київський спортивний ліцей-інтернат\"   \n",
       "3117  Загальноосвітній навчальний заклад \"Київський спортивний ліцей-інтернат\"   \n",
       "3118  Загальноосвітній навчальний заклад \"Київський спортивний ліцей-інтернат\"   \n",
       "...                                                                        ...   \n",
       "3651  Загальноосвітній навчальний заклад \"Київський спортивний ліцей-інтернат\"   \n",
       "3652  Загальноосвітній навчальний заклад \"Київський спортивний ліцей-інтернат\"   \n",
       "3653  Загальноосвітній навчальний заклад \"Київський спортивний ліцей-інтернат\"   \n",
       "3654  Загальноосвітній навчальний заклад \"Київський спортивний ліцей-інтернат\"   \n",
       "3655  Загальноосвітній навчальний заклад \"Київський спортивний ліцей-інтернат\"   \n",
       "\n",
       "                                                                                                                               Тендер  \\\n",
       "3114  Надання послуг охорони за допомогою технічних засобів (обслуговування охоронної сигналізації -виїзд групи швидкого реагування).   \n",
       "3115                                                                                              Карнизи пластикові та крючки до них   \n",
       "3116                                                                                                      Вироби фармацевтичні (ліки)   \n",
       "3117                                                                                                    Бензин моторний А-95(талони).   \n",
       "3118                                                                                                          Медичний м’яч -  МЕДБОЛ   \n",
       "...                                                                                                                               ...   \n",
       "3651                                                                                                            Харчоварильний котел.   \n",
       "3652                                                                                                                 Масло Леон Лидер   \n",
       "3653                                                                                                           Кондиціонер  TKS 10 BW   \n",
       "3654                                                                                           КРУГ 3М 4100  432ММ/17. БІЛИЙ СТАНДАРТ   \n",
       "3655                                          Комп’ютер в комплекті (Персональний комп’ютер, монітор, комп’ютерна мишка, клавіатура).   \n",
       "\n",
       "     СуммаЛота  \\\n",
       "3114      6000   \n",
       "3115     21000   \n",
       "3116     50000   \n",
       "3117     67000   \n",
       "3118     18500   \n",
       "...        ...   \n",
       "3651     40000   \n",
       "3652    738.28   \n",
       "3653      5061   \n",
       "3654      1200   \n",
       "3655     23000   \n",
       "\n",
       "                                                                                                                                                                                              ОписаниеТендера  \\\n",
       "3114                                    . Посадові особи замовника, уповноважені здійснювати зв’язок з учасниками: Богуш Олександр Васильович, заступник директора,тел./факс (044) 408-25-18, (050-352-99-86)   \n",
       "3115                                                Посадові особи замовника, уповноважені здійснювати зв’язок з учасниками :   \\n     Ковальчук Ольга Михайлівна, заст. директора, тел./факс  тел.0678972088   \n",
       "3116  Посадові особи замовника, уповноважені здійснювати зв’язок з учасниками :                                                                                                     Клюзко Людмила Володим...   \n",
       "3117                                     Посадові особи замовника, уповноважені здійснювати зв’язок з учасниками:Богуш Олександр Васильович - заступник директора, тел./факс (044) 408-25-18, (050-352-99-86)   \n",
       "3118                                                              1.\\t\\tМ’яч медбол:  вага – 1 кг (Ø14 см)\\tШт.\\t40\\t350,00\\t-14 000,00\\n2.\\t\\tМ’яч медбол:  вага – 2 кг (Ø17 см)\\tШт.\\t10\\t450,00\\t-4 500,00   \n",
       "...                                                                                                                                                                                                       ...   \n",
       "3651                                                                                                                                                                                    Харчоварильний котел.   \n",
       "3652                                                                                                                                                                                         Масло Леон Лидер   \n",
       "3653                                                                                                                                                                                   Кондиціонер  TKS 10 BW   \n",
       "3654                                                                                                                                                                   КРУГ 3М 4100  432ММ/17. БІЛИЙ СТАНДАРТ   \n",
       "3655                                                                                                                  Комп’ютер в комплекті (Персональний комп’ютер, монітор, комп’ютерна мишка, клавіатура).   \n",
       "\n",
       "                                                                                                                                  Лот  \\\n",
       "3114  Надання послуг охорони за допомогою технічних засобів (обслуговування охоронної сигналізації -виїзд групи швидкого реагування).   \n",
       "3115                                                                                              Карнизи пластикові та крючки до них   \n",
       "3116                                                                                                      Вироби фармацевтичні (ліки)   \n",
       "3117                                                                                                    Бензин моторний А-95(талони).   \n",
       "3118                                                                                                          Медичний м’яч -  МЕДБОЛ   \n",
       "...                                                                                                                               ...   \n",
       "3651                                                                                                            Харчоварильний котел.   \n",
       "3652                                                                                                                 Масло Леон Лидер   \n",
       "3653                                                                                                           Кондиціонер  TKS 10 BW   \n",
       "3654                                                                                           КРУГ 3М 4100  432ММ/17. БІЛИЙ СТАНДАРТ   \n",
       "3655                                          Комп’ютер в комплекті (Персональний комп’ютер, монітор, комп’ютерна мишка, клавіатура).   \n",
       "\n",
       "                  Адрес поставки           АдресОрганизатора Главный орган  \\\n",
       "3114  бульвар Гавела Вацлава, 46  бульвар Гавела Вацлава, 46          КМДА   \n",
       "3115  бульвар Гавела Вацлава, 46  бульвар Гавела Вацлава, 46          КМДА   \n",
       "3116  бульвар Гавела Вацлава, 46  бульвар Гавела Вацлава, 46          КМДА   \n",
       "3117  бульвар Гавела Вацлава, 46  бульвар Гавела Вацлава, 46          КМДА   \n",
       "3118      бул. Гавела Вацлава-46  бульвар Гавела Вацлава, 46          КМДА   \n",
       "...                          ...                         ...           ...   \n",
       "3651  Бульвар Вацлава Гавела -46  бульвар Гавела Вацлава, 46          КМДА   \n",
       "3652  Бульвар Вацлава Гавела -46  бульвар Гавела Вацлава, 46          КМДА   \n",
       "3653  Бульвар Вацлава Гавела -46  бульвар Гавела Вацлава, 46          КМДА   \n",
       "3654  Бульвар Вацлава Гавела -46  бульвар Гавела Вацлава, 46          КМДА   \n",
       "3655  Бульвар Вацлава Гавела -46  бульвар Гавела Вацлава, 46          КМДА   \n",
       "\n",
       "      IDOrganizator  Заклад-замовник          Longitude    Latitude  \n",
       "3114       23516367             True  30.42124179999999  50.4239213  \n",
       "3115       23516367             True  30.42124179999999  50.4239213  \n",
       "3116       23516367             True  30.42124179999999  50.4239213  \n",
       "3117       23516367             True  30.42124179999999  50.4239213  \n",
       "3118       23516367             True  30.42124179999999  50.4239213  \n",
       "...             ...              ...                ...         ...  \n",
       "3651       23516367             True  30.42124179999999  50.4239213  \n",
       "3652       23516367             True  30.42124179999999  50.4239213  \n",
       "3653       23516367             True  30.42124179999999  50.4239213  \n",
       "3654       23516367             True  30.42124179999999  50.4239213  \n",
       "3655       23516367             True  30.42124179999999  50.4239213  \n",
       "\n",
       "[542 rows x 17 columns]"
      ]
     },
     "execution_count": 70,
     "metadata": {},
     "output_type": "execute_result"
    }
   ],
   "source": [
    "final_df_2[final_df_2['Longitude'].str.contains('30.42124179999999', na=False)]"
   ]
  },
  {
   "cell_type": "code",
   "execution_count": 74,
   "metadata": {},
   "outputs": [
    {
     "data": {
      "text/plain": [
       "array(['Київ Муніципальний заклад вищої освіти \"Київська Академія мистецтв\"'],\n",
       "      dtype=object)"
      ]
     },
     "execution_count": 74,
     "metadata": {},
     "output_type": "execute_result"
    }
   ],
   "source": [
    "final_df_2.id[final_df_2['Longitude'].str.contains('30.5158454', na=False)].unique()"
   ]
  },
  {
   "cell_type": "code",
   "execution_count": 75,
   "metadata": {},
   "outputs": [
    {
     "data": {
      "text/plain": [
       "(49541, 17)"
      ]
     },
     "execution_count": 75,
     "metadata": {},
     "output_type": "execute_result"
    }
   ],
   "source": [
    "final_df_2.shape"
   ]
  },
  {
   "cell_type": "code",
   "execution_count": null,
   "metadata": {},
   "outputs": [],
   "source": []
  }
 ],
 "metadata": {
  "file_extension": ".py",
  "kernelspec": {
   "display_name": "Python 3",
   "language": "python",
   "name": "python3"
  },
  "language_info": {
   "codemirror_mode": {
    "name": "ipython",
    "version": 3
   },
   "file_extension": ".py",
   "mimetype": "text/x-python",
   "name": "python",
   "nbconvert_exporter": "python",
   "pygments_lexer": "ipython3",
   "version": "3.7.6"
  },
  "mimetype": "text/x-python",
  "name": "python",
  "npconvert_exporter": "python",
  "pygments_lexer": "ipython2",
  "version": 2
 },
 "nbformat": 4,
 "nbformat_minor": 2
}
