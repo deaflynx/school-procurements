{
 "cells": [
  {
   "cell_type": "code",
   "execution_count": 1,
   "metadata": {},
   "outputs": [],
   "source": [
    "import importlib\n",
    "import pandas as pd\n",
    "import numpy as np\n",
    "import re"
   ]
  },
  {
   "cell_type": "code",
   "execution_count": 2,
   "metadata": {},
   "outputs": [],
   "source": [
    "from functions.get_mon_data import *\n",
    "from functions.functions_dataframe import * \n",
    "from functions.functions_shared import *\n",
    "from parameters.filters_lists import *\n",
    "from parameters.route import *\n",
    "from parameters.regs import *"
   ]
  },
  {
   "cell_type": "code",
   "execution_count": null,
   "metadata": {},
   "outputs": [],
   "source": [
    "\"\"\" \n",
    "Для формування списку ЄДРПОУ навчальних закладів, які потрібно наносити на мапу, використані бази даних МОН, опубліковані у листопаді 2019 року на Порталі відкритих даних.\n",
    "\n",
    "### Перелік закладів загальної середньої та дошкільної освіти (ЗЗСДО)\n",
    "    https://data.gov.ua/dataset/bd70757a-ab49-46be-a650-608a9b3bd7b1\n",
    "    \n",
    "### Перелік закладів позашкільної освіти (державна форма власності)\n",
    "    https://data.gov.ua/dataset/9a88fb96-a043-4769-acf1-1c4a948ec285\n",
    "    Перелік закладів позашкільної освіти системи Міністерства освіти і науки України\n",
    "    https://data.gov.ua/dataset/18d7fb70-3781-4017-88d2-651e14d14211\n",
    "    Заклади професійної (професійно-технічної) освіти\n",
    "    https://data.gov.ua/dataset/824513a9-aa5e-45c8-b45e-dced6909761a\n",
    "\"\"\""
   ]
  },
  {
   "cell_type": "code",
   "execution_count": null,
   "metadata": {},
   "outputs": [],
   "source": [
    "\"\"\"\n",
    "df_raw - база даних завершених закупівель 24 обласних центрів з 1 серпня 2016 до 31 грудня 2019.\n",
    "В Донецькій області - Краматорськ. В Луганській - Сєвєродонецьк. \n",
    "Згерерована у Профейсійному модулі аналітики bipro.prozorro.\n",
    "\"ИдентификаторЛота\" є унікальним ідентифікатором рядка.\n",
    "\"\"\"  "
   ]
  },
  {
   "cell_type": "code",
   "execution_count": 3,
   "metadata": {
    "scrolled": false
   },
   "outputs": [
    {
     "name": "stdout",
     "output_type": "stream",
     "text": [
      "Дані з файлу викачки BIPro Prozorro: df_raw(537893, 11)\n"
     ]
    }
   ],
   "source": [
    "df_raw = pandas.read_csv('data/TrainingProZorroForSchoolProject20162019.csv', sep = ';', low_memory = False)\n",
    "training_data_columns = df_raw.columns.tolist()\n",
    "print(\"Дані з файлу викачки BIPro Prozorro: \" + \"df_raw\" + str(df_raw.shape))"
   ]
  },
  {
   "cell_type": "markdown",
   "metadata": {},
   "source": [
    "##### Step 0: Підготовка бази МОН для використання у фільтруванні закупівель"
   ]
  },
  {
   "cell_type": "code",
   "execution_count": 4,
   "metadata": {},
   "outputs": [],
   "source": [
    "expdata_sc = pandas.read_csv('data/mon_data/expdata_sc.csv', sep = ';', low_memory = False)\n",
    "expdata_dnz = pandas.read_csv('data/mon_data/expdata_dnz.csv', sep = ';', low_memory = False)"
   ]
  },
  {
   "cell_type": "code",
   "execution_count": 5,
   "metadata": {},
   "outputs": [
    {
     "name": "stdout",
     "output_type": "stream",
     "text": [
      "expdata_sc (15206, 21)\n"
     ]
    }
   ],
   "source": [
    "expdata_sc = expdata_sc.fillna(0)\n",
    "expdata_sc['edrpou'] = expdata_sc['edrpou'].astype(np.int64)\n",
    "mask = (expdata_sc['edrpou'].astype(str).str.len() == 7) | (expdata_sc['edrpou'].astype(str).str.len() == 8)\n",
    "expdata_sc = expdata_sc.loc[mask].sort_values(by=['edrpou'])\n",
    "print(\"expdata_sc\", expdata_sc.shape)"
   ]
  },
  {
   "cell_type": "code",
   "execution_count": 6,
   "metadata": {},
   "outputs": [
    {
     "name": "stdout",
     "output_type": "stream",
     "text": [
      "expdata_dnz (15745, 21)\n"
     ]
    }
   ],
   "source": [
    "expdata_dnz['edrpou'] = pd.to_numeric(expdata_dnz['edrpou'],errors='coerce')\n",
    "expdata_dnz = expdata_dnz.fillna(0)\n",
    "expdata_dnz['edrpou'] = expdata_dnz['edrpou'].astype(np.int64)\n",
    "mask = (expdata_dnz['edrpou'].astype(str).str.len() == 7) | (expdata_dnz['edrpou'].astype(str).str.len() == 8)\n",
    "expdata_dnz = expdata_dnz.loc[mask].sort_values(by=['edrpou'])\n",
    "print(\"expdata_dnz\", expdata_dnz.shape)"
   ]
  },
  {
   "cell_type": "code",
   "execution_count": 7,
   "metadata": {},
   "outputs": [
    {
     "name": "stdout",
     "output_type": "stream",
     "text": [
      "База МОН шкіл і садків з 7-8 значинми ЄДРПОУ, df_mon_data (30951, 22)\n"
     ]
    }
   ],
   "source": [
    "frames = [expdata_dnz, expdata_sc]\n",
    "df_mon_data = pd.concat(frames)\n",
    "print(\"База МОН шкіл і садків з 7-8 значинми ЄДРПОУ, df_mon_data\", df_mon_data.shape)"
   ]
  },
  {
   "cell_type": "code",
   "execution_count": 8,
   "metadata": {},
   "outputs": [
    {
     "name": "stderr",
     "output_type": "stream",
     "text": [
      "/home/artem/.local/lib/python3.6/site-packages/ipykernel_launcher.py:2: UserWarning: This pattern has match groups. To actually get the groups, use str.extract.\n",
      "  \n"
     ]
    },
    {
     "name": "stdout",
     "output_type": "stream",
     "text": [
      "edrpou_upravlin_osvity_prozorro 234\n",
      "df_mon_data_bez_upravlin_osvity (30881, 22)\n"
     ]
    }
   ],
   "source": [
    "filter_keywords_exclude = [\"департамент\", \"управлін.*освіт\", \"відділ.*освіт\"]\n",
    "df_raw_upravlin_osvity = df_raw[df_raw['Организатор'].astype(str).str.contains(r'({})'.format('|'.join(filter_keywords_exclude)), case = False, na = False, regex = True)]\n",
    "edrpou_upravlin_osvity_prozorro = df_raw_upravlin_osvity['IDOrganizator'].unique().tolist()\n",
    "print(\"edrpou_upravlin_osvity_prozorro\", len(edrpou_upravlin_osvity_prozorro))\n",
    "\n",
    "mask = (df_mon_data['edrpou'].isin(edrpou_upravlin_osvity_prozorro))\n",
    "df_mon_data_bez_upravlin_osvity = df_mon_data.loc[~mask]\n",
    "print(\"df_mon_data_bez_upravlin_osvity\", df_mon_data_bez_upravlin_osvity.shape)"
   ]
  },
  {
   "cell_type": "code",
   "execution_count": null,
   "metadata": {},
   "outputs": [],
   "source": [
    "\"\"\"\n",
    "TODO:\n",
    "    Артем: \n",
    "        створити базу управлінь освіти для формування переліку закупівель управлінь освіти \n",
    "        (закупівлі можуть дублюватись із закупівлями шкіл і садків)\n",
    "        ЄДРПОУ - Місто (для Києва - по районам, якщо можливо)\n",
    "\n",
    "\"\"\""
   ]
  },
  {
   "cell_type": "markdown",
   "metadata": {},
   "source": [
    "##### Step 1: Створити базу навчальних закладів, які самостійно купують через ProZorro. Виділення закупівель шкіл-замовників , згідно з базою МОН (пошук по колонці \"IDOrganizator\""
   ]
  },
  {
   "cell_type": "code",
   "execution_count": 9,
   "metadata": {
    "scrolled": true
   },
   "outputs": [
    {
     "name": "stdout",
     "output_type": "stream",
     "text": [
      "Закупівлі шкіл-замовників, визначених через МОН: df_tenders_by_schools_by_edrpou (32188, 11)\n",
      "Невизначені записи: df_undefined_1 (505705, 11)\n"
     ]
    }
   ],
   "source": [
    "mon_data = df_mon_data_bez_upravlin_osvity.edrpou.unique().tolist()\n",
    "# mon_data = get_mon_data()\n",
    "\n",
    "df_tenders_by_schools_by_edrpou = df_raw[df_raw['IDOrganizator'].isin(mon_data)]\n",
    "df_undefined_1 = df_raw[~df_raw['IDOrganizator'].isin(mon_data)]\n",
    "\n",
    "print(\"Закупівлі шкіл-замовників, визначених через МОН: df_tenders_by_schools_by_edrpou \" + str(df_tenders_by_schools_by_edrpou.shape))\n",
    "print(\"Невизначені записи: df_undefined_1 \" + str(df_undefined_1.shape))"
   ]
  },
  {
   "cell_type": "code",
   "execution_count": null,
   "metadata": {},
   "outputs": [],
   "source": [
    "# evaluation of results of Step 1\n",
    "\n",
    "# df_tenders_by_schools_by_edrpou['Организатор'].value_counts()"
   ]
  },
  {
   "cell_type": "code",
   "execution_count": 11,
   "metadata": {},
   "outputs": [],
   "source": [
    "# # Experiments Step 1\n",
    "\n",
    "# school_names = df_mon_data_bez_upravlin_osvity.university_name.tolist()\n",
    "# df_tenders_by_schools_by_name = df_raw[df_raw['Организатор'].isin(school_names)]\n",
    "# df_tenders_by_schools_by_name.shape\n",
    "\n",
    "# print(df_mon_data_bez_upravlin_osvity.columns)\n",
    "\n",
    "# cols = ['edrpou', 'university_name', 'university_type_name', 'education_type_name']\n",
    "# df_mon_data_bez_upravlin_osvity_for_merge = df_mon_data_bez_upravlin_osvity[cols]\n",
    "\n",
    "# df_tenders_by_schools_by_edrpou_extended = pd.merge(df_tenders_by_schools_by_edrpou, df_mon_data_bez_upravlin_osvity_merge, \n",
    "#                                                                                  left_on='IDOrganizator',\n",
    "#                                                                                  right_on='edrpou',\n",
    "#                                                                                  how='left') \n",
    "# df_tenders_by_schools_by_edrpou_extended.sample(3)"
   ]
  },
  {
   "cell_type": "markdown",
   "metadata": {},
   "source": [
    "##### Step 2: Виділення закупівель шкіл-замовників за допомогою пошуку ключових слів в колонці \"Организатор\" "
   ]
  },
  {
   "cell_type": "code",
   "execution_count": 12,
   "metadata": {},
   "outputs": [
    {
     "name": "stderr",
     "output_type": "stream",
     "text": [
      "/home/artem/.local/lib/python3.6/site-packages/ipykernel_launcher.py:1: UserWarning: This pattern has match groups. To actually get the groups, use str.extract.\n",
      "  \"\"\"Entry point for launching an IPython kernel.\n"
     ]
    },
    {
     "name": "stdout",
     "output_type": "stream",
     "text": [
      "Закупівлі шкіл-замовників, визначених через 'Организатор': df_tenders_by_schools_by_keywords (9351, 11)\n"
     ]
    }
   ],
   "source": [
    "df_tenders_by_schools_by_keywords = df_undefined_1[df_undefined_1['Организатор'].astype(str).str.contains(r'({})'.format('|'.join(filter_keywords)), case = False, na = False, regex = True) ]\n",
    "print(f\"Закупівлі шкіл-замовників, визначених через 'Организатор': df_tenders_by_schools_by_keywords {df_tenders_by_schools_by_keywords.shape}\")"
   ]
  },
  {
   "cell_type": "code",
   "execution_count": null,
   "metadata": {},
   "outputs": [],
   "source": [
    "# evalutaion #1 of results of Step 2\n",
    "# df_tenders_by_schools_by_keywords['Организатор'].value_counts()"
   ]
  },
  {
   "cell_type": "code",
   "execution_count": 13,
   "metadata": {
    "collapsed": true
   },
   "outputs": [
    {
     "name": "stdout",
     "output_type": "stream",
     "text": [
      "Видалення із датафрейму df_tenders_by_schools_by_keywords так званих 'професійних' навчальних закладів, (6890, 11) \n",
      "Додаткове фільтрування датафрейму: ['школа І-І.*ступенів', 'навчальн.*виховн.*комплекс', 'гімназ', 'ліце', 'дошкільний']. Залишилось:, (329, 11)\n"
     ]
    },
    {
     "name": "stderr",
     "output_type": "stream",
     "text": [
      "/home/artem/.local/lib/python3.6/site-packages/ipykernel_launcher.py:4: UserWarning: This pattern has match groups. To actually get the groups, use str.extract.\n",
      "  after removing the cwd from sys.path.\n",
      "/home/artem/.local/lib/python3.6/site-packages/ipykernel_launcher.py:6: UserWarning: This pattern has match groups. To actually get the groups, use str.extract.\n",
      "  \n"
     ]
    }
   ],
   "source": [
    "# solution for Step 2\n",
    "\n",
    "filter_keywords_step_2_exclude = ['професійн', 'міжшкільн']\n",
    "df_tenders_by_schools_by_keywords_2_temp = df_tenders_by_schools_by_keywords[~df_tenders_by_schools_by_keywords['Организатор'].astype(str).str.contains(r'({})'.format('|'.join(filter_keywords_step_2_exclude)), case = False, na = False, regex = True)]\n",
    "filter_keywords_step_2_include = [\"школа І-І.*ступенів\", \"навчальн.*виховн.*комплекс\", \"гімназ\", \"ліце\", \"дошкільний\"]\n",
    "df_tenders_by_schools_by_keywords_2 = df_tenders_by_schools_by_keywords_2_temp[df_tenders_by_schools_by_keywords_2_temp['Организатор'].astype(str).str.contains(r'({})'.format('|'.join(filter_keywords_step_2_include)), case = False, na = False, regex = True)]\n",
    "print(f\"Видалення із датафрейму df_tenders_by_schools_by_keywords так званих 'професійних' навчальних закладів, {df_tenders_by_schools_by_keywords_2_temp.shape} \\nДодаткове фільтрування датафрейму: {filter_keywords_step_2_include}. Залишилось:, {df_tenders_by_schools_by_keywords_2.shape}\")"
   ]
  },
  {
   "cell_type": "code",
   "execution_count": null,
   "metadata": {},
   "outputs": [],
   "source": [
    "\"\"\"\n",
    "TODO:\n",
    "    Артем: \n",
    "        Перевірити детально, чи не видаляє filter_keywords_step_2_exclude потрібні закупівлі\n",
    "\n",
    "\"\"\""
   ]
  },
  {
   "cell_type": "code",
   "execution_count": null,
   "metadata": {},
   "outputs": [],
   "source": [
    "# evalutaion #2 of results of Step 2\n",
    "\n",
    "# df_tenders_by_schools_by_keywords_2['Организатор'].value_counts()"
   ]
  },
  {
   "cell_type": "markdown",
   "metadata": {},
   "source": [
    "##### Step 2.5: Об'єднання двох датафреймів шкіл-замовників в один"
   ]
  },
  {
   "cell_type": "code",
   "execution_count": 14,
   "metadata": {},
   "outputs": [
    {
     "name": "stdout",
     "output_type": "stream",
     "text": [
      "Закупівлі шкіл-замовників: df_tenders_by_schools (32517, 11) \n",
      "Невизначені записи: df_undefined_1:(505705, 11)\n"
     ]
    }
   ],
   "source": [
    "df_tenders_by_schools = pandas.concat([df_tenders_by_schools_by_edrpou, df_tenders_by_schools_by_keywords_2])\n",
    "\n",
    "print(f\"Закупівлі шкіл-замовників: df_tenders_by_schools {df_tenders_by_schools.shape} \\nНевизначені записи: df_undefined_1:{df_undefined_1.shape}\")"
   ]
  },
  {
   "cell_type": "markdown",
   "metadata": {},
   "source": [
    "##### Step 3: Класифікація шкіл-замовників по типах"
   ]
  },
  {
   "cell_type": "code",
   "execution_count": 15,
   "metadata": {
    "collapsed": true
   },
   "outputs": [
    {
     "name": "stderr",
     "output_type": "stream",
     "text": [
      "/home/artem/projects/tmp/school-procurements/functions/functions_dataframe.py:51: SettingWithCopyWarning: \n",
      "A value is trying to be set on a copy of a slice from a DataFrame.\n",
      "Try using .loc[row_indexer,col_indexer] = value instead\n",
      "\n",
      "See the caveats in the documentation: http://pandas.pydata.org/pandas-docs/stable/indexing.html#indexing-view-versus-copy\n",
      "  given_df['Тип закладу'] = \"Невідомо\"\n",
      "/home/artem/projects/tmp/school-procurements/functions/functions_dataframe.py:54: SettingWithCopyWarning: \n",
      "A value is trying to be set on a copy of a slice from a DataFrame.\n",
      "Try using .loc[row_indexer,col_indexer] = value instead\n",
      "\n",
      "See the caveats in the documentation: http://pandas.pydata.org/pandas-docs/stable/indexing.html#indexing-view-versus-copy\n",
      "  given_df[column + \"_check\"] = \"\"\n",
      "/home/artem/projects/tmp/school-procurements/functions/functions_dataframe.py:60: UserWarning: This pattern has match groups. To actually get the groups, use str.extract.\n",
      "  case = False, na = False, regex = True)\n",
      "/home/artem/projects/tmp/school-procurements/functions/functions_dataframe.py:60: SettingWithCopyWarning: \n",
      "A value is trying to be set on a copy of a slice from a DataFrame.\n",
      "Try using .loc[row_indexer,col_indexer] = value instead\n",
      "\n",
      "See the caveats in the documentation: http://pandas.pydata.org/pandas-docs/stable/indexing.html#indexing-view-versus-copy\n",
      "  case = False, na = False, regex = True)\n",
      "/home/artem/projects/tmp/school-procurements/functions/functions_dataframe.py:63: SettingWithCopyWarning: \n",
      "A value is trying to be set on a copy of a slice from a DataFrame.\n",
      "Try using .loc[row_indexer,col_indexer] = value instead\n",
      "\n",
      "See the caveats in the documentation: http://pandas.pydata.org/pandas-docs/stable/indexing.html#indexing-view-versus-copy\n",
      "  given_df['Тип закладу'] = np.where(given_df['Организатор_check'] == True, checked_name, given_df['Тип закладу'])\n"
     ]
    }
   ],
   "source": [
    "columns_to_classify = ['Организатор']\n",
    "df_tenders_by_schools_classified = classification_by_type_one_column(df_tenders_by_schools, columns_to_classify, filter_priority, filter_name_priority)"
   ]
  },
  {
   "cell_type": "code",
   "execution_count": null,
   "metadata": {},
   "outputs": [],
   "source": [
    "# evaluation of Step 3\n",
    "\n",
    "# pd.set_option(\"display.max_colwidth\", 200)\n",
    "# print(\"Заклади, де не визначений тип:\")\n",
    "# df_tenders_by_schools_classified[df_tenders_by_schools_classified['Тип закладу'] == 'Невідомо']['Организатор'].unique().tolist()"
   ]
  },
  {
   "cell_type": "markdown",
   "metadata": {},
   "source": [
    "##### Step 4: Нумерація шкіл-замовників"
   ]
  },
  {
   "cell_type": "code",
   "execution_count": 16,
   "metadata": {},
   "outputs": [
    {
     "name": "stderr",
     "output_type": "stream",
     "text": [
      "/home/artem/projects/tmp/school-procurements/functions/functions_dataframe.py:69: SettingWithCopyWarning: \n",
      "A value is trying to be set on a copy of a slice from a DataFrame.\n",
      "Try using .loc[row_indexer,col_indexer] = value instead\n",
      "\n",
      "See the caveats in the documentation: http://pandas.pydata.org/pandas-docs/stable/indexing.html#indexing-view-versus-copy\n",
      "  given_df['Номер'] = given_df[column].str.findall(f\"{regex}\", flags = re.IGNORECASE).apply(''.join)\n"
     ]
    }
   ],
   "source": [
    "columns_to_numerate = ['Организатор']\n",
    "df_tenders_by_schools_numerated = numeration_one_column(df_tenders_by_schools_classified, columns_to_numerate, reg_number)"
   ]
  },
  {
   "cell_type": "markdown",
   "metadata": {},
   "source": [
    "##### Step 4.5: Найменування шкіл-замовників"
   ]
  },
  {
   "cell_type": "code",
   "execution_count": 17,
   "metadata": {},
   "outputs": [
    {
     "name": "stderr",
     "output_type": "stream",
     "text": [
      "/home/artem/projects/tmp/school-procurements/functions/functions_dataframe.py:82: SettingWithCopyWarning: \n",
      "A value is trying to be set on a copy of a slice from a DataFrame.\n",
      "Try using .loc[row_indexer,col_indexer] = value instead\n",
      "\n",
      "See the caveats in the documentation: http://pandas.pydata.org/pandas-docs/stable/indexing.html#indexing-view-versus-copy\n",
      "  given_df['Назва'] = given_df[column].str.findall(f\"{regex}\", flags = re.IGNORECASE).str[0].str[-1]\n"
     ]
    }
   ],
   "source": [
    "columns_to_name = ['Организатор']\n",
    "df_tenders_by_schools_named = naming_one_column(df_tenders_by_schools_numerated, columns_to_name, reg_quotes)"
   ]
  },
  {
   "cell_type": "code",
   "execution_count": 18,
   "metadata": {},
   "outputs": [
    {
     "name": "stdout",
     "output_type": "stream",
     "text": [
      "filter_poza\n",
      "Було закупівель (32517, 15)\n"
     ]
    },
    {
     "name": "stderr",
     "output_type": "stream",
     "text": [
      "/home/artem/.local/lib/python3.6/site-packages/ipykernel_launcher.py:4: UserWarning: This pattern has match groups. To actually get the groups, use str.extract.\n",
      "  after removing the cwd from sys.path.\n"
     ]
    },
    {
     "name": "stdout",
     "output_type": "stream",
     "text": [
      "Залишилось закупівель після видалення закупівель закладів ключовими словами ['художн', 'мистецтв', 'дхш', 'дмш', 'музич', 'юнацьк.*спортивн', 'дюсш', 'дитяч.*спортивн'], \n",
      "df_tenders_by_schools_named (31859, 15)\n"
     ]
    },
    {
     "name": "stderr",
     "output_type": "stream",
     "text": [
      "/home/artem/.local/lib/python3.6/site-packages/ipykernel_launcher.py:5: SettingWithCopyWarning: \n",
      "A value is trying to be set on a copy of a slice from a DataFrame.\n",
      "Try using .loc[row_indexer,col_indexer] = value instead\n",
      "\n",
      "See the caveats in the documentation: http://pandas.pydata.org/pandas-docs/stable/indexing.html#indexing-view-versus-copy\n",
      "  \"\"\"\n"
     ]
    }
   ],
   "source": [
    "print('filter_poza', )\n",
    "print('Було закупівель', df_tenders_by_schools_named.shape)\n",
    "df_tenders_by_schools_named = df_tenders_by_schools_named[~df_tenders_by_schools_named['Организатор'].astype(str).str.contains(r'({})'.format('|'.join(filter_poza)),\n",
    "                case = False, na = False, regex = True)]\n",
    "df_tenders_by_schools_named['Номер'] = df_tenders_by_schools_named['Номер'].replace(r'^\\s*$', np.nan, regex=True) # перетворити пусті строки в NaN\n",
    "print(f'Залишилось закупівель після видалення закупівель закладів ключовими словами {filter_poza}, \\ndf_tenders_by_schools_named', df_tenders_by_schools_named.shape)"
   ]
  },
  {
   "cell_type": "code",
   "execution_count": null,
   "metadata": {},
   "outputs": [],
   "source": [
    "# # evaluation of Step 4\n",
    "\n",
    "# for_analysis_step_4 = df_tenders_by_schools_named[df_tenders_by_schools_named['Назва'].isnull() & \n",
    "#                                   df_tenders_by_schools_named['Номер'].isnull()]\n",
    "# print('Навчальні заклади, де не визначились номер чи назва:')\n",
    "# for_analysis_step_4['Организатор'].unique().tolist()"
   ]
  },
  {
   "cell_type": "markdown",
   "metadata": {},
   "source": [
    "##### Step 4.9: Форматування бази шкіл-замовників"
   ]
  },
  {
   "cell_type": "code",
   "execution_count": 19,
   "metadata": {},
   "outputs": [],
   "source": [
    "df_tenders_by_schools = df_tenders_by_schools_named.copy()\n",
    "df_tenders_by_schools['Заклад-замовник'] = True\n",
    "\n",
    "col_names = training_data_columns.copy() \n",
    "col_names += ['Номер', 'Назва', 'Тип закладу', 'Заклад-замовник']\n",
    "\n",
    "df_tenders_by_schools = df_tenders_by_schools[col_names]"
   ]
  },
  {
   "cell_type": "markdown",
   "metadata": {},
   "source": [
    "##### Step 5: Виділення закупівель шкіл-не-замовників за допомогою пошуку ключових слів в колонках Тендер, ОписаниеТендера, Лот"
   ]
  },
  {
   "cell_type": "code",
   "execution_count": 20,
   "metadata": {},
   "outputs": [
    {
     "name": "stderr",
     "output_type": "stream",
     "text": [
      "/home/artem/.local/lib/python3.6/site-packages/ipykernel_launcher.py:8: UserWarning: This pattern has match groups. To actually get the groups, use str.extract.\n",
      "  \n",
      "/home/artem/.local/lib/python3.6/site-packages/ipykernel_launcher.py:9: UserWarning: This pattern has match groups. To actually get the groups, use str.extract.\n",
      "  if __name__ == '__main__':\n"
     ]
    },
    {
     "name": "stdout",
     "output_type": "stream",
     "text": [
      "Закупівлі шкіл-не-замовників, визначених через Тендер, Лот, ОписаниеТендера: df_tenders_by_schools_by_keywords (28708, 11)\n"
     ]
    }
   ],
   "source": [
    "df_tenders_not_by_schools_by_keywords = df_undefined_1[df_undefined_1['Тендер'].astype(str).str.contains(r'({})'.format('|'.join(filter_keywords_extended)), \n",
    "            case = False, na = False, regex = True)  | \n",
    "                                                      df_undefined_1['ОписаниеТендера'].astype(str).str.contains(r'({})'.format('|'.join(filter_keywords_extended)), \n",
    "            case = False, na = False, regex = True) | \n",
    "                                                      df_undefined_1['Лот'].astype(str).str.contains(r'({})'.format('|'.join(filter_keywords_extended)), \n",
    "            case = False, na = False, regex = True) | df_undefined_1['Тендер'].astype(str).str.contains(r'(/b{}/b)'.format('|'.join(filter_keywords_strict_extended)), \n",
    "            case = False, na = False, regex = True) | df_undefined_1['ОписаниеТендера'].astype(str).str.contains(r'(/b{}/b)'.format('|'.join(filter_keywords_strict_extended)), \n",
    "            case = False, na = False, regex = True) | df_undefined_1['Лот'].astype(str).str.contains(r'(/b{}/b)'.format('|'.join(filter_keywords_strict_extended)), \n",
    "            case = False, na = False, regex = True)]\n",
    "\n",
    "print(\"Закупівлі шкіл-не-замовників, визначених через Тендер, Лот, ОписаниеТендера: df_tenders_by_schools_by_keywords \" + str(df_tenders_not_by_schools_by_keywords.shape))"
   ]
  },
  {
   "cell_type": "code",
   "execution_count": null,
   "metadata": {},
   "outputs": [],
   "source": [
    "# evaluation of Step 5\n",
    "\n",
    "# df_tenders_not_by_schools_by_keywords"
   ]
  },
  {
   "cell_type": "markdown",
   "metadata": {},
   "source": [
    "##### Step 6: Класифікація шкіл-не-замовників по типах"
   ]
  },
  {
   "cell_type": "code",
   "execution_count": 21,
   "metadata": {},
   "outputs": [],
   "source": [
    "# тимчасово винсені з filters_lists фільтри сюди для тестування порядковості\n",
    "\n",
    "filter_priority = [\n",
    "        filter_nvk,\n",
    "        filter_gimnasium,\n",
    "        filter_liceum,\n",
    "        filter_specializovana,\n",
    "        filter_internat,\n",
    "        filter_kombinat,\n",
    "        filter_sanatorna,\n",
    "        filter_specializovana,\n",
    "        filter_specialna,\n",
    "        filter_sadik,\n",
    "        filter_shkola \n",
    "    ]\n",
    "\n",
    "filter_name_priority = [\n",
    "        filter_nvk_name,\n",
    "        filter_gimnasium_name,\n",
    "        filter_liceum_name,\n",
    "        filter_specializovana_name,\n",
    "        filter_internat_name,\n",
    "        filter_kombinat_name,\n",
    "        filter_sanatorna_name,\n",
    "        filter_specializovana_name,\n",
    "        filter_specialna_name,\n",
    "        filter_sadik_name,\n",
    "        filter_shkola_name\n",
    "    ]"
   ]
  },
  {
   "cell_type": "code",
   "execution_count": 22,
   "metadata": {
    "collapsed": true
   },
   "outputs": [
    {
     "name": "stderr",
     "output_type": "stream",
     "text": [
      "/home/artem/projects/tmp/school-procurements/functions/functions_dataframe.py:31: SettingWithCopyWarning: \n",
      "A value is trying to be set on a copy of a slice from a DataFrame.\n",
      "Try using .loc[row_indexer,col_indexer] = value instead\n",
      "\n",
      "See the caveats in the documentation: http://pandas.pydata.org/pandas-docs/stable/indexing.html#indexing-view-versus-copy\n",
      "  given_df['Тип закладу'] = \"Невідомо\"\n",
      "/home/artem/projects/tmp/school-procurements/functions/functions_dataframe.py:34: SettingWithCopyWarning: \n",
      "A value is trying to be set on a copy of a slice from a DataFrame.\n",
      "Try using .loc[row_indexer,col_indexer] = value instead\n",
      "\n",
      "See the caveats in the documentation: http://pandas.pydata.org/pandas-docs/stable/indexing.html#indexing-view-versus-copy\n",
      "  given_df[column + \"_check\"] = \"\"\n",
      "/home/artem/projects/tmp/school-procurements/functions/functions_dataframe.py:40: UserWarning: This pattern has match groups. To actually get the groups, use str.extract.\n",
      "  case = False, na = False, regex = True)\n",
      "/home/artem/projects/tmp/school-procurements/functions/functions_dataframe.py:40: SettingWithCopyWarning: \n",
      "A value is trying to be set on a copy of a slice from a DataFrame.\n",
      "Try using .loc[row_indexer,col_indexer] = value instead\n",
      "\n",
      "See the caveats in the documentation: http://pandas.pydata.org/pandas-docs/stable/indexing.html#indexing-view-versus-copy\n",
      "  case = False, na = False, regex = True)\n",
      "/home/artem/projects/tmp/school-procurements/functions/functions_dataframe.py:43: SettingWithCopyWarning: \n",
      "A value is trying to be set on a copy of a slice from a DataFrame.\n",
      "Try using .loc[row_indexer,col_indexer] = value instead\n",
      "\n",
      "See the caveats in the documentation: http://pandas.pydata.org/pandas-docs/stable/indexing.html#indexing-view-versus-copy\n",
      "  given_df['Тип закладу'] = np.where((given_df['Тендер_check'] == True) | (given_df['ОписаниеТендера_check'] == True) | (given_df['Лот_check'] == True), checked_name, given_df['Тип закладу'])\n"
     ]
    }
   ],
   "source": [
    "columns_to_classify = ['Тендер', 'ОписаниеТендера', 'Лот']\n",
    "df_tenders_not_by_schools_classified = classification_by_type_three_cols(df_tenders_not_by_schools_by_keywords, columns_to_classify, filter_priority, filter_name_priority)"
   ]
  },
  {
   "cell_type": "code",
   "execution_count": null,
   "metadata": {},
   "outputs": [],
   "source": [
    "# # evaluation of Step 6\n",
    "\n",
    "# pd.set_option(\"display.max_colwidth\", 200)\n",
    "\n",
    "# type_sample = 'Інтернат'\n",
    "# df_tenders_not_by_schools_classified[df_tenders_not_by_schools_classified['Тип закладу'] == type_sample][['Тендер', 'ОписаниеТендера', 'Лот', 'Тип закладу']].sort_values(by=['Тип закладу'])\n",
    "# df_tenders_not_by_schools_classified['Тип закладу'].value_counts()"
   ]
  },
  {
   "cell_type": "markdown",
   "metadata": {},
   "source": [
    "##### Step 7: Нумерація шкіл-не-замовників"
   ]
  },
  {
   "cell_type": "code",
   "execution_count": 23,
   "metadata": {},
   "outputs": [
    {
     "name": "stdout",
     "output_type": "stream",
     "text": [
      "df_step7_numerated (23695, 19)\n"
     ]
    }
   ],
   "source": [
    "\"\"\"\n",
    "Принцип фільтрування в функції numeration():\n",
    "\n",
    "    Визначається наявністья символу № в кожній колонці columns_to_numerate_step7\n",
    "    \n",
    "    Регулярний вираз знаходить всі паттерни і джойнить через кому\n",
    "    \n",
    "    Паралельно створюється колонка, де рахується кількість знайдених паттернів\n",
    "    \n",
    "    Результат фільтрування numeration() - потрапляє у датафрейм df_step7_numerated\n",
    "\"\"\"\n",
    "columns_to_numerate_step7 = ['Тендер', 'Лот']\n",
    "action_mark = 'numeration'\n",
    "df_step7 = df_tenders_not_by_schools_classified[df_tenders_not_by_schools_classified['Тип закладу'] != 'Невідомо'].copy()\n",
    "\n",
    "df_step7_numerated = numeration(df_step7, columns_to_numerate_step7, reg_number, action_mark)\n",
    "print(\"df_step7_numerated\", df_step7_numerated.shape)"
   ]
  },
  {
   "cell_type": "code",
   "execution_count": 24,
   "metadata": {},
   "outputs": [
    {
     "name": "stdout",
     "output_type": "stream",
     "text": [
      "df_step7_numerated_lot_tender (17104, 20) \n",
      "df_step7_numerated_undefined (6591, 20)\n"
     ]
    }
   ],
   "source": [
    "\"\"\"\n",
    "    Якщо в колонках Лот і Тендер знайшло по одному паттерну і вони однакові - \n",
    "    закупівля вважається такою, де коректно визначений номер\n",
    "\n",
    "    Ці закупівлі потрапляють до датафрейму df_step7_numerated_lot_tender\n",
    "\n",
    "    Колонка \"Номер\" отримує знайдений номер \"Лот_numeration\"\n",
    "\n",
    "    Решта закупівель потрапляють до датафрейму df_step7_numerated_undefined.\n",
    "\"\"\"\n",
    "\n",
    "df_step7_numerated['Номер'] = np.where(((df_step7_numerated['Тендер_numeration_count'] == 1) | \n",
    "                                        (df_step7_numerated['Лот_numeration_count'] == 1)) & \n",
    "                                        (df_step7_numerated['Лот_numeration_count'] == df_step7_numerated['Тендер_numeration_count']), \n",
    "                                        df_step7_numerated['Лот_numeration'], \n",
    "                                        'Невідомо')\n",
    "\n",
    "df_step7_numerated_lot_tender = df_step7_numerated[df_step7_numerated['Номер'] != 'Невідомо']\n",
    "\n",
    "df_step7_numerated_undefined = df_step7_numerated[df_step7_numerated['Номер'] == 'Невідомо']\n",
    "\n",
    "print(\"df_step7_numerated_lot_tender\", df_step7_numerated_lot_tender.shape, \"\\ndf_step7_numerated_undefined\", df_step7_numerated_undefined.shape)"
   ]
  },
  {
   "cell_type": "code",
   "execution_count": 25,
   "metadata": {},
   "outputs": [
    {
     "name": "stdout",
     "output_type": "stream",
     "text": [
      "df_step7_numerated_lot (527, 20) \n",
      "df_step7_numerated_undefined_2 (6064, 20)\n"
     ]
    }
   ],
   "source": [
    "\"\"\"\n",
    "    Якщо в колонці Лот знайдений один паттерн - \n",
    "    закупівля потрапляють до датафрейму df_step7_numerated_lot\n",
    "    \n",
    "    Решта закупівель потрапляють до датафрейму до df_step7_numerated_undefined_2\n",
    "\"\"\"\n",
    "\n",
    "df_step7_numerated_lot = df_step7_numerated_undefined.copy()\n",
    "\n",
    "df_step7_numerated_lot['Номер'] = np.where(df_step7_numerated_lot['Лот_numeration_count'] == 1, \n",
    "                                                 df_step7_numerated_lot['Лот_numeration'], \n",
    "                                                 'Невідомо')\n",
    "\n",
    "df_step7_numerated_undefined_2 = df_step7_numerated_lot[df_step7_numerated_lot['Номер'] == 'Невідомо']\n",
    "df_step7_numerated_lot = df_step7_numerated_lot[df_step7_numerated_lot['Номер'] != 'Невідомо']\n",
    "\n",
    "print(\"df_step7_numerated_lot\", df_step7_numerated_lot.shape, \"\\ndf_step7_numerated_undefined_2\", df_step7_numerated_undefined_2.shape)"
   ]
  },
  {
   "cell_type": "code",
   "execution_count": 26,
   "metadata": {},
   "outputs": [
    {
     "name": "stdout",
     "output_type": "stream",
     "text": [
      "df_step7_numerated_tender (25, 20) \n",
      "df_step7_numerated_undefined_3 (6039, 20)\n"
     ]
    }
   ],
   "source": [
    "\"\"\"\n",
    "    Якщо в колонці Тендер знайдений один паттерн - \n",
    "    закупівля потрапляють до датафрейму df_step7_numerated_tender\n",
    "    \n",
    "    Решта закупівель потрапляють до датафрейму до df_step7_numerated_undefined_3\n",
    "\"\"\"\n",
    "df_step7_numerated_tender = df_step7_numerated_undefined_2.copy()\n",
    "\n",
    "df_step7_numerated_tender['Номер'] = np.where(df_step7_numerated_tender['Тендер_numeration_count'] == 1, \n",
    "                                                 df_step7_numerated_tender['Тендер_numeration'], \n",
    "                                                 'Невідомо')\n",
    "df_step7_numerated_undefined_3 = df_step7_numerated_tender[df_step7_numerated_tender['Номер'] == 'Невідомо']\n",
    "df_step7_numerated_tender = df_step7_numerated_tender[df_step7_numerated_tender['Номер'] != 'Невідомо']\n",
    "\n",
    "print(\"df_step7_numerated_tender\", df_step7_numerated_tender.shape, \"\\ndf_step7_numerated_undefined_3\", df_step7_numerated_undefined_3.shape)"
   ]
  },
  {
   "cell_type": "markdown",
   "metadata": {},
   "source": [
    "##### Step 7.5: Об'єднання датафреймів шкіл-не-замовників з номерами"
   ]
  },
  {
   "cell_type": "code",
   "execution_count": 27,
   "metadata": {},
   "outputs": [],
   "source": [
    "frames = [df_step7_numerated_lot_tender, df_step7_numerated_lot, df_step7_numerated_tender]\n",
    "df_tenders_not_by_schools_numerated = pd.concat(frames)\n",
    "df_tenders_not_by_schools_numerated['Назва'] = np.nan # Створення пустої колонки \"Назва\" для подальшого обєднання з датафреймом з номерами"
   ]
  },
  {
   "cell_type": "markdown",
   "metadata": {},
   "source": [
    "##### Step 8: Найменування шкіл-не-замовників"
   ]
  },
  {
   "cell_type": "code",
   "execution_count": 62,
   "metadata": {},
   "outputs": [
    {
     "name": "stdout",
     "output_type": "stream",
     "text": [
      "df_tenders_not_by_schools_named (6039, 22)\n"
     ]
    }
   ],
   "source": [
    "columns_to_classify_step8 = ['Тендер', 'Лот']\n",
    "action_mark = 'naming'\n",
    "df_step8 = df_step7_numerated_undefined_3.copy()\n",
    "\n",
    "df_tenders_not_by_schools_named = naming(df_step8, columns_to_classify_step8, reg_quotes, action_mark)\n",
    "print(\"df_tenders_not_by_schools_named\", df_tenders_not_by_schools_named.shape)"
   ]
  },
  {
   "cell_type": "code",
   "execution_count": 63,
   "metadata": {},
   "outputs": [],
   "source": [
    "df_tenders_not_by_schools_named['Назва'] = np.where((df_tenders_not_by_schools_named['Тендер_naming'].notnull()) & \n",
    "                             (df_tenders_not_by_schools_named['Лот_naming'].notnull()) & \n",
    "                             (df_tenders_not_by_schools_named['Тендер_naming'] == df_tenders_not_by_schools_named['Лот_naming']),\n",
    "                             df_tenders_not_by_schools_named['Тендер_naming'], \n",
    "                             'Невідомо')\n",
    "\n",
    "df_step8_undefined = df_tenders_not_by_schools_named[df_tenders_not_by_schools_named['Назва'] == 'Невідомо']\n",
    "df_tenders_not_by_schools_named = df_tenders_not_by_schools_named[df_tenders_not_by_schools_named['Назва'] != 'Невідомо']"
   ]
  },
  {
   "cell_type": "markdown",
   "metadata": {},
   "source": [
    "##### Step 9: Об'єднання двох датафреймів шкіл-не-замовників"
   ]
  },
  {
   "cell_type": "code",
   "execution_count": 30,
   "metadata": {},
   "outputs": [],
   "source": [
    "frames = [df_tenders_not_by_schools_numerated, df_tenders_not_by_schools_named]\n",
    "df_tenders_not_by_schools = pd.concat(frames)"
   ]
  },
  {
   "cell_type": "code",
   "execution_count": 31,
   "metadata": {},
   "outputs": [],
   "source": [
    "df_tenders_not_by_schools['Заклад-замовник'] = False"
   ]
  },
  {
   "cell_type": "code",
   "execution_count": 32,
   "metadata": {},
   "outputs": [
    {
     "name": "stdout",
     "output_type": "stream",
     "text": [
      "df_tenders_not_by_schools_numerated (17656, 21)\n"
     ]
    }
   ],
   "source": [
    "df_tenders_not_by_schools = df_tenders_not_by_schools[col_names]\n",
    "print(\"df_tenders_not_by_schools_numerated\", df_tenders_not_by_schools_numerated.shape)"
   ]
  },
  {
   "cell_type": "markdown",
   "metadata": {},
   "source": [
    "##### Step 9.5: Мердження Номеру і Назви у датафреймах у одну колонку Номер/Назва \n",
    "##### DO NOT RUN"
   ]
  },
  {
   "cell_type": "code",
   "execution_count": 52,
   "metadata": {},
   "outputs": [],
   "source": [
    "# \"\"\"\n",
    "# У датафреймі Шкіл-замовників df_tenders_by_schools_temp в рядках, \n",
    "#     - де Номер не визначився, присвоюється Назва\n",
    "#     - де Назва не визначилась, присвоюється поле Організатор\n",
    "# \"\"\"\n",
    "\n",
    "# df_tenders_by_schools_temp = df_tenders_by_schools.copy()\n",
    "# df_tenders_by_schools_temp['Номер/Назва'] = np.where(df_tenders_by_schools_temp['Номер'].notnull(), df_tenders_by_schools_temp['Номер'], df_tenders_by_schools_temp['Назва'])\n",
    "# df_tenders_by_schools_temp['Номер/Назва'] = np.where(df_tenders_by_schools_temp['Номер/Назва'].isnull(), df_tenders_by_schools_temp['Организатор'], df_tenders_by_schools_temp['Номер/Назва'])"
   ]
  },
  {
   "cell_type": "code",
   "execution_count": 53,
   "metadata": {},
   "outputs": [],
   "source": [
    "# \"\"\"\n",
    "# У датафреймі Шкіл-не-замовників df_tenders_not_by_schools в рядках, \n",
    "#     - де Номер не визначився, присвоюється Назва\n",
    "#     - де Назва не визначилась, присвоюється поле Організатор\n",
    "\n",
    "# В колонці 'Номер/Назва' значення \"Невідомо\" фактично означає закупівлю для кількох закладів освіти\n",
    "\n",
    "# \"\"\"\n",
    "\n",
    "# df_tenders_not_by_schools_temp = df_tenders_not_by_schools.copy()\n",
    "# df_tenders_not_by_schools_temp['Номер/Назва'] = np.where(df_tenders_not_by_schools_temp['Номер'].notnull(), df_tenders_not_by_schools_temp['Номер'], df_tenders_not_by_schools_temp['Назва'])"
   ]
  },
  {
   "cell_type": "markdown",
   "metadata": {},
   "source": [
    "##### Step 10: Об'єднання датафреймів шкіл-не-замовників та шкіл-замовників"
   ]
  },
  {
   "cell_type": "code",
   "execution_count": 54,
   "metadata": {},
   "outputs": [
    {
     "name": "stdout",
     "output_type": "stream",
     "text": [
      "df_tenders (55554, 15)\n"
     ]
    }
   ],
   "source": [
    "frames = [df_tenders_by_schools, df_tenders_not_by_schools]\n",
    "df_tenders = pd.concat(frames)\n",
    "print(\"df_tenders\", df_tenders.shape)"
   ]
  },
  {
   "cell_type": "code",
   "execution_count": 55,
   "metadata": {},
   "outputs": [
    {
     "name": "stdout",
     "output_type": "stream",
     "text": [
      "df_tenders_filtered_1: (1000, 16) \n",
      "Cols: Index(['ИдентификаторЛота', 'Идентификатор', 'Организатор', 'Тендер',\n",
      "       'СуммаЛота', 'ОписаниеТендера', 'Лот', 'Адрес поставки',\n",
      "       'АдресОрганизатора', 'Главный орган', 'IDOrganizator', 'Номер', 'Назва',\n",
      "       'Тип закладу', 'Заклад-замовник', 'Correct'],\n",
      "      dtype='object')\n"
     ]
    }
   ],
   "source": [
    "df_tenders_filtered_1 = df_tenders.sample(1000)\n",
    "df_tenders_filtered_1['Correct'] = 'undefined'\n",
    "print(\"df_tenders_filtered_1:\", df_tenders_filtered_1.shape, \"\\nCols:\", df_tenders_filtered_1.columns)\n",
    "# df_tenders_filtered_1.to_csv('results/school-procurements-1000-random.csv', sep=';')"
   ]
  },
  {
   "cell_type": "markdown",
   "metadata": {},
   "source": [
    "#### Step 11: RandomDataResuls"
   ]
  },
  {
   "cell_type": "code",
   "execution_count": 48,
   "metadata": {},
   "outputs": [
    {
     "name": "stdout",
     "output_type": "stream",
     "text": [
      "(1000, 8)\n"
     ]
    }
   ],
   "source": [
    "\"\"\"\n",
    "Колонка Correct:\n",
    "    1 - коректо визначено\n",
    "    \n",
    "    Некоректно:\n",
    "        2 - номер визначений неправильно:\n",
    "            \n",
    "            21 - відсутній символ №\n",
    "            22 - кілька символів №\n",
    "            23 - без лапок\n",
    "            24 - номер чи назва в колонці Описание Тендер\n",
    "            25 - лапки не визначились\n",
    "            26 - кілька лапок\n",
    "        \n",
    "        3 - неправильно тип закладу\n",
    "\"\"\"\n",
    "\n",
    "random_1000_results = pandas.read_csv('results/school-procurements-1000-random-marked.csv', index_col = 0, error_bad_lines=False, sep = ',', low_memory = False)\n",
    "random_1000_results = random_1000_results.iloc[:, :-1]\n",
    "print(random_1000_results.shape)"
   ]
  },
  {
   "cell_type": "code",
   "execution_count": 51,
   "metadata": {
    "scrolled": true
   },
   "outputs": [
    {
     "data": {
      "text/plain": [
       "1     830\n",
       "3     103\n",
       "25     23\n",
       "24     13\n",
       "22     11\n",
       "!      10\n",
       "21      5\n",
       "23      4\n",
       "26      1\n",
       "Name: Correct, dtype: int64"
      ]
     },
     "execution_count": 51,
     "metadata": {},
     "output_type": "execute_result"
    }
   ],
   "source": [
    "# random_1000_results.index.values.tolist()\n",
    "random_1000_results.Correct.value_counts()"
   ]
  },
  {
   "cell_type": "code",
   "execution_count": null,
   "metadata": {},
   "outputs": [],
   "source": [
    "\"\"\"\n",
    "TODO\n",
    "\"\"\""
   ]
  },
  {
   "cell_type": "code",
   "execution_count": null,
   "metadata": {},
   "outputs": [],
   "source": [
    "\"\"\"\n",
    "    Correct mark #21:\n",
    "        Зміни у Step 7:\n",
    "            мабуть рішенням є регулярний вираз, який би відбирав 1-3 значне число,\n",
    "            яке знаходить відразу після ключового слова.\n",
    "            Можливо відстань рахувати між знайденими ключовими словами?\n",
    "                приклад index 4337: \"Капітальний ремонт будівлі ДНЗ 126\"\n",
    "            \n",
    "\"\"\"\n",
    "# random_1000_results[random_1000_results.Correct=='21']"
   ]
  },
  {
   "cell_type": "code",
   "execution_count": null,
   "metadata": {},
   "outputs": [],
   "source": [
    "\"\"\"\n",
    "    Correct mark #22:\n",
    "        Зміни у Step 7:\n",
    "            мабуть рішенням є регулярний вираз, який би шукав число з символом №,\n",
    "            яке знаходиться ПІСЛЯ знайденого ключового слова, а не ДО. І він має бути тільки один.\n",
    "            Можливо відстань рахувати між знайденими ключовими словами?\n",
    "                приклад index 78075: \"Лот №58 крупи та борошно, НВК №8\"\n",
    "            \n",
    "\"\"\"\n",
    "# random_1000_results[random_1000_results.Correct=='22']"
   ]
  },
  {
   "cell_type": "code",
   "execution_count": null,
   "metadata": {},
   "outputs": [],
   "source": [
    "\"\"\"\n",
    "    Correct mark #23:\n",
    "        Закупівлі потрапляють до датафрейму так званих закупівель Управлінь освіти (відповідно до свого міста)\n",
    "\"\"\"\n",
    "# random_1000_results[random_1000_results.Correct=='23']"
   ]
  },
  {
   "cell_type": "code",
   "execution_count": null,
   "metadata": {},
   "outputs": [],
   "source": [
    "\"\"\"\n",
    "    Correct mark #24:\n",
    "        Переписати Step 7: додати пошук номеру в колонці ОписаниеТендера\n",
    "\"\"\"\n",
    "# random_1000_results[random_1000_results.Correct=='24']"
   ]
  },
  {
   "cell_type": "code",
   "execution_count": null,
   "metadata": {},
   "outputs": [],
   "source": [
    "\"\"\"\n",
    "    Correct marks #25, #26:\n",
    "        Для шкіл-не-замовників у Step 8\n",
    "            1. Додати додаткові паттерни для регулярних виразів з лапками (зараз тільки \"\")\n",
    "            2. Додати find_all за цим паттерном в Тендер (і можливо Лот - треба ще дослідити різницю)\n",
    "            3. Порахувати кількість знайдених паттернів по кожному рядку (все, що не дорівнює 1 -відкидається)\n",
    "            4. Порахувати кількість знайдених слів (!попередньо дослідити результати)\n",
    "        Для шкіл-замовників у Step 4.5\n",
    "            1. Додати регулярний вираз для шкіл-замовників:\n",
    "                «» - якщо 1 паттерн (приклад 110177 «Дивосвіт»)\n",
    "                '' - дослідити, що тут виловлює і чи доцільно\n",
    "                \" \"\" \" | « «» » - зрозуміти, як виловлювати лапки в лапках і чи доцільно\n",
    "                            приклад index 378602: КОМУНАЛЬНИЙ ЗАКЛАД \"ЛІЦЕЙ \"СОКІЛ\" МІСЬКОЇ РАДИ МІСТА КРОПИВНИЦЬКОГО\")\n",
    "                            приклад index 49698: ДК 021: 2015 код 45450000-6 «Інші завершальні роботи» (Поточний ремонт приміщень гімназії «Київська Русь» Дарницького району м. Києва)\n",
    "\"\"\"\n",
    "# random_1000_results[(random_1000_results.Correct=='25') | (random_1000_results.Correct=='26')]"
   ]
  },
  {
   "cell_type": "code",
   "execution_count": null,
   "metadata": {},
   "outputs": [],
   "source": [
    "\"\"\"\n",
    "    Correct mark #3:\n",
    "        Зміни у Step 3:\n",
    "            порядок filter_priority змінити\n",
    "            \n",
    "\"\"\"\n",
    "# random_1000_results[random_1000_results.Correct=='3']"
   ]
  },
  {
   "cell_type": "code",
   "execution_count": null,
   "metadata": {},
   "outputs": [],
   "source": [
    "pd.set_option(\"display.max_colwidth\", 200)\n",
    "random_1000_results[random_1000_results.Correct=='3']"
   ]
  }
 ],
 "metadata": {
  "file_extension": ".py",
  "kernelspec": {
   "display_name": "Python 3",
   "language": "python",
   "name": "python3"
  },
  "language_info": {
   "codemirror_mode": {
    "name": "ipython",
    "version": 3
   },
   "file_extension": ".py",
   "mimetype": "text/x-python",
   "name": "python",
   "nbconvert_exporter": "python",
   "pygments_lexer": "ipython3",
   "version": "3.6.9"
  },
  "mimetype": "text/x-python",
  "name": "python",
  "npconvert_exporter": "python",
  "pygments_lexer": "ipython2",
  "version": 2
 },
 "nbformat": 4,
 "nbformat_minor": 2
}
