{
 "cells": [
  {
   "cell_type": "code",
   "execution_count": 1,
   "metadata": {},
   "outputs": [],
   "source": [
    "import importlib\n",
    "import pandas as pd\n",
    "import numpy as np\n",
    "import re"
   ]
  },
  {
   "cell_type": "code",
   "execution_count": 2,
   "metadata": {},
   "outputs": [],
   "source": [
    "from functions.get_mon_data import *\n",
    "from functions.functions_dataframe import * \n",
    "from functions.functions_shared import *\n",
    "from parameters.filters_lists import *\n",
    "from parameters.route import *\n",
    "from parameters.regs import *"
   ]
  },
  {
   "cell_type": "code",
   "execution_count": null,
   "metadata": {},
   "outputs": [],
   "source": [
    "\"\"\" \n",
    "Для формування списку ЄДРПОУ навчальних закладів, які потрібно наносити на мапу, використані бази даних МОН, опубліковані у листопаді 2019 року на Порталі відкритих даних.\n",
    "\n",
    "### Перелік закладів загальної середньої та дошкільної освіти (ЗЗСДО)\n",
    "    https://data.gov.ua/dataset/bd70757a-ab49-46be-a650-608a9b3bd7b1\n",
    "    \n",
    "### Перелік закладів позашкільної освіти (державна форма власності)\n",
    "    https://data.gov.ua/dataset/9a88fb96-a043-4769-acf1-1c4a948ec285\n",
    "    Перелік закладів позашкільної освіти системи Міністерства освіти і науки України\n",
    "    https://data.gov.ua/dataset/18d7fb70-3781-4017-88d2-651e14d14211\n",
    "    Заклади професійної (професійно-технічної) освіти\n",
    "    https://data.gov.ua/dataset/824513a9-aa5e-45c8-b45e-dced6909761a\n",
    "\"\"\""
   ]
  },
  {
   "cell_type": "code",
   "execution_count": null,
   "metadata": {},
   "outputs": [],
   "source": [
    "\"\"\"\n",
    "df_raw - база даних завершених закупівель 24 обласних центрів з 1 серпня 2016 до 31 грудня 2019.\n",
    "В Донецькій області - Краматорськ. В Луганській - Сєвєродонецьк. \n",
    "Згерерована у Профейсійному модулі аналітики bipro.prozorro.\n",
    "\"ИдентификаторЛота\" є унікальним ідентифікатором рядка.\n",
    "\"\"\"  "
   ]
  },
  {
   "cell_type": "code",
   "execution_count": 3,
   "metadata": {
    "scrolled": false
   },
   "outputs": [
    {
     "name": "stdout",
     "output_type": "stream",
     "text": [
      "Дані з файлу викачки BIPro Prozorro: df_raw(537893, 11)\n"
     ]
    }
   ],
   "source": [
    "df_raw = pandas.read_csv('data/TrainingProZorroForSchoolProject20162019.csv', sep = ';', low_memory = False)\n",
    "training_data_columns = df_raw.columns.tolist()\n",
    "print(\"Дані з файлу викачки BIPro Prozorro: \" + \"df_raw\" + str(df_raw.shape))"
   ]
  },
  {
   "cell_type": "markdown",
   "metadata": {},
   "source": [
    "##### Step 0: Підготовка бази МОН для використання у фільтруванні закупівель"
   ]
  },
  {
   "cell_type": "code",
   "execution_count": 4,
   "metadata": {},
   "outputs": [],
   "source": [
    "expdata_sc = pandas.read_csv('data/mon_data/expdata_sc.csv', sep = ';', low_memory = False)\n",
    "expdata_dnz = pandas.read_csv('data/mon_data/expdata_dnz.csv', sep = ';', low_memory = False)"
   ]
  },
  {
   "cell_type": "code",
   "execution_count": 5,
   "metadata": {},
   "outputs": [
    {
     "name": "stdout",
     "output_type": "stream",
     "text": [
      "expdata_sc (15206, 21)\n"
     ]
    }
   ],
   "source": [
    "expdata_sc = expdata_sc.fillna(0)\n",
    "expdata_sc['edrpou'] = expdata_sc['edrpou'].astype(np.int64)\n",
    "mask = (expdata_sc['edrpou'].astype(str).str.len() == 7) | (expdata_sc['edrpou'].astype(str).str.len() == 8)\n",
    "expdata_sc = expdata_sc.loc[mask].sort_values(by=['edrpou'])\n",
    "print(\"expdata_sc\", expdata_sc.shape)"
   ]
  },
  {
   "cell_type": "code",
   "execution_count": 6,
   "metadata": {},
   "outputs": [
    {
     "name": "stdout",
     "output_type": "stream",
     "text": [
      "expdata_dnz (15745, 21)\n"
     ]
    }
   ],
   "source": [
    "expdata_dnz['edrpou'] = pd.to_numeric(expdata_dnz['edrpou'],errors='coerce')\n",
    "expdata_dnz = expdata_dnz.fillna(0)\n",
    "expdata_dnz['edrpou'] = expdata_dnz['edrpou'].astype(np.int64)\n",
    "mask = (expdata_dnz['edrpou'].astype(str).str.len() == 7) | (expdata_dnz['edrpou'].astype(str).str.len() == 8)\n",
    "expdata_dnz = expdata_dnz.loc[mask].sort_values(by=['edrpou'])\n",
    "print(\"expdata_dnz\", expdata_dnz.shape)"
   ]
  },
  {
   "cell_type": "code",
   "execution_count": 7,
   "metadata": {},
   "outputs": [
    {
     "name": "stdout",
     "output_type": "stream",
     "text": [
      "База МОН шкіл і садків з 7-8 значинми ЄДРПОУ, df_mon_data (30951, 22)\n"
     ]
    }
   ],
   "source": [
    "frames = [expdata_dnz, expdata_sc]\n",
    "df_mon_data = pd.concat(frames)\n",
    "print(\"База МОН шкіл і садків з 7-8 значинми ЄДРПОУ, df_mon_data\", df_mon_data.shape)"
   ]
  },
  {
   "cell_type": "code",
   "execution_count": 8,
   "metadata": {},
   "outputs": [
    {
     "name": "stderr",
     "output_type": "stream",
     "text": [
      "/home/artem/anaconda3/lib/python3.7/site-packages/pandas/core/strings.py:1952: UserWarning: This pattern has match groups. To actually get the groups, use str.extract.\n",
      "  return func(self, *args, **kwargs)\n"
     ]
    },
    {
     "name": "stdout",
     "output_type": "stream",
     "text": [
      "edrpou_upravlin_osvity_prozorro 234\n",
      "df_mon_data_bez_upravlin_osvity (30881, 22)\n"
     ]
    }
   ],
   "source": [
    "filter_keywords_exclude = [\"департамент\", \"управлін.*освіт\", \"відділ.*освіт\"]\n",
    "df_raw_upravlin_osvity = df_raw[df_raw['Организатор'].astype(str).str.contains(r'({})'.format('|'.join(filter_keywords_exclude)), case = False, na = False, regex = True)]\n",
    "edrpou_upravlin_osvity_prozorro = df_raw_upravlin_osvity['IDOrganizator'].unique().tolist()\n",
    "print(\"edrpou_upravlin_osvity_prozorro\", len(edrpou_upravlin_osvity_prozorro))\n",
    "\n",
    "mask = (df_mon_data['edrpou'].isin(edrpou_upravlin_osvity_prozorro))\n",
    "df_mon_data_bez_upravlin_osvity = df_mon_data.loc[~mask]\n",
    "print(\"df_mon_data_bez_upravlin_osvity\", df_mon_data_bez_upravlin_osvity.shape)"
   ]
  },
  {
   "cell_type": "code",
   "execution_count": null,
   "metadata": {},
   "outputs": [],
   "source": [
    "\"\"\"\n",
    "TODO:\n",
    "    Артем: \n",
    "        створити базу управлінь освіти для формування переліку закупівель управлінь освіти \n",
    "        (закупівлі можуть дублюватись із закупівлями шкіл і садків)\n",
    "        ЄДРПОУ - Місто (для Києва - по районам, якщо можливо)\n",
    "\n",
    "\"\"\""
   ]
  },
  {
   "cell_type": "markdown",
   "metadata": {},
   "source": [
    "##### Step 1: Створити базу навчальних закладів, які самостійно купують через ProZorro. Виділення закупівель шкіл-замовників , згідно з базою МОН (пошук по колонці \"IDOrganizator\""
   ]
  },
  {
   "cell_type": "code",
   "execution_count": 40,
   "metadata": {
    "scrolled": true
   },
   "outputs": [
    {
     "name": "stdout",
     "output_type": "stream",
     "text": [
      "Закупівлі шкіл-замовників, визначених через МОН: df_tenders_by_schools_by_edrpou (32188, 11)\n",
      "Невизначені записи: df_undefined_1 (505705, 11)\n"
     ]
    }
   ],
   "source": [
    "mon_data = df_mon_data_bez_upravlin_osvity.edrpou.unique().tolist()\n",
    "# mon_data = get_mon_data()\n",
    "\n",
    "df_tenders_by_schools_by_edrpou = df_raw[df_raw['IDOrganizator'].isin(mon_data)]\n",
    "df_undefined_1 = df_raw[~df_raw['IDOrganizator'].isin(mon_data)]\n",
    "\n",
    "print(\"Закупівлі шкіл-замовників, визначених через МОН: df_tenders_by_schools_by_edrpou \" + str(df_tenders_by_schools_by_edrpou.shape))\n",
    "print(\"Невизначені записи: df_undefined_1 \" + str(df_undefined_1.shape))"
   ]
  },
  {
   "cell_type": "code",
   "execution_count": null,
   "metadata": {},
   "outputs": [],
   "source": [
    "# evaluation of results of Step 1\n",
    "\n",
    "# df_tenders_by_schools_by_edrpou['Организатор'].value_counts()"
   ]
  },
  {
   "cell_type": "code",
   "execution_count": 14,
   "metadata": {},
   "outputs": [
    {
     "data": {
      "text/plain": [
       "(5888, 11)"
      ]
     },
     "execution_count": 14,
     "metadata": {},
     "output_type": "execute_result"
    }
   ],
   "source": [
    "# Experiments Step 1\n",
    "\n",
    "school_names = df_mon_data_bez_upravlin_osvity.university_name.tolist()\n",
    "df_tenders_by_schools_by_name = df_raw[df_raw['Организатор'].isin(school_names)]\n",
    "df_tenders_by_schools_by_name.shape"
   ]
  },
  {
   "cell_type": "code",
   "execution_count": 55,
   "metadata": {},
   "outputs": [
    {
     "name": "stdout",
     "output_type": "stream",
     "text": [
      "Index(['university_name', 'edrpou', 'university_type_name',\n",
      "       'education_type_name', 'university_level', 'location_type',\n",
      "       'university_financing_type_name', 'post_index', 'koatuu_id', 'language',\n",
      "       'koatuu_full_name', 'university_address', 'post_index_u', 'koatuu_id_u',\n",
      "       'region_name_u', 'koatuu_name_u', 'university_address_u',\n",
      "       'university_phone', 'university_email', 'university_site',\n",
      "       'university_director_fio', 'koatuu_name'],\n",
      "      dtype='object')\n"
     ]
    }
   ],
   "source": [
    "print(df_mon_data_bez_upravlin_osvity.columns)"
   ]
  },
  {
   "cell_type": "code",
   "execution_count": 56,
   "metadata": {
    "collapsed": true
   },
   "outputs": [
    {
     "data": {
      "text/html": [
       "<div>\n",
       "<style scoped>\n",
       "    .dataframe tbody tr th:only-of-type {\n",
       "        vertical-align: middle;\n",
       "    }\n",
       "\n",
       "    .dataframe tbody tr th {\n",
       "        vertical-align: top;\n",
       "    }\n",
       "\n",
       "    .dataframe thead th {\n",
       "        text-align: right;\n",
       "    }\n",
       "</style>\n",
       "<table border=\"1\" class=\"dataframe\">\n",
       "  <thead>\n",
       "    <tr style=\"text-align: right;\">\n",
       "      <th></th>\n",
       "      <th>ИдентификаторЛота</th>\n",
       "      <th>Идентификатор</th>\n",
       "      <th>Организатор</th>\n",
       "      <th>Тендер</th>\n",
       "      <th>СуммаЛота</th>\n",
       "      <th>ОписаниеТендера</th>\n",
       "      <th>Лот</th>\n",
       "      <th>Адрес поставки</th>\n",
       "      <th>АдресОрганизатора</th>\n",
       "      <th>Главный орган</th>\n",
       "      <th>IDOrganizator</th>\n",
       "      <th>edrpou</th>\n",
       "      <th>university_name</th>\n",
       "      <th>university_type_name</th>\n",
       "      <th>education_type_name</th>\n",
       "    </tr>\n",
       "  </thead>\n",
       "  <tbody>\n",
       "    <tr>\n",
       "      <th>14513</th>\n",
       "      <td>UA-2018-06-01-002621-a-L1</td>\n",
       "      <td>UA-2018-06-01-002621-a</td>\n",
       "      <td>КОМУНАЛЬНИЙ ЗАКЛАД \"ЗАГАЛЬНООСВІТНЯ ШКОЛА І-ІІ...</td>\n",
       "      <td>55240000-4 Послуги центрів і будинків відпочин...</td>\n",
       "      <td>50960</td>\n",
       "      <td>NaN</td>\n",
       "      <td>55240000-4 Послуги центрів і будинків відпочин...</td>\n",
       "      <td>Максима Шимка,3</td>\n",
       "      <td>ВУЛИЦЯ МАКСИМА ШИМКА, будинок 3</td>\n",
       "      <td>Вінницька міська рада</td>\n",
       "      <td>26119498</td>\n",
       "      <td>26119498</td>\n",
       "      <td>Комунальний заклад \"Загальноосвітня школа І-ІІ...</td>\n",
       "      <td>заклад середньої освіти</td>\n",
       "      <td>загальносвітня школа</td>\n",
       "    </tr>\n",
       "    <tr>\n",
       "      <th>24118</th>\n",
       "      <td>UA-2019-01-03-001032-c-L1</td>\n",
       "      <td>UA-2019-01-03-001032-c</td>\n",
       "      <td>КЗО \"НВК\" Вальдорфська середня загальноосвітня...</td>\n",
       "      <td>Теплова енергія</td>\n",
       "      <td>390253</td>\n",
       "      <td>Теплова енергія</td>\n",
       "      <td>Теплова енергія</td>\n",
       "      <td>проспект Олександра Поля б.133</td>\n",
       "      <td>м. Дніпропетровськ, пр.Кірова, б.133</td>\n",
       "      <td>Дніпровська міська рада</td>\n",
       "      <td>23928928</td>\n",
       "      <td>23928928</td>\n",
       "      <td>Комунальний заклад освіти «Навчально-виховний ...</td>\n",
       "      <td>заклад дошкільної освіти</td>\n",
       "      <td>(null)</td>\n",
       "    </tr>\n",
       "    <tr>\n",
       "      <th>15676</th>\n",
       "      <td>UA-2018-12-22-003737-b-L2</td>\n",
       "      <td>UA-2018-12-22-003737-b</td>\n",
       "      <td>Житомирський навчально-виховний комплекс № 25</td>\n",
       "      <td>Сир кисломолочний та сир сичужний (твердий)</td>\n",
       "      <td>21402.48</td>\n",
       "      <td>NaN</td>\n",
       "      <td>Сир сичужний (твердий)</td>\n",
       "      <td>вул. Бориса Тена 84-а</td>\n",
       "      <td>вул.Бориса Тена 84-а</td>\n",
       "      <td>Житомирська міська рада</td>\n",
       "      <td>6669661</td>\n",
       "      <td>6669661</td>\n",
       "      <td>Житомирський навчально-виховний комплекс № 25</td>\n",
       "      <td>заклад середньої освіти</td>\n",
       "      <td>навчально-виховний комплекс (об'єднання)</td>\n",
       "    </tr>\n",
       "  </tbody>\n",
       "</table>\n",
       "</div>"
      ],
      "text/plain": [
       "               ИдентификаторЛота           Идентификатор  \\\n",
       "14513  UA-2018-06-01-002621-a-L1  UA-2018-06-01-002621-a   \n",
       "24118  UA-2019-01-03-001032-c-L1  UA-2019-01-03-001032-c   \n",
       "15676  UA-2018-12-22-003737-b-L2  UA-2018-12-22-003737-b   \n",
       "\n",
       "                                             Организатор  \\\n",
       "14513  КОМУНАЛЬНИЙ ЗАКЛАД \"ЗАГАЛЬНООСВІТНЯ ШКОЛА І-ІІ...   \n",
       "24118  КЗО \"НВК\" Вальдорфська середня загальноосвітня...   \n",
       "15676      Житомирський навчально-виховний комплекс № 25   \n",
       "\n",
       "                                                  Тендер СуммаЛота  \\\n",
       "14513  55240000-4 Послуги центрів і будинків відпочин...     50960   \n",
       "24118                                    Теплова енергія    390253   \n",
       "15676        Сир кисломолочний та сир сичужний (твердий)  21402.48   \n",
       "\n",
       "       ОписаниеТендера                                                Лот  \\\n",
       "14513              NaN  55240000-4 Послуги центрів і будинків відпочин...   \n",
       "24118  Теплова енергія                                    Теплова енергія   \n",
       "15676              NaN                             Сир сичужний (твердий)   \n",
       "\n",
       "                       Адрес поставки                     АдресОрганизатора  \\\n",
       "14513                 Максима Шимка,3       ВУЛИЦЯ МАКСИМА ШИМКА, будинок 3   \n",
       "24118  проспект Олександра Поля б.133  м. Дніпропетровськ, пр.Кірова, б.133   \n",
       "15676           вул. Бориса Тена 84-а                  вул.Бориса Тена 84-а   \n",
       "\n",
       "                 Главный орган  IDOrganizator    edrpou  \\\n",
       "14513    Вінницька міська рада       26119498  26119498   \n",
       "24118  Дніпровська міська рада       23928928  23928928   \n",
       "15676  Житомирська міська рада        6669661   6669661   \n",
       "\n",
       "                                         university_name  \\\n",
       "14513  Комунальний заклад \"Загальноосвітня школа І-ІІ...   \n",
       "24118  Комунальний заклад освіти «Навчально-виховний ...   \n",
       "15676      Житомирський навчально-виховний комплекс № 25   \n",
       "\n",
       "           university_type_name                       education_type_name  \n",
       "14513   заклад середньої освіти                      загальносвітня школа  \n",
       "24118  заклад дошкільної освіти                                    (null)  \n",
       "15676   заклад середньої освіти  навчально-виховний комплекс (об'єднання)  "
      ]
     },
     "execution_count": 56,
     "metadata": {},
     "output_type": "execute_result"
    }
   ],
   "source": [
    "cols = ['edrpou', 'university_name', 'university_type_name', 'education_type_name']\n",
    "df_mon_data_bez_upravlin_osvity_for_merge = df_mon_data_bez_upravlin_osvity[cols]\n",
    "\n",
    "df_tenders_by_schools_by_edrpou_extended = pd.merge(df_tenders_by_schools_by_edrpou, df_mon_data_bez_upravlin_osvity_merge, \n",
    "                                                                                 left_on='IDOrganizator',\n",
    "                                                                                 right_on='edrpou',\n",
    "                                                                                 how='left') \n",
    "df_tenders_by_schools_by_edrpou_extended.sample(3)"
   ]
  },
  {
   "cell_type": "markdown",
   "metadata": {},
   "source": [
    "##### Step 2: Виділення закупівель шкіл-замовників за допомогою пошуку ключових слів в колонці \"Организатор\" "
   ]
  },
  {
   "cell_type": "code",
   "execution_count": null,
   "metadata": {},
   "outputs": [],
   "source": [
    "df_tenders_by_schools_by_keywords = df_undefined_1[df_undefined_1['Организатор'].astype(str).str.contains(r'({})'.format('|'.join(filter_keywords)), case = False, na = False, regex = True) ]\n",
    "print(f\"Закупівлі шкіл-замовників, визначених через 'Организатор': df_tenders_by_schools_by_keywords {df_tenders_by_schools_by_keywords.shape}\")"
   ]
  },
  {
   "cell_type": "code",
   "execution_count": null,
   "metadata": {},
   "outputs": [],
   "source": [
    "# evalutaion #1 of results of Step 2\n",
    "# df_tenders_by_schools_by_keywords['Организатор'].value_counts()"
   ]
  },
  {
   "cell_type": "code",
   "execution_count": null,
   "metadata": {},
   "outputs": [],
   "source": [
    "# solution for Step 2\n",
    "\n",
    "filter_keywords_step_2_exclude = ['професійн', 'міжшкільн']\n",
    "df_tenders_by_schools_by_keywords_2_temp = df_tenders_by_schools_by_keywords[~df_tenders_by_schools_by_keywords['Организатор'].astype(str).str.contains(r'({})'.format('|'.join(filter_keywords_step_2_exclude)), case = False, na = False, regex = True)]\n",
    "filter_keywords_step_2_include = [\"школа І-І.*ступенів\", \"навчальн.*виховн.*комплекс\", \"гімназ\", \"ліце\", \"дошкільний\"]\n",
    "df_tenders_by_schools_by_keywords_2 = df_tenders_by_schools_by_keywords_2_temp[df_tenders_by_schools_by_keywords_2_temp['Организатор'].astype(str).str.contains(r'({})'.format('|'.join(filter_keywords_step_2_include)), case = False, na = False, regex = True)]\n",
    "print(f\"Видалення із датафрейму df_tenders_by_schools_by_keywords так званих 'професійних' навчальних закладів, {df_tenders_by_schools_by_keywords_2_temp.shape} \\nДодаткове фільтрування датафрейму: {filter_keywords_step_2_include}. Залишилось:, {df_tenders_by_schools_by_keywords_2.shape}\")"
   ]
  },
  {
   "cell_type": "code",
   "execution_count": null,
   "metadata": {},
   "outputs": [],
   "source": [
    "# evalutaion #2 of results of Step 2\n",
    "\n",
    "# df_tenders_by_schools_by_keywords_2_temp['Организатор'].value_counts()\n",
    "# df_tenders_by_schools_by_keywords_2['Организатор'].value_counts()"
   ]
  },
  {
   "cell_type": "markdown",
   "metadata": {},
   "source": [
    "##### Step 2.5: Об'єднання двох датафреймів шкіл-замовників в один"
   ]
  },
  {
   "cell_type": "code",
   "execution_count": null,
   "metadata": {},
   "outputs": [],
   "source": [
    "df_tenders_by_schools = pandas.concat([df_tenders_by_schools_by_edrpou, df_tenders_by_schools_by_keywords_2])\n",
    "\n",
    "print(f\"Закупівлі шкіл-замовників: df_tenders_by_schools {df_tenders_by_schools.shape} \\nНевизначені записи: df_undefined_1:{df_undefined_1.shape}\")"
   ]
  },
  {
   "cell_type": "markdown",
   "metadata": {},
   "source": [
    "##### Step 3: Класифікація шкіл-замовників по типах"
   ]
  },
  {
   "cell_type": "code",
   "execution_count": null,
   "metadata": {},
   "outputs": [],
   "source": [
    "columns_to_classify = ['Организатор']\n",
    "df_tenders_by_schools_classified = classification_by_type_one_column(df_tenders_by_schools, columns_to_classify, filter_priority, filter_name_priority)"
   ]
  },
  {
   "cell_type": "code",
   "execution_count": null,
   "metadata": {},
   "outputs": [],
   "source": [
    "# evaluation of Step 3\n",
    "\n",
    "# pd.set_option(\"display.max_colwidth\", 200)\n",
    "# print(\"Заклади, де не визначений тип:\")\n",
    "# df_tenders_by_schools_classified[df_tenders_by_schools_classified['Тип закладу'] == 'Невідомо']['Организатор'].unique().tolist()"
   ]
  },
  {
   "cell_type": "markdown",
   "metadata": {},
   "source": [
    "##### Step 4: Нумерація шкіл-замовників"
   ]
  },
  {
   "cell_type": "code",
   "execution_count": null,
   "metadata": {},
   "outputs": [],
   "source": [
    "columns_to_numerate = ['Организатор']\n",
    "df_tenders_by_schools_numerated = numeration_one_column(df_tenders_by_schools_classified, columns_to_numerate, reg_number)"
   ]
  },
  {
   "cell_type": "markdown",
   "metadata": {},
   "source": [
    "##### Step 4.5: Найменування шкіл-замовників"
   ]
  },
  {
   "cell_type": "code",
   "execution_count": null,
   "metadata": {},
   "outputs": [],
   "source": [
    "columns_to_name = ['Организатор']\n",
    "df_tenders_by_schools_named = naming_one_column(df_tenders_by_schools_numerated, columns_to_name, reg_quotes)"
   ]
  },
  {
   "cell_type": "code",
   "execution_count": null,
   "metadata": {},
   "outputs": [],
   "source": [
    "print('filter_poza', )\n",
    "print('Було закупівель', df_tenders_by_schools_named.shape)\n",
    "df_tenders_by_schools_named = df_tenders_by_schools_named[~df_tenders_by_schools_named['Организатор'].astype(str).str.contains(r'({})'.format('|'.join(filter_poza)),\n",
    "                case = False, na = False, regex = True)]\n",
    "df_tenders_by_schools_named['Номер'] = df_tenders_by_schools_named['Номер'].replace(r'^\\s*$', np.nan, regex=True) # перетворити пусті строки в NaN\n",
    "print(f'Залишилось закупівель після видалення закупівель закладів ключовими словами {filter_poza}, \\ndf_tenders_by_schools_named', df_tenders_by_schools_named.shape)"
   ]
  },
  {
   "cell_type": "code",
   "execution_count": null,
   "metadata": {},
   "outputs": [],
   "source": [
    "# # evaluation of Step 4\n",
    "\n",
    "# for_analysis_step_4 = df_tenders_by_schools_named[df_tenders_by_schools_named['Назва'].isnull() & \n",
    "#                                   df_tenders_by_schools_named['Номер'].isnull()]\n",
    "# print('Навчальні заклади, де не визначились номер чи назва:')\n",
    "# for_analysis_step_4['Организатор'].unique().tolist()"
   ]
  },
  {
   "cell_type": "markdown",
   "metadata": {},
   "source": [
    "##### Step 4.9: Форматування бази шкіл-замовників"
   ]
  },
  {
   "cell_type": "code",
   "execution_count": null,
   "metadata": {},
   "outputs": [],
   "source": [
    "df_tenders_by_schools = df_tenders_by_schools_named.copy()\n",
    "df_tenders_by_schools['Заклад-замовник'] = True\n",
    "\n",
    "col_names = training_data_columns.copy() \n",
    "col_names += ['Номер', 'Назва', 'Тип закладу', 'Заклад-замовник']\n",
    "\n",
    "df_tenders_by_schools = df_tenders_by_schools[col_names]"
   ]
  },
  {
   "cell_type": "markdown",
   "metadata": {},
   "source": [
    "##### Step 5: Виділення закупівель шкіл-не-замовників за допомогою пошуку ключових слів в колонках Тендер, ОписаниеТендера, Лот"
   ]
  },
  {
   "cell_type": "code",
   "execution_count": null,
   "metadata": {},
   "outputs": [],
   "source": [
    "df_tenders_not_by_schools_by_keywords = df_undefined_1[df_undefined_1['Тендер'].astype(str).str.contains(r'({})'.format('|'.join(filter_keywords_extended)), \n",
    "            case = False, na = False, regex = True)  | \n",
    "                                                      df_undefined_1['ОписаниеТендера'].astype(str).str.contains(r'({})'.format('|'.join(filter_keywords_extended)), \n",
    "            case = False, na = False, regex = True) | \n",
    "                                                      df_undefined_1['Лот'].astype(str).str.contains(r'({})'.format('|'.join(filter_keywords_extended)), \n",
    "            case = False, na = False, regex = True) | df_undefined_1['Тендер'].astype(str).str.contains(r'(/b{}/b)'.format('|'.join(filter_keywords_strict_extended)), \n",
    "            case = False, na = False, regex = True) | df_undefined_1['ОписаниеТендера'].astype(str).str.contains(r'(/b{}/b)'.format('|'.join(filter_keywords_strict_extended)), \n",
    "            case = False, na = False, regex = True) | df_undefined_1['Лот'].astype(str).str.contains(r'(/b{}/b)'.format('|'.join(filter_keywords_strict_extended)), \n",
    "            case = False, na = False, regex = True)]\n",
    "\n",
    "print(\"Закупівлі шкіл-не-замовників, визначених через Тендер, Лот, ОписаниеТендера: df_tenders_by_schools_by_keywords \" + str(df_tenders_not_by_schools_by_keywords.shape))"
   ]
  },
  {
   "cell_type": "code",
   "execution_count": null,
   "metadata": {},
   "outputs": [],
   "source": [
    "# evaluation of Step 5\n",
    "\n",
    "# df_tenders_not_by_schools_by_keywords"
   ]
  },
  {
   "cell_type": "markdown",
   "metadata": {},
   "source": [
    "##### Step 6: Класифікація шкіл-не-замовників по типах"
   ]
  },
  {
   "cell_type": "code",
   "execution_count": null,
   "metadata": {},
   "outputs": [],
   "source": [
    "# тимчасово винсені з filters_lists фільтри сюди для тестування порядковості\n",
    "\n",
    "filter_priority = [\n",
    "        filter_nvk,\n",
    "        filter_gimnasium,\n",
    "        filter_liceum,\n",
    "        filter_specializovana,\n",
    "        filter_internat,\n",
    "        filter_kombinat,\n",
    "        filter_sanatorna,\n",
    "        filter_specializovana,\n",
    "        filter_specialna,\n",
    "        filter_sadik,\n",
    "        filter_shkola \n",
    "    ]\n",
    "\n",
    "filter_name_priority = [\n",
    "        filter_nvk_name,\n",
    "        filter_gimnasium_name,\n",
    "        filter_liceum_name,\n",
    "        filter_specializovana_name,\n",
    "        filter_internat_name,\n",
    "        filter_kombinat_name,\n",
    "        filter_sanatorna_name,\n",
    "        filter_specializovana_name,\n",
    "        filter_specialna_name,\n",
    "        filter_sadik_name,\n",
    "        filter_shkola_name\n",
    "    ]"
   ]
  },
  {
   "cell_type": "code",
   "execution_count": null,
   "metadata": {},
   "outputs": [],
   "source": [
    "columns_to_classify = ['Тендер', 'ОписаниеТендера', 'Лот']\n",
    "df_tenders_not_by_schools_classified = classification_by_type_three_cols(df_tenders_not_by_schools_by_keywords, columns_to_classify, filter_priority, filter_name_priority)"
   ]
  },
  {
   "cell_type": "code",
   "execution_count": null,
   "metadata": {},
   "outputs": [],
   "source": [
    "# # evaluation of Step 6\n",
    "\n",
    "# pd.set_option(\"display.max_colwidth\", 200)\n",
    "\n",
    "# type_sample = 'Інтернат'\n",
    "# df_tenders_not_by_schools_classified[df_tenders_not_by_schools_classified['Тип закладу'] == type_sample][['Тендер', 'ОписаниеТендера', 'Лот', 'Тип закладу']].sort_values(by=['Тип закладу'])\n",
    "# df_tenders_not_by_schools_classified['Тип закладу'].value_counts()"
   ]
  },
  {
   "cell_type": "markdown",
   "metadata": {},
   "source": [
    "##### Step 7: Нумерація шкіл-не-замовників"
   ]
  },
  {
   "cell_type": "code",
   "execution_count": null,
   "metadata": {},
   "outputs": [],
   "source": [
    "\"\"\"\n",
    "Принцип фільтрування в функції numeration():\n",
    "\n",
    "    Визначається наявністья символу № в кожній колонці columns_to_numerate_step7\n",
    "    \n",
    "    Регулярний вираз знаходить всі паттерни і джойнить через кому\n",
    "    \n",
    "    Паралельно створюється колонка, де рахується кількість знайдених паттернів\n",
    "    \n",
    "    Результат фільтрування numeration() - потрапляє у датафрейм df_step7_numerated\n",
    "\"\"\"\n",
    "columns_to_numerate_step7 = ['Тендер', 'Лот']\n",
    "action_mark = 'numeration'\n",
    "df_step7 = df_tenders_not_by_schools_classified[df_tenders_not_by_schools_classified['Тип закладу'] != 'Невідомо'].copy()\n",
    "\n",
    "df_step7_numerated = numeration(df_step7, columns_to_numerate_step7, reg_number, action_mark)\n",
    "print(\"df_step7_numerated\", df_step7_numerated.shape)"
   ]
  },
  {
   "cell_type": "code",
   "execution_count": null,
   "metadata": {},
   "outputs": [],
   "source": [
    "\"\"\"\n",
    "    Якщо в колонках Лот і Тендер знайшло по одному паттерну і вони однакові - \n",
    "    закупівля вважається такою, де коректно визначений номер\n",
    "\n",
    "    Ці закупівлі потрапляють до датафрейму df_step7_numerated_lot_tender\n",
    "\n",
    "    Колонка \"Номер\" отримує знайдений номер \"Лот_numeration\"\n",
    "\n",
    "    Решта закупівель потрапляють до датафрейму df_step7_numerated_undefined.\n",
    "\"\"\"\n",
    "\n",
    "df_step7_numerated['Номер'] = np.where(((df_step7_numerated['Тендер_numeration_count'] == 1) | \n",
    "                                        (df_step7_numerated['Лот_numeration_count'] == 1)) & \n",
    "                                        (df_step7_numerated['Лот_numeration_count'] == df_step7_numerated['Тендер_numeration_count']), \n",
    "                                        df_step7_numerated['Лот_numeration'], \n",
    "                                        'Невідомо')\n",
    "\n",
    "df_step7_numerated_lot_tender = df_step7_numerated[df_step7_numerated['Номер'] != 'Невідомо']\n",
    "\n",
    "df_step7_numerated_undefined = df_step7_numerated[df_step7_numerated['Номер'] == 'Невідомо']\n",
    "\n",
    "print(\"df_step7_numerated_lot_tender\", df_step7_numerated_lot_tender.shape, \"\\ndf_step7_numerated_undefined\", df_step7_numerated_undefined.shape)"
   ]
  },
  {
   "cell_type": "code",
   "execution_count": null,
   "metadata": {},
   "outputs": [],
   "source": [
    "\"\"\"\n",
    "    Якщо в колонці Лот знайдений один паттерн - \n",
    "    закупівля потрапляють до датафрейму df_step7_numerated_lot\n",
    "    \n",
    "    Решта закупівель потрапляють до датафрейму до df_step7_numerated_undefined_2\n",
    "\"\"\"\n",
    "\n",
    "df_step7_numerated_lot = df_step7_numerated_undefined.copy()\n",
    "\n",
    "df_step7_numerated_lot['Номер'] = np.where(df_step7_numerated_lot['Лот_numeration_count'] == 1, \n",
    "                                                 df_step7_numerated_lot['Лот_numeration'], \n",
    "                                                 'Невідомо')\n",
    "\n",
    "df_step7_numerated_undefined_2 = df_step7_numerated_lot[df_step7_numerated_lot['Номер'] == 'Невідомо']\n",
    "df_step7_numerated_lot = df_step7_numerated_lot[df_step7_numerated_lot['Номер'] != 'Невідомо']\n",
    "\n",
    "print(\"df_step7_numerated_lot\", df_step7_numerated_lot.shape, \"\\ndf_step7_numerated_undefined_2\", df_step7_numerated_undefined_2.shape)"
   ]
  },
  {
   "cell_type": "code",
   "execution_count": null,
   "metadata": {},
   "outputs": [],
   "source": [
    "\"\"\"\n",
    "    Якщо в колонці Тендер знайдений один паттерн - \n",
    "    закупівля потрапляють до датафрейму df_step7_numerated_tender\n",
    "    \n",
    "    Решта закупівель потрапляють до датафрейму до df_step7_numerated_undefined_3\n",
    "\"\"\"\n",
    "df_step7_numerated_tender = df_step7_numerated_undefined_2.copy()\n",
    "\n",
    "df_step7_numerated_tender['Номер'] = np.where(df_step7_numerated_tender['Тендер_numeration_count'] == 1, \n",
    "                                                 df_step7_numerated_tender['Тендер_numeration'], \n",
    "                                                 'Невідомо')\n",
    "df_step7_numerated_undefined_3 = df_step7_numerated_tender[df_step7_numerated_tender['Номер'] == 'Невідомо']\n",
    "df_step7_numerated_tender = df_step7_numerated_tender[df_step7_numerated_tender['Номер'] != 'Невідомо']\n",
    "\n",
    "print(\"df_step7_numerated_tender\", df_step7_numerated_tender.shape, \"\\ndf_step7_numerated_undefined_3\", df_step7_numerated_undefined_3.shape)"
   ]
  },
  {
   "cell_type": "markdown",
   "metadata": {},
   "source": [
    "##### Step 7.5: Об'єднання датафреймів шкіл-не-замовників з номерами"
   ]
  },
  {
   "cell_type": "code",
   "execution_count": null,
   "metadata": {},
   "outputs": [],
   "source": [
    "frames = [df_step7_numerated_lot_tender, df_step7_numerated_lot, df_step7_numerated_tender]\n",
    "df_tenders_not_by_schools_numerated = pd.concat(frames)\n",
    "df_tenders_not_by_schools_numerated['Назва'] = np.nan # Створення пустої колонки \"Назва\" для подальшого обєднання з датафреймом з номерами"
   ]
  },
  {
   "cell_type": "markdown",
   "metadata": {},
   "source": [
    "##### Step 8: Найменування шкіл-не-замовників"
   ]
  },
  {
   "cell_type": "code",
   "execution_count": null,
   "metadata": {},
   "outputs": [],
   "source": [
    "columns_to_classify_step8 = ['Тендер', 'Лот']\n",
    "action_mark = 'naming'\n",
    "df_step8 = df_step7_numerated_undefined_3.copy()\n",
    "\n",
    "df_tenders_not_by_schools_named = naming(df_step8, columns_to_classify_step8, reg_quotes, action_mark)\n",
    "print(\"df_tenders_not_by_schools_named\", df_tenders_not_by_schools_named.shape)"
   ]
  },
  {
   "cell_type": "code",
   "execution_count": null,
   "metadata": {},
   "outputs": [],
   "source": [
    "df_tenders_not_by_schools_named['Назва'] = np.where((df_tenders_not_by_schools_named['Тендер_naming'].notnull()) & \n",
    "                             (df_tenders_not_by_schools_named['Лот_naming'].notnull()) & \n",
    "                             (df_tenders_not_by_schools_named['Тендер_naming'] == df_tenders_not_by_schools_named['Лот_naming']),\n",
    "                             df_tenders_not_by_schools_named['Тендер_naming'], \n",
    "                             'Невідомо')\n",
    "\n",
    "df_step8_undefined = df_tenders_not_by_schools_named[df_tenders_not_by_schools_named['Назва'] == 'Невідомо']\n",
    "df_tenders_not_by_schools_named_lot_tender = df_tenders_not_by_schools_named[df_tenders_not_by_schools_named['Назва'] != 'Невідомо']"
   ]
  },
  {
   "cell_type": "markdown",
   "metadata": {},
   "source": [
    "##### Step 9: Об'єднання двох датафреймів шкіл-не-замовників"
   ]
  },
  {
   "cell_type": "code",
   "execution_count": null,
   "metadata": {},
   "outputs": [],
   "source": [
    "frames = [df_tenders_not_by_schools_numerated, df_tenders_not_by_schools_named]\n",
    "df_tenders_not_by_schools = pd.concat(frames)"
   ]
  },
  {
   "cell_type": "code",
   "execution_count": null,
   "metadata": {},
   "outputs": [],
   "source": [
    "df_tenders_not_by_schools['Заклад-замовник'] = False"
   ]
  },
  {
   "cell_type": "code",
   "execution_count": null,
   "metadata": {},
   "outputs": [],
   "source": [
    "df_tenders_not_by_schools = df_tenders_not_by_schools[col_names]\n",
    "print(\"df_tenders_not_by_schools_numerated\", df_tenders_not_by_schools_numerated.shape)"
   ]
  },
  {
   "cell_type": "code",
   "execution_count": null,
   "metadata": {},
   "outputs": [],
   "source": [
    "df_tenders_not_by_schools"
   ]
  },
  {
   "cell_type": "markdown",
   "metadata": {},
   "source": [
    "##### Step 10: Об'єднання датафреймів шкіл-не-замовників та шкіл-замовників"
   ]
  },
  {
   "cell_type": "code",
   "execution_count": null,
   "metadata": {},
   "outputs": [],
   "source": [
    "frames = [df_tenders_by_schools, df_tenders_not_by_schools]\n",
    "df_tenders = pd.concat(frames)\n",
    "print(\"df_tenders\", df_tenders.shape)"
   ]
  },
  {
   "cell_type": "markdown",
   "metadata": {},
   "source": [
    "#### Step 11: RandomDataResuls"
   ]
  },
  {
   "cell_type": "code",
   "execution_count": 67,
   "metadata": {},
   "outputs": [
    {
     "name": "stdout",
     "output_type": "stream",
     "text": [
      "(1000, 8)\n"
     ]
    }
   ],
   "source": [
    "\"\"\"\n",
    "Колонка Correct:\n",
    "    1 - коректо визначено\n",
    "    \n",
    "    Некоректно:\n",
    "        2 - номер визначений неправильно:\n",
    "            \n",
    "            21 - відсутній символ №\n",
    "            22 - кілька символів №\n",
    "            23 - без лапок\n",
    "            24 - номер чи назва в колонці Описание Тендер\n",
    "            25 - лапки не визначились\n",
    "            26 - кілька лапок\n",
    "        \n",
    "        3 - неправильно тип закладу\n",
    "\"\"\"\n",
    "\n",
    "random_1000_results = pandas.read_csv('results/school-procurements-1000-random-marked.csv', index_col = 0, error_bad_lines=False, sep = ',', low_memory = False)\n",
    "random_1000_results = random_1000_results.iloc[:, :-1]\n",
    "print(random_1000_results.shape)"
   ]
  },
  {
   "cell_type": "code",
   "execution_count": 68,
   "metadata": {},
   "outputs": [
    {
     "data": {
      "text/html": [
       "<div>\n",
       "<style scoped>\n",
       "    .dataframe tbody tr th:only-of-type {\n",
       "        vertical-align: middle;\n",
       "    }\n",
       "\n",
       "    .dataframe tbody tr th {\n",
       "        vertical-align: top;\n",
       "    }\n",
       "\n",
       "    .dataframe thead th {\n",
       "        text-align: right;\n",
       "    }\n",
       "</style>\n",
       "<table border=\"1\" class=\"dataframe\">\n",
       "  <thead>\n",
       "    <tr style=\"text-align: right;\">\n",
       "      <th></th>\n",
       "      <th>Тендер</th>\n",
       "      <th>ОписаниеТендера</th>\n",
       "      <th>Лот</th>\n",
       "      <th>Организатор</th>\n",
       "      <th>Тип закладу</th>\n",
       "      <th>Номер/Назва</th>\n",
       "      <th>Заклад-замовник</th>\n",
       "      <th>Correct</th>\n",
       "    </tr>\n",
       "  </thead>\n",
       "  <tbody>\n",
       "    <tr>\n",
       "      <th>445840</th>\n",
       "      <td>Капітальний ремонт і реставрація:Капітальний р...</td>\n",
       "      <td>ДСТУ Б Д.1.1-1:2013</td>\n",
       "      <td>Капітальний ремонт і реставрація:Капітальний р...</td>\n",
       "      <td>Департамент освіти Харківської міської ради</td>\n",
       "      <td>ДНЗ</td>\n",
       "      <td>№400</td>\n",
       "      <td>False</td>\n",
       "      <td>1</td>\n",
       "    </tr>\n",
       "    <tr>\n",
       "      <th>166960</th>\n",
       "      <td>Капітальний ремонт (відновлення) груп дошкільн...</td>\n",
       "      <td>Капітальний ремонт (відновлення) груп дошкільн...</td>\n",
       "      <td>Капітальний ремонт (відновлення) груп дошкільн...</td>\n",
       "      <td>Управління будівництва Дніпровської районної в...</td>\n",
       "      <td>ДНЗ</td>\n",
       "      <td>№ 680</td>\n",
       "      <td>False</td>\n",
       "      <td>1</td>\n",
       "    </tr>\n",
       "    <tr>\n",
       "      <th>180001</th>\n",
       "      <td>Перевірка 3-ф ел.ліч.прям.вмикання в СНВК № 86</td>\n",
       "      <td>NaN</td>\n",
       "      <td>Перевірка 3-ф ел.ліч.прям.вмикання в СНВК № 86</td>\n",
       "      <td>ВК Управління освіти виконавчого комітету Полт...</td>\n",
       "      <td>Навчально-виховний комплекс (об'єднання)</td>\n",
       "      <td>№ 86</td>\n",
       "      <td>False</td>\n",
       "      <td>1</td>\n",
       "    </tr>\n",
       "    <tr>\n",
       "      <th>61147</th>\n",
       "      <td>Розроблення проектно-кошторисної документації ...</td>\n",
       "      <td>NaN</td>\n",
       "      <td>Розроблення проектно-кошторисної документації ...</td>\n",
       "      <td>ДЕПАРТАМЕНТ ГУМАНІТАРНОЇ ПОЛІТИКИ ДНІПРОВСЬКОЇ...</td>\n",
       "      <td>ДНЗ</td>\n",
       "      <td>№302</td>\n",
       "      <td>False</td>\n",
       "      <td>1</td>\n",
       "    </tr>\n",
       "    <tr>\n",
       "      <th>158417</th>\n",
       "      <td>Поточний ремонт внутрішньої мережі центральног...</td>\n",
       "      <td>NaN</td>\n",
       "      <td>Поточний ремонт внутрішньої мережі центральног...</td>\n",
       "      <td>Управління освіти Дніпровської районної в міст...</td>\n",
       "      <td>Інтернат</td>\n",
       "      <td>№14</td>\n",
       "      <td>False</td>\n",
       "      <td>1</td>\n",
       "    </tr>\n",
       "    <tr>\n",
       "      <th>...</th>\n",
       "      <td>...</td>\n",
       "      <td>...</td>\n",
       "      <td>...</td>\n",
       "      <td>...</td>\n",
       "      <td>...</td>\n",
       "      <td>...</td>\n",
       "      <td>...</td>\n",
       "      <td>...</td>\n",
       "    </tr>\n",
       "    <tr>\n",
       "      <th>65456</th>\n",
       "      <td>Гардини  тюлеві готові</td>\n",
       "      <td>Посадові особи замовника, уповноважені здійсню...</td>\n",
       "      <td>Гардини  тюлеві готові</td>\n",
       "      <td>Загальноосвітній навчальний заклад \"Київський ...</td>\n",
       "      <td>Загальноосвітня школа</td>\n",
       "      <td>Київський спортивний ліцей-інтернат</td>\n",
       "      <td>True</td>\n",
       "      <td>3</td>\n",
       "    </tr>\n",
       "    <tr>\n",
       "      <th>278714</th>\n",
       "      <td>Хлібопродукти, свіжовипечені хлібобулочні та к...</td>\n",
       "      <td>NaN</td>\n",
       "      <td>Хлібопродукти, свіжовипечені хлібобулочні та к...</td>\n",
       "      <td>КОМУНАЛЬНИЙ ЗАКЛАД \"ДОШКІЛЬНИЙ НАВЧАЛЬНИЙ ЗАКЛ...</td>\n",
       "      <td>ДНЗ</td>\n",
       "      <td>№ 13</td>\n",
       "      <td>True</td>\n",
       "      <td>1</td>\n",
       "    </tr>\n",
       "    <tr>\n",
       "      <th>92556</th>\n",
       "      <td>Послуги з ремонту і технічного обслуговування ...</td>\n",
       "      <td>поточний ремонт та обслуговування системи опал...</td>\n",
       "      <td>Послуги з ремонту і технічного обслуговування ...</td>\n",
       "      <td>КУ Сумський навчально-виховний комплекс \"загал...</td>\n",
       "      <td>Загальноосвітня школа</td>\n",
       "      <td>№ 11</td>\n",
       "      <td>True</td>\n",
       "      <td>3</td>\n",
       "    </tr>\n",
       "    <tr>\n",
       "      <th>237438</th>\n",
       "      <td>Рукавички гумові.</td>\n",
       "      <td>Рукавиці універсальні надміцніФрекен БОК або а...</td>\n",
       "      <td>Рукавички гумові.</td>\n",
       "      <td>Загальноосвітній навчальний заклад \"Київський ...</td>\n",
       "      <td>Загальноосвітня школа</td>\n",
       "      <td>Київський спортивний ліцей-інтернат</td>\n",
       "      <td>True</td>\n",
       "      <td>3</td>\n",
       "    </tr>\n",
       "    <tr>\n",
       "      <th>333401</th>\n",
       "      <td>Овочі, фрукти та горіхи  (капуста, морква, бур...</td>\n",
       "      <td>NaN</td>\n",
       "      <td>Овочі, фрукти та горіхи  (капуста, морква, бур...</td>\n",
       "      <td>КЗО \"НВК №144\" ДМР</td>\n",
       "      <td>Навчально-виховний комплекс (об'єднання)</td>\n",
       "      <td>№144</td>\n",
       "      <td>True</td>\n",
       "      <td>1</td>\n",
       "    </tr>\n",
       "  </tbody>\n",
       "</table>\n",
       "<p>1000 rows × 8 columns</p>\n",
       "</div>"
      ],
      "text/plain": [
       "                                                   Тендер  \\\n",
       "445840  Капітальний ремонт і реставрація:Капітальний р...   \n",
       "166960  Капітальний ремонт (відновлення) груп дошкільн...   \n",
       "180001     Перевірка 3-ф ел.ліч.прям.вмикання в СНВК № 86   \n",
       "61147   Розроблення проектно-кошторисної документації ...   \n",
       "158417  Поточний ремонт внутрішньої мережі центральног...   \n",
       "...                                                   ...   \n",
       "65456                              Гардини  тюлеві готові   \n",
       "278714  Хлібопродукти, свіжовипечені хлібобулочні та к...   \n",
       "92556   Послуги з ремонту і технічного обслуговування ...   \n",
       "237438                                  Рукавички гумові.   \n",
       "333401  Овочі, фрукти та горіхи  (капуста, морква, бур...   \n",
       "\n",
       "                                          ОписаниеТендера  \\\n",
       "445840                                ДСТУ Б Д.1.1-1:2013   \n",
       "166960  Капітальний ремонт (відновлення) груп дошкільн...   \n",
       "180001                                                NaN   \n",
       "61147                                                 NaN   \n",
       "158417                                                NaN   \n",
       "...                                                   ...   \n",
       "65456   Посадові особи замовника, уповноважені здійсню...   \n",
       "278714                                                NaN   \n",
       "92556   поточний ремонт та обслуговування системи опал...   \n",
       "237438  Рукавиці універсальні надміцніФрекен БОК або а...   \n",
       "333401                                                NaN   \n",
       "\n",
       "                                                      Лот  \\\n",
       "445840  Капітальний ремонт і реставрація:Капітальний р...   \n",
       "166960  Капітальний ремонт (відновлення) груп дошкільн...   \n",
       "180001     Перевірка 3-ф ел.ліч.прям.вмикання в СНВК № 86   \n",
       "61147   Розроблення проектно-кошторисної документації ...   \n",
       "158417  Поточний ремонт внутрішньої мережі центральног...   \n",
       "...                                                   ...   \n",
       "65456                              Гардини  тюлеві готові   \n",
       "278714  Хлібопродукти, свіжовипечені хлібобулочні та к...   \n",
       "92556   Послуги з ремонту і технічного обслуговування ...   \n",
       "237438                                  Рукавички гумові.   \n",
       "333401  Овочі, фрукти та горіхи  (капуста, морква, бур...   \n",
       "\n",
       "                                              Организатор  \\\n",
       "445840        Департамент освіти Харківської міської ради   \n",
       "166960  Управління будівництва Дніпровської районної в...   \n",
       "180001  ВК Управління освіти виконавчого комітету Полт...   \n",
       "61147   ДЕПАРТАМЕНТ ГУМАНІТАРНОЇ ПОЛІТИКИ ДНІПРОВСЬКОЇ...   \n",
       "158417  Управління освіти Дніпровської районної в міст...   \n",
       "...                                                   ...   \n",
       "65456   Загальноосвітній навчальний заклад \"Київський ...   \n",
       "278714  КОМУНАЛЬНИЙ ЗАКЛАД \"ДОШКІЛЬНИЙ НАВЧАЛЬНИЙ ЗАКЛ...   \n",
       "92556   КУ Сумський навчально-виховний комплекс \"загал...   \n",
       "237438  Загальноосвітній навчальний заклад \"Київський ...   \n",
       "333401                                 КЗО \"НВК №144\" ДМР   \n",
       "\n",
       "                                     Тип закладу  \\\n",
       "445840                                       ДНЗ   \n",
       "166960                                       ДНЗ   \n",
       "180001  Навчально-виховний комплекс (об'єднання)   \n",
       "61147                                        ДНЗ   \n",
       "158417                                  Інтернат   \n",
       "...                                          ...   \n",
       "65456                      Загальноосвітня школа   \n",
       "278714                                       ДНЗ   \n",
       "92556                      Загальноосвітня школа   \n",
       "237438                     Загальноосвітня школа   \n",
       "333401  Навчально-виховний комплекс (об'єднання)   \n",
       "\n",
       "                                Номер/Назва  Заклад-замовник Correct  \n",
       "445840                                 №400            False       1  \n",
       "166960                                № 680            False       1  \n",
       "180001                                 № 86            False       1  \n",
       "61147                                  №302            False       1  \n",
       "158417                                  №14            False       1  \n",
       "...                                     ...              ...     ...  \n",
       "65456   Київський спортивний ліцей-інтернат             True       3  \n",
       "278714                                 № 13             True       1  \n",
       "92556                                  № 11             True       3  \n",
       "237438  Київський спортивний ліцей-інтернат             True       3  \n",
       "333401                                 №144             True       1  \n",
       "\n",
       "[1000 rows x 8 columns]"
      ]
     },
     "execution_count": 68,
     "metadata": {},
     "output_type": "execute_result"
    }
   ],
   "source": [
    "random_1000_results"
   ]
  },
  {
   "cell_type": "code",
   "execution_count": null,
   "metadata": {},
   "outputs": [],
   "source": []
  }
 ],
 "metadata": {
  "file_extension": ".py",
  "kernelspec": {
   "display_name": "Python 3",
   "language": "python",
   "name": "python3"
  },
  "language_info": {
   "codemirror_mode": {
    "name": "ipython",
    "version": 3
   },
   "file_extension": ".py",
   "mimetype": "text/x-python",
   "name": "python",
   "nbconvert_exporter": "python",
   "pygments_lexer": "ipython3",
   "version": "3.7.6"
  },
  "mimetype": "text/x-python",
  "name": "python",
  "npconvert_exporter": "python",
  "pygments_lexer": "ipython2",
  "version": 2
 },
 "nbformat": 4,
 "nbformat_minor": 2
}
