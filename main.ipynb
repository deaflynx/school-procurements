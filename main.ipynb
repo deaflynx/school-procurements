{
 "cells": [
  {
   "cell_type": "code",
   "execution_count": 1,
   "metadata": {},
   "outputs": [],
   "source": [
    "import importlib\n",
    "import pandas as pd\n",
    "import numpy as np\n",
    "import re"
   ]
  },
  {
   "cell_type": "code",
   "execution_count": 2,
   "metadata": {},
   "outputs": [],
   "source": [
    "from functions.get_mon_data import *\n",
    "from functions.functions_dataframe import * \n",
    "from functions.functions_shared import *\n",
    "from parameters.filters_lists import *\n",
    "from parameters.route import *\n",
    "from parameters.regs import *"
   ]
  },
  {
   "cell_type": "code",
   "execution_count": null,
   "metadata": {},
   "outputs": [],
   "source": [
    "\"\"\" \n",
    "Для формування списку ЄДРПОУ навчальних закладів, які потрібно наносити на мапу, використані бази даних МОН, опубліковані у листопаді 2019 року на Порталі відкритих даних.\n",
    "\n",
    "### Перелік закладів загальної середньої та дошкільної освіти (ЗЗСДО)\n",
    "    https://data.gov.ua/dataset/bd70757a-ab49-46be-a650-608a9b3bd7b1\n",
    "    \n",
    "### Перелік закладів позашкільної освіти (державна форма власності)\n",
    "    https://data.gov.ua/dataset/9a88fb96-a043-4769-acf1-1c4a948ec285\n",
    "    Перелік закладів позашкільної освіти системи Міністерства освіти і науки України\n",
    "    https://data.gov.ua/dataset/18d7fb70-3781-4017-88d2-651e14d14211\n",
    "    Заклади професійної (професійно-технічної) освіти\n",
    "    https://data.gov.ua/dataset/824513a9-aa5e-45c8-b45e-dced6909761a\n",
    "\"\"\""
   ]
  },
  {
   "cell_type": "code",
   "execution_count": null,
   "metadata": {},
   "outputs": [],
   "source": [
    "\"\"\"\n",
    "df_raw - база даних завершених закупівель 24 обласних центрів з 1 серпня 2016 до 31 грудня 2019.\n",
    "В Донецькій області - Краматорськ. В Луганській - Сєвєродонецьк. \n",
    "Згерерована у Профейсійному модулі аналітики bipro.prozorro.\n",
    "\"ИдентификаторЛота\" є унікальним ідентифікатором рядка.\n",
    "\"\"\"  "
   ]
  },
  {
   "cell_type": "code",
   "execution_count": 3,
   "metadata": {
    "scrolled": false
   },
   "outputs": [
    {
     "name": "stdout",
     "output_type": "stream",
     "text": [
      "Дані з файлу викачки BIPro Prozorro: df_raw(537893, 11)\n"
     ]
    }
   ],
   "source": [
    "df_raw = pandas.read_csv('data/TrainingProZorroForSchoolProject20162019.csv', sep = ';', low_memory = False)\n",
    "training_data_columns = df_raw.columns.tolist()\n",
    "print(\"Дані з файлу викачки BIPro Prozorro: \" + \"df_raw\" + str(df_raw.shape))"
   ]
  },
  {
   "cell_type": "markdown",
   "metadata": {},
   "source": [
    "##### Step 0: Підготовка бази МОН для використання у фільтруванні закупівель"
   ]
  },
  {
   "cell_type": "code",
   "execution_count": 4,
   "metadata": {},
   "outputs": [],
   "source": [
    "expdata_sc = pandas.read_csv('data/mon_data/expdata_sc.csv', sep = ';', low_memory = False)\n",
    "expdata_dnz = pandas.read_csv('data/mon_data/expdata_dnz.csv', sep = ';', low_memory = False)"
   ]
  },
  {
   "cell_type": "code",
   "execution_count": 5,
   "metadata": {},
   "outputs": [
    {
     "name": "stdout",
     "output_type": "stream",
     "text": [
      "expdata_sc (15206, 21)\n"
     ]
    }
   ],
   "source": [
    "expdata_sc = expdata_sc.fillna(0)\n",
    "expdata_sc['edrpou'] = expdata_sc['edrpou'].astype(np.int64)\n",
    "mask = (expdata_sc['edrpou'].astype(str).str.len() == 7) | (expdata_sc['edrpou'].astype(str).str.len() == 8)\n",
    "expdata_sc = expdata_sc.loc[mask].sort_values(by=['edrpou'])\n",
    "print(\"expdata_sc\", expdata_sc.shape)"
   ]
  },
  {
   "cell_type": "code",
   "execution_count": 6,
   "metadata": {},
   "outputs": [
    {
     "name": "stdout",
     "output_type": "stream",
     "text": [
      "expdata_dnz (15745, 21)\n"
     ]
    }
   ],
   "source": [
    "expdata_dnz['edrpou'] = pd.to_numeric(expdata_dnz['edrpou'],errors='coerce')\n",
    "expdata_dnz = expdata_dnz.fillna(0)\n",
    "expdata_dnz['edrpou'] = expdata_dnz['edrpou'].astype(np.int64)\n",
    "mask = (expdata_dnz['edrpou'].astype(str).str.len() == 7) | (expdata_dnz['edrpou'].astype(str).str.len() == 8)\n",
    "expdata_dnz = expdata_dnz.loc[mask].sort_values(by=['edrpou'])\n",
    "print(\"expdata_dnz\", expdata_dnz.shape)"
   ]
  },
  {
   "cell_type": "code",
   "execution_count": 7,
   "metadata": {},
   "outputs": [
    {
     "name": "stdout",
     "output_type": "stream",
     "text": [
      "База МОН шкіл і садків з 7-8 значинми ЄДРПОУ, df_mon_data (30951, 22)\n"
     ]
    }
   ],
   "source": [
    "frames = [expdata_dnz, expdata_sc]\n",
    "df_mon_data = pd.concat(frames)\n",
    "print(\"База МОН шкіл і садків з 7-8 значинми ЄДРПОУ, df_mon_data\", df_mon_data.shape)"
   ]
  },
  {
   "cell_type": "code",
   "execution_count": 8,
   "metadata": {},
   "outputs": [
    {
     "name": "stderr",
     "output_type": "stream",
     "text": [
      "/home/artem/.local/lib/python3.6/site-packages/ipykernel_launcher.py:2: UserWarning: This pattern has match groups. To actually get the groups, use str.extract.\n",
      "  \n"
     ]
    },
    {
     "name": "stdout",
     "output_type": "stream",
     "text": [
      "edrpou_upravlin_osvity_prozorro 234\n",
      "df_mon_data_bez_upravlin_osvity (30881, 22)\n"
     ]
    }
   ],
   "source": [
    "filter_keywords_exclude = [\"департамент\", \"управлін.*освіт\", \"відділ.*освіт\"]\n",
    "df_raw_upravlin_osvity = df_raw[df_raw['Организатор'].astype(str).str.contains(r'({})'.format('|'.join(filter_keywords_exclude)), case = False, na = False, regex = True)]\n",
    "edrpou_upravlin_osvity_prozorro = df_raw_upravlin_osvity['IDOrganizator'].unique().tolist()\n",
    "print(\"edrpou_upravlin_osvity_prozorro\", len(edrpou_upravlin_osvity_prozorro))\n",
    "\n",
    "mask = (df_mon_data['edrpou'].isin(edrpou_upravlin_osvity_prozorro))\n",
    "df_mon_data_bez_upravlin_osvity = df_mon_data.loc[~mask]\n",
    "print(\"df_mon_data_bez_upravlin_osvity\", df_mon_data_bez_upravlin_osvity.shape)"
   ]
  },
  {
   "cell_type": "code",
   "execution_count": null,
   "metadata": {},
   "outputs": [],
   "source": [
    "\"\"\"\n",
    "TODO:\n",
    "    Артем: \n",
    "        створити базу управлінь освіти для формування переліку закупівель управлінь освіти \n",
    "        (закупівлі можуть дублюватись із закупівлями шкіл і садків)\n",
    "        ЄДРПОУ - Місто (для Києва - по районам, якщо можливо)\n",
    "\n",
    "\"\"\""
   ]
  },
  {
   "cell_type": "markdown",
   "metadata": {},
   "source": [
    "##### Step 1: Створити базу навчальних закладів, які самостійно купують через ProZorro. Виділення закупівель шкіл-замовників , згідно з базою МОН (пошук по колонці \"IDOrganizator\""
   ]
  },
  {
   "cell_type": "code",
   "execution_count": 9,
   "metadata": {
    "scrolled": true
   },
   "outputs": [
    {
     "name": "stdout",
     "output_type": "stream",
     "text": [
      "Закупівлі шкіл-замовників, визначених через МОН: df_tenders_by_schools_by_edrpou (32188, 11)\n",
      "Невизначені записи: df_undefined_1 (505705, 11)\n"
     ]
    }
   ],
   "source": [
    "mon_data = df_mon_data_bez_upravlin_osvity.edrpou.unique().tolist()\n",
    "# mon_data = get_mon_data()\n",
    "\n",
    "df_tenders_by_schools_by_edrpou = df_raw[df_raw['IDOrganizator'].isin(mon_data)]\n",
    "df_undefined_1 = df_raw[~df_raw['IDOrganizator'].isin(mon_data)]\n",
    "\n",
    "print(\"Закупівлі шкіл-замовників, визначених через МОН: df_tenders_by_schools_by_edrpou \" + str(df_tenders_by_schools_by_edrpou.shape))\n",
    "print(\"Невизначені записи: df_undefined_1 \" + str(df_undefined_1.shape))"
   ]
  },
  {
   "cell_type": "code",
   "execution_count": null,
   "metadata": {},
   "outputs": [],
   "source": [
    "# evaluation of results of Step 1\n",
    "\n",
    "# df_tenders_by_schools_by_edrpou['Организатор'].value_counts()"
   ]
  },
  {
   "cell_type": "code",
   "execution_count": 11,
   "metadata": {},
   "outputs": [],
   "source": [
    "# # Experiments Step 1\n",
    "\n",
    "# school_names = df_mon_data_bez_upravlin_osvity.university_name.tolist()\n",
    "# df_tenders_by_schools_by_name = df_raw[df_raw['Организатор'].isin(school_names)]\n",
    "# df_tenders_by_schools_by_name.shape\n",
    "\n",
    "# print(df_mon_data_bez_upravlin_osvity.columns)\n",
    "\n",
    "# cols = ['edrpou', 'university_name', 'university_type_name', 'education_type_name']\n",
    "# df_mon_data_bez_upravlin_osvity_for_merge = df_mon_data_bez_upravlin_osvity[cols]\n",
    "\n",
    "# df_tenders_by_schools_by_edrpou_extended = pd.merge(df_tenders_by_schools_by_edrpou, df_mon_data_bez_upravlin_osvity_merge, \n",
    "#                                                                                  left_on='IDOrganizator',\n",
    "#                                                                                  right_on='edrpou',\n",
    "#                                                                                  how='left') \n",
    "# df_tenders_by_schools_by_edrpou_extended.sample(3)"
   ]
  },
  {
   "cell_type": "markdown",
   "metadata": {},
   "source": [
    "##### Step 2: Виділення закупівель шкіл-замовників за допомогою пошуку ключових слів в колонці \"Организатор\" "
   ]
  },
  {
   "cell_type": "code",
   "execution_count": 12,
   "metadata": {},
   "outputs": [
    {
     "name": "stderr",
     "output_type": "stream",
     "text": [
      "/home/artem/.local/lib/python3.6/site-packages/ipykernel_launcher.py:1: UserWarning: This pattern has match groups. To actually get the groups, use str.extract.\n",
      "  \"\"\"Entry point for launching an IPython kernel.\n"
     ]
    },
    {
     "name": "stdout",
     "output_type": "stream",
     "text": [
      "Закупівлі шкіл-замовників, визначених через 'Организатор': df_tenders_by_schools_by_keywords (9351, 11)\n"
     ]
    }
   ],
   "source": [
    "df_tenders_by_schools_by_keywords = df_undefined_1[df_undefined_1['Организатор'].astype(str).str.contains(r'({})'.format('|'.join(filter_keywords)), case = False, na = False, regex = True) ]\n",
    "print(f\"Закупівлі шкіл-замовників, визначених через 'Организатор': df_tenders_by_schools_by_keywords {df_tenders_by_schools_by_keywords.shape}\")"
   ]
  },
  {
   "cell_type": "code",
   "execution_count": null,
   "metadata": {},
   "outputs": [],
   "source": [
    "# evalutaion #1 of results of Step 2\n",
    "# df_tenders_by_schools_by_keywords['Организатор'].value_counts()"
   ]
  },
  {
   "cell_type": "code",
   "execution_count": 13,
   "metadata": {
    "collapsed": true
   },
   "outputs": [
    {
     "name": "stdout",
     "output_type": "stream",
     "text": [
      "Видалення із датафрейму df_tenders_by_schools_by_keywords так званих 'професійних' навчальних закладів, (6890, 11) \n",
      "Додаткове фільтрування датафрейму: ['школа І-І.*ступенів', 'навчальн.*виховн.*комплекс', 'гімназ', 'ліце', 'дошкільний']. Залишилось:, (329, 11)\n"
     ]
    },
    {
     "name": "stderr",
     "output_type": "stream",
     "text": [
      "/home/artem/.local/lib/python3.6/site-packages/ipykernel_launcher.py:4: UserWarning: This pattern has match groups. To actually get the groups, use str.extract.\n",
      "  after removing the cwd from sys.path.\n",
      "/home/artem/.local/lib/python3.6/site-packages/ipykernel_launcher.py:6: UserWarning: This pattern has match groups. To actually get the groups, use str.extract.\n",
      "  \n"
     ]
    }
   ],
   "source": [
    "# solution for Step 2\n",
    "\n",
    "filter_keywords_step_2_exclude = ['професійн', 'міжшкільн']\n",
    "df_tenders_by_schools_by_keywords_2_temp = df_tenders_by_schools_by_keywords[~df_tenders_by_schools_by_keywords['Организатор'].astype(str).str.contains(r'({})'.format('|'.join(filter_keywords_step_2_exclude)), case = False, na = False, regex = True)]\n",
    "filter_keywords_step_2_include = [\"школа І-І.*ступенів\", \"навчальн.*виховн.*комплекс\", \"гімназ\", \"ліце\", \"дошкільний\"]\n",
    "df_tenders_by_schools_by_keywords_2 = df_tenders_by_schools_by_keywords_2_temp[df_tenders_by_schools_by_keywords_2_temp['Организатор'].astype(str).str.contains(r'({})'.format('|'.join(filter_keywords_step_2_include)), case = False, na = False, regex = True)]\n",
    "print(f\"Видалення із датафрейму df_tenders_by_schools_by_keywords так званих 'професійних' навчальних закладів, {df_tenders_by_schools_by_keywords_2_temp.shape} \\nДодаткове фільтрування датафрейму: {filter_keywords_step_2_include}. Залишилось:, {df_tenders_by_schools_by_keywords_2.shape}\")"
   ]
  },
  {
   "cell_type": "code",
   "execution_count": null,
   "metadata": {},
   "outputs": [],
   "source": [
    "\"\"\"\n",
    "TODO:\n",
    "    Артем: \n",
    "        Перевірити детально, чи не видаляє filter_keywords_step_2_exclude потрібні закупівлі\n",
    "\n",
    "\"\"\""
   ]
  },
  {
   "cell_type": "code",
   "execution_count": null,
   "metadata": {},
   "outputs": [],
   "source": [
    "# evalutaion #2 of results of Step 2\n",
    "\n",
    "# df_tenders_by_schools_by_keywords_2['Организатор'].value_counts()"
   ]
  },
  {
   "cell_type": "markdown",
   "metadata": {},
   "source": [
    "##### Step 2.5: Об'єднання двох датафреймів шкіл-замовників в один"
   ]
  },
  {
   "cell_type": "code",
   "execution_count": 14,
   "metadata": {},
   "outputs": [
    {
     "name": "stdout",
     "output_type": "stream",
     "text": [
      "Закупівлі шкіл-замовників: df_tenders_by_schools (32517, 11) \n",
      "Невизначені записи: df_undefined_1:(505705, 11)\n"
     ]
    }
   ],
   "source": [
    "df_tenders_by_schools = pandas.concat([df_tenders_by_schools_by_edrpou, df_tenders_by_schools_by_keywords_2])\n",
    "\n",
    "print(f\"Закупівлі шкіл-замовників: df_tenders_by_schools {df_tenders_by_schools.shape} \\nНевизначені записи: df_undefined_1:{df_undefined_1.shape}\")"
   ]
  },
  {
   "cell_type": "markdown",
   "metadata": {},
   "source": [
    "##### Step 3: Класифікація шкіл-замовників по типах"
   ]
  },
  {
   "cell_type": "code",
   "execution_count": 15,
   "metadata": {
    "collapsed": true
   },
   "outputs": [
    {
     "name": "stderr",
     "output_type": "stream",
     "text": [
      "/home/artem/projects/tmp/school-procurements/functions/functions_dataframe.py:51: SettingWithCopyWarning: \n",
      "A value is trying to be set on a copy of a slice from a DataFrame.\n",
      "Try using .loc[row_indexer,col_indexer] = value instead\n",
      "\n",
      "See the caveats in the documentation: http://pandas.pydata.org/pandas-docs/stable/indexing.html#indexing-view-versus-copy\n",
      "  given_df['Тип закладу'] = \"Невідомо\"\n",
      "/home/artem/projects/tmp/school-procurements/functions/functions_dataframe.py:54: SettingWithCopyWarning: \n",
      "A value is trying to be set on a copy of a slice from a DataFrame.\n",
      "Try using .loc[row_indexer,col_indexer] = value instead\n",
      "\n",
      "See the caveats in the documentation: http://pandas.pydata.org/pandas-docs/stable/indexing.html#indexing-view-versus-copy\n",
      "  given_df[column + \"_check\"] = \"\"\n",
      "/home/artem/projects/tmp/school-procurements/functions/functions_dataframe.py:60: UserWarning: This pattern has match groups. To actually get the groups, use str.extract.\n",
      "  case = False, na = False, regex = True)\n",
      "/home/artem/projects/tmp/school-procurements/functions/functions_dataframe.py:60: SettingWithCopyWarning: \n",
      "A value is trying to be set on a copy of a slice from a DataFrame.\n",
      "Try using .loc[row_indexer,col_indexer] = value instead\n",
      "\n",
      "See the caveats in the documentation: http://pandas.pydata.org/pandas-docs/stable/indexing.html#indexing-view-versus-copy\n",
      "  case = False, na = False, regex = True)\n",
      "/home/artem/projects/tmp/school-procurements/functions/functions_dataframe.py:63: SettingWithCopyWarning: \n",
      "A value is trying to be set on a copy of a slice from a DataFrame.\n",
      "Try using .loc[row_indexer,col_indexer] = value instead\n",
      "\n",
      "See the caveats in the documentation: http://pandas.pydata.org/pandas-docs/stable/indexing.html#indexing-view-versus-copy\n",
      "  given_df['Тип закладу'] = np.where(given_df['Организатор_check'] == True, checked_name, given_df['Тип закладу'])\n"
     ]
    }
   ],
   "source": [
    "columns_to_classify = ['Организатор']\n",
    "df_tenders_by_schools_classified = classification_by_type_one_column(df_tenders_by_schools, columns_to_classify, filter_priority, filter_name_priority)"
   ]
  },
  {
   "cell_type": "code",
   "execution_count": null,
   "metadata": {},
   "outputs": [],
   "source": [
    "# evaluation of Step 3\n",
    "\n",
    "# pd.set_option(\"display.max_colwidth\", 200)\n",
    "# print(\"Заклади, де не визначений тип:\")\n",
    "# df_tenders_by_schools_classified[df_tenders_by_schools_classified['Тип закладу'] == 'Невідомо']['Организатор'].unique().tolist()"
   ]
  },
  {
   "cell_type": "markdown",
   "metadata": {},
   "source": [
    "##### Step 4: Нумерація шкіл-замовників"
   ]
  },
  {
   "cell_type": "code",
   "execution_count": 16,
   "metadata": {},
   "outputs": [
    {
     "name": "stderr",
     "output_type": "stream",
     "text": [
      "/home/artem/projects/tmp/school-procurements/functions/functions_dataframe.py:69: SettingWithCopyWarning: \n",
      "A value is trying to be set on a copy of a slice from a DataFrame.\n",
      "Try using .loc[row_indexer,col_indexer] = value instead\n",
      "\n",
      "See the caveats in the documentation: http://pandas.pydata.org/pandas-docs/stable/indexing.html#indexing-view-versus-copy\n",
      "  given_df['Номер'] = given_df[column].str.findall(f\"{regex}\", flags = re.IGNORECASE).apply(''.join)\n"
     ]
    }
   ],
   "source": [
    "columns_to_numerate = ['Организатор']\n",
    "df_tenders_by_schools_numerated = numeration_one_column(df_tenders_by_schools_classified, columns_to_numerate, reg_number)"
   ]
  },
  {
   "cell_type": "markdown",
   "metadata": {},
   "source": [
    "##### Step 4.5: Найменування шкіл-замовників"
   ]
  },
  {
   "cell_type": "code",
   "execution_count": 17,
   "metadata": {},
   "outputs": [
    {
     "name": "stderr",
     "output_type": "stream",
     "text": [
      "/home/artem/projects/tmp/school-procurements/functions/functions_dataframe.py:82: SettingWithCopyWarning: \n",
      "A value is trying to be set on a copy of a slice from a DataFrame.\n",
      "Try using .loc[row_indexer,col_indexer] = value instead\n",
      "\n",
      "See the caveats in the documentation: http://pandas.pydata.org/pandas-docs/stable/indexing.html#indexing-view-versus-copy\n",
      "  given_df['Назва'] = given_df[column].str.findall(f\"{regex}\", flags = re.IGNORECASE).str[0].str[-1]\n"
     ]
    }
   ],
   "source": [
    "columns_to_name = ['Организатор']\n",
    "df_tenders_by_schools_named = naming_one_column(df_tenders_by_schools_numerated, columns_to_name, reg_quotes)"
   ]
  },
  {
   "cell_type": "code",
   "execution_count": 18,
   "metadata": {},
   "outputs": [
    {
     "name": "stdout",
     "output_type": "stream",
     "text": [
      "filter_poza\n",
      "Було закупівель (32517, 15)\n"
     ]
    },
    {
     "name": "stderr",
     "output_type": "stream",
     "text": [
      "/home/artem/.local/lib/python3.6/site-packages/ipykernel_launcher.py:4: UserWarning: This pattern has match groups. To actually get the groups, use str.extract.\n",
      "  after removing the cwd from sys.path.\n"
     ]
    },
    {
     "name": "stdout",
     "output_type": "stream",
     "text": [
      "Залишилось закупівель після видалення закупівель закладів ключовими словами ['художн', 'мистецтв', 'дхш', 'дмш', 'музич', 'юнацьк.*спортивн', 'дюсш', 'дитяч.*спортивн'], \n",
      "df_tenders_by_schools_named (31859, 15)\n"
     ]
    },
    {
     "name": "stderr",
     "output_type": "stream",
     "text": [
      "/home/artem/.local/lib/python3.6/site-packages/ipykernel_launcher.py:5: SettingWithCopyWarning: \n",
      "A value is trying to be set on a copy of a slice from a DataFrame.\n",
      "Try using .loc[row_indexer,col_indexer] = value instead\n",
      "\n",
      "See the caveats in the documentation: http://pandas.pydata.org/pandas-docs/stable/indexing.html#indexing-view-versus-copy\n",
      "  \"\"\"\n"
     ]
    }
   ],
   "source": [
    "print('filter_poza', )\n",
    "print('Було закупівель', df_tenders_by_schools_named.shape)\n",
    "df_tenders_by_schools_named = df_tenders_by_schools_named[~df_tenders_by_schools_named['Организатор'].astype(str).str.contains(r'({})'.format('|'.join(filter_poza)),\n",
    "                case = False, na = False, regex = True)]\n",
    "df_tenders_by_schools_named['Номер'] = df_tenders_by_schools_named['Номер'].replace(r'^\\s*$', np.nan, regex=True) # перетворити пусті строки в NaN\n",
    "print(f'Залишилось закупівель після видалення закупівель закладів ключовими словами {filter_poza}, \\ndf_tenders_by_schools_named', df_tenders_by_schools_named.shape)"
   ]
  },
  {
   "cell_type": "code",
   "execution_count": null,
   "metadata": {},
   "outputs": [],
   "source": [
    "# # evaluation of Step 4\n",
    "\n",
    "# for_analysis_step_4 = df_tenders_by_schools_named[df_tenders_by_schools_named['Назва'].isnull() & \n",
    "#                                   df_tenders_by_schools_named['Номер'].isnull()]\n",
    "# print('Навчальні заклади, де не визначились номер чи назва:')\n",
    "# for_analysis_step_4['Организатор'].unique().tolist()"
   ]
  },
  {
   "cell_type": "markdown",
   "metadata": {},
   "source": [
    "##### Step 4.9: Форматування бази шкіл-замовників"
   ]
  },
  {
   "cell_type": "code",
   "execution_count": 19,
   "metadata": {},
   "outputs": [],
   "source": [
    "df_tenders_by_schools = df_tenders_by_schools_named.copy()\n",
    "df_tenders_by_schools['Заклад-замовник'] = True\n",
    "\n",
    "col_names = training_data_columns.copy() \n",
    "col_names += ['Номер', 'Назва', 'Тип закладу', 'Заклад-замовник']\n",
    "\n",
    "df_tenders_by_schools = df_tenders_by_schools[col_names]"
   ]
  },
  {
   "cell_type": "markdown",
   "metadata": {},
   "source": [
    "##### Step 5: Виділення закупівель шкіл-не-замовників за допомогою пошуку ключових слів в колонках Тендер, ОписаниеТендера, Лот"
   ]
  },
  {
   "cell_type": "code",
   "execution_count": 20,
   "metadata": {},
   "outputs": [
    {
     "name": "stderr",
     "output_type": "stream",
     "text": [
      "/home/artem/.local/lib/python3.6/site-packages/ipykernel_launcher.py:8: UserWarning: This pattern has match groups. To actually get the groups, use str.extract.\n",
      "  \n",
      "/home/artem/.local/lib/python3.6/site-packages/ipykernel_launcher.py:9: UserWarning: This pattern has match groups. To actually get the groups, use str.extract.\n",
      "  if __name__ == '__main__':\n"
     ]
    },
    {
     "name": "stdout",
     "output_type": "stream",
     "text": [
      "Закупівлі шкіл-не-замовників, визначених через Тендер, Лот, ОписаниеТендера: df_tenders_by_schools_by_keywords (28708, 11)\n"
     ]
    }
   ],
   "source": [
    "df_tenders_not_by_schools_by_keywords = df_undefined_1[df_undefined_1['Тендер'].astype(str).str.contains(r'({})'.format('|'.join(filter_keywords_extended)), \n",
    "            case = False, na = False, regex = True)  | \n",
    "                                                      df_undefined_1['ОписаниеТендера'].astype(str).str.contains(r'({})'.format('|'.join(filter_keywords_extended)), \n",
    "            case = False, na = False, regex = True) | \n",
    "                                                      df_undefined_1['Лот'].astype(str).str.contains(r'({})'.format('|'.join(filter_keywords_extended)), \n",
    "            case = False, na = False, regex = True) | df_undefined_1['Тендер'].astype(str).str.contains(r'(/b{}/b)'.format('|'.join(filter_keywords_strict_extended)), \n",
    "            case = False, na = False, regex = True) | df_undefined_1['ОписаниеТендера'].astype(str).str.contains(r'(/b{}/b)'.format('|'.join(filter_keywords_strict_extended)), \n",
    "            case = False, na = False, regex = True) | df_undefined_1['Лот'].astype(str).str.contains(r'(/b{}/b)'.format('|'.join(filter_keywords_strict_extended)), \n",
    "            case = False, na = False, regex = True)]\n",
    "\n",
    "print(\"Закупівлі шкіл-не-замовників, визначених через Тендер, Лот, ОписаниеТендера: df_tenders_by_schools_by_keywords \" + str(df_tenders_not_by_schools_by_keywords.shape))"
   ]
  },
  {
   "cell_type": "code",
   "execution_count": null,
   "metadata": {},
   "outputs": [],
   "source": [
    "# evaluation of Step 5\n",
    "\n",
    "# df_tenders_not_by_schools_by_keywords"
   ]
  },
  {
   "cell_type": "markdown",
   "metadata": {},
   "source": [
    "##### Step 6: Класифікація шкіл-не-замовників по типах"
   ]
  },
  {
   "cell_type": "code",
   "execution_count": 21,
   "metadata": {},
   "outputs": [],
   "source": [
    "# тимчасово винсені з filters_lists фільтри сюди для тестування порядковості\n",
    "\n",
    "filter_priority = [\n",
    "        filter_nvk,\n",
    "        filter_gimnasium,\n",
    "        filter_liceum,\n",
    "        filter_specializovana,\n",
    "        filter_internat,\n",
    "        filter_kombinat,\n",
    "        filter_sanatorna,\n",
    "        filter_specializovana,\n",
    "        filter_specialna,\n",
    "        filter_sadik,\n",
    "        filter_shkola \n",
    "    ]\n",
    "\n",
    "filter_name_priority = [\n",
    "        filter_nvk_name,\n",
    "        filter_gimnasium_name,\n",
    "        filter_liceum_name,\n",
    "        filter_specializovana_name,\n",
    "        filter_internat_name,\n",
    "        filter_kombinat_name,\n",
    "        filter_sanatorna_name,\n",
    "        filter_specializovana_name,\n",
    "        filter_specialna_name,\n",
    "        filter_sadik_name,\n",
    "        filter_shkola_name\n",
    "    ]"
   ]
  },
  {
   "cell_type": "code",
   "execution_count": 22,
   "metadata": {
    "collapsed": true
   },
   "outputs": [
    {
     "name": "stderr",
     "output_type": "stream",
     "text": [
      "/home/artem/projects/tmp/school-procurements/functions/functions_dataframe.py:31: SettingWithCopyWarning: \n",
      "A value is trying to be set on a copy of a slice from a DataFrame.\n",
      "Try using .loc[row_indexer,col_indexer] = value instead\n",
      "\n",
      "See the caveats in the documentation: http://pandas.pydata.org/pandas-docs/stable/indexing.html#indexing-view-versus-copy\n",
      "  given_df['Тип закладу'] = \"Невідомо\"\n",
      "/home/artem/projects/tmp/school-procurements/functions/functions_dataframe.py:34: SettingWithCopyWarning: \n",
      "A value is trying to be set on a copy of a slice from a DataFrame.\n",
      "Try using .loc[row_indexer,col_indexer] = value instead\n",
      "\n",
      "See the caveats in the documentation: http://pandas.pydata.org/pandas-docs/stable/indexing.html#indexing-view-versus-copy\n",
      "  given_df[column + \"_check\"] = \"\"\n",
      "/home/artem/projects/tmp/school-procurements/functions/functions_dataframe.py:40: UserWarning: This pattern has match groups. To actually get the groups, use str.extract.\n",
      "  case = False, na = False, regex = True)\n",
      "/home/artem/projects/tmp/school-procurements/functions/functions_dataframe.py:40: SettingWithCopyWarning: \n",
      "A value is trying to be set on a copy of a slice from a DataFrame.\n",
      "Try using .loc[row_indexer,col_indexer] = value instead\n",
      "\n",
      "See the caveats in the documentation: http://pandas.pydata.org/pandas-docs/stable/indexing.html#indexing-view-versus-copy\n",
      "  case = False, na = False, regex = True)\n",
      "/home/artem/projects/tmp/school-procurements/functions/functions_dataframe.py:43: SettingWithCopyWarning: \n",
      "A value is trying to be set on a copy of a slice from a DataFrame.\n",
      "Try using .loc[row_indexer,col_indexer] = value instead\n",
      "\n",
      "See the caveats in the documentation: http://pandas.pydata.org/pandas-docs/stable/indexing.html#indexing-view-versus-copy\n",
      "  given_df['Тип закладу'] = np.where((given_df['Тендер_check'] == True) | (given_df['ОписаниеТендера_check'] == True) | (given_df['Лот_check'] == True), checked_name, given_df['Тип закладу'])\n"
     ]
    }
   ],
   "source": [
    "columns_to_classify = ['Тендер', 'ОписаниеТендера', 'Лот']\n",
    "df_tenders_not_by_schools_classified = classification_by_type_three_cols(df_tenders_not_by_schools_by_keywords, columns_to_classify, filter_priority, filter_name_priority)"
   ]
  },
  {
   "cell_type": "code",
   "execution_count": null,
   "metadata": {},
   "outputs": [],
   "source": [
    "# # evaluation of Step 6\n",
    "\n",
    "# pd.set_option(\"display.max_colwidth\", 200)\n",
    "\n",
    "# type_sample = 'Інтернат'\n",
    "# df_tenders_not_by_schools_classified[df_tenders_not_by_schools_classified['Тип закладу'] == type_sample][['Тендер', 'ОписаниеТендера', 'Лот', 'Тип закладу']].sort_values(by=['Тип закладу'])\n",
    "# df_tenders_not_by_schools_classified['Тип закладу'].value_counts()"
   ]
  },
  {
   "cell_type": "markdown",
   "metadata": {},
   "source": [
    "##### Step 7: Нумерація шкіл-не-замовників"
   ]
  },
  {
   "cell_type": "code",
   "execution_count": 23,
   "metadata": {},
   "outputs": [
    {
     "name": "stdout",
     "output_type": "stream",
     "text": [
      "df_step7_numerated (23695, 19)\n"
     ]
    }
   ],
   "source": [
    "\"\"\"\n",
    "Принцип фільтрування в функції numeration():\n",
    "\n",
    "    Визначається наявністья символу № в кожній колонці columns_to_numerate_step7\n",
    "    \n",
    "    Регулярний вираз знаходить всі паттерни і джойнить через кому\n",
    "    \n",
    "    Паралельно створюється колонка, де рахується кількість знайдених паттернів\n",
    "    \n",
    "    Результат фільтрування numeration() - потрапляє у датафрейм df_step7_numerated\n",
    "\"\"\"\n",
    "columns_to_numerate_step7 = ['Тендер', 'Лот']\n",
    "action_mark = 'numeration'\n",
    "df_step7 = df_tenders_not_by_schools_classified[df_tenders_not_by_schools_classified['Тип закладу'] != 'Невідомо'].copy()\n",
    "\n",
    "df_step7_numerated = numeration(df_step7, columns_to_numerate_step7, reg_number, action_mark)\n",
    "print(\"df_step7_numerated\", df_step7_numerated.shape)"
   ]
  },
  {
   "cell_type": "code",
   "execution_count": 24,
   "metadata": {},
   "outputs": [
    {
     "name": "stdout",
     "output_type": "stream",
     "text": [
      "df_step7_numerated_lot_tender (17104, 20) \n",
      "df_step7_numerated_undefined (6591, 20)\n"
     ]
    }
   ],
   "source": [
    "\"\"\"\n",
    "    Якщо в колонках Лот і Тендер знайшло по одному паттерну і вони однакові - \n",
    "    закупівля вважається такою, де коректно визначений номер\n",
    "\n",
    "    Ці закупівлі потрапляють до датафрейму df_step7_numerated_lot_tender\n",
    "\n",
    "    Колонка \"Номер\" отримує знайдений номер \"Лот_numeration\"\n",
    "\n",
    "    Решта закупівель потрапляють до датафрейму df_step7_numerated_undefined.\n",
    "\"\"\"\n",
    "\n",
    "df_step7_numerated['Номер'] = np.where(((df_step7_numerated['Тендер_numeration_count'] == 1) | \n",
    "                                        (df_step7_numerated['Лот_numeration_count'] == 1)) & \n",
    "                                        (df_step7_numerated['Лот_numeration_count'] == df_step7_numerated['Тендер_numeration_count']), \n",
    "                                        df_step7_numerated['Лот_numeration'], \n",
    "                                        'Невідомо')\n",
    "\n",
    "df_step7_numerated_lot_tender = df_step7_numerated[df_step7_numerated['Номер'] != 'Невідомо']\n",
    "\n",
    "df_step7_numerated_undefined = df_step7_numerated[df_step7_numerated['Номер'] == 'Невідомо']\n",
    "\n",
    "print(\"df_step7_numerated_lot_tender\", df_step7_numerated_lot_tender.shape, \"\\ndf_step7_numerated_undefined\", df_step7_numerated_undefined.shape)"
   ]
  },
  {
   "cell_type": "code",
   "execution_count": 25,
   "metadata": {},
   "outputs": [
    {
     "name": "stdout",
     "output_type": "stream",
     "text": [
      "df_step7_numerated_lot (527, 20) \n",
      "df_step7_numerated_undefined_2 (6064, 20)\n"
     ]
    }
   ],
   "source": [
    "\"\"\"\n",
    "    Якщо в колонці Лот знайдений один паттерн - \n",
    "    закупівля потрапляють до датафрейму df_step7_numerated_lot\n",
    "    \n",
    "    Решта закупівель потрапляють до датафрейму до df_step7_numerated_undefined_2\n",
    "\"\"\"\n",
    "\n",
    "df_step7_numerated_lot = df_step7_numerated_undefined.copy()\n",
    "\n",
    "df_step7_numerated_lot['Номер'] = np.where(df_step7_numerated_lot['Лот_numeration_count'] == 1, \n",
    "                                                 df_step7_numerated_lot['Лот_numeration'], \n",
    "                                                 'Невідомо')\n",
    "\n",
    "df_step7_numerated_undefined_2 = df_step7_numerated_lot[df_step7_numerated_lot['Номер'] == 'Невідомо']\n",
    "df_step7_numerated_lot = df_step7_numerated_lot[df_step7_numerated_lot['Номер'] != 'Невідомо']\n",
    "\n",
    "print(\"df_step7_numerated_lot\", df_step7_numerated_lot.shape, \"\\ndf_step7_numerated_undefined_2\", df_step7_numerated_undefined_2.shape)"
   ]
  },
  {
   "cell_type": "code",
   "execution_count": 26,
   "metadata": {},
   "outputs": [
    {
     "name": "stdout",
     "output_type": "stream",
     "text": [
      "df_step7_numerated_tender (25, 20) \n",
      "df_step7_numerated_undefined_3 (6039, 20)\n"
     ]
    }
   ],
   "source": [
    "\"\"\"\n",
    "    Якщо в колонці Тендер знайдений один паттерн - \n",
    "    закупівля потрапляють до датафрейму df_step7_numerated_tender\n",
    "    \n",
    "    Решта закупівель потрапляють до датафрейму до df_step7_numerated_undefined_3\n",
    "\"\"\"\n",
    "df_step7_numerated_tender = df_step7_numerated_undefined_2.copy()\n",
    "\n",
    "df_step7_numerated_tender['Номер'] = np.where(df_step7_numerated_tender['Тендер_numeration_count'] == 1, \n",
    "                                                 df_step7_numerated_tender['Тендер_numeration'], \n",
    "                                                 'Невідомо')\n",
    "df_step7_numerated_undefined_3 = df_step7_numerated_tender[df_step7_numerated_tender['Номер'] == 'Невідомо']\n",
    "df_step7_numerated_tender = df_step7_numerated_tender[df_step7_numerated_tender['Номер'] != 'Невідомо']\n",
    "\n",
    "print(\"df_step7_numerated_tender\", df_step7_numerated_tender.shape, \"\\ndf_step7_numerated_undefined_3\", df_step7_numerated_undefined_3.shape)"
   ]
  },
  {
   "cell_type": "markdown",
   "metadata": {},
   "source": [
    "##### Step 7.5: Об'єднання датафреймів шкіл-не-замовників з номерами"
   ]
  },
  {
   "cell_type": "code",
   "execution_count": 27,
   "metadata": {},
   "outputs": [],
   "source": [
    "frames = [df_step7_numerated_lot_tender, df_step7_numerated_lot, df_step7_numerated_tender]\n",
    "df_tenders_not_by_schools_numerated = pd.concat(frames)\n",
    "df_tenders_not_by_schools_numerated['Назва'] = np.nan # Створення пустої колонки \"Назва\" для подальшого обєднання з датафреймом з номерами"
   ]
  },
  {
   "cell_type": "markdown",
   "metadata": {},
   "source": [
    "##### Step 8: Найменування шкіл-не-замовників"
   ]
  },
  {
   "cell_type": "code",
   "execution_count": 28,
   "metadata": {},
   "outputs": [
    {
     "name": "stdout",
     "output_type": "stream",
     "text": [
      "df_tenders_not_by_schools_named (6039, 22)\n"
     ]
    }
   ],
   "source": [
    "columns_to_classify_step8 = ['Тендер', 'Лот']\n",
    "action_mark = 'naming'\n",
    "df_step8 = df_step7_numerated_undefined_3.copy()\n",
    "\n",
    "df_tenders_not_by_schools_named = naming(df_step8, columns_to_classify_step8, reg_quotes, action_mark)\n",
    "print(\"df_tenders_not_by_schools_named\", df_tenders_not_by_schools_named.shape)"
   ]
  },
  {
   "cell_type": "code",
   "execution_count": 29,
   "metadata": {},
   "outputs": [],
   "source": [
    "df_tenders_not_by_schools_named['Назва'] = np.where((df_tenders_not_by_schools_named['Тендер_naming'].notnull()) & \n",
    "                             (df_tenders_not_by_schools_named['Лот_naming'].notnull()) & \n",
    "                             (df_tenders_not_by_schools_named['Тендер_naming'] == df_tenders_not_by_schools_named['Лот_naming']),\n",
    "                             df_tenders_not_by_schools_named['Тендер_naming'], \n",
    "                             'Невідомо')\n",
    "\n",
    "df_step8_undefined = df_tenders_not_by_schools_named[df_tenders_not_by_schools_named['Назва'] == 'Невідомо']\n",
    "df_tenders_not_by_schools_named_lot_tender = df_tenders_not_by_schools_named[df_tenders_not_by_schools_named['Назва'] != 'Невідомо']"
   ]
  },
  {
   "cell_type": "markdown",
   "metadata": {},
   "source": [
    "##### Step 9: Об'єднання двох датафреймів шкіл-не-замовників"
   ]
  },
  {
   "cell_type": "code",
   "execution_count": 30,
   "metadata": {},
   "outputs": [],
   "source": [
    "frames = [df_tenders_not_by_schools_numerated, df_tenders_not_by_schools_named]\n",
    "df_tenders_not_by_schools = pd.concat(frames)"
   ]
  },
  {
   "cell_type": "code",
   "execution_count": 31,
   "metadata": {},
   "outputs": [],
   "source": [
    "df_tenders_not_by_schools['Заклад-замовник'] = False"
   ]
  },
  {
   "cell_type": "code",
   "execution_count": 32,
   "metadata": {},
   "outputs": [
    {
     "name": "stdout",
     "output_type": "stream",
     "text": [
      "df_tenders_not_by_schools_numerated (17656, 21)\n"
     ]
    }
   ],
   "source": [
    "df_tenders_not_by_schools = df_tenders_not_by_schools[col_names]\n",
    "print(\"df_tenders_not_by_schools_numerated\", df_tenders_not_by_schools_numerated.shape)"
   ]
  },
  {
   "cell_type": "markdown",
   "metadata": {},
   "source": [
    "##### Step 9.5: Мердження Номеру і Назви у датафреймах у одну колонку Номер/Назва \n",
    "##### DO NOT RUN"
   ]
  },
  {
   "cell_type": "code",
   "execution_count": 52,
   "metadata": {},
   "outputs": [],
   "source": [
    "# \"\"\"\n",
    "# У датафреймі Шкіл-замовників df_tenders_by_schools_temp в рядках, \n",
    "#     - де Номер не визначився, присвоюється Назва\n",
    "#     - де Назва не визначилась, присвоюється поле Організатор\n",
    "# \"\"\"\n",
    "\n",
    "# df_tenders_by_schools_temp = df_tenders_by_schools.copy()\n",
    "# df_tenders_by_schools_temp['Номер/Назва'] = np.where(df_tenders_by_schools_temp['Номер'].notnull(), df_tenders_by_schools_temp['Номер'], df_tenders_by_schools_temp['Назва'])\n",
    "# df_tenders_by_schools_temp['Номер/Назва'] = np.where(df_tenders_by_schools_temp['Номер/Назва'].isnull(), df_tenders_by_schools_temp['Организатор'], df_tenders_by_schools_temp['Номер/Назва'])"
   ]
  },
  {
   "cell_type": "code",
   "execution_count": 53,
   "metadata": {},
   "outputs": [],
   "source": [
    "# \"\"\"\n",
    "# У датафреймі Шкіл-не-замовників df_tenders_not_by_schools в рядках, \n",
    "#     - де Номер не визначився, присвоюється Назва\n",
    "#     - де Назва не визначилась, присвоюється поле Організатор\n",
    "\n",
    "# В колонці 'Номер/Назва' значення \"Невідомо\" фактично означає закупівлю для кількох закладів освіти\n",
    "\n",
    "# \"\"\"\n",
    "\n",
    "# df_tenders_not_by_schools_temp = df_tenders_not_by_schools.copy()\n",
    "# df_tenders_not_by_schools_temp['Номер/Назва'] = np.where(df_tenders_not_by_schools_temp['Номер'].notnull(), df_tenders_not_by_schools_temp['Номер'], df_tenders_not_by_schools_temp['Назва'])"
   ]
  },
  {
   "cell_type": "markdown",
   "metadata": {},
   "source": [
    "##### Step 10: Об'єднання датафреймів шкіл-не-замовників та шкіл-замовників"
   ]
  },
  {
   "cell_type": "code",
   "execution_count": 54,
   "metadata": {},
   "outputs": [
    {
     "name": "stdout",
     "output_type": "stream",
     "text": [
      "df_tenders (55554, 15)\n"
     ]
    }
   ],
   "source": [
    "frames = [df_tenders_by_schools, df_tenders_not_by_schools]\n",
    "df_tenders = pd.concat(frames)\n",
    "print(\"df_tenders\", df_tenders.shape)"
   ]
  },
  {
   "cell_type": "code",
   "execution_count": 55,
   "metadata": {},
   "outputs": [
    {
     "name": "stdout",
     "output_type": "stream",
     "text": [
      "df_tenders_filtered_1: (1000, 16) \n",
      "Cols: Index(['ИдентификаторЛота', 'Идентификатор', 'Организатор', 'Тендер',\n",
      "       'СуммаЛота', 'ОписаниеТендера', 'Лот', 'Адрес поставки',\n",
      "       'АдресОрганизатора', 'Главный орган', 'IDOrganizator', 'Номер', 'Назва',\n",
      "       'Тип закладу', 'Заклад-замовник', 'Correct'],\n",
      "      dtype='object')\n"
     ]
    }
   ],
   "source": [
    "df_tenders_filtered_1 = df_tenders.sample(1000)\n",
    "df_tenders_filtered_1['Correct'] = 'undefined'\n",
    "print(\"df_tenders_filtered_1:\", df_tenders_filtered_1.shape, \"\\nCols:\", df_tenders_filtered_1.columns)\n",
    "# df_tenders_filtered_1.to_csv('results/school-procurements-1000-random.csv', sep=';')"
   ]
  },
  {
   "cell_type": "markdown",
   "metadata": {},
   "source": [
    "#### Step 11: RandomDataResuls"
   ]
  },
  {
   "cell_type": "code",
   "execution_count": 48,
   "metadata": {},
   "outputs": [
    {
     "name": "stdout",
     "output_type": "stream",
     "text": [
      "(1000, 8)\n"
     ]
    }
   ],
   "source": [
    "\"\"\"\n",
    "Колонка Correct:\n",
    "    1 - коректо визначено\n",
    "    \n",
    "    Некоректно:\n",
    "        2 - номер визначений неправильно:\n",
    "            \n",
    "            21 - відсутній символ №\n",
    "            22 - кілька символів №\n",
    "            23 - без лапок\n",
    "            24 - номер чи назва в колонці Описание Тендер\n",
    "            25 - лапки не визначились\n",
    "            26 - кілька лапок\n",
    "        \n",
    "        3 - неправильно тип закладу\n",
    "\"\"\"\n",
    "\n",
    "random_1000_results = pandas.read_csv('results/school-procurements-1000-random-marked.csv', index_col = 0, error_bad_lines=False, sep = ',', low_memory = False)\n",
    "random_1000_results = random_1000_results.iloc[:, :-1]\n",
    "print(random_1000_results.shape)"
   ]
  },
  {
   "cell_type": "code",
   "execution_count": 51,
   "metadata": {
    "scrolled": true
   },
   "outputs": [
    {
     "data": {
      "text/plain": [
       "1     830\n",
       "3     103\n",
       "25     23\n",
       "24     13\n",
       "22     11\n",
       "!      10\n",
       "21      5\n",
       "23      4\n",
       "26      1\n",
       "Name: Correct, dtype: int64"
      ]
     },
     "execution_count": 51,
     "metadata": {},
     "output_type": "execute_result"
    }
   ],
   "source": [
    "random_1000_results.Correct.value_counts()"
   ]
  },
  {
   "cell_type": "code",
   "execution_count": 50,
   "metadata": {
    "collapsed": true
   },
   "outputs": [
    {
     "data": {
      "text/plain": [
       "[445840,\n",
       " 166960,\n",
       " 180001,\n",
       " 61147,\n",
       " 158417,\n",
       " 275071,\n",
       " 40284,\n",
       " 176930,\n",
       " 4337,\n",
       " 202331,\n",
       " 360939,\n",
       " 455985,\n",
       " 186623,\n",
       " 408544,\n",
       " 235070,\n",
       " 44401,\n",
       " 66817,\n",
       " 24729,\n",
       " 81540,\n",
       " 21678,\n",
       " 460842,\n",
       " 1203,\n",
       " 130137,\n",
       " 75071,\n",
       " 167465,\n",
       " 420438,\n",
       " 171551,\n",
       " 5493,\n",
       " 399095,\n",
       " 511745,\n",
       " 181156,\n",
       " 432562,\n",
       " 1684,\n",
       " 91736,\n",
       " 405957,\n",
       " 185220,\n",
       " 178921,\n",
       " 435657,\n",
       " 65459,\n",
       " 173502,\n",
       " 83176,\n",
       " 209286,\n",
       " 240218,\n",
       " 50640,\n",
       " 174505,\n",
       " 433481,\n",
       " 4134,\n",
       " 451802,\n",
       " 67390,\n",
       " 137841,\n",
       " 495154,\n",
       " 117765,\n",
       " 162138,\n",
       " 458966,\n",
       " 219312,\n",
       " 193334,\n",
       " 269199,\n",
       " 110881,\n",
       " 535210,\n",
       " 485531,\n",
       " 131310,\n",
       " 522087,\n",
       " 83159,\n",
       " 487907,\n",
       " 471247,\n",
       " 459636,\n",
       " 460843,\n",
       " 78083,\n",
       " 473744,\n",
       " 173748,\n",
       " 467993,\n",
       " 424413,\n",
       " 443017,\n",
       " 459038,\n",
       " 323163,\n",
       " 268618,\n",
       " 194432,\n",
       " 196047,\n",
       " 390996,\n",
       " 32349,\n",
       " 522481,\n",
       " 507787,\n",
       " 324797,\n",
       " 46198,\n",
       " 319528,\n",
       " 193353,\n",
       " 465318,\n",
       " 283136,\n",
       " 75516,\n",
       " 171434,\n",
       " 8411,\n",
       " 51593,\n",
       " 57931,\n",
       " 39604,\n",
       " 449685,\n",
       " 202284,\n",
       " 360867,\n",
       " 175297,\n",
       " 492817,\n",
       " 51725,\n",
       " 512593,\n",
       " 466295,\n",
       " 2206,\n",
       " 421136,\n",
       " 270427,\n",
       " 77206,\n",
       " 212462,\n",
       " 531119,\n",
       " 168624,\n",
       " 238727,\n",
       " 79710,\n",
       " 303564,\n",
       " 76857,\n",
       " 397778,\n",
       " 523500,\n",
       " 20539,\n",
       " 164642,\n",
       " 268691,\n",
       " 429970,\n",
       " 7374,\n",
       " 407396,\n",
       " 305917,\n",
       " 491161,\n",
       " 442525,\n",
       " 199685,\n",
       " 481106,\n",
       " 190694,\n",
       " 332529,\n",
       " 239007,\n",
       " 82066,\n",
       " 52006,\n",
       " 391576,\n",
       " 444317,\n",
       " 272825,\n",
       " 311141,\n",
       " 270423,\n",
       " 483295,\n",
       " 453491,\n",
       " 270442,\n",
       " 123765,\n",
       " 256099,\n",
       " 158767,\n",
       " 51851,\n",
       " 121584,\n",
       " 183171,\n",
       " 15550,\n",
       " 206306,\n",
       " 180850,\n",
       " 120378,\n",
       " 168044,\n",
       " 97278,\n",
       " 78075,\n",
       " 69837,\n",
       " 272367,\n",
       " 387250,\n",
       " 386991,\n",
       " 270597,\n",
       " 33343,\n",
       " 252574,\n",
       " 5099,\n",
       " 13110,\n",
       " 74483,\n",
       " 40421,\n",
       " 424962,\n",
       " 89998,\n",
       " 357867,\n",
       " 532657,\n",
       " 164286,\n",
       " 502025,\n",
       " 501424,\n",
       " 258037,\n",
       " 258712,\n",
       " 5255,\n",
       " 527428,\n",
       " 210674,\n",
       " 484850,\n",
       " 24633,\n",
       " 65368,\n",
       " 312733,\n",
       " 62416,\n",
       " 469175,\n",
       " 443665,\n",
       " 220656,\n",
       " 27036,\n",
       " 287555,\n",
       " 74693,\n",
       " 414247,\n",
       " 236997,\n",
       " 73679,\n",
       " 61167,\n",
       " 122401,\n",
       " 455992,\n",
       " 467161,\n",
       " 516443,\n",
       " 235358,\n",
       " 476357,\n",
       " 49698,\n",
       " 399177,\n",
       " 36721,\n",
       " 397438,\n",
       " 41134,\n",
       " 2849,\n",
       " 310350,\n",
       " 112500,\n",
       " 173472,\n",
       " 324835,\n",
       " 529705,\n",
       " 270369,\n",
       " 524470,\n",
       " 242186,\n",
       " 410435,\n",
       " 159617,\n",
       " 232506,\n",
       " 62963,\n",
       " 469121,\n",
       " 446780,\n",
       " 440615,\n",
       " 2256,\n",
       " 479155,\n",
       " 130159,\n",
       " 262559,\n",
       " 198706,\n",
       " 250826,\n",
       " 11891,\n",
       " 169644,\n",
       " 295415,\n",
       " 487001,\n",
       " 169365,\n",
       " 10568,\n",
       " 408079,\n",
       " 420457,\n",
       " 251908,\n",
       " 5717,\n",
       " 537658,\n",
       " 504354,\n",
       " 28796,\n",
       " 22166,\n",
       " 190554,\n",
       " 433586,\n",
       " 288501,\n",
       " 506839,\n",
       " 429764,\n",
       " 447051,\n",
       " 23742,\n",
       " 305881,\n",
       " 523384,\n",
       " 97686,\n",
       " 67740,\n",
       " 502313,\n",
       " 84374,\n",
       " 457458,\n",
       " 156764,\n",
       " 65939,\n",
       " 67054,\n",
       " 459651,\n",
       " 487430,\n",
       " 134725,\n",
       " 52879,\n",
       " 521270,\n",
       " 387099,\n",
       " 19220,\n",
       " 507190,\n",
       " 459036,\n",
       " 187798,\n",
       " 509339,\n",
       " 227480,\n",
       " 504641,\n",
       " 525047,\n",
       " 458974,\n",
       " 14922,\n",
       " 241855,\n",
       " 75255,\n",
       " 424467,\n",
       " 208061,\n",
       " 220897,\n",
       " 415994,\n",
       " 418179,\n",
       " 32097,\n",
       " 196665,\n",
       " 53601,\n",
       " 33942,\n",
       " 489690,\n",
       " 31776,\n",
       " 197060,\n",
       " 433868,\n",
       " 255834,\n",
       " 59811,\n",
       " 492946,\n",
       " 46204,\n",
       " 463021,\n",
       " 457403,\n",
       " 537844,\n",
       " 394377,\n",
       " 172910,\n",
       " 457729,\n",
       " 448402,\n",
       " 268786,\n",
       " 251850,\n",
       " 185512,\n",
       " 55215,\n",
       " 431920,\n",
       " 188937,\n",
       " 391573,\n",
       " 168235,\n",
       " 357832,\n",
       " 198102,\n",
       " 487086,\n",
       " 523892,\n",
       " 445597,\n",
       " 384433,\n",
       " 203158,\n",
       " 142957,\n",
       " 383952,\n",
       " 382170,\n",
       " 223887,\n",
       " 416081,\n",
       " 176167,\n",
       " 424755,\n",
       " 47247,\n",
       " 271626,\n",
       " 163603,\n",
       " 526131,\n",
       " 532005,\n",
       " 209392,\n",
       " 415556,\n",
       " 321286,\n",
       " 410637,\n",
       " 361053,\n",
       " 240615,\n",
       " 11293,\n",
       " 402379,\n",
       " 507064,\n",
       " 54031,\n",
       " 444269,\n",
       " 174604,\n",
       " 479330,\n",
       " 222535,\n",
       " 137964,\n",
       " 383184,\n",
       " 415868,\n",
       " 412680,\n",
       " 445071,\n",
       " 262570,\n",
       " 160530,\n",
       " 92015,\n",
       " 20703,\n",
       " 72953,\n",
       " 250517,\n",
       " 457361,\n",
       " 199383,\n",
       " 511899,\n",
       " 68567,\n",
       " 158844,\n",
       " 20546,\n",
       " 188171,\n",
       " 469567,\n",
       " 449282,\n",
       " 461556,\n",
       " 264517,\n",
       " 457821,\n",
       " 61861,\n",
       " 270542,\n",
       " 314157,\n",
       " 179256,\n",
       " 300255,\n",
       " 118705,\n",
       " 20981,\n",
       " 489441,\n",
       " 199538,\n",
       " 76720,\n",
       " 187137,\n",
       " 32602,\n",
       " 184407,\n",
       " 466726,\n",
       " 27069,\n",
       " 262580,\n",
       " 45587,\n",
       " 426064,\n",
       " 207132,\n",
       " 85785,\n",
       " 165115,\n",
       " 22473,\n",
       " 245954,\n",
       " 243794,\n",
       " 243455,\n",
       " 507406,\n",
       " 21681,\n",
       " 249831,\n",
       " 169165,\n",
       " 470584,\n",
       " 84778,\n",
       " 455835,\n",
       " 395902,\n",
       " 138092,\n",
       " 25095,\n",
       " 40231,\n",
       " 419766,\n",
       " 256486,\n",
       " 205838,\n",
       " 169425,\n",
       " 439650,\n",
       " 411665,\n",
       " 448843,\n",
       " 181636,\n",
       " 70371,\n",
       " 358213,\n",
       " 441030,\n",
       " 441905,\n",
       " 463093,\n",
       " 383626,\n",
       " 178313,\n",
       " 261885,\n",
       " 392458,\n",
       " 286420,\n",
       " 337087,\n",
       " 342352,\n",
       " 349149,\n",
       " 79339,\n",
       " 438840,\n",
       " 101520,\n",
       " 124648,\n",
       " 7030,\n",
       " 32540,\n",
       " 186441,\n",
       " 342842,\n",
       " 102630,\n",
       " 130804,\n",
       " 90556,\n",
       " 79057,\n",
       " 291815,\n",
       " 230467,\n",
       " 142668,\n",
       " 273103,\n",
       " 297051,\n",
       " 126684,\n",
       " 193945,\n",
       " 303977,\n",
       " 340969,\n",
       " 217665,\n",
       " 64175,\n",
       " 101764,\n",
       " 427321,\n",
       " 273840,\n",
       " 387112,\n",
       " 523573,\n",
       " 135358,\n",
       " 518129,\n",
       " 146808,\n",
       " 93618,\n",
       " 284647,\n",
       " 289031,\n",
       " 289736,\n",
       " 325110,\n",
       " 470781,\n",
       " 340740,\n",
       " 274310,\n",
       " 460955,\n",
       " 26260,\n",
       " 289684,\n",
       " 298128,\n",
       " 148746,\n",
       " 463946,\n",
       " 519950,\n",
       " 58099,\n",
       " 335252,\n",
       " 517770,\n",
       " 111720,\n",
       " 99933,\n",
       " 330733,\n",
       " 429965,\n",
       " 346306,\n",
       " 368863,\n",
       " 518106,\n",
       " 482198,\n",
       " 225570,\n",
       " 476454,\n",
       " 154749,\n",
       " 333859,\n",
       " 391367,\n",
       " 335931,\n",
       " 288113,\n",
       " 138981,\n",
       " 127701,\n",
       " 333623,\n",
       " 149939,\n",
       " 307743,\n",
       " 112113,\n",
       " 285502,\n",
       " 407281,\n",
       " 166949,\n",
       " 257099,\n",
       " 423974,\n",
       " 512082,\n",
       " 379130,\n",
       " 260193,\n",
       " 135494,\n",
       " 268474,\n",
       " 160172,\n",
       " 361878,\n",
       " 459679,\n",
       " 342607,\n",
       " 341724,\n",
       " 347619,\n",
       " 52305,\n",
       " 354810,\n",
       " 288351,\n",
       " 335721,\n",
       " 299449,\n",
       " 121144,\n",
       " 108796,\n",
       " 203391,\n",
       " 447839,\n",
       " 411921,\n",
       " 288033,\n",
       " 137163,\n",
       " 132759,\n",
       " 268003,\n",
       " 115774,\n",
       " 193634,\n",
       " 187497,\n",
       " 116622,\n",
       " 147376,\n",
       " 345042,\n",
       " 58126,\n",
       " 168532,\n",
       " 286676,\n",
       " 287548,\n",
       " 9828,\n",
       " 484223,\n",
       " 461482,\n",
       " 332855,\n",
       " 88646,\n",
       " 493330,\n",
       " 469275,\n",
       " 167085,\n",
       " 444094,\n",
       " 463030,\n",
       " 225288,\n",
       " 86211,\n",
       " 278233,\n",
       " 114401,\n",
       " 312153,\n",
       " 190850,\n",
       " 96916,\n",
       " 408246,\n",
       " 284636,\n",
       " 287902,\n",
       " 150382,\n",
       " 334011,\n",
       " 341590,\n",
       " 141796,\n",
       " 74109,\n",
       " 283868,\n",
       " 269441,\n",
       " 427552,\n",
       " 341420,\n",
       " 111074,\n",
       " 108079,\n",
       " 415285,\n",
       " 537759,\n",
       " 75112,\n",
       " 458188,\n",
       " 393472,\n",
       " 285426,\n",
       " 121094,\n",
       " 34417,\n",
       " 141995,\n",
       " 148692,\n",
       " 504368,\n",
       " 339511,\n",
       " 430423,\n",
       " 137292,\n",
       " 225471,\n",
       " 352428,\n",
       " 145213,\n",
       " 470480,\n",
       " 137243,\n",
       " 139414,\n",
       " 470051,\n",
       " 485116,\n",
       " 145499,\n",
       " 305200,\n",
       " 359637,\n",
       " 1721,\n",
       " 334173,\n",
       " 48866,\n",
       " 289005,\n",
       " 109863,\n",
       " 252810,\n",
       " 163260,\n",
       " 48021,\n",
       " 190276,\n",
       " 138536,\n",
       " 199377,\n",
       " 346529,\n",
       " 93263,\n",
       " 377722,\n",
       " 148515,\n",
       " 144943,\n",
       " 360089,\n",
       " 269025,\n",
       " 245608,\n",
       " 520353,\n",
       " 281365,\n",
       " 357991,\n",
       " 469085,\n",
       " 97302,\n",
       " 234284,\n",
       " 525516,\n",
       " 108985,\n",
       " 288388,\n",
       " 215777,\n",
       " 486204,\n",
       " 330349,\n",
       " 3704,\n",
       " 517856,\n",
       " 390648,\n",
       " 294122,\n",
       " 334542,\n",
       " 127558,\n",
       " 117244,\n",
       " 315600,\n",
       " 222472,\n",
       " 281423,\n",
       " 342621,\n",
       " 431390,\n",
       " 291108,\n",
       " 77943,\n",
       " 119491,\n",
       " 279162,\n",
       " 5877,\n",
       " 290104,\n",
       " 403969,\n",
       " 282966,\n",
       " 122815,\n",
       " 515716,\n",
       " 458730,\n",
       " 245531,\n",
       " 310810,\n",
       " 268672,\n",
       " 292432,\n",
       " 79577,\n",
       " 354108,\n",
       " 336992,\n",
       " 224365,\n",
       " 105702,\n",
       " 336176,\n",
       " 71456,\n",
       " 150884,\n",
       " 97198,\n",
       " 337082,\n",
       " 289090,\n",
       " 158220,\n",
       " 83497,\n",
       " 346530,\n",
       " 205905,\n",
       " 362141,\n",
       " 309971,\n",
       " 342191,\n",
       " 278783,\n",
       " 435034,\n",
       " 281625,\n",
       " 338715,\n",
       " 137500,\n",
       " 364368,\n",
       " 108488,\n",
       " 143966,\n",
       " 465822,\n",
       " 533006,\n",
       " 367622,\n",
       " 90528,\n",
       " 510163,\n",
       " 335198,\n",
       " 476215,\n",
       " 535965,\n",
       " 494779,\n",
       " 450635,\n",
       " 277884,\n",
       " 102102,\n",
       " 515868,\n",
       " 264219,\n",
       " 224095,\n",
       " 128208,\n",
       " 68786,\n",
       " 294270,\n",
       " 62349,\n",
       " 111364,\n",
       " 479329,\n",
       " 336259,\n",
       " 294566,\n",
       " 395574,\n",
       " 459841,\n",
       " 337107,\n",
       " 335688,\n",
       " 31904,\n",
       " 484352,\n",
       " 188768,\n",
       " 468018,\n",
       " 129881,\n",
       " 361950,\n",
       " 364360,\n",
       " 264087,\n",
       " 485554,\n",
       " 305660,\n",
       " 287740,\n",
       " 346343,\n",
       " 32800,\n",
       " 229741,\n",
       " 223662,\n",
       " 112298,\n",
       " 346877,\n",
       " 488477,\n",
       " 295342,\n",
       " 396885,\n",
       " 467016,\n",
       " 305047,\n",
       " 220332,\n",
       " 110798,\n",
       " 139467,\n",
       " 109085,\n",
       " 108098,\n",
       " 249034,\n",
       " 283756,\n",
       " 395235,\n",
       " 285634,\n",
       " 285073,\n",
       " 520145,\n",
       " 35202,\n",
       " 77729,\n",
       " 295214,\n",
       " 245834,\n",
       " 481838,\n",
       " 247887,\n",
       " 454468,\n",
       " 275767,\n",
       " 509730,\n",
       " 341108,\n",
       " 222747,\n",
       " 109829,\n",
       " 188232,\n",
       " 363193,\n",
       " 37095,\n",
       " 479867,\n",
       " 302170,\n",
       " 96418,\n",
       " 404900,\n",
       " 514317,\n",
       " 311906,\n",
       " 274896,\n",
       " 395742,\n",
       " 334496,\n",
       " 110734,\n",
       " 31121,\n",
       " 157613,\n",
       " 429488,\n",
       " 511929,\n",
       " 338914,\n",
       " 95289,\n",
       " 415712,\n",
       " 354665,\n",
       " 308872,\n",
       " 219885,\n",
       " 241456,\n",
       " 71745,\n",
       " 144628,\n",
       " 264734,\n",
       " 165547,\n",
       " 216750,\n",
       " 316703,\n",
       " 448415,\n",
       " 260061,\n",
       " 157241,\n",
       " 138976,\n",
       " 389317,\n",
       " 439904,\n",
       " 351542,\n",
       " 277368,\n",
       " 83530,\n",
       " 127746,\n",
       " 410258,\n",
       " 378611,\n",
       " 113954,\n",
       " 334539,\n",
       " 291110,\n",
       " 262491,\n",
       " 119958,\n",
       " 344629,\n",
       " 145406,\n",
       " 238548,\n",
       " 518911,\n",
       " 270682,\n",
       " 156963,\n",
       " 352873,\n",
       " 426338,\n",
       " 213723,\n",
       " 416973,\n",
       " 355969,\n",
       " 108297,\n",
       " 110232,\n",
       " 418898,\n",
       " 408665,\n",
       " 353467,\n",
       " 473327,\n",
       " 328512,\n",
       " 210925,\n",
       " 144982,\n",
       " 439614,\n",
       " 420800,\n",
       " 262352,\n",
       " 444662,\n",
       " 481088,\n",
       " 228341,\n",
       " 281413,\n",
       " 209580,\n",
       " 286929,\n",
       " 439139,\n",
       " 69557,\n",
       " 285212,\n",
       " 500230,\n",
       " 111382,\n",
       " 108627,\n",
       " 353845,\n",
       " 468463,\n",
       " 113969,\n",
       " 240537,\n",
       " 254474,\n",
       " 200636,\n",
       " 235668,\n",
       " 358044,\n",
       " 222250,\n",
       " 342845,\n",
       " 164855,\n",
       " 331253,\n",
       " 418941,\n",
       " 264102,\n",
       " 93979,\n",
       " 378602,\n",
       " 224937,\n",
       " 485259,\n",
       " 36858,\n",
       " 114744,\n",
       " 273087,\n",
       " 515829,\n",
       " 225055,\n",
       " 273872,\n",
       " 285280,\n",
       " 17832,\n",
       " 107607,\n",
       " 162784,\n",
       " 438777,\n",
       " 142963,\n",
       " 106344,\n",
       " 165261,\n",
       " 33499,\n",
       " 266622,\n",
       " 6910,\n",
       " 408231,\n",
       " 410812,\n",
       " 104353,\n",
       " 299638,\n",
       " 175901,\n",
       " 344556,\n",
       " 78085,\n",
       " 335089,\n",
       " 159469,\n",
       " 342736,\n",
       " 144042,\n",
       " 337658,\n",
       " 338874,\n",
       " 109644,\n",
       " 270922,\n",
       " 383980,\n",
       " 427595,\n",
       " 319523,\n",
       " 173821,\n",
       " 339252,\n",
       " 240466,\n",
       " 341487,\n",
       " 288080,\n",
       " 463567,\n",
       " 119761,\n",
       " 288927,\n",
       " 441331,\n",
       " 347769,\n",
       " 317330,\n",
       " 224803,\n",
       " 23440,\n",
       " 148949,\n",
       " 384545,\n",
       " 92059,\n",
       " 12697,\n",
       " 281451,\n",
       " 222814,\n",
       " 79535,\n",
       " 110177,\n",
       " 392643,\n",
       " 280502,\n",
       " 413516,\n",
       " 278681,\n",
       " 53617,\n",
       " 286533,\n",
       " 301681,\n",
       " 427981,\n",
       " 338700,\n",
       " 281118,\n",
       " 524755,\n",
       " 299994,\n",
       " 120679,\n",
       " 286491,\n",
       " 290639,\n",
       " 140832,\n",
       " 269821,\n",
       " 307644,\n",
       " 332831,\n",
       " 366732,\n",
       " 110722,\n",
       " 359760,\n",
       " 137227,\n",
       " 418955,\n",
       " 72604,\n",
       " 45468,\n",
       " 448122,\n",
       " 408192,\n",
       " 32906,\n",
       " 490953,\n",
       " 358890,\n",
       " 204915,\n",
       " 149732,\n",
       " 395957,\n",
       " 112374,\n",
       " 68442,\n",
       " 328816,\n",
       " 196594,\n",
       " 341426,\n",
       " 212103,\n",
       " 46545,\n",
       " 310647,\n",
       " 291742,\n",
       " 124858,\n",
       " 341632,\n",
       " 448123,\n",
       " 107205,\n",
       " 385680,\n",
       " 411100,\n",
       " 358118,\n",
       " 96012,\n",
       " 334815,\n",
       " 295958,\n",
       " 46903,\n",
       " 140391,\n",
       " 294077,\n",
       " 3265,\n",
       " 223403,\n",
       " 280498,\n",
       " 39619,\n",
       " 5449,\n",
       " 51852,\n",
       " 411035,\n",
       " 48279,\n",
       " 121506,\n",
       " 279637,\n",
       " 282328,\n",
       " 111359,\n",
       " 74832,\n",
       " 79097,\n",
       " 114932,\n",
       " 150126,\n",
       " 120664,\n",
       " 287207,\n",
       " 496785,\n",
       " 179761,\n",
       " 135971,\n",
       " 319530,\n",
       " 317040,\n",
       " 295275,\n",
       " 129140,\n",
       " 361814,\n",
       " 137229,\n",
       " 373857,\n",
       " 333760,\n",
       " 109900,\n",
       " 159725,\n",
       " 305218,\n",
       " 393867,\n",
       " 154312,\n",
       " 347385,\n",
       " 288403,\n",
       " 278734,\n",
       " 399000,\n",
       " 357075,\n",
       " 471924,\n",
       " 100868,\n",
       " 296542,\n",
       " 359040,\n",
       " 117262,\n",
       " 65456,\n",
       " 278714,\n",
       " 92556,\n",
       " 237438,\n",
       " 333401]"
      ]
     },
     "execution_count": 50,
     "metadata": {},
     "output_type": "execute_result"
    }
   ],
   "source": [
    "random_1000_results.index.values.tolist()"
   ]
  }
 ],
 "metadata": {
  "file_extension": ".py",
  "kernelspec": {
   "display_name": "Python 3",
   "language": "python",
   "name": "python3"
  },
  "language_info": {
   "codemirror_mode": {
    "name": "ipython",
    "version": 3
   },
   "file_extension": ".py",
   "mimetype": "text/x-python",
   "name": "python",
   "nbconvert_exporter": "python",
   "pygments_lexer": "ipython3",
   "version": "3.6.9"
  },
  "mimetype": "text/x-python",
  "name": "python",
  "npconvert_exporter": "python",
  "pygments_lexer": "ipython2",
  "version": 2
 },
 "nbformat": 4,
 "nbformat_minor": 2
}
