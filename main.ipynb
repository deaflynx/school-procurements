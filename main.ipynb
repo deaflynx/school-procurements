{
 "cells": [
  {
   "cell_type": "code",
   "execution_count": null,
   "metadata": {},
   "outputs": [],
   "source": [
    "import importlib\n",
    "import pandas as pd\n",
    "import numpy as np\n",
    "import re\n",
    "\n",
    "from functions.functions_dataframe import * \n",
    "from parameters.filters_lists import *\n",
    "from parameters.route import *\n",
    "from parameters.regs import *\n",
    "\n",
    "pd.set_option(\"display.max_colwidth\", 200)"
   ]
  },
  {
   "cell_type": "markdown",
   "metadata": {},
   "source": [
    "###### Step 1. Завантажити датафрейми ProZorro, МОН, створити список ЄДРПОУ освітніх закладів"
   ]
  },
  {
   "cell_type": "code",
   "execution_count": null,
   "metadata": {
    "scrolled": false
   },
   "outputs": [],
   "source": [
    "\"\"\"\n",
    "Завантажити базу закупівель ProZorro (деталі у README.txt)\n",
    "\"\"\"\n",
    "df_prozorro = pd.read_csv('data/TrainingProZorroForSchoolProject20162019.csv', sep = ';', low_memory = False)"
   ]
  },
  {
   "cell_type": "code",
   "execution_count": null,
   "metadata": {},
   "outputs": [],
   "source": [
    "\"\"\"\n",
    "Завантажити датафрейм МОН навчальниз закладів, підготовлений у \"fileter MON data.ipynb\"\n",
    "\"\"\"\n",
    "df_mon_data_bez_upravlin_osvity = pd.read_csv('data/MON_schools_dnz.csv', sep = ';')"
   ]
  },
  {
   "cell_type": "code",
   "execution_count": null,
   "metadata": {},
   "outputs": [],
   "source": [
    "\"\"\"\n",
    "Створити список унікальних ЄДРПОУ освітніх закладів МОН\n",
    "\"\"\"\n",
    "mon_data_list = df_mon_data_bez_upravlin_osvity.edrpou.unique().tolist()"
   ]
  },
  {
   "cell_type": "markdown",
   "metadata": {},
   "source": [
    "### ШКОЛИ ЗАМОВНИКИ"
   ]
  },
  {
   "cell_type": "markdown",
   "metadata": {},
   "source": [
    "##### Step 2: Створити базу навчальних закладів, які самостійно купують через ProZorro"
   ]
  },
  {
   "cell_type": "code",
   "execution_count": null,
   "metadata": {
    "scrolled": true
   },
   "outputs": [],
   "source": [
    "\"\"\"\n",
    "Відфільтрувати базу закупівель df_prozorro за колонкою IDOrganizator.\n",
    "Фільтром є списко МОН з ЄДРПОУ начальних закладів mon_data_list (попередній крок)\n",
    "\n",
    "df_tenders_by_schools - база закупівель, де навчальні заклади є замовниками\n",
    "df_undefined_1 - база невизначених закупівель ProZorro\n",
    "\"\"\"\n",
    "df_tenders_by_schools = df_prozorro[df_prozorro['IDOrganizator'].isin(mon_data_list)]\n",
    "df_undefined_1 = df_prozorro[~df_prozorro['IDOrganizator'].isin(mon_data_list)]"
   ]
  },
  {
   "cell_type": "markdown",
   "metadata": {},
   "source": [
    "##### Step 3: Класифікація шкіл-замовників по типах за колонкою \"Организатор\""
   ]
  },
  {
   "cell_type": "code",
   "execution_count": null,
   "metadata": {},
   "outputs": [],
   "source": [
    "df_tenders_by_schools_classified = classification_by_type_one_column(df_tenders_by_schools, ['Организатор'], filter_priority, filter_name_priority)"
   ]
  },
  {
   "cell_type": "markdown",
   "metadata": {},
   "source": [
    "##### Step 4: Нумерація шкіл-замовників"
   ]
  },
  {
   "cell_type": "code",
   "execution_count": null,
   "metadata": {},
   "outputs": [],
   "source": [
    "df_tenders_by_schools_numerated = numeration_one_column(df_tenders_by_schools_classified, ['Организатор'], reg_number)"
   ]
  },
  {
   "cell_type": "markdown",
   "metadata": {},
   "source": [
    "##### Step 5: Cтворення фінальної бази ШКІЛ ЗАМОВНИКІВ"
   ]
  },
  {
   "cell_type": "code",
   "execution_count": null,
   "metadata": {},
   "outputs": [],
   "source": [
    "\"\"\"\n",
    "\"Назва закладу\" - колонка з фіналізованою назвою школи. Принцип визначення:\n",
    "    1. Якщо колонка \"Номер\" не є пустою - додається до \"Типу закладу\"\n",
    "    2. Якщо колонка \"Номер\" є пустою - \"Назва закладу\" отримує значення \"Организатор\"\n",
    "    \n",
    "* колонка \"Назва\" не враховується через високий ступінь повторюваності з \"Организатор\" і часткову точність\n",
    "\"\"\"\n",
    "df_tenders_by_schools = df_tenders_by_schools_numerated.copy()\n",
    "df_tenders_by_schools['Номер'] = df_tenders_by_schools['Номер'].replace(r'^\\s*$', np.nan, regex=True) # технічна дія: перетворити пусті строки в NaN\n",
    "df_tenders_by_schools['Назва закладу'] = np.where(df_tenders_by_schools['Номер'].notnull(), \n",
    "                                                  df_tenders_by_schools['Тип закладу'] + ' ' + df_tenders_by_schools['Номер'], \n",
    "                                                  df_tenders_by_schools['Организатор'])"
   ]
  },
  {
   "cell_type": "code",
   "execution_count": null,
   "metadata": {},
   "outputs": [],
   "source": [
    "\"\"\"\n",
    "Створення колонки 'Заклад-замовник'\n",
    "Видалення \"технічних\" колонок, створених функціями.\n",
    "\"\"\"\n",
    "df_tenders_by_schools['Заклад-замовник'] = True\n",
    "col_names = df_prozorro.columns.tolist()\n",
    "col_names += ['Заклад-замовник', 'Назва закладу']\n",
    "df_tenders_by_schools = df_tenders_by_schools[col_names]"
   ]
  },
  {
   "cell_type": "markdown",
   "metadata": {},
   "source": [
    "### ШКОЛИ НЕ-ЗАМОВНИКИ"
   ]
  },
  {
   "cell_type": "markdown",
   "metadata": {},
   "source": [
    "##### Step 5: Пошук закупівель шкіл-не-замовників за допомогою ключових слів"
   ]
  },
  {
   "cell_type": "code",
   "execution_count": null,
   "metadata": {},
   "outputs": [],
   "source": [
    "\"\"\"\n",
    "З-поміж датафрейму невизначених закупівель (df_undefined_1) за ключовими словами у списках\n",
    "filter_keywords, filter_keywords_strict відбираються закупівлі освітніх закладів у колонках: Тендер, ОписаниеТендера, Лот \n",
    "\n",
    "Примітка: регулярний вираз /b{}/b шукає за ключовими словами зі списку filter_keywords_strict_extended тільки \n",
    "ті паттерни, де ці ключові слова є окремими, а не зустрічають всередині слів. \n",
    "Це зменшить кількість \"брудних\" даних\n",
    "\"\"\"\n",
    "df_tenders_not_by_schools_by_keywords = df_undefined_1[df_undefined_1['Тендер'].astype(str).str.contains(r'({})'.format('|'.join(filter_keywords)), \n",
    "            case = False, na = False, regex = True)  | \n",
    "                                                      df_undefined_1['ОписаниеТендера'].astype(str).str.contains(r'({})'.format('|'.join(filter_keywords)), \n",
    "            case = False, na = False, regex = True) | \n",
    "                                                      df_undefined_1['Лот'].astype(str).str.contains(r'({})'.format('|'.join(filter_keywords)), \n",
    "            case = False, na = False, regex = True) | df_undefined_1['Тендер'].astype(str).str.contains(r'(/b{}/b)'.format('|'.join(filter_keywords_strict)), \n",
    "            case = False, na = False, regex = True) | df_undefined_1['ОписаниеТендера'].astype(str).str.contains(r'(/b{}/b)'.format('|'.join(filter_keywords_strict)), \n",
    "            case = False, na = False, regex = True) | df_undefined_1['Лот'].astype(str).str.contains(r'(/b{}/b)'.format('|'.join(filter_keywords_strict)), \n",
    "            case = False, na = False, regex = True)]"
   ]
  },
  {
   "cell_type": "markdown",
   "metadata": {},
   "source": [
    "##### Step 6: Класифікація шкіл-не-замовників за типами"
   ]
  },
  {
   "cell_type": "code",
   "execution_count": null,
   "metadata": {},
   "outputs": [],
   "source": [
    "df_tenders_not_by_schools_classified = classification_by_type_three_cols(df_tenders_not_by_schools_by_keywords,\n",
    "                                                                         ['Тендер', 'ОписаниеТендера', 'Лот'], \n",
    "                                                                         filter_priority, \n",
    "                                                                         filter_name_priority)"
   ]
  },
  {
   "cell_type": "markdown",
   "metadata": {},
   "source": [
    "##### Step 7: Нумерація шкіл-не-замовників"
   ]
  },
  {
   "cell_type": "code",
   "execution_count": null,
   "metadata": {},
   "outputs": [],
   "source": [
    "\"\"\"\n",
    "df_step7 - датафрейм, створений із закупівель df_tenders_not_by_schools_classified, де був успішно визначений \"Тип закладу\"\n",
    "\"\"\"\n",
    "df_step7 = df_tenders_not_by_schools_classified[df_tenders_not_by_schools_classified['Тип закладу'] != 'Невідомо'].copy()"
   ]
  },
  {
   "cell_type": "code",
   "execution_count": null,
   "metadata": {},
   "outputs": [],
   "source": [
    "\"\"\"\n",
    "Функція long_numeration створює два дафайреми:\n",
    "    df_tenders_not_by_schools_numerated - тендери, де номер визначився \n",
    "    df_step7_numerated_undefined - тендери, де номер не визначився\n",
    "\"\"\"\n",
    "df_tenders_not_by_schools_numerated, df_step7_numerated_undefined = long_numeration(df_step7, reg_number)\n",
    "df_tenders_not_by_schools_numerated['Назва закладу'] = df_tenders_not_by_schools_numerated['Тип закладу'] + ' ' + df_tenders_not_by_schools_numerated['Номер']"
   ]
  },
  {
   "cell_type": "markdown",
   "metadata": {},
   "source": [
    "##### Step 8: Найменування шкіл-не-замовників"
   ]
  },
  {
   "cell_type": "code",
   "execution_count": null,
   "metadata": {},
   "outputs": [],
   "source": [
    "\"\"\"\n",
    "Завантажити датафрейм МОН власних назв навчальниз закладів, підготовлений у \"fileter MON data.ipynb\"\n",
    "school_names - список унікальних назв \n",
    "\"\"\"\n",
    "df_names_clean = pd.read_csv('data/MON_names.csv', sep = ';')\n",
    "df_names_clean = df_names_clean[df_names_clean['Назва'].notnull()] # Видалити NaN\n",
    "school_names = df_names_clean['Назва'].unique().tolist()"
   ]
  },
  {
   "cell_type": "code",
   "execution_count": null,
   "metadata": {},
   "outputs": [],
   "source": [
    "\"\"\"\n",
    "Функція long_naming створює два дафайреми:\n",
    "    df_tenders_not_by_schools_named - тендери, де номер визначився.\n",
    "    df_tenders_not_by_schools_undefined - тендери шкіл не замовників, де не визначилась назва (і номер).\n",
    "    Такі закупівлі вважаються закупівлями управінь освіти для різних закладів.\n",
    "\"\"\"\n",
    "df_tenders_not_by_schools_named, df_tenders_not_by_schools_undefined = long_naming(df_step7_numerated_undefined, reg_double_quotes, school_names)\n",
    "df_tenders_not_by_schools_named['Назва закладу'] = df_tenders_not_by_schools_named['Тип закладу'] + ' ' + df_tenders_not_by_schools_named['Назва']"
   ]
  },
  {
   "cell_type": "markdown",
   "metadata": {},
   "source": [
    "##### Step 9: Об'єднання двох датафреймів шкіл-не-замовників"
   ]
  },
  {
   "cell_type": "code",
   "execution_count": null,
   "metadata": {},
   "outputs": [],
   "source": [
    "\"\"\"\n",
    "df_tenders_not_by_schools - датафрейм шкіл-не-замовників з визначеними номерами і назвами\n",
    "Створення колонки 'Заклад-замовник'\n",
    "\"\"\"\n",
    "frames = [df_tenders_not_by_schools_numerated, df_tenders_not_by_schools_named]\n",
    "df_tenders_not_by_schools = pd.concat(frames)\n",
    "df_tenders_not_by_schools['Заклад-замовник'] = False\n",
    "df_tenders_not_by_schools = df_tenders_not_by_schools[col_names]"
   ]
  },
  {
   "cell_type": "markdown",
   "metadata": {},
   "source": [
    "### ВСІ ШКОЛИ"
   ]
  },
  {
   "cell_type": "markdown",
   "metadata": {},
   "source": [
    "##### Step 10: Об'єднання датафреймів шкіл-не-замовників та шкіл-замовників"
   ]
  },
  {
   "cell_type": "code",
   "execution_count": null,
   "metadata": {},
   "outputs": [],
   "source": [
    "frames = [df_tenders_by_schools, df_tenders_not_by_schools]\n",
    "df_tenders = pd.concat(frames)"
   ]
  },
  {
   "cell_type": "code",
   "execution_count": null,
   "metadata": {},
   "outputs": [],
   "source": [
    "df_tenders.to_csv('result/df_tenders.csv', sep=';', index=False)"
   ]
  }
 ],
 "metadata": {
  "file_extension": ".py",
  "kernelspec": {
   "display_name": "Python 3",
   "language": "python",
   "name": "python3"
  },
  "language_info": {
   "codemirror_mode": {
    "name": "ipython",
    "version": 3
   },
   "file_extension": ".py",
   "mimetype": "text/x-python",
   "name": "python",
   "nbconvert_exporter": "python",
   "pygments_lexer": "ipython3",
   "version": "3.6.9"
  },
  "mimetype": "text/x-python",
  "name": "python",
  "npconvert_exporter": "python",
  "pygments_lexer": "ipython2",
  "version": 2
 },
 "nbformat": 4,
 "nbformat_minor": 2
}
