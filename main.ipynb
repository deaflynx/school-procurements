{
 "cells": [
  {
   "cell_type": "code",
   "execution_count": 1,
   "metadata": {},
   "outputs": [],
   "source": [
    "import importlib\n",
    "import pandas as pd\n",
    "import numpy as np\n",
    "import re"
   ]
  },
  {
   "cell_type": "code",
   "execution_count": 2,
   "metadata": {},
   "outputs": [],
   "source": [
    "from functions.get_mon_data import *\n",
    "from functions.functions_dataframe import * \n",
    "from functions.functions_shared import *\n",
    "from parameters.filters_lists import *\n",
    "from parameters.route import *\n",
    "from parameters.regs import *"
   ]
  },
  {
   "cell_type": "code",
   "execution_count": null,
   "metadata": {},
   "outputs": [],
   "source": [
    "\"\"\" \n",
    "Для формування списку ЄДРПОУ навчальних закладів, які потрібно наносити на мапу, використані бази даних МОН, опубліковані у листопаді 2019 року на Порталі відкритих даних.\n",
    "\n",
    "### Перелік закладів загальної середньої та дошкільної освіти (ЗЗСДО)\n",
    "    https://data.gov.ua/dataset/bd70757a-ab49-46be-a650-608a9b3bd7b1\n",
    "    \n",
    "### Перелік закладів позашкільної освіти (державна форма власності)\n",
    "    https://data.gov.ua/dataset/9a88fb96-a043-4769-acf1-1c4a948ec285\n",
    "    Перелік закладів позашкільної освіти системи Міністерства освіти і науки України\n",
    "    https://data.gov.ua/dataset/18d7fb70-3781-4017-88d2-651e14d14211\n",
    "    Заклади професійної (професійно-технічної) освіти\n",
    "    https://data.gov.ua/dataset/824513a9-aa5e-45c8-b45e-dced6909761a\n",
    "\"\"\""
   ]
  },
  {
   "cell_type": "code",
   "execution_count": null,
   "metadata": {},
   "outputs": [],
   "source": [
    "\"\"\"\n",
    "df_raw - база даних завершених закупівель 24 обласних центрів з 1 серпня 2016 до 31 грудня 2019.\n",
    "В Донецькій області - Краматорськ. В Луганській - Сєвєродонецьк. \n",
    "Згерерована у Профейсійному модулі аналітики bipro.prozorro.\n",
    "\"ИдентификаторЛота\" є унікальним ідентифікатором рядка.\n",
    "\"\"\"  "
   ]
  },
  {
   "cell_type": "code",
   "execution_count": 3,
   "metadata": {
    "scrolled": true
   },
   "outputs": [
    {
     "name": "stdout",
     "output_type": "stream",
     "text": [
      "Дані з файлу викачки BIPro Prozorro: df_raw(537893, 11)\n"
     ]
    }
   ],
   "source": [
    "df_raw = pandas.read_csv('data/TrainingProZorroForSchoolProject20162019.csv', sep = ';', low_memory = False)\n",
    "training_data_columns = df_raw.columns\n",
    "print(\"Дані з файлу викачки BIPro Prozorro: \" + \"df_raw\" + str(df_raw.shape))"
   ]
  },
  {
   "cell_type": "code",
   "execution_count": 71,
   "metadata": {},
   "outputs": [],
   "source": [
    "df_raw_2 = df_raw[['Организатор', 'IDOrganizator']]\n",
    "df_raw_2[df_raw_2['IDOrganizator'].str.contains('')]"
   ]
  },
  {
   "cell_type": "code",
   "execution_count": 101,
   "metadata": {},
   "outputs": [],
   "source": [
    "expdata_sc = pandas.read_csv('data/expdata_sc.csv', sep = ';', low_memory = False)"
   ]
  },
  {
   "cell_type": "code",
   "execution_count": 94,
   "metadata": {
    "collapsed": true
   },
   "outputs": [
    {
     "data": {
      "text/plain": [
       "0        [26338802, 0]\n",
       "1        [25992635, 0]\n",
       "2        [25689474, 0]\n",
       "3        [32624238, 0]\n",
       "4        [23370351, 0]\n",
       "5        [26292709, 0]\n",
       "6        [26461617, 0]\n",
       "7        [25002394, 0]\n",
       "8        [22793136, 0]\n",
       "9        [26316485, 0]\n",
       "10       [26462494, 0]\n",
       "11       [20274320, 0]\n",
       "12       [26372880, 0]\n",
       "13       [41453852, 0]\n",
       "14       [41453686, 0]\n",
       "15       [20519129, 0]\n",
       "16       [26251490, 0]\n",
       "17       [26251053, 0]\n",
       "18       [26251277, 0]\n",
       "19       [26251283, 0]\n",
       "20       [26251343, 0]\n",
       "21       [26251461, 0]\n",
       "22       [26251567, 0]\n",
       "23       [26251231, 0]\n",
       "24       [26251478, 0]\n",
       "25       [26251314, 0]\n",
       "26       [20483868, 0]\n",
       "27       [26337783, 0]\n",
       "28       [26337694, 0]\n",
       "29       [25742323, 0]\n",
       "             ...      \n",
       "15231    [42363278, 0]\n",
       "15232    [42832322, 0]\n",
       "15233    [41634592, 0]\n",
       "15234    [25533312, 0]\n",
       "15235    [42999022, 0]\n",
       "15236    [42974927, 0]\n",
       "15237    [41537099, 0]\n",
       "15238    [42286382, 0]\n",
       "15239    [43172206, 0]\n",
       "15240    [42421439, 0]\n",
       "15241    [39761367, 0]\n",
       "15242    [41793230, 0]\n",
       "15243    [42771050, 0]\n",
       "15244    [43067435, 0]\n",
       "15245    [21969857, 0]\n",
       "15246    [36703936, 0]\n",
       "15247    [42296170, 0]\n",
       "15248    [37874947, 0]\n",
       "15249    [42286890, 0]\n",
       "15250    [43138013, 0]\n",
       "15251    [43133869, 0]\n",
       "15252    [35789902, 0]\n",
       "15253    [41361620, 0]\n",
       "15254    [42517340, 0]\n",
       "15255    [42931598, 0]\n",
       "15256    [42988398, 0]\n",
       "15257    [42973250, 0]\n",
       "15258    [42998605, 0]\n",
       "15259    [43128932, 0]\n",
       "15260    [43078080, 0]\n",
       "Name: edrpou, Length: 15261, dtype: object"
      ]
     },
     "execution_count": 94,
     "metadata": {},
     "output_type": "execute_result"
    }
   ],
   "source": [
    "expdata_sc['edrpou'].astype(str).str.split(pat = '.', expand = False)"
   ]
  },
  {
   "cell_type": "code",
   "execution_count": 98,
   "metadata": {},
   "outputs": [],
   "source": [
    "expdata_sc['edrpou'] = expdata_sc['edrpou'].astype(str).str.split(pat = '.', n = 1, expand = False)"
   ]
  },
  {
   "cell_type": "code",
   "execution_count": 106,
   "metadata": {},
   "outputs": [
    {
     "data": {
      "text/plain": [
       "ИдентификаторЛота    object\n",
       "Идентификатор        object\n",
       "Организатор          object\n",
       "Тендер               object\n",
       "СуммаЛота            object\n",
       "ОписаниеТендера      object\n",
       "Лот                  object\n",
       "Адрес поставки       object\n",
       "АдресОрганизатора    object\n",
       "Главный орган        object\n",
       "IDOrganizator         int64\n",
       "dtype: object"
      ]
     },
     "execution_count": 106,
     "metadata": {},
     "output_type": "execute_result"
    }
   ],
   "source": [
    "df_raw.dtypes"
   ]
  },
  {
   "cell_type": "code",
   "execution_count": 102,
   "metadata": {},
   "outputs": [
    {
     "data": {
      "text/plain": [
       "university_name                    object\n",
       "edrpou                            float64\n",
       "university_type_name               object\n",
       "education_type_name                object\n",
       "university_level                   object\n",
       "location_type                      object\n",
       "university_financing_type_name     object\n",
       "post_index                        float64\n",
       "koatuu_id                           int64\n",
       "language                           object\n",
       "koatuu_name                        object\n",
       "university_address                 object\n",
       "post_index_u                      float64\n",
       "koatuu_id_u                         int64\n",
       "region_name_u                      object\n",
       "koatuu_name_u                      object\n",
       "university_address_u               object\n",
       "university_phone                   object\n",
       "university_email                   object\n",
       "university_site                    object\n",
       "university_director_fio            object\n",
       "dtype: object"
      ]
     },
     "execution_count": 102,
     "metadata": {},
     "output_type": "execute_result"
    }
   ],
   "source": [
    "expdata_sc.dtypes"
   ]
  },
  {
   "cell_type": "code",
   "execution_count": 103,
   "metadata": {},
   "outputs": [],
   "source": [
    "def formatNumber(num):\n",
    "    if num % 1 == 0:\n",
    "        return int(num)\n",
    "    else:\n",
    "        return num"
   ]
  },
  {
   "cell_type": "code",
   "execution_count": 104,
   "metadata": {},
   "outputs": [],
   "source": [
    "converted = expdata_sc.apply(lambda f : formatNumber(f['edrpou']) , axis = 1)"
   ]
  },
  {
   "cell_type": "code",
   "execution_count": 105,
   "metadata": {
    "collapsed": true
   },
   "outputs": [
    {
     "data": {
      "text/plain": [
       "0        26338802.0\n",
       "1        25992635.0\n",
       "2        25689474.0\n",
       "3        32624238.0\n",
       "4        23370351.0\n",
       "5        26292709.0\n",
       "6        26461617.0\n",
       "7        25002394.0\n",
       "8        22793136.0\n",
       "9        26316485.0\n",
       "10       26462494.0\n",
       "11       20274320.0\n",
       "12       26372880.0\n",
       "13       41453852.0\n",
       "14       41453686.0\n",
       "15       20519129.0\n",
       "16       26251490.0\n",
       "17       26251053.0\n",
       "18       26251277.0\n",
       "19       26251283.0\n",
       "20       26251343.0\n",
       "21       26251461.0\n",
       "22       26251567.0\n",
       "23       26251231.0\n",
       "24       26251478.0\n",
       "25       26251314.0\n",
       "26       20483868.0\n",
       "27       26337783.0\n",
       "28       26337694.0\n",
       "29       25742323.0\n",
       "            ...    \n",
       "15231    42363278.0\n",
       "15232    42832322.0\n",
       "15233    41634592.0\n",
       "15234    25533312.0\n",
       "15235    42999022.0\n",
       "15236    42974927.0\n",
       "15237    41537099.0\n",
       "15238    42286382.0\n",
       "15239    43172206.0\n",
       "15240    42421439.0\n",
       "15241    39761367.0\n",
       "15242    41793230.0\n",
       "15243    42771050.0\n",
       "15244    43067435.0\n",
       "15245    21969857.0\n",
       "15246    36703936.0\n",
       "15247    42296170.0\n",
       "15248    37874947.0\n",
       "15249    42286890.0\n",
       "15250    43138013.0\n",
       "15251    43133869.0\n",
       "15252    35789902.0\n",
       "15253    41361620.0\n",
       "15254    42517340.0\n",
       "15255    42931598.0\n",
       "15256    42988398.0\n",
       "15257    42973250.0\n",
       "15258    42998605.0\n",
       "15259    43128932.0\n",
       "15260    43078080.0\n",
       "Length: 15261, dtype: float64"
      ]
     },
     "execution_count": 105,
     "metadata": {},
     "output_type": "execute_result"
    }
   ],
   "source": [
    "converted"
   ]
  },
  {
   "cell_type": "markdown",
   "metadata": {},
   "source": [
    "##### Step 1: Створити базу навчальних закладів, які самостійно купують через ProZorro. Виділення закупівель шкіл-замовників , згідно з базою МОН (пошук по колонці \"IDOrganizator\""
   ]
  },
  {
   "cell_type": "code",
   "execution_count": 4,
   "metadata": {
    "scrolled": false
   },
   "outputs": [
    {
     "name": "stdout",
     "output_type": "stream",
     "text": [
      "Закупівлі шкіл-замовників, визначених через МОН: df_tenders_by_schools_by_edrpou (38817, 11)\n",
      "Невизначені записи: df_undefined_1 (499076, 11)\n"
     ]
    }
   ],
   "source": [
    "mon_data = get_mon_data()\n",
    "\n",
    "df_tenders_by_schools_by_edrpou = df_raw[df_raw['IDOrganizator'].isin(mon_data)]\n",
    "df_undefined_1 = df_raw[~df_raw['IDOrganizator'].isin(mon_data)]\n",
    "\n",
    "print(\"Закупівлі шкіл-замовників, визначених через МОН: df_tenders_by_schools_by_edrpou \" + str(df_tenders_by_schools_by_edrpou.shape))\n",
    "print(\"Невизначені записи: df_undefined_1 \" + str(df_undefined_1.shape))"
   ]
  },
  {
   "cell_type": "code",
   "execution_count": null,
   "metadata": {},
   "outputs": [],
   "source": [
    "# evaluation of results of Step 1\n",
    "\n",
    "\"\"\" \n",
    "\n",
    "TODO:\n",
    "\n",
    "    викреслити зі списку Бази МОН всі управління, департаменти, відділи освіти\n",
    "\n",
    "    прибрати з результатів закупівлі, де в полі Организатор є такі слова:\n",
    "        - департамент\n",
    "        - управління освіти\n",
    "        - відділ освіти\n",
    "        \n",
    "* результати фільтрування у файлі \"filter_results/df_tenders_by_schools_by_edrpou\" \n",
    "\n",
    "\"\"\"\n",
    "\n",
    "# df_tenders_by_schools_by_edrpou['Организатор'].value_counts()"
   ]
  },
  {
   "cell_type": "code",
   "execution_count": 7,
   "metadata": {
    "scrolled": false
   },
   "outputs": [
    {
     "name": "stdout",
     "output_type": "stream",
     "text": [
      "df_tenders_by_schools_by_edrpou_2 (27125, 11)\n",
      "df_undefined_2 (11687, 11)\n"
     ]
    },
    {
     "name": "stderr",
     "output_type": "stream",
     "text": [
      "/home/artem/.local/lib/python3.6/site-packages/ipykernel_launcher.py:6: UserWarning: This pattern has match groups. To actually get the groups, use str.extract.\n",
      "  \n",
      "/home/artem/.local/lib/python3.6/site-packages/ipykernel_launcher.py:12: UserWarning: This pattern has match groups. To actually get the groups, use str.extract.\n",
      "  if sys.path[0] == '':\n"
     ]
    }
   ],
   "source": [
    "# possible solution for Step 1\n",
    "\n",
    "filter_keywords_step_1_exclude = [\"департамент\", \"управління\", \"відділ\", \"міжшкільний\"]\n",
    "\n",
    "df_tenders_by_schools_by_edrpou_2 = df_tenders_by_schools_by_edrpou[~df_tenders_by_schools_by_edrpou['Организатор'].astype(str).str.contains(r'({})'.format('|'.join(filter_keywords_step_1_exclude)), \n",
    "            case = False, na = False, regex = True)]\n",
    "print(\"Додатково відфільтрована база закупівель за базою МОН: df_tenders_by_schools_by_edrpou_2\", df_tenders_by_schools_by_edrpou_2.shape)\n",
    "\n",
    "filter_keywords_step_1_include = [\"департамент\", \"управління\", \"відділ\"]\n",
    "\n",
    "df_undefined_2 = df_tenders_by_schools_by_edrpou[df_tenders_by_schools_by_edrpou['Организатор'].astype(str).str.contains(r'({})'.format('|'.join(filter_keywords_step_1_include)), \n",
    "            case = False, na = False, regex = True)]\n",
    "print(\"Невизначені записи: df_undefined_2\", df_undefined_2.shape)"
   ]
  },
  {
   "cell_type": "markdown",
   "metadata": {},
   "source": [
    "##### Step 1.5: Об'єднання двох датафреймів, де не визначені школи, в один"
   ]
  },
  {
   "cell_type": "code",
   "execution_count": 9,
   "metadata": {},
   "outputs": [
    {
     "name": "stdout",
     "output_type": "stream",
     "text": [
      "df_undefined_3 510763\n"
     ]
    }
   ],
   "source": [
    "df_undefined_3 = pandas.concat([df_undefined_1, df_undefined_2])\n",
    "print(\"Невизначені записи: df_undefined_3\", df_undefined_3.shape[0])"
   ]
  },
  {
   "cell_type": "markdown",
   "metadata": {},
   "source": [
    "##### Step 2: Виділення закупівель шкіл-замовників за допомогою пошуку ключових слів в колонці \"Организатор\" "
   ]
  },
  {
   "cell_type": "code",
   "execution_count": 12,
   "metadata": {},
   "outputs": [
    {
     "name": "stderr",
     "output_type": "stream",
     "text": [
      "/home/artem/.local/lib/python3.6/site-packages/ipykernel_launcher.py:2: UserWarning: This pattern has match groups. To actually get the groups, use str.extract.\n",
      "  \n",
      "/home/artem/.local/lib/python3.6/site-packages/ipykernel_launcher.py:4: UserWarning: This pattern has match groups. To actually get the groups, use str.extract.\n",
      "  after removing the cwd from sys.path.\n"
     ]
    },
    {
     "name": "stdout",
     "output_type": "stream",
     "text": [
      "Закупівлі шкіл-замовників, визначених через 'Организатор': df_tenders_by_schools_by_keywords (13459, 11)\n",
      "Невизначені записи: df_undefined_4 (497304, 11)\n"
     ]
    }
   ],
   "source": [
    "df_tenders_by_schools_by_keywords = df_undefined_3[df_undefined_3['Организатор'].astype(str).str.contains(r'({})'.format('|'.join(filter_keywords)), \n",
    "            case = False, na = False, regex = True)]\n",
    "df_undefined_4 = df_undefined_3[~df_undefined_3['Организатор'].astype(str).str.contains(r'({})'.format('|'.join(filter_keywords)), \n",
    "            case = False, na = False, regex = True)]\n",
    "\n",
    "print(\"Закупівлі шкіл-замовників, визначених через 'Организатор': df_tenders_by_schools_by_keywords \" + str(df_tenders_by_schools_by_keywords.shape))\n",
    "print(\"Невизначені записи: df_undefined_4 \" + str(df_undefined_4.shape))"
   ]
  },
  {
   "cell_type": "code",
   "execution_count": null,
   "metadata": {},
   "outputs": [],
   "source": [
    "# evalutaion of results of Step 2\n",
    "\n",
    "\"\"\" \n",
    "\n",
    "TODO:\n",
    "    додати в filter_keywords регулярні вирази для витягування в полі \"Организатор\" закупівель за ключовим словом: \n",
    "        - \"школа І-ІІІ ступен\" OR \"школа І-ІІ ступен\"\n",
    "        - \"ліцей\" OR \"гімназія\" AND NOT \"професійн\")\n",
    "        - \"(ясла-садок)\"\n",
    "        - \"Навчально-виховний комплекс\"\n",
    "        \n",
    "* результати фільтрування у файлі \"filter_results/df_tenders_by_schools_by_keywords\" \n",
    "\n",
    "\"\"\"\n",
    "\n",
    "# df_tenders_by_schools_by_keywords['Организатор'].value_counts()"
   ]
  },
  {
   "cell_type": "code",
   "execution_count": 18,
   "metadata": {},
   "outputs": [
    {
     "name": "stdout",
     "output_type": "stream",
     "text": [
      "Додаткове фільтрування датафрейму df_tenders_by_schools_by_keywords (6014, 11)\n",
      "Видалення із датафрейму df_tenders_by_schools_by_keywords так званих 'професійних' навчальних закладів (3718, 11)\n"
     ]
    },
    {
     "name": "stderr",
     "output_type": "stream",
     "text": [
      "/home/artem/.local/lib/python3.6/site-packages/ipykernel_launcher.py:7: UserWarning: This pattern has match groups. To actually get the groups, use str.extract.\n",
      "  import sys\n",
      "/home/artem/.local/lib/python3.6/site-packages/ipykernel_launcher.py:11: UserWarning: This pattern has match groups. To actually get the groups, use str.extract.\n",
      "  # This is added back by InteractiveShellApp.init_path()\n"
     ]
    }
   ],
   "source": [
    "# possible solution for Step 2\n",
    "\n",
    "filter_keywords_step_2_include = [\"школа І-ІІІ? ступен\", \"садок\", \"навчально.виховн\", \"ліцей\", \"гімназі\"]\n",
    "filter_keywords_step_2_exclude = [\"професій\"]\n",
    "\n",
    "df_tenders_by_schools_by_keywords_2 = df_tenders_by_schools_by_keywords[df_tenders_by_schools_by_keywords['Организатор'].astype(str).str.contains(r'({})'.format('|'.join(filter_keywords_step_2_include)), \n",
    "            case = False, na = False, regex = True)]\n",
    "print(\"Додаткове фільтрування датафрейму df_tenders_by_schools_by_keywords\", df_tenders_by_schools_by_keywords_2.shape)\n",
    "\n",
    "df_tenders_by_schools_by_keywords_2 = df_tenders_by_schools_by_keywords_2[~df_tenders_by_schools_by_keywords_2['Организатор'].astype(str).str.contains(r'({})'.format('|'.join(filter_keywords_step_2_exclude)), \n",
    "            case = False, na = False, regex = True)]\n",
    "print(\"Видалення із датафрейму df_tenders_by_schools_by_keywords так званих 'професійних' навчальних закладів\", df_tenders_by_schools_by_keywords_2.shape)\n",
    "\n",
    "# df_tenders_by_schools_by_keywords_2['Организатор'].value_counts()"
   ]
  },
  {
   "cell_type": "markdown",
   "metadata": {},
   "source": [
    "##### Step 2.5: Об'єднання двох датафреймів шкіл-замовників в один"
   ]
  },
  {
   "cell_type": "code",
   "execution_count": 20,
   "metadata": {},
   "outputs": [
    {
     "name": "stdout",
     "output_type": "stream",
     "text": [
      "Закупівлі шкіл-замовників: df_tenders_by_schools (30843, 11)\n",
      "Невизначені записи: df_undefined_4 (497304, 11)\n"
     ]
    }
   ],
   "source": [
    "df_tenders_by_schools = pandas.concat([df_tenders_by_schools_by_edrpou_2, df_tenders_by_schools_by_keywords_2])\n",
    "\n",
    "print(\"Закупівлі шкіл-замовників: df_tenders_by_schools \" + str(df_tenders_by_schools.shape))\n",
    "print(\"Невизначені записи: df_undefined_4 \" + str(df_undefined_4.shape))"
   ]
  },
  {
   "cell_type": "markdown",
   "metadata": {},
   "source": [
    "##### Step 3: Класифікація шкіл-замовників по типах"
   ]
  },
  {
   "cell_type": "code",
   "execution_count": 34,
   "metadata": {},
   "outputs": [],
   "source": [
    "columns_to_classify = ['Организатор']\n",
    "\n",
    "df_tenders_by_schools_classified = classification_by_type_one_column(df_tenders_by_schools, columns_to_classify, filter_priority, filter_name_priority)"
   ]
  },
  {
   "cell_type": "code",
   "execution_count": 35,
   "metadata": {
    "collapsed": true
   },
   "outputs": [
    {
     "data": {
      "text/plain": [
       "['Галицький коледж імені В’ячеслава Чорновола',\n",
       " 'МЕЛ№2 ММР МО',\n",
       " 'Муніципальний заклад вищої освіти \"Київська Академія мистецтв\"',\n",
       " \"Позашкільний навчально-виховний заклад Палац дитячої та юнацької творчості Солом'янського району м.Києва\",\n",
       " 'Рівненський міський Палац дітей та молоді',\n",
       " 'Рівненський навчально-реабілітаційний центр \"Особлива дитина\" Рівненської міської ради']"
      ]
     },
     "execution_count": 35,
     "metadata": {},
     "output_type": "execute_result"
    }
   ],
   "source": [
    "# analysis of Step 3\n",
    "\n",
    "pd.set_option(\"display.max_colwidth\", 200)\n",
    "for_analysis_step_3 = df_tenders_by_schools_classified[df_tenders_by_schools_classified['Тип закладу'] == 'Невідомо'][['Организатор', 'Тип закладу']].sort_values(by=['Организатор'])\n",
    "for_analysis_step_3['Организатор'].unique().tolist()"
   ]
  },
  {
   "cell_type": "markdown",
   "metadata": {},
   "source": [
    "##### Step 4: Нумерація шкіл-замовників"
   ]
  },
  {
   "cell_type": "code",
   "execution_count": 58,
   "metadata": {
    "collapsed": true
   },
   "outputs": [
    {
     "name": "stderr",
     "output_type": "stream",
     "text": [
      "/home/artem/.local/lib/python3.6/site-packages/ipykernel_launcher.py:4: SettingWithCopyWarning: \n",
      "A value is trying to be set on a copy of a slice from a DataFrame.\n",
      "Try using .loc[row_indexer,col_indexer] = value instead\n",
      "\n",
      "See the caveats in the documentation: http://pandas.pydata.org/pandas-docs/stable/indexing.html#indexing-view-versus-copy\n",
      "  after removing the cwd from sys.path.\n"
     ]
    }
   ],
   "source": [
    "columns_to_numerate = ['Организатор']\n",
    "\n",
    "df_tenders_by_schools_numerated = numeration_one_column(df_tenders_by_schools_classified, columns_to_numerate, reg_number)"
   ]
  },
  {
   "cell_type": "markdown",
   "metadata": {},
   "source": [
    "##### Step 4.5: Найменування шкіл-замовників"
   ]
  },
  {
   "cell_type": "code",
   "execution_count": 65,
   "metadata": {},
   "outputs": [],
   "source": [
    "columns_to_name = ['Организатор']\n",
    "\n",
    "df_tenders_by_schools_named = naming_one_column(df_tenders_by_schools_numerated, columns_to_name, reg_quotes)"
   ]
  },
  {
   "cell_type": "code",
   "execution_count": 68,
   "metadata": {
    "collapsed": true
   },
   "outputs": [
    {
     "name": "stdout",
     "output_type": "stream",
     "text": [
      "Було закупівель (30181, 15)\n"
     ]
    },
    {
     "name": "stderr",
     "output_type": "stream",
     "text": [
      "/home/artem/.local/lib/python3.6/site-packages/ipykernel_launcher.py:5: UserWarning: This pattern has match groups. To actually get the groups, use str.extract.\n",
      "  \"\"\"\n"
     ]
    },
    {
     "name": "stdout",
     "output_type": "stream",
     "text": [
      "Стало закупівель (30181, 15)\n"
     ]
    }
   ],
   "source": [
    "# видалити закупівлі позашкільних закладів через фільтрування filter_poza\n",
    "\n",
    "print('Було закупівель', df_tenders_by_schools_named.shape)\n",
    "df_tenders_by_schools_named = df_tenders_by_schools_named[~df_tenders_by_schools_named['Организатор'].astype(str).str.contains(r'({})'.format('|'.join(filter_poza)),\n",
    "                case = False, na = False, regex = True)]\n",
    "print('Стало закупівель', df_tenders_by_schools_named.shape)"
   ]
  },
  {
   "cell_type": "code",
   "execution_count": 69,
   "metadata": {
    "collapsed": true
   },
   "outputs": [
    {
     "name": "stdout",
     "output_type": "stream",
     "text": [
      "Навчальні заклади, де не визначились номер чи назва:\n"
     ]
    },
    {
     "data": {
      "text/plain": [
       "['Авіакосмічний ліцей ім. І.Сікорського НАУ м. Києва',\n",
       " 'Галицький коледж імені В’ячеслава Чорновола',\n",
       " 'Харківська гімназія 116 Харківської міської ради Харківської області',\n",
       " 'Перша міська гімназія Черкаської міської ради Черкаської області',\n",
       " 'Івано-Франківський природничо-математичний ліцей Івано-Франківської міської ради Івано-Франківської області',\n",
       " 'КОМУНАЛЬНА УСТАНОВА СУМСЬКА КЛАСИЧНА ГІМНАЗІЯ СУМСЬКОЇ МІСЬКОЇ РАДИ',\n",
       " 'Львівська правнича гімназія',\n",
       " 'КУ Хмельницький колегіум імені Володимира Козубняка',\n",
       " 'Тернопільська спеціалізована загальноосвітня школа І ступеня повного дня з поглибленим вивченням іноземних мов Тернопільської міської ради Тернопільської області',\n",
       " 'Рівненський міський Палац дітей та молоді',\n",
       " 'Політехнічниий ліцей Національного технічного університету України КПІ м. Києва',\n",
       " 'ЧЕРНІВЕЦЬКИЙ ВІЙСЬКОВО-СПОРТИВНИЙ ЛІЦЕЙ-ІНТЕРНАТ ЧЕРНІВЕЦЬКОЇ МІСЬКОЇ РАДИ',\n",
       " 'Класична гімназія Ужгородської міської ради Закарпатської області',\n",
       " 'КЗ \"ХАРКІВСЬКИЙ УНІВЕРСИТЕТСЬКИЙ ЛІЦЕЙ ХАРКІВСЬКОЇ МІСЬКОЇ РАДИ ХАРКІВСЬКОЇ ОБЛАСТІ',\n",
       " 'Тернопільський технічний ліцей Тернопільської міської ради Тернопільської області',\n",
       " 'Ліцей ім.Романа Шухевича Івано-Франківської міської ради',\n",
       " 'Лінгвістична гімназія ім. Т. Г. Шевченка Ужгородської міської ради Закарпатської області',\n",
       " 'КП Тернопільська класична гімназія Тернопільської міської ради Тернопільської області',\n",
       " 'Житомирський міський колегіум',\n",
       " 'Ліцей імені Івана Пулюя',\n",
       " 'Черкаський фізико-математичний ліцей (ФІМЛІ) Черкаської міської ради Черкаської області',\n",
       " 'Житомирський міський ліцей при Житомирському державному технологічному університеті',\n",
       " 'Тернопільська Українська гімназія ім.І.ФранкаТернопільської міської ради Тернопільської області',\n",
       " 'Рівненська гуманітарна гімназія Рівненської міської ради',\n",
       " 'Ліцей імені Василя Симоненка Львівської міської ради',\n",
       " 'Львівська лінгвістична гімназія Львівської міської ради Львівської області',\n",
       " 'Класична гімназія при Львівському національному університеті імені Івана Франка',\n",
       " 'КУ Тернопільська спеціалізована загальноосвітня школа повного дня з поглибленим вивченням основ економіки',\n",
       " 'Черкаський гуманітарно-правовий ліцей Черкаської міської ради Черкаської області',\n",
       " 'Технологічний багатопрофільний ліцей з загальноосвітніми класами м. Хмельницького імені Артема Мазура',\n",
       " 'Ліцей міжнародних відносин ім. В.Стуса Львівської міської ради',\n",
       " 'ВЕЧІРНЯ ЗАГАЛЬНООСВІТНЯ ШКОЛА ІІ-ІІІ СТУПЕНІВ ЖИТОМИРСЬКОЇ МІСЬКОЇ РАДИ',\n",
       " 'Економіко-правовий ліцей ІІ-ІІІ ступенів міста .Києва',\n",
       " 'Тернопільський педагогічний ліцей спортивного профілю Тернопільської міської ради Тернопільської області',\n",
       " 'Львівська українська гуманітарна гімназія ім. Олени Степанів з поглибленим вивченням українознавства та англійської мови',\n",
       " 'Львівський фізико-математичний ліцей-інтернат при ЛНУ імені Івана Франка',\n",
       " 'Український медичний ліцей Національного медичного університету імені О.О. Богомольця',\n",
       " 'Миколаївський морський ліцей імені професора М.Александрова',\n",
       " 'КП Херсонський академічний ліцей імені О.В.Мішукова Херсонської міської ради при Херсонському державному університеті',\n",
       " \"Ліцей ім. В'ячеслава Чорновола Івано-Франківської міської ради\"]"
      ]
     },
     "execution_count": 69,
     "metadata": {},
     "output_type": "execute_result"
    }
   ],
   "source": [
    "# analysis of Step 4\n",
    "\n",
    "# перетворити пусті строки в NaN\n",
    "df_tenders_by_schools_named['Номер'] = df_tenders_by_schools_named['Номер'].replace(r'^\\s*$', np.nan, regex=True)\n",
    "\n",
    "for_analysis_step_4 = df_tenders_by_schools_named[df_tenders_by_schools_named['Назва'].isnull() & \n",
    "                                  df_tenders_by_schools_named['Номер'].isnull()]\n",
    "print('Навчальні заклади, де не визначились номер чи назва:')\n",
    "for_analysis_step_4['Организатор'].unique().tolist()"
   ]
  },
  {
   "cell_type": "code",
   "execution_count": null,
   "metadata": {},
   "outputs": [],
   "source": [
    "# evalutaion of results of Step 4\n",
    "\n",
    "\"\"\" \n",
    "\n",
    "TODO:\n",
    "   ??? ще не зрозуміло\n",
    "\n",
    "\"\"\""
   ]
  },
  {
   "cell_type": "markdown",
   "metadata": {},
   "source": [
    "##### Step 5: Класифікація шкіл-НЕ-замовників"
   ]
  },
  {
   "cell_type": "code",
   "execution_count": null,
   "metadata": {},
   "outputs": [],
   "source": []
  },
  {
   "cell_type": "code",
   "execution_count": null,
   "metadata": {},
   "outputs": [],
   "source": []
  },
  {
   "cell_type": "code",
   "execution_count": null,
   "metadata": {},
   "outputs": [],
   "source": []
  },
  {
   "cell_type": "code",
   "execution_count": null,
   "metadata": {},
   "outputs": [],
   "source": []
  },
  {
   "cell_type": "code",
   "execution_count": null,
   "metadata": {},
   "outputs": [],
   "source": []
  },
  {
   "cell_type": "code",
   "execution_count": null,
   "metadata": {},
   "outputs": [],
   "source": []
  },
  {
   "cell_type": "code",
   "execution_count": null,
   "metadata": {},
   "outputs": [],
   "source": [
    "##### Step 2: Виділення закупівель шкіл-замовників за допомогою пошуку ключових слів в колонці \"Организатор\" "
   ]
  },
  {
   "cell_type": "markdown",
   "metadata": {},
   "source": [
    "##### Step 2: Виділення закупівель шкіл-замовників за допомогою пошуку ключових слів в колонці \"Организатор\" "
   ]
  },
  {
   "cell_type": "code",
   "execution_count": null,
   "metadata": {
    "scrolled": false
   },
   "outputs": [],
   "source": [
    "step_mark = 'step0'\n",
    "action_mark = 'check'\n",
    "number_0 = '0'\n",
    "columns_to_check_step0 = ['Организатор']\n",
    "\n",
    "# Перший спосіб відібрати навчальні заклади, які є замовниками: пошук за ЄДРПОУ в полі \"IDOrganizator\"\n",
    "df_tenders_by_schools_by_edrpou = filter_dataframe(df_raw, positive_edrpous(), ['IDOrganizator'])\n",
    "\n",
    "# Створити базу для закупівель навчальних закладів, які НЕ є замовниками\n",
    "df_merged_left = pandas.merge(df_raw, df_tenders_by_schools_by_edrpou, on='ИдентификаторЛота', \n",
    "                              how = 'left', indicator = True, suffixes = ('','_temp'))\n",
    "df_undefined_0 = df_merged_left[df_merged_left._merge=='left_only']\n",
    "df_undefined_0 = df_undefined_0[training_data_columns]\n",
    "\n",
    "# Другий спосіб відібрати навчальні заклади, які є замовниками: пошук за ключовими словами в полі \"Организатор\"\n",
    "df_step0 = df_undefined_0.copy()\n",
    "\n",
    "for column in columns_to_check_step0:\n",
    "    df_step0 = step_check(df_step0, column, number_0)\n",
    "    \n",
    "df_tenders_by_schools_by_keywords_0, df_undefined_0 = separate_positives_and_negatives_ogranizator(df_step0, step_mark, action_mark)\n",
    "print(f\"{step_mark}:\", \"df_tenders_by_schools_by_keywords:\", df_tenders_by_schools_by_keywords_0.shape[0])"
   ]
  },
  {
   "cell_type": "markdown",
   "metadata": {},
   "source": [
    "#### Concatenating 2 dataframes: df_tenders_by_schools_concatenated"
   ]
  },
  {
   "cell_type": "code",
   "execution_count": null,
   "metadata": {},
   "outputs": [],
   "source": [
    "# df_tenders_by_schools_concatenated - \n",
    "# Об'єднання двох баз закупівель навчальних закладів, які самостійно купують через ProZorro\n",
    "\n",
    "frames_tenders_by_schools = [df_tenders_by_schools_by_edrpou, df_tenders_by_schools_by_keywords_0]\n",
    "df_tenders_by_schools_concatenated = pandas.concat(frames_tenders_by_schools)\n",
    "len_df = df_tenders_by_schools_concatenated.shape[0]\n",
    "df_tenders_by_schools_concatenated.drop_duplicates(subset = 'ИдентификаторЛота', inplace = True)\n",
    "print(\"Removed duplicates:\", len_df - df_tenders_by_schools_concatenated.shape[0])"
   ]
  },
  {
   "cell_type": "markdown",
   "metadata": {},
   "source": [
    "### Step 1: \n",
    "#### Створити базу закупівель навчальних закладів, які купують у ProZorro через посередників: управління освіти, міністерства"
   ]
  },
  {
   "cell_type": "code",
   "execution_count": null,
   "metadata": {},
   "outputs": [],
   "source": [
    "# TODO Step 1:\n",
    "# ПЕРЕВІРИТИ, ЩО ЗНАХОДИТЬ В КОЛОНЦІ \"АДЕРСА ПОСТАВКИ\"\n",
    "\n",
    "\"\"\"\n",
    "За результатами точності визначення закупівель вирішити чи фільтрувати за цією колонкою.\n",
    "Проблема: в полі адреса часто вказують ключові слова, які ніби можуть вказувати на приналежність\n",
    "закупівлі до шкільних. Наприклад, вул. Шкільна, Гімназійна і т.п.\n",
    "\"\"\""
   ]
  },
  {
   "cell_type": "code",
   "execution_count": null,
   "metadata": {},
   "outputs": [],
   "source": [
    "step_mark = 'step1'\n",
    "action_mark = 'check'\n",
    "number_1 = '1'\n",
    "columns_to_check_step1 = ['Тендер', 'ОписаниеТендера', 'Лот']\n",
    "df_step1 = df_undefined_0.copy()\n",
    "\n",
    "for column in columns_to_check_step1:\n",
    "    df_step1 = step_check(df_step1, column, number_1)\n",
    "\n",
    "df_tenders_by_schools_by_keywords_1, df_undefined_1 = separate_positives_and_negatives(df_step1, step_mark, action_mark)\n",
    "df_tenders_by_schools_by_keywords_1 = df_tenders_by_schools_by_keywords_1[training_data_columns]\n",
    "df_not_school_tenders = df_undefined_1[training_data_columns]\n",
    "print(f\"{step_mark}:\", \"df_tenders_by_schools_by_keywords_1:\", df_tenders_by_schools_by_keywords_1.shape[0])"
   ]
  },
  {
   "cell_type": "code",
   "execution_count": null,
   "metadata": {},
   "outputs": [],
   "source": [
    "# TODO:\n",
    "#    Inspect df_not_school_tenders.csv\n",
    "#   df_not_school_tenders.to_csv('df_not_school_tenders.csv');"
   ]
  },
  {
   "cell_type": "markdown",
   "metadata": {},
   "source": [
    "### Step 2:\n",
    "#### Класифікація навчальних закладів, які самостійно купують через ProZorro"
   ]
  },
  {
   "cell_type": "code",
   "execution_count": null,
   "metadata": {},
   "outputs": [],
   "source": [
    "# TODO:\n",
    "# Визначити пріоритетність фільтрів для визначення категорії. Наприклад, якщо в назві є НВК і дитячий садок.\n",
    "\n",
    "def classification(given_df, columns_to_classify, filter_list, filter_name):\n",
    "    for column in columns_to_classify:\n",
    "        given_df[column + '_' + step_mark + '_' + action_mark] = given_df[column].str.contains('|'.join(filter_list), \n",
    "                                                                                               case = False, \n",
    "                                                                                               na = False)\n",
    "    for i in range(given_df.shape[0]):\n",
    "        for column in columns_to_classify:\n",
    "            if given_df.loc[given_df.index[i], column + '_' + step_mark + '_classification'].any():\n",
    "                given_df.loc[given_df.index[i], 'Тип закладу'] = filter_name\n",
    "                break;\n",
    "    for column in columns_to_classify:\n",
    "        given_df = clear_redundant_columns(given_df, step_mark, action_mark, column)\n",
    "    return given_df"
   ]
  },
  {
   "cell_type": "code",
   "execution_count": null,
   "metadata": {},
   "outputs": [],
   "source": [
    "step_mark = 'step2'\n",
    "action_mark = 'classification'\n",
    "columns_to_classify_step2 = ['Организатор']\n",
    "df_step2 = df_tenders_by_schools_concatenated.copy()"
   ]
  },
  {
   "cell_type": "code",
   "execution_count": null,
   "metadata": {},
   "outputs": [],
   "source": [
    "df_step2_random = df_step2.copy().sample(1000)"
   ]
  },
  {
   "cell_type": "markdown",
   "metadata": {},
   "source": [
    "#### Filtering"
   ]
  },
  {
   "cell_type": "code",
   "execution_count": null,
   "metadata": {},
   "outputs": [],
   "source": [
    "for idx in range(len(filter_priority)):\n",
    "    df_step2_random = classification(df_step2_random, columns_to_classify_step2, filter_priority[idx], filter_name_priority[idx])"
   ]
  },
  {
   "cell_type": "markdown",
   "metadata": {},
   "source": [
    "#### Checking results"
   ]
  },
  {
   "cell_type": "code",
   "execution_count": null,
   "metadata": {},
   "outputs": [],
   "source": [
    "df_step2_random[df_step2_random['Тип закладу'].notnull()].shape"
   ]
  },
  {
   "cell_type": "code",
   "execution_count": null,
   "metadata": {},
   "outputs": [],
   "source": [
    "print(df_step2_random[df_step2_random['Тип закладу'].isnull()].shape)\n",
    "\n",
    "columns_to_classify_step2_temp = columns_to_classify_step2.copy()\n",
    "columns_to_classify_step2_temp.append('Тип закладу')\n",
    "\n",
    "df_step2_random[df_step2_random['Тип закладу'].isnull()][columns_to_classify_step2_temp]"
   ]
  },
  {
   "cell_type": "code",
   "execution_count": null,
   "metadata": {},
   "outputs": [],
   "source": [
    "df_step2_random[df_step2_random['Тип закладу'] == 'ДНЗ'][columns_to_classify_step2_temp].sample(10)"
   ]
  },
  {
   "cell_type": "markdown",
   "metadata": {},
   "source": [
    "### Step 3:\n",
    "#### Класифікація навчальних закладів, для яких купують управління освіти, міністерства чи інші органи влади"
   ]
  },
  {
   "cell_type": "code",
   "execution_count": null,
   "metadata": {},
   "outputs": [],
   "source": [
    "# TODO:\n",
    "# ПЕРЕВІРИТИ, ЩО ЗНАХОДИТЬ В КОЛОНЦІ \"ОРГАНИЗАТОР\""
   ]
  },
  {
   "cell_type": "code",
   "execution_count": null,
   "metadata": {},
   "outputs": [],
   "source": [
    "step_mark = 'step3'\n",
    "action_mark = 'classification'\n",
    "columns_to_classify_step3 = ['Тендер', 'ОписаниеТендера', 'Лот', 'Адрес поставки']\n",
    "df_step3 = df_tenders_by_schools_by_keywords_1.copy()"
   ]
  },
  {
   "cell_type": "code",
   "execution_count": null,
   "metadata": {},
   "outputs": [],
   "source": [
    "df_step3_random = df_step3.copy().sample(1000)"
   ]
  },
  {
   "cell_type": "markdown",
   "metadata": {},
   "source": [
    "#### Filtering"
   ]
  },
  {
   "cell_type": "code",
   "execution_count": null,
   "metadata": {},
   "outputs": [],
   "source": [
    "for idx in range(len(filter_priority)):\n",
    "    df_step3_random = classification(df_step3_random, columns_to_classify_step3, \n",
    "                                    filter_priority[idx], filter_name_priority[idx])"
   ]
  },
  {
   "cell_type": "markdown",
   "metadata": {},
   "source": [
    "#### Checking results"
   ]
  },
  {
   "cell_type": "code",
   "execution_count": null,
   "metadata": {},
   "outputs": [],
   "source": [
    "columns_to_classify_step3_temp = columns_to_classify_step3.copy()\n",
    "columns_to_classify_step3_temp.append('Тип закладу')"
   ]
  },
  {
   "cell_type": "code",
   "execution_count": null,
   "metadata": {},
   "outputs": [],
   "source": [
    "df_step3_random['Тип закладу'].value_counts()"
   ]
  },
  {
   "cell_type": "code",
   "execution_count": null,
   "metadata": {},
   "outputs": [],
   "source": [
    "df_step3_random[df_step3_random['Тип закладу'].notnull()].shape"
   ]
  },
  {
   "cell_type": "code",
   "execution_count": null,
   "metadata": {},
   "outputs": [],
   "source": [
    "print(df_step3_random[df_step3_random['Тип закладу'].isnull()].shape)\n",
    "df_step3_random[df_step3_random['Тип закладу'].isnull()][columns_to_classify_step3_temp]"
   ]
  },
  {
   "cell_type": "markdown",
   "metadata": {},
   "source": [
    "### Step 4:\n",
    "####  присвоєння навчальним закладам власних назв"
   ]
  },
  {
   "cell_type": "code",
   "execution_count": null,
   "metadata": {},
   "outputs": [],
   "source": [
    "step_mark = 'step4'\n",
    "action_mark = 'naming'\n",
    "\n",
    "columns_to_classify_step4_tenders_by_schools = ['Организатор']\n",
    "df_step4_tenders_by_schools = df_tenders_by_schools_concatenated.copy()\n",
    "\n",
    "columns_to_classify_step4 = ['Тендер', 'ОписаниеТендера', 'Лот', 'Адрес поставки']\n",
    "df_step4 = df_step3.copy()"
   ]
  },
  {
   "cell_type": "code",
   "execution_count": null,
   "metadata": {},
   "outputs": [],
   "source": [
    "def naming(given_df, columns_to_classify, regex):\n",
    "    for column in columns_to_classify:\n",
    "        given_df[column + '_' + step_mark + '_' + action_mark] = given_df[column].str.findall(f\"{regex}\", \n",
    "                                                                                              flags = re.IGNORECASE).str[0].str[-1]\n",
    "    return given_df"
   ]
  },
  {
   "cell_type": "code",
   "execution_count": null,
   "metadata": {},
   "outputs": [],
   "source": [
    "df_step4_tenders_by_schools_filtered = naming(df_step4_tenders_by_schools, columns_to_classify_step4_tenders_by_schools, reg_quotes)\n",
    "df_step4_tenders_by_schools_filtered.sample(10)[['Организатор', 'Организатор_step4_naming']]"
   ]
  },
  {
   "cell_type": "code",
   "execution_count": null,
   "metadata": {},
   "outputs": [],
   "source": [
    "df_step4_filtered = naming(df_step4, columns_to_classify_step4, reg_quotes)\n",
    "df_step4_filtered.sample(10)"
   ]
  },
  {
   "cell_type": "markdown",
   "metadata": {},
   "source": [
    "### Step 5:\n",
    "####  присвоєння номерів"
   ]
  },
  {
   "cell_type": "code",
   "execution_count": null,
   "metadata": {},
   "outputs": [],
   "source": [
    "step_mark = 'step5'\n",
    "action_mark = 'numeration'\n",
    "\n",
    "columns_to_classify_step5_tenders_by_schools = ['Организатор']\n",
    "df_step4_tenders_by_schools = df_tenders_by_schools_concatenated.copy()\n",
    "\n",
    "columns_to_classify_step5 = ['Тендер', 'ОписаниеТендера', 'Лот', 'Адрес поставки']\n",
    "df_step5 = df_step3.copy()"
   ]
  },
  {
   "cell_type": "code",
   "execution_count": null,
   "metadata": {},
   "outputs": [],
   "source": [
    "def numeration(given_df, columns_to_classify, regex):\n",
    "    for column in columns_to_classify:\n",
    "        given_df[column + '_' + step_mark + '_' + action_mark] = given_df[column].str.findall(f\"{regex}\", \n",
    "                                                                                              flags = re.IGNORECASE)\n",
    "    return given_df"
   ]
  },
  {
   "cell_type": "code",
   "execution_count": null,
   "metadata": {},
   "outputs": [],
   "source": [
    "df_step5_tenders_by_schools_filtered = numeration(df_step4_tenders_by_schools, columns_to_classify_step4_tenders_by_schools, reg_number)\n",
    "df_step5_tenders_by_schools_filtered"
   ]
  },
  {
   "cell_type": "code",
   "execution_count": null,
   "metadata": {},
   "outputs": [],
   "source": [
    "df_step5_filtered = numeration(df_step4, columns_to_classify_step4, reg_number)\n",
    "df_step5_filtered.sample(5)"
   ]
  },
  {
   "cell_type": "markdown",
   "metadata": {},
   "source": [
    "### Step 6:\n",
    "####  зведення в єдину базу"
   ]
  },
  {
   "cell_type": "markdown",
   "metadata": {},
   "source": [
    "### Optional step"
   ]
  },
  {
   "cell_type": "markdown",
   "metadata": {},
   "source": [
    "#### За ЄДРПОУ видалити рядки із закупівлями закладів, які не є закладами загальної середньої чи дошкільної освіти"
   ]
  },
  {
   "cell_type": "code",
   "execution_count": null,
   "metadata": {},
   "outputs": [],
   "source": [
    "# TODO: \n",
    "# До переліку \"негативних\" ЄДРПОУ включені управління освіти. \n",
    "# Тому заклади, де є \"управління освіти\" в полі організатор, не видаляти"
   ]
  },
  {
   "cell_type": "code",
   "execution_count": null,
   "metadata": {},
   "outputs": [],
   "source": [
    "# filter_dataframe_inspect_before_drop(df_step1_positives, negative_edrpou(), ['IDOrganizator'])['IDOrganizator'].unique().tolist()"
   ]
  },
  {
   "cell_type": "code",
   "execution_count": null,
   "metadata": {},
   "outputs": [],
   "source": [
    "#filter_dataframe_inspect_before_drop_step_0['Организатор'].unique().tolist()"
   ]
  },
  {
   "cell_type": "code",
   "execution_count": null,
   "metadata": {},
   "outputs": [],
   "source": [
    "# filter_dataframe_inspect_before_drop(df_step1_positives, filter_poza, ['Организатор'])['Организатор'].unique().tolist()"
   ]
  },
  {
   "cell_type": "code",
   "execution_count": null,
   "metadata": {
    "scrolled": true
   },
   "outputs": [],
   "source": [
    "#df_step2_positives = filter_dataframe_drop(df_step1_positives, negative_edrpou(), ['IDOrganizator'])\n",
    "#df_step2_positives = filter_dataframe_drop(df_step2_positives, filter_poza, ['Организатор'])\n",
    "#print('Залишилось закупівель навчальних закладів, які не є замовниками:', df_step2_positives.shape[0])"
   ]
  }
 ],
 "metadata": {
  "file_extension": ".py",
  "kernelspec": {
   "display_name": "Python 3",
   "language": "python",
   "name": "python3"
  },
  "language_info": {
   "codemirror_mode": {
    "name": "ipython",
    "version": 3
   },
   "file_extension": ".py",
   "mimetype": "text/x-python",
   "name": "python",
   "nbconvert_exporter": "python",
   "pygments_lexer": "ipython3",
   "version": "3.6.9"
  },
  "mimetype": "text/x-python",
  "name": "python",
  "npconvert_exporter": "python",
  "pygments_lexer": "ipython2",
  "version": 2
 },
 "nbformat": 4,
 "nbformat_minor": 2
}
