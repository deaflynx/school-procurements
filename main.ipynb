{
 "cells": [
  {
   "cell_type": "code",
   "execution_count": null,
   "metadata": {},
   "outputs": [],
   "source": [
    "import importlib\n",
    "import pandas as pd\n",
    "import numpy as np\n",
    "import re"
   ]
  },
  {
   "cell_type": "code",
   "execution_count": null,
   "metadata": {},
   "outputs": [],
   "source": [
    "from functions.get_mon_data import *\n",
    "from functions.functions_dataframe import * \n",
    "from functions.functions_shared import *\n",
    "from parameters.filters_lists import *\n",
    "from parameters.route import *\n",
    "from parameters.regs import *"
   ]
  },
  {
   "cell_type": "code",
   "execution_count": null,
   "metadata": {},
   "outputs": [],
   "source": [
    "\"\"\" \n",
    "Для формування списку ЄДРПОУ навчальних закладів, які потрібно наносити на мапу, використані бази даних МОН, опубліковані у листопаді 2019 року на Порталі відкритих даних.\n",
    "\n",
    "### Перелік закладів загальної середньої та дошкільної освіти (ЗЗСДО)\n",
    "    https://data.gov.ua/dataset/bd70757a-ab49-46be-a650-608a9b3bd7b1\n",
    "    \n",
    "### Перелік закладів позашкільної освіти (державна форма власності)\n",
    "    https://data.gov.ua/dataset/9a88fb96-a043-4769-acf1-1c4a948ec285\n",
    "    Перелік закладів позашкільної освіти системи Міністерства освіти і науки України\n",
    "    https://data.gov.ua/dataset/18d7fb70-3781-4017-88d2-651e14d14211\n",
    "    Заклади професійної (професійно-технічної) освіти\n",
    "    https://data.gov.ua/dataset/824513a9-aa5e-45c8-b45e-dced6909761a\n",
    "\"\"\""
   ]
  },
  {
   "cell_type": "code",
   "execution_count": null,
   "metadata": {},
   "outputs": [],
   "source": [
    "\"\"\"\n",
    "df_raw - база даних завершених закупівель 24 обласних центрів з 1 серпня 2016 до 31 грудня 2019.\n",
    "В Донецькій області - Краматорськ. В Луганській - Сєвєродонецьк. \n",
    "Згерерована у Профейсійному модулі аналітики bipro.prozorro.\n",
    "\"ИдентификаторЛота\" є унікальним ідентифікатором рядка.\n",
    "\"\"\"  "
   ]
  },
  {
   "cell_type": "code",
   "execution_count": null,
   "metadata": {
    "scrolled": false
   },
   "outputs": [],
   "source": [
    "df_raw = pandas.read_csv('data/TrainingProZorroForSchoolProject20162019.csv', sep = ';', low_memory = False)\n",
    "training_data_columns = df_raw.columns.tolist()\n",
    "print(\"Дані з файлу викачки BIPro Prozorro: \" + \"df_raw\" + str(df_raw.shape))"
   ]
  },
  {
   "cell_type": "markdown",
   "metadata": {},
   "source": [
    "##### Step 0: Підготовка бази МОН для використання у фільтруванні закупівель"
   ]
  },
  {
   "cell_type": "code",
   "execution_count": null,
   "metadata": {},
   "outputs": [],
   "source": [
    "expdata_sc = pandas.read_csv('data/mon_data/expdata_sc.csv', sep = ';', low_memory = False)\n",
    "expdata_dnz = pandas.read_csv('data/mon_data/expdata_dnz.csv', sep = ';', low_memory = False)"
   ]
  },
  {
   "cell_type": "code",
   "execution_count": null,
   "metadata": {},
   "outputs": [],
   "source": [
    "expdata_sc = expdata_sc.fillna(0)\n",
    "expdata_sc['edrpou'] = expdata_sc['edrpou'].astype(np.int64)\n",
    "mask = (expdata_sc['edrpou'].astype(str).str.len() == 7) | (expdata_sc['edrpou'].astype(str).str.len() == 8)\n",
    "expdata_sc = expdata_sc.loc[mask].sort_values(by=['edrpou'])\n",
    "print(\"expdata_sc\", expdata_sc.shape)"
   ]
  },
  {
   "cell_type": "code",
   "execution_count": null,
   "metadata": {},
   "outputs": [],
   "source": [
    "expdata_dnz['edrpou'] = pd.to_numeric(expdata_dnz['edrpou'],errors='coerce')\n",
    "expdata_dnz = expdata_dnz.fillna(0)\n",
    "expdata_dnz['edrpou'] = expdata_dnz['edrpou'].astype(np.int64)\n",
    "mask = (expdata_dnz['edrpou'].astype(str).str.len() == 7) | (expdata_dnz['edrpou'].astype(str).str.len() == 8)\n",
    "expdata_dnz = expdata_dnz.loc[mask].sort_values(by=['edrpou'])\n",
    "print(\"expdata_dnz\", expdata_dnz.shape)"
   ]
  },
  {
   "cell_type": "code",
   "execution_count": null,
   "metadata": {},
   "outputs": [],
   "source": [
    "frames = [expdata_dnz, expdata_sc]\n",
    "df_mon_data = pd.concat(frames)\n",
    "print(\"База МОН шкіл і садків з 7-8 значинми ЄДРПОУ, df_mon_data\", df_mon_data.shape)"
   ]
  },
  {
   "cell_type": "code",
   "execution_count": null,
   "metadata": {},
   "outputs": [],
   "source": [
    "filter_keywords_exclude = [\"департамент\", \"управлін.*освіт\", \"відділ.*освіт\"]\n",
    "df_raw_upravlin_osvity = df_raw[df_raw['Организатор'].astype(str).str.contains(r'({})'.format('|'.join(filter_keywords_exclude)), case = False, na = False, regex = True)]\n",
    "edrpou_upravlin_osvity_prozorro = df_raw_upravlin_osvity['IDOrganizator'].unique().tolist()\n",
    "print(\"edrpou_upravlin_osvity_prozorro\", len(edrpou_upravlin_osvity_prozorro))\n",
    "\n",
    "mask = (df_mon_data['edrpou'].isin(edrpou_upravlin_osvity_prozorro))\n",
    "df_mon_data_bez_upravlin_osvity = df_mon_data.loc[~mask]\n",
    "print(\"df_mon_data_bez_upravlin_osvity\", df_mon_data_bez_upravlin_osvity.shape)"
   ]
  },
  {
   "cell_type": "markdown",
   "metadata": {},
   "source": [
    "##### Step 1: Створити базу навчальних закладів, які самостійно купують через ProZorro. Виділення закупівель шкіл-замовників , згідно з базою МОН (пошук по колонці \"IDOrganizator\""
   ]
  },
  {
   "cell_type": "code",
   "execution_count": null,
   "metadata": {
    "scrolled": true
   },
   "outputs": [],
   "source": [
    "mon_data = df_mon_data_bez_upravlin_osvity.edrpou.unique().tolist()\n",
    "\n",
    "df_tenders_by_schools_by_edrpou = df_raw[df_raw['IDOrganizator'].isin(mon_data)]\n",
    "df_undefined_1 = df_raw[~df_raw['IDOrganizator'].isin(mon_data)]\n",
    "\n",
    "print(\"Закупівлі шкіл-замовників, визначених через МОН: df_tenders_by_schools_by_edrpou \" + str(df_tenders_by_schools_by_edrpou.shape))\n",
    "print(\"Невизначені записи: df_undefined_1 \" + str(df_undefined_1.shape))"
   ]
  },
  {
   "cell_type": "code",
   "execution_count": null,
   "metadata": {},
   "outputs": [],
   "source": [
    "# evaluation of results of Step 1\n",
    "\n",
    "# df_tenders_by_schools_by_edrpou['Организатор'].value_counts()"
   ]
  },
  {
   "cell_type": "markdown",
   "metadata": {},
   "source": [
    "##### Step 2: Виділення закупівель шкіл-замовників за допомогою пошуку ключових слів в колонці \"Организатор\" "
   ]
  },
  {
   "cell_type": "code",
   "execution_count": null,
   "metadata": {},
   "outputs": [],
   "source": [
    "df_tenders_by_schools_by_keywords = df_undefined_1[df_undefined_1['Организатор'].astype(str).str.contains(r'({})'.format('|'.join(filter_keywords)), case = False, na = False, regex = True) ]\n",
    "print(f\"Закупівлі шкіл-замовників, визначених через 'Организатор': df_tenders_by_schools_by_keywords {df_tenders_by_schools_by_keywords.shape}\")"
   ]
  },
  {
   "cell_type": "code",
   "execution_count": null,
   "metadata": {},
   "outputs": [],
   "source": [
    "# evalutaion #1 of results of Step 2\n",
    "# df_tenders_by_schools_by_keywords['Организатор'].value_counts()"
   ]
  },
  {
   "cell_type": "code",
   "execution_count": null,
   "metadata": {},
   "outputs": [],
   "source": [
    "# Додаткове фільтрування df_tenders_by_schools_by_keywords\n",
    "\n",
    "filter_keywords_step_2_exclude = ['професійн', 'міжшкільн']\n",
    "df_tenders_by_schools_by_keywords_2_temp = df_tenders_by_schools_by_keywords[~df_tenders_by_schools_by_keywords['Организатор'].astype(str).str.contains(r'({})'.format('|'.join(filter_keywords_step_2_exclude)), case = False, na = False, regex = True)]\n",
    "\n",
    "filter_keywords_step_2_include = [\"школа І-І.*ступенів\", \"навчальн.*виховн.*комплекс\", \"гімназ\", \"ліце\", \"дошкільний\"]\n",
    "df_tenders_by_schools_by_keywords_2 = df_tenders_by_schools_by_keywords_2_temp[df_tenders_by_schools_by_keywords_2_temp['Организатор'].astype(str).str.contains(r'({})'.format('|'.join(filter_keywords_step_2_include)), case = False, na = False, regex = True)]\n",
    "print(f\"Видалення із датафрейму df_tenders_by_schools_by_keywords зайвих закупівель, {df_tenders_by_schools_by_keywords_2_temp.shape} \\nЗалишилось: {df_tenders_by_schools_by_keywords_2.shape}\")"
   ]
  },
  {
   "cell_type": "code",
   "execution_count": null,
   "metadata": {},
   "outputs": [],
   "source": [
    "# evalutaion #2 of results of Step 2\n",
    "# df_tenders_by_schools_by_keywords_2['Организатор'].value_counts()"
   ]
  },
  {
   "cell_type": "markdown",
   "metadata": {},
   "source": [
    "##### Step 2.5: Об'єднання двох датафреймів шкіл-замовників в один"
   ]
  },
  {
   "cell_type": "code",
   "execution_count": null,
   "metadata": {},
   "outputs": [],
   "source": [
    "df_tenders_by_schools = pandas.concat([df_tenders_by_schools_by_edrpou, \n",
    "                                       df_tenders_by_schools_by_keywords_2])\n",
    "print(f\"Закупівлі шкіл-замовників: df_tenders_by_schools {df_tenders_by_schools.shape} \\nНевизначені записи: df_undefined_1:{df_undefined_1.shape}\")"
   ]
  },
  {
   "cell_type": "markdown",
   "metadata": {},
   "source": [
    "##### Step 3: Класифікація шкіл-замовників по типах"
   ]
  },
  {
   "cell_type": "code",
   "execution_count": null,
   "metadata": {},
   "outputs": [],
   "source": [
    "columns_to_classify = ['Организатор']\n",
    "df_tenders_by_schools_classified = classification_by_type_one_column(df_tenders_by_schools, \n",
    "                                                                     columns_to_classify, \n",
    "                                                                     filter_priority, \n",
    "                                                                     filter_name_priority)"
   ]
  },
  {
   "cell_type": "code",
   "execution_count": null,
   "metadata": {},
   "outputs": [],
   "source": [
    "# evaluation of Step 3\n",
    "\n",
    "# pd.set_option(\"display.max_colwidth\", 200)\n",
    "# print(\"Заклади, де не визначений тип:\")\n",
    "# df_tenders_by_schools_classified[df_tenders_by_schools_classified['Тип закладу'] == 'Невідомо']['Организатор'].unique().tolist()"
   ]
  },
  {
   "cell_type": "code",
   "execution_count": null,
   "metadata": {},
   "outputs": [],
   "source": [
    "# EXPERIMETNS FOR SOLUTION #3 FROM STEP 11 \n",
    "\n",
    "def classification_by_type_one_column_TEST(df, columns, priority, names):\n",
    "    given_df = df[:]\n",
    "    checked_priority = priority[::-1]\n",
    "    checked_names = names[::-1]\n",
    "    given_df['Тип закладу_2'] = \"Невідомо\"\n",
    "\n",
    "    for column in columns:\n",
    "        given_df[column + \"_check\"] = \"\"\n",
    "\n",
    "    for idx in range(len(checked_priority)):\n",
    "        checked_filter = checked_priority[idx]\n",
    "        for column in columns:\n",
    "            given_df[column + \"_check\"] = given_df[column].astype(str).str.contains(r'({})'.format('|'.join(checked_filter)),\n",
    "                case = False, na = False, regex = True)\n",
    "\n",
    "        checked_name = checked_names[idx]\n",
    "        given_df['Тип закладу_2'] = np.where(given_df['Организатор_check'] == True, checked_name, given_df['Тип закладу_2'])\n",
    "    return given_df\n",
    "\n",
    "\n",
    "filter_priority = [\n",
    "        filter_specialna,\n",
    "        filter_nvk,\n",
    "        filter_gimnasium,\n",
    "        filter_liceum,\n",
    "        filter_specializovana,\n",
    "        filter_internat,\n",
    "        filter_kombinat,\n",
    "        filter_sanatorna,\n",
    "        filter_specializovana,\n",
    "        filter_sadik,\n",
    "        filter_shkola \n",
    "    ]\n",
    "\n",
    "filter_name_priority = [\n",
    "        filter_specialna_name,\n",
    "        filter_nvk_name,\n",
    "        filter_gimnasium_name,\n",
    "        filter_liceum_name,\n",
    "        filter_specializovana_name,\n",
    "        filter_internat_name,\n",
    "        filter_kombinat_name,\n",
    "        filter_sanatorna_name,\n",
    "        filter_specializovana_name,\n",
    "        filter_sadik_name,\n",
    "        filter_shkola_name\n",
    "    ]\n",
    "\n",
    "filter_vechirni = ['вечір.*змінн', 'вечір.*школ']\n",
    "filter_specialna = ['cпеціальн']\n",
    "filter_sanatorna = ['санаторн.*шк', '.*шк.*санаторн']\n",
    "filter_kombinat = ['міжшкільн.*комбінат']\n",
    "filter_internat = ['інтернат']\n",
    "filter_nvk = ['центр.*розвитк.*дитин', 'увк', 'нвк', 'навчальн.*виховн.*комплекс', 'нво', 'навчальн.*виховн.*об']\n",
    "filter_gimnasium = ['гімназі[яї]']\n",
    "filter_liceum = ['ліце[йяю]']\n",
    "filter_specializovana = ['спеціалізован']\n",
    "filter_shkola = ['загальноосвітн', 'І.*ступен', 'колегіум', 'зош', 'сзш', 'загальн.*середн', 'початков.*школ']\n",
    "filter_sadik = ['днз', 'садок', 'садка' 'дошкільн', 'ясла', 'ясел']"
   ]
  },
  {
   "cell_type": "code",
   "execution_count": null,
   "metadata": {},
   "outputs": [],
   "source": [
    "columns_to_classify = ['Организатор']\n",
    "\n",
    "df_error_3_test = df_error_3[df_error_3['Заклад-замовник'] == True].copy()\n",
    "df_error_3_classified = classification_by_type_one_column_TEST(df_error_3_test, \n",
    "                                                               columns_to_classify, \n",
    "                                                               filter_priority_2, \n",
    "                                                               filter_name_priority_2)\n",
    "df_error_3_classified[['Организатор', 'Тип закладу', 'Тип закладу_2']]"
   ]
  },
  {
   "cell_type": "markdown",
   "metadata": {},
   "source": [
    "##### Step 4: Нумерація шкіл-замовників"
   ]
  },
  {
   "cell_type": "code",
   "execution_count": null,
   "metadata": {},
   "outputs": [],
   "source": [
    "columns_to_numerate = ['Организатор']\n",
    "df_tenders_by_schools_numerated = numeration_one_column(df_tenders_by_schools_classified, \n",
    "                                                        columns_to_numerate, \n",
    "                                                        reg_number)"
   ]
  },
  {
   "cell_type": "markdown",
   "metadata": {},
   "source": [
    "##### Step 4.5: Найменування шкіл-замовників"
   ]
  },
  {
   "cell_type": "code",
   "execution_count": null,
   "metadata": {},
   "outputs": [],
   "source": [
    "columns_to_name = ['Организатор']\n",
    "df_tenders_by_schools_named = naming_one_column(df_tenders_by_schools_numerated, \n",
    "                                                columns_to_name, \n",
    "                                                reg_quotes)"
   ]
  },
  {
   "cell_type": "code",
   "execution_count": null,
   "metadata": {},
   "outputs": [],
   "source": [
    "print('Було закупівель', df_tenders_by_schools_named.shape)\n",
    "df_tenders_by_schools_named = df_tenders_by_schools_named[~df_tenders_by_schools_named['Организатор'].astype(str).str.contains(r'({})'.format('|'.join(filter_poza)),\n",
    "                case = False, na = False, regex = True)]\n",
    "df_tenders_by_schools_named['Номер'] = df_tenders_by_schools_named['Номер'].replace(r'^\\s*$', np.nan, regex=True) # перетворити пусті строки в NaN\n",
    "print(f'Залишилось закупівель після видалення закупівель закладів ключовими словами {filter_poza}, \\ndf_tenders_by_schools_named', df_tenders_by_schools_named.shape)"
   ]
  },
  {
   "cell_type": "code",
   "execution_count": null,
   "metadata": {},
   "outputs": [],
   "source": [
    "# # evaluation of Step 4\n",
    "\n",
    "# for_analysis_step_4 = df_tenders_by_schools_named[df_tenders_by_schools_named['Назва'].isnull() & \n",
    "#                                   df_tenders_by_schools_named['Номер'].isnull()]\n",
    "# print('Навчальні заклади, де не визначились номер чи назва:')\n",
    "# for_analysis_step_4['Организатор'].unique().tolist()"
   ]
  },
  {
   "cell_type": "markdown",
   "metadata": {},
   "source": [
    "##### Step 4.9: Форматування бази шкіл-замовників"
   ]
  },
  {
   "cell_type": "code",
   "execution_count": null,
   "metadata": {},
   "outputs": [],
   "source": [
    "df_tenders_by_schools = df_tenders_by_schools_named.copy()\n",
    "df_tenders_by_schools['Заклад-замовник'] = True\n",
    "\n",
    "col_names = training_data_columns.copy() \n",
    "col_names += ['Номер', 'Назва', 'Тип закладу', 'Заклад-замовник']\n",
    "\n",
    "df_tenders_by_schools = df_tenders_by_schools[col_names]"
   ]
  },
  {
   "cell_type": "markdown",
   "metadata": {},
   "source": [
    "##### Step 5: Виділення закупівель шкіл-не-замовників за допомогою пошуку ключових слів в колонках Тендер, ОписаниеТендера, Лот"
   ]
  },
  {
   "cell_type": "code",
   "execution_count": null,
   "metadata": {},
   "outputs": [],
   "source": [
    "df_tenders_not_by_schools_by_keywords = df_undefined_1[df_undefined_1['Тендер'].astype(str).str.contains(r'({})'.format('|'.join(filter_keywords_extended)), \n",
    "            case = False, na = False, regex = True)  | \n",
    "                                                      df_undefined_1['ОписаниеТендера'].astype(str).str.contains(r'({})'.format('|'.join(filter_keywords_extended)), \n",
    "            case = False, na = False, regex = True) | \n",
    "                                                      df_undefined_1['Лот'].astype(str).str.contains(r'({})'.format('|'.join(filter_keywords_extended)), \n",
    "            case = False, na = False, regex = True) | df_undefined_1['Тендер'].astype(str).str.contains(r'(/b{}/b)'.format('|'.join(filter_keywords_strict_extended)), \n",
    "            case = False, na = False, regex = True) | df_undefined_1['ОписаниеТендера'].astype(str).str.contains(r'(/b{}/b)'.format('|'.join(filter_keywords_strict_extended)), \n",
    "            case = False, na = False, regex = True) | df_undefined_1['Лот'].astype(str).str.contains(r'(/b{}/b)'.format('|'.join(filter_keywords_strict_extended)), \n",
    "            case = False, na = False, regex = True)]\n",
    "\n",
    "print(\"Закупівлі шкіл-не-замовників, визначених через Тендер, Лот, ОписаниеТендера: df_tenders_by_schools_by_keywords \" + str(df_tenders_not_by_schools_by_keywords.shape))"
   ]
  },
  {
   "cell_type": "code",
   "execution_count": null,
   "metadata": {},
   "outputs": [],
   "source": [
    "# evaluation of Step 5\n",
    "\n",
    "# df_tenders_not_by_schools_by_keywords"
   ]
  },
  {
   "cell_type": "markdown",
   "metadata": {},
   "source": [
    "##### Step 6: Класифікація шкіл-не-замовників по типах"
   ]
  },
  {
   "cell_type": "code",
   "execution_count": null,
   "metadata": {},
   "outputs": [],
   "source": [
    "columns_to_classify = ['Тендер', 'ОписаниеТендера', 'Лот']\n",
    "df_tenders_not_by_schools_classified = classification_by_type_three_cols(df_tenders_not_by_schools_by_keywords,\n",
    "                                                                         columns_to_classify, \n",
    "                                                                         filter_priority, \n",
    "                                                                         filter_name_priority)"
   ]
  },
  {
   "cell_type": "code",
   "execution_count": null,
   "metadata": {},
   "outputs": [],
   "source": [
    "# # evaluation of Step 6\n",
    "\n",
    "# pd.set_option(\"display.max_colwidth\", 200)\n",
    "\n",
    "# type_sample = 'Інтернат'\n",
    "# df_tenders_not_by_schools_classified[df_tenders_not_by_schools_classified['Тип закладу'] == type_sample][['Тендер', 'ОписаниеТендера', 'Лот', 'Тип закладу']].sort_values(by=['Тип закладу'])\n",
    "# df_tenders_not_by_schools_classified['Тип закладу'].value_counts()\n",
    "# df_tenders_not_by_schools_classified.sample(5)"
   ]
  },
  {
   "cell_type": "markdown",
   "metadata": {},
   "source": [
    "##### Step 7: Нумерація шкіл-не-замовників"
   ]
  },
  {
   "cell_type": "code",
   "execution_count": null,
   "metadata": {},
   "outputs": [],
   "source": [
    "\"\"\"\n",
    "Принцип фільтрування в функції numeration():\n",
    "\n",
    "    Визначається наявністья символу № в кожній колонці columns_to_numerate_step7\n",
    "    \n",
    "    Регулярний вираз знаходить всі паттерни і джойнить через кому\n",
    "    \n",
    "    Паралельно створюється колонка, де рахується кількість знайдених паттернів\n",
    "    \n",
    "    Результат фільтрування numeration() - потрапляє у датафрейм df_step7_numerated\n",
    "\"\"\"\n",
    "columns_to_numerate_step7 = ['Тендер', 'Лот', 'ОписаниеТендера']\n",
    "action_mark = 'numeration'\n",
    "\n",
    "df_step7 = df_tenders_not_by_schools_classified[df_tenders_not_by_schools_classified['Тип закладу'] != 'Невідомо'].copy()\n",
    "df_step7['ОписаниеТендера'] = df_step7['ОписаниеТендера'].fillna('')\n",
    "df_step7_numerated = numeration(df_step7, columns_to_numerate_step7, reg_number, action_mark)\n",
    "print(\"df_step7_numerated\", df_step7_numerated.shape)"
   ]
  },
  {
   "cell_type": "code",
   "execution_count": null,
   "metadata": {},
   "outputs": [],
   "source": [
    "\"\"\"\n",
    "    Якщо в колонках Лот і Тендер знайшло по одному паттерну і вони однакові - \n",
    "    закупівля вважається такою, де коректно визначений номер\n",
    "\n",
    "    Ці закупівлі потрапляють до датафрейму df_step7_numerated_lot_tender\n",
    "\n",
    "    Колонка \"Номер\" отримує знайдений номер \"Лот_numeration\"\n",
    "\n",
    "    Решта закупівель потрапляють до датафрейму df_step7_numerated_undefined.\n",
    "\"\"\"\n",
    "\n",
    "df_step7_numerated['Номер'] = np.where(((df_step7_numerated['Тендер_numeration_count'] == 1) | \n",
    "                                        (df_step7_numerated['Лот_numeration_count'] == 1)) & \n",
    "                                        (df_step7_numerated['Лот_numeration_count'] == df_step7_numerated['Тендер_numeration_count']), \n",
    "                                        df_step7_numerated['Лот_numeration'], \n",
    "                                        'Невідомо')\n",
    "\n",
    "df_step7_numerated_lot_tender = df_step7_numerated[df_step7_numerated['Номер'] != 'Невідомо']\n",
    "\n",
    "df_step7_numerated_undefined = df_step7_numerated[df_step7_numerated['Номер'] == 'Невідомо']\n",
    "\n",
    "print(\"df_step7_numerated_lot_tender\", df_step7_numerated_lot_tender.shape, \"\\ndf_step7_numerated_undefined\", df_step7_numerated_undefined.shape)"
   ]
  },
  {
   "cell_type": "code",
   "execution_count": null,
   "metadata": {},
   "outputs": [],
   "source": [
    "\"\"\"\n",
    "    Якщо в колонці Лот знайдений один паттерн - \n",
    "    закупівля потрапляють до датафрейму df_step7_numerated_lot\n",
    "    \n",
    "    Решта закупівель потрапляють до датафрейму до df_step7_numerated_undefined_2\n",
    "\"\"\"\n",
    "\n",
    "df_step7_numerated_lot = df_step7_numerated_undefined.copy()\n",
    "\n",
    "df_step7_numerated_lot['Номер'] = np.where(df_step7_numerated_lot['Лот_numeration_count'] == 1, \n",
    "                                                 df_step7_numerated_lot['Лот_numeration'], \n",
    "                                                 'Невідомо')\n",
    "\n",
    "df_step7_numerated_undefined_2 = df_step7_numerated_lot[df_step7_numerated_lot['Номер'] == 'Невідомо']\n",
    "df_step7_numerated_lot = df_step7_numerated_lot[df_step7_numerated_lot['Номер'] != 'Невідомо']\n",
    "\n",
    "print(\"df_step7_numerated_lot\", df_step7_numerated_lot.shape, \"\\ndf_step7_numerated_undefined_2\", df_step7_numerated_undefined_2.shape)"
   ]
  },
  {
   "cell_type": "code",
   "execution_count": null,
   "metadata": {},
   "outputs": [],
   "source": [
    "\"\"\"\n",
    "    Якщо в колонці Описаниетендера знайдений один паттерн - \n",
    "    закупівля потрапляють до датафрейму df_step7_numerated_opystendera\n",
    "    \n",
    "    Решта закупівель потрапляють до датафрейму до df_step7_numerated_undefined_3\n",
    "\"\"\"\n",
    "\n",
    "df_step7_numerated_opystendera = df_step7_numerated_undefined_2.copy()\n",
    "\n",
    "df_step7_numerated_opystendera['Номер'] = np.where(df_step7_numerated_opystendera['ОписаниеТендера_numeration_count'] == 1, \n",
    "                                                 df_step7_numerated_opystendera['ОписаниеТендера_numeration'], \n",
    "                                                 'Невідомо')\n",
    "\n",
    "df_step7_numerated_undefined_3 = df_step7_numerated_opystendera[df_step7_numerated_opystendera['Номер'] == 'Невідомо']\n",
    "df_step7_numerated_opystendera = df_step7_numerated_opystendera[df_step7_numerated_opystendera['Номер'] != 'Невідомо']\n",
    "\n",
    "print(\"df_step7_numerated_opystendera\", df_step7_numerated_opystendera.shape, \"\\df_step7_numerated_undefined_3\", df_step7_numerated_undefined_3.shape)"
   ]
  },
  {
   "cell_type": "code",
   "execution_count": null,
   "metadata": {},
   "outputs": [],
   "source": [
    "\"\"\"\n",
    "    Якщо в колонці Тендер знайдений один паттерн - \n",
    "    закупівля потрапляють до датафрейму df_step7_numerated_tender\n",
    "    \n",
    "    Решта закупівель потрапляють до датафрейму до df_step7_numerated_undefined_4\n",
    "\"\"\"\n",
    "df_step7_numerated_tender = df_step7_numerated_undefined_3.copy()\n",
    "\n",
    "df_step7_numerated_tender['Номер'] = np.where(df_step7_numerated_tender['Тендер_numeration_count'] == 1, \n",
    "                                                 df_step7_numerated_tender['Тендер_numeration'], \n",
    "                                                 'Невідомо')\n",
    "df_step7_numerated_undefined_4 = df_step7_numerated_tender[df_step7_numerated_tender['Номер'] == 'Невідомо']\n",
    "df_step7_numerated_tender = df_step7_numerated_tender[df_step7_numerated_tender['Номер'] != 'Невідомо']\n",
    "\n",
    "print(\"df_step7_numerated_tender\", df_step7_numerated_tender.shape, \"\\ndf_step7_numerated_undefined_3\", df_step7_numerated_undefined_3.shape)"
   ]
  },
  {
   "cell_type": "markdown",
   "metadata": {},
   "source": [
    "##### Step 7.5: Об'єднання датафреймів шкіл-не-замовників з номерами"
   ]
  },
  {
   "cell_type": "code",
   "execution_count": null,
   "metadata": {},
   "outputs": [],
   "source": [
    "frames = [\n",
    "            df_step7_numerated_lot_tender, \n",
    "            df_step7_numerated_lot, \n",
    "            df_step7_numerated_opystendera, \n",
    "            df_step7_numerated_tender\n",
    "         ]\n",
    "\n",
    "df_tenders_not_by_schools_numerated = pd.concat(frames)\n",
    "df_tenders_not_by_schools_numerated['Назва'] = np.nan # Створення пустої колонки \"Назва\" для подальшого обєднання з датафреймом з номерами"
   ]
  },
  {
   "cell_type": "markdown",
   "metadata": {},
   "source": [
    "##### Step 8: Найменування шкіл-не-замовників"
   ]
  },
  {
   "cell_type": "code",
   "execution_count": null,
   "metadata": {},
   "outputs": [],
   "source": [
    "columns_to_classify_step8 = ['Тендер', 'Лот']\n",
    "action_mark = 'naming'\n",
    "\n",
    "df_tenders_not_by_schools_named = naming(df_step8, columns_to_classify_step8, reg_quotes, action_mark) \n",
    "df_tenders_not_by_schools_named['Назва'] = df_tenders_not_by_schools_named['Тендер_naming'].apply(lambda loc: loc if loc else loc['Лот_naming'])\n",
    "df_tenders_not_by_schools_named['Назва'] = df_tenders_not_by_schools_named['Назва'].fillna('Школа невідома')\n",
    "\n",
    "print(\"df_tenders_not_by_schools_named\", df_tenders_not_by_schools_named.shape)"
   ]
  },
  {
   "cell_type": "code",
   "execution_count": null,
   "metadata": {},
   "outputs": [],
   "source": [
    "# EXPERIMETNS FOR SOLUTION #26 FROM STEP 11 \n",
    "\n",
    "# # Як поєднати два способи?\n",
    "\n",
    "# findall збирає всі співпадіння і залишає перше [0]\n",
    "def naming_test_1(given_df, columns_to_name, regex, action_mark):\n",
    "    for column in columns_to_name:\n",
    "        given_df[column + '_' + action_mark] = given_df[column].str.findall(f\"{regex}\", \n",
    "                                                                            flags = re.\n",
    "                                                                            IGNORECASE).str[0].str[0]\n",
    "        given_df[column + '_' + action_mark] = given_df[column + '_' + action_mark].replace(r'^\\s*$', np.nan, regex=True)\n",
    "    return given_df\n",
    "\n",
    "# findall збирає всі співпадіння і залишає останнє [-1]\n",
    "def naming_test_2(given_df, columns_to_name, regex, action_mark):\n",
    "    for column in columns_to_name:\n",
    "        given_df[column + '_' + action_mark] = given_df[column].str.findall(f\"{regex}\", \n",
    "                                                                            flags = re.\n",
    "                                                                            IGNORECASE).str[0].str[-1]\n",
    "        given_df[column + '_' + action_mark] = given_df[column + '_' + action_mark].replace(r'^\\s*$', np.nan, regex=True)\n",
    "    return given_df"
   ]
  },
  {
   "cell_type": "code",
   "execution_count": null,
   "metadata": {},
   "outputs": [],
   "source": [
    "# чому порядок OR має значення?\n",
    "reg_quotes = '([«](.*?)[»]{1}?)|([\"](.*?)[\"]{1}?)'\n",
    "reg_quotes_2 = '([\"](.*?)[\"]{1}?)|([«](.*?)[»]{1}?)'\n",
    "\n",
    "df_step8 = df_step7_numerated_undefined_4.copy()\n",
    "\n",
    "df_tenders_not_by_schools_named = naming_test_1(df_step8, \n",
    "                                                columns_to_classify_step8, \n",
    "                                                reg_quotes, \n",
    "                                                action_mark) \n",
    "df_tenders_not_by_schools_named[df_tenders_not_by_schools_named['Лот_naming'].notnull()].shape"
   ]
  },
  {
   "cell_type": "code",
   "execution_count": null,
   "metadata": {},
   "outputs": [],
   "source": [
    "# df_tenders_not_by_schools_named[df_tenders_not_by_schools_named['Лот_naming'].notnull()]['Лот_naming']\n",
    "# df_tenders_not_by_schools_named['Лот_naming'].unique().tolist()"
   ]
  },
  {
   "cell_type": "markdown",
   "metadata": {},
   "source": [
    "##### Step 9: Об'єднання двох датафреймів шкіл-не-замовників"
   ]
  },
  {
   "cell_type": "code",
   "execution_count": null,
   "metadata": {},
   "outputs": [],
   "source": [
    "frames = [df_tenders_not_by_schools_numerated, df_tenders_not_by_schools_named]\n",
    "df_tenders_not_by_schools = pd.concat(frames)"
   ]
  },
  {
   "cell_type": "code",
   "execution_count": null,
   "metadata": {},
   "outputs": [],
   "source": [
    "df_tenders_not_by_schools['Заклад-замовник'] = False"
   ]
  },
  {
   "cell_type": "code",
   "execution_count": null,
   "metadata": {},
   "outputs": [],
   "source": [
    "df_tenders_not_by_schools = df_tenders_not_by_schools[col_names]\n",
    "print(\"df_tenders_not_by_schools_numerated\", df_tenders_not_by_schools_numerated.shape)"
   ]
  },
  {
   "cell_type": "markdown",
   "metadata": {},
   "source": [
    "##### Step 9.5: Створення єдиної колонки для Номеру і Назви - Номер/Назва (ЩЕ ПІД ПИТАННЯМ)"
   ]
  },
  {
   "cell_type": "code",
   "execution_count": null,
   "metadata": {},
   "outputs": [],
   "source": [
    "# \"\"\"\n",
    "# У датафреймі Шкіл-замовників df_tenders_by_schools_temp в рядках, \n",
    "#     - де Номер не визначився, присвоюється Назва\n",
    "#     - де Назва не визначилась, присвоюється поле Організатор\n",
    "# \"\"\"\n",
    "\n",
    "# df_tenders_by_schools_temp = df_tenders_by_schools.copy()\n",
    "# df_tenders_by_schools_temp['Номер/Назва'] = np.where(df_tenders_by_schools_temp['Номер'].notnull(), df_tenders_by_schools_temp['Номер'], df_tenders_by_schools_temp['Назва'])\n",
    "# df_tenders_by_schools_temp['Номер/Назва'] = np.where(df_tenders_by_schools_temp['Номер/Назва'].isnull(), df_tenders_by_schools_temp['Организатор'], df_tenders_by_schools_temp['Номер/Назва'])"
   ]
  },
  {
   "cell_type": "code",
   "execution_count": null,
   "metadata": {},
   "outputs": [],
   "source": [
    "# \"\"\"\n",
    "# У датафреймі Шкіл-не-замовників df_tenders_not_by_schools в рядках, \n",
    "#     - де Номер не визначився, присвоюється Назва\n",
    "#     - де Назва не визначилась, присвоюється поле Організатор\n",
    "\n",
    "# В колонці 'Номер/Назва' значення \"Невідомо\" фактично означає закупівлю для кількох закладів освіти\n",
    "\n",
    "# \"\"\"\n",
    "\n",
    "# df_tenders_not_by_schools_temp = df_tenders_not_by_schools.copy()\n",
    "# df_tenders_not_by_schools_temp['Номер/Назва'] = np.where(df_tenders_not_by_schools_temp['Номер'].notnull(), df_tenders_not_by_schools_temp['Номер'], df_tenders_not_by_schools_temp['Назва'])"
   ]
  },
  {
   "cell_type": "markdown",
   "metadata": {},
   "source": [
    "##### Step 10: Об'єднання датафреймів шкіл-не-замовників та шкіл-замовників"
   ]
  },
  {
   "cell_type": "code",
   "execution_count": null,
   "metadata": {},
   "outputs": [],
   "source": [
    "frames = [df_tenders_by_schools, df_tenders_not_by_schools]\n",
    "df_tenders = pd.concat(frames)\n",
    "print(\"df_tenders\", df_tenders.shape)"
   ]
  },
  {
   "cell_type": "code",
   "execution_count": null,
   "metadata": {},
   "outputs": [],
   "source": [
    "df_tenders_filtered_1 = df_tenders.sample(1000)\n",
    "df_tenders_filtered_1['Correct'] = 'undefined'\n",
    "print(\"df_tenders_filtered_1:\", df_tenders_filtered_1.shape, \"\\nCols:\", df_tenders_filtered_1.columns)\n",
    "# df_tenders_filtered_1.to_csv('results/school-procurements-1000-random.csv', sep=';')"
   ]
  },
  {
   "cell_type": "markdown",
   "metadata": {},
   "source": [
    "#### Step 11: RandomDataResuls"
   ]
  },
  {
   "cell_type": "code",
   "execution_count": null,
   "metadata": {},
   "outputs": [],
   "source": [
    "\"\"\"\n",
    "    Колонка Correct:\n",
    "    \n",
    "        1 - коректо визначено\n",
    "    \n",
    "    Некоректно:\n",
    "        \n",
    "        2 - номер визначений неправильно:\n",
    "            \n",
    "            21 - відсутній символ №\n",
    "            22 - кілька символів №\n",
    "            23 - без лапок\n",
    "            24 - номер чи назва в колонці Описание Тендер\n",
    "            25 - лапки не визначились\n",
    "            26 - кілька лапок\n",
    "        \n",
    "        3 - неправильно тип закладу\n",
    "\"\"\"\n",
    "\n",
    "random_1000_results = pandas.read_csv('results/school-procurements-1000-random-marked.csv', index_col = 0, error_bad_lines=False, sep = ',', low_memory = False)\n",
    "random_1000_results = random_1000_results.iloc[:, :-1]\n",
    "print(random_1000_results.shape)"
   ]
  },
  {
   "cell_type": "code",
   "execution_count": null,
   "metadata": {},
   "outputs": [],
   "source": [
    "# random_1000_results.index.values.tolist()\n",
    "random_1000_results.Correct.value_counts()"
   ]
  },
  {
   "cell_type": "code",
   "execution_count": null,
   "metadata": {},
   "outputs": [],
   "source": [
    "\"\"\"\n",
    "TODO\n",
    "\"\"\""
   ]
  },
  {
   "cell_type": "code",
   "execution_count": null,
   "metadata": {},
   "outputs": [],
   "source": [
    "\"\"\" UNDONE\n",
    "\n",
    "    Correct mark #21:\n",
    "        Зміни у Step 7:\n",
    "            мабуть рішенням є регулярний вираз, який би відбирав 1-3 значне число,\n",
    "            яке знаходить відразу після ключового слова.\n",
    "            Можливо відстань рахувати між знайденими ключовими словами?\n",
    "                приклад index 4337: \"Капітальний ремонт будівлі ДНЗ 126\"\n",
    "            \n",
    "\"\"\"\n",
    "# random_1000_results[random_1000_results.Correct=='21']"
   ]
  },
  {
   "cell_type": "code",
   "execution_count": null,
   "metadata": {},
   "outputs": [],
   "source": [
    "\"\"\" UNDONE\n",
    "\n",
    "    Correct mark #22:\n",
    "        Зміни у Step 7:\n",
    "            мабуть рішенням є регулярний вираз, який би шукав число з символом №,\n",
    "            яке знаходиться ПІСЛЯ знайденого ключового слова, а не ДО. І він має бути тільки один.\n",
    "            Можливо відстань рахувати між знайденими ключовими словами?\n",
    "                приклад index 78075: \"Лот №58 крупи та борошно, НВК №8\"\n",
    "            \n",
    "\"\"\"\n",
    "# random_1000_results[random_1000_results.Correct=='22']"
   ]
  },
  {
   "cell_type": "code",
   "execution_count": null,
   "metadata": {},
   "outputs": [],
   "source": [
    "\"\"\" DONE\n",
    "\n",
    "    Correct mark #23 #25:\n",
    "        Закупівлі потрапляють до датафрейму так званих закупівель Управлінь освіти (відповідно до свого міста),\n",
    "        оскільки визначити коректно назву неможливо\n",
    "\"\"\"\n",
    "# random_1000_results[random_1000_results.Correct=='23']"
   ]
  },
  {
   "cell_type": "code",
   "execution_count": null,
   "metadata": {},
   "outputs": [],
   "source": [
    "\"\"\" DONE\n",
    "\n",
    "    Correct mark #24:\n",
    "        Переписати Step 7: додати пошук номеру в колонці ОписаниеТендера\n",
    "\"\"\"\n",
    "# random_1000_results[random_1000_results.Correct=='24']"
   ]
  },
  {
   "cell_type": "code",
   "execution_count": null,
   "metadata": {},
   "outputs": [],
   "source": [
    "\"\"\" UNDONE\n",
    "\n",
    "    Correct marks #26: \n",
    "        Для шкіл-не-замовників у Step 8\n",
    "        1. «» або \"\"\n",
    "        2. відібрати перше? останнє? повторюване?\n",
    "\n",
    "\"\"\"\n",
    "# df_error_25_26 = random_1000_results[(random_1000_results.Correct=='25') | (random_1000_results.Correct=='26')]"
   ]
  },
  {
   "cell_type": "code",
   "execution_count": null,
   "metadata": {},
   "outputs": [],
   "source": [
    "\"\"\" UNDONE\n",
    "\n",
    "    Correct mark #3:\n",
    "        Зміни у Step 3, Step 5:\n",
    "            порядок filter_priority змінити\n",
    "            \n",
    "\"\"\"\n",
    "# df_error_3 = random_1000_results[random_1000_results.Correct=='3']"
   ]
  }
 ],
 "metadata": {
  "file_extension": ".py",
  "kernelspec": {
   "display_name": "Python 3",
   "language": "python",
   "name": "python3"
  },
  "language_info": {
   "codemirror_mode": {
    "name": "ipython",
    "version": 3
   },
   "file_extension": ".py",
   "mimetype": "text/x-python",
   "name": "python",
   "nbconvert_exporter": "python",
   "pygments_lexer": "ipython3",
   "version": "3.6.9"
  },
  "mimetype": "text/x-python",
  "name": "python",
  "npconvert_exporter": "python",
  "pygments_lexer": "ipython2",
  "version": 2
 },
 "nbformat": 4,
 "nbformat_minor": 2
}
