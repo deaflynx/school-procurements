{
 "cells": [
  {
   "cell_type": "code",
   "execution_count": 1,
   "metadata": {},
   "outputs": [],
   "source": [
    "import pandas as pd\n",
    "import numpy as np\n",
    "import re"
   ]
  },
  {
   "cell_type": "code",
   "execution_count": 220,
   "metadata": {},
   "outputs": [],
   "source": [
    "df_map = pd.read_csv('24_regions.csv', index_col = 0)"
   ]
  },
  {
   "cell_type": "code",
   "execution_count": 221,
   "metadata": {},
   "outputs": [],
   "source": [
    "df = pd.read_excel('minosvita_df.xlsx')"
   ]
  },
  {
   "cell_type": "code",
   "execution_count": 242,
   "metadata": {},
   "outputs": [],
   "source": [
    "\"\"\"\n",
    "РЕГУЛЯРНІ ВИРАЗИ ТА ФІЛЬТРИ\n",
    "\"\"\"\n",
    "\n",
    "reg_number = '(№\\s*\\d+)' #витягує число перед яким є символ №\n",
    "reg_quotes = \"\"\"[\"'«](.*?)[\"'»]{1}?\"\"\" #витягує текст в лапках трьох видів\n",
    "lot_regex = '(((\\DЗОШ\\D)|(\\Dзош\\D)|(\\DСШ\\D)|(\\DДНЗ\\D)|(\\DДНЗ\\D)).(\\d+))' #витягує номер поруч з ключовими словами\n",
    "reg_city = \"(м\\.\\w+)\" # витягує назву міста після \"м.\"\n",
    "\n",
    "#набір ключових слів-фільтрів для відділення шкільних закупівель\n",
    "filter_keywords = ['зошщ', 'навчально-виховн' ,'школ', 'шкіль', 'гімназ', 'ліцей', 'ліцея', 'зош', 'знз', 'сш', 'осш', 'колегіум', 'нвк', 'увк', 'снвк', 'загальноосвітн', 'сзш', 'виховн', 'днз', 'садок', 'дошкільн', 'садка']\n",
    "\n",
    "#набір ключових слів-фільтрів для кожної категорії окремо\n",
    "filter_shkola = ['школ', 'шкіль',  'гімназ',  'ліцей', 'ліцея', 'зош', 'знз', 'сш', 'колегіум', 'нвк', 'увк', 'снвк', 'загальноосвітн', 'сзш', 'виховн', 'осш']\n",
    "filter_shkola_name = 'Школа'\n",
    "\n",
    "filter_sadik = ['днз', 'ДНЗ', 'садок', 'дошкільн', 'садка', 'ясла', 'ясел']\n",
    "filter_sadik_name = 'ДНЗ'\n",
    "\n",
    "filter_sport = ['ДЮСШ', 'юнацька спортив', 'дюсш', 'СДЮСШОР', 'дитячо-спортивна']\n",
    "filter_sport_name = 'ДЮСШ'\n",
    "\n",
    "filter_music = ['музич', \"дмш\"]\n",
    "filter_music_name = 'Музична школа'\n",
    "\n",
    "filter_art = ['мистецтв', 'дхш']\n",
    "filter_art_name = 'Школа мистецтв'\n",
    "\n",
    "filter_hud = ['худож']\n",
    "filter_hud_name = 'Художня школа'\n",
    "\n",
    "filter_poza = ['позашкільн', 'міжшкільн', 'МСВЗШ', 'спеціальна вечірня']\n",
    "filter_poza_name = 'Позашкільне'\n",
    "\n",
    "filter_inshe = 'Інше'"
   ]
  },
  {
   "cell_type": "code",
   "execution_count": 235,
   "metadata": {},
   "outputs": [],
   "source": [
    "# Створення таблиці з головним органом і відповідним містом\n",
    "\n",
    "regions = ['Суми', 'Київ', 'Полтава', 'Харків', 'Чернігів', 'Вінниця', 'Львів', 'Миколаїв', 'Дніпро',\n",
    "           'Чернівці', 'Запоріжжя', 'Одеса', 'Черкаси', 'Херсон', 'Рівне', 'Тернопіль', 'Ужгород', \n",
    "           'Луцьк', 'Івано-Франківськ', 'Житомир', 'Кропивницький', 'Хмельницький']\n",
    "\n",
    "gol_organ = ['Сумська область',\n",
    " 'м.Київ',\n",
    " 'Полтавська область',\n",
    " 'Харківська область',\n",
    " 'Чернігівська область',\n",
    " 'Вінницька область',\n",
    " 'Львівська область',\n",
    " 'Миколаївська область',\n",
    " 'Дніпровська область',\n",
    " 'Чернівецька область',\n",
    " 'Запорізька область',\n",
    " 'Одеська область',\n",
    " 'Черкаська область',\n",
    " 'Херсонська область',\n",
    " 'Рівненська область',\n",
    " 'Тернопільська область',\n",
    " 'Ужгородська область',\n",
    " 'Луцька область',\n",
    " 'Івано-Франківська область',\n",
    " 'Житомирська область',\n",
    " 'Кропивницька область',\n",
    " 'Хмельницька область']\n",
    "\n",
    "city_organ = pd.DataFrame(list(gol_organ), columns=['gol_organ'])\n",
    "city_organ['city'] = pd.Series(regions)\n",
    "city_organ = city_organ[['gol_organ', 'city']]\n",
    "\n",
    "# city_organ.sample()"
   ]
  },
  {
   "cell_type": "code",
   "execution_count": 330,
   "metadata": {
    "scrolled": true
   },
   "outputs": [],
   "source": [
    "\"\"\"\n",
    "ФУНКЦІЯ, ЯКА ВИТЯГУЄ ІМЕНА ШКІЛ І ПРИВОДИТЬ ДО ВІДПОВІДНОСТІ ФОРМАТУ ЗАПИСУ В ТАБЛИЦІ МАП\n",
    "\n",
    "\"\"\"\n",
    "\n",
    "def fix_table():    \n",
    "    \n",
    "    df_fixed = df.copy()\n",
    "    df_fixed['type'] = pd.np.where(df_fixed[\"name\"].str.contains('|'.join(filter_sport), case = False), filter_sport_name,\n",
    "                            pd.np.where(df_fixed[\"name\"].str.contains('|'.join(filter_music), case = False), filter_music_name,\n",
    "                            pd.np.where(df_fixed[\"name\"].str.contains('|'.join(filter_art), case = False), filter_art_name,\n",
    "                            pd.np.where(df_fixed[\"name\"].str.contains('|'.join(filter_hud), case = False), filter_hud_name,\n",
    "                            pd.np.where(df_fixed[\"name\"].str.contains('|'.join(filter_poza), case = False), filter_poza_name,\n",
    "                            pd.np.where(df_fixed[\"name\"].str.contains('|'.join(filter_sadik), case = False), filter_sadik_name,\n",
    "                            pd.np.where(df_fixed[\"name\"].str.contains('|'.join(filter_shkola), case = False), filter_shkola_name,\n",
    "                                         filter_inshe)))))))\n",
    "    \n",
    "    df_fixed = df_fixed[(df_fixed['type'] != \"Інше\") & (df_fixed['type'] != \"Позашкільне\")]\n",
    "    \n",
    "    df_fix_temp_num = df_fixed.copy()\n",
    "    df_fix_temp_num['name_fixed_num'] = df_fix_temp_num['name'].str.extract(reg_number, expand = False)\n",
    "    \n",
    "\n",
    "    df_fix_temp_str = df_fix_temp_num[df_fix_temp_num['name_fixed_num'].isnull()]\n",
    "    df_fix_temp_num = df_fix_temp_num[df_fix_temp_num['name_fixed_num'].notnull()]\n",
    "    df_fix_temp_num['name_fixed_num'] = df_fix_temp_num['name_fixed_num'].str.replace(\"№ \", \"№\")\n",
    "\n",
    "    df_fix_temp_str['name_fixed_num'] = df_fix_temp_str['name'].str.extract(reg_quotes, expand = False)\n",
    "    df_fix_temp_str = df_fix_temp_str[df_fix_temp_str['name_fixed_num'].notnull()]\n",
    "    \n",
    "    frames = [df_fix_temp_num, df_fix_temp_str]\n",
    "    df_reborn = pd.concat(frames)\n",
    "    \n",
    "    \n",
    "    \"\"\"\n",
    "    ВИТЯГУВАННЯ МІСТ З АДРЕС\n",
    "    \"\"\"\n",
    "    df_reborn['full'] = df_reborn['full'].str.replace('м. ','м.')\n",
    "    df_reborn['city_new'] = df_reborn['full'].str.extract(reg_city, expand = False)\n",
    "    df_reborn['city_new'] = df_reborn['city_new'].str.replace('м\\.','')\n",
    "    df_reborn['city_new'] = df_reborn['city_new'].str.replace('Івано','Івано-Франківськ')\n",
    "    \n",
    "    print(\"Було закладів: \", len(df_reborn))\n",
    "    df_reborn = df_reborn[df_reborn.city_new.str.contains('|'.join(regions), na = False, case=False)]   \n",
    "    \n",
    "    \n",
    "    \"\"\"\n",
    "    СТВОРЕННЯ КОЛОНКИ З МІСТОМ І ШКОЛОЮ\n",
    "    \"\"\" \n",
    "    df_reborn['city_fixed'] = df_reborn['city_new'] + \" \" + df_reborn['type'] + \" \" + df_reborn['name_fixed_num']\n",
    "    \n",
    "    df_reborn = df_reborn.replace(np.nan, '', regex=True)\n",
    "    \n",
    "    df_reborn['street'] = df_reborn['street'].astype(str)\n",
    "    df_reborn['street2'] = df_reborn['street2'].astype(str)\n",
    "\n",
    "    \n",
    "    \"\"\"\n",
    "    СТВОРЕННЯ КОЛОНКИ З АЛЬТЕРНАТИВНОЮ АДРЕСОЮ З МІСТОМ І ВУЛИЦЕЮ\n",
    "    \"\"\"\n",
    "    df_reborn['address_fixed'] = df_reborn['city_new'] + \" \" + df_reborn['street'] + \" \" + df_reborn['street2']\n",
    "    \n",
    "    df_reborn['address_fixed'] = df_reborn['address_fixed'].str.replace(\"  \",\" \")\n",
    "    \n",
    "    \n",
    "    \"\"\"\n",
    "    ПІДРАХУНОК КІЛЬКОСТІ СЛІВ У КОЛОНЦІ З НАЗВОЮ ШКІЛ. \n",
    "    ЯКЩО БІЛЬШЕ 1, ТО ШВИДШЕ ЗА ВСЕ, ЦЕ НЕ НАЗВА ЗАКЛАДУ\n",
    "    \"\"\"\n",
    "    df_reborn['word_count'] = df_reborn['name_fixed_num'].str.split().str.len()\n",
    "    df_reborn = df_reborn[(df_reborn.word_count == 1) | (df_reborn.name_fixed_num.str.contains('ім\\.'))]\n",
    "    \n",
    "    \n",
    "    \"\"\"\n",
    "    ВИДАЛЕННЯ ЗАЙВИХ МІСТ\n",
    "    \"\"\"\n",
    "    bad_cities = ['Дніпрорудне','Верхньодніпровськ', 'Миколаївка', 'Новомиколаївка', 'Верхньодніпровськ', 'Чернігівка', 'Дніпровське']\n",
    "    df_reborn = df_reborn[~df_reborn['city_fixed'].str.contains('|'.join(bad_cities), case = False)]\n",
    "    print(\"Залишилось після фільтрування:\", len(df_reborn)) \n",
    "    print(\"Міста: \", df_reborn.city_new.unique())\n",
    "    \n",
    "    df_reborn = df_reborn[['city_fixed', 'address_fixed', 'full_2', 'full_3']]\n",
    "    \n",
    "    return df_reborn"
   ]
  },
  {
   "cell_type": "code",
   "execution_count": 331,
   "metadata": {},
   "outputs": [
    {
     "name": "stdout",
     "output_type": "stream",
     "text": [
      "Було закладів:  19329\n",
      "Залишилось після фільтрування: 2251\n",
      "Міста:  ['Дніпро' 'Івано-Франківськ' 'Запоріжжя' 'Черкаси' 'Харків' 'Чернівці'\n",
      " 'Херсон' 'Миколаїв' 'Вінниця' 'Хмельницький' 'Львів' 'Кропивницький'\n",
      " 'Суми' 'Одеса' 'Житомир' 'Рівне' 'Луцьк' 'Тернопіль' 'Ужгород' 'Полтава'\n",
      " 'Чернігів' 'Київ']\n"
     ]
    }
   ],
   "source": [
    "df_reborn = fix_table()\n",
    "df_reborn.sample(10)"
   ]
  },
  {
   "cell_type": "code",
   "execution_count": 335,
   "metadata": {},
   "outputs": [],
   "source": [
    "df_reborn.to_csv('minosvity_fixed.csv', index = True, header=True)"
   ]
  }
 ],
 "metadata": {
  "kernelspec": {
   "display_name": "Python 3",
   "language": "python",
   "name": "python3"
  },
  "language_info": {
   "codemirror_mode": {
    "name": "ipython",
    "version": 3
   },
   "file_extension": ".py",
   "mimetype": "text/x-python",
   "name": "python",
   "nbconvert_exporter": "python",
   "pygments_lexer": "ipython3",
   "version": "3.7.3"
  }
 },
 "nbformat": 4,
 "nbformat_minor": 2
}
